{
 "cells": [
  {
   "cell_type": "markdown",
   "metadata": {},
   "source": [
    "## Amazon book reviews Part II: Overall ratings and helpfulness\n",
    "\n",
    "#### This is the 5-core dataset which means that each user and item has at least 5 reviews. The dataset has ~9 million reviews: http://jmcauley.ucsd.edu/data/amazon/. \n",
    "\n",
    "### Introduction\n",
    "\n",
    "The first element in the helpful column in the original dataset is the number of helpful votes and the second element represents the total vote. I created a percentage rating column based on (helpful/total). [Note that 90/100 will have the same percentage rating as 9/10 but we are assuming that they are same]"
   ]
  },
  {
   "cell_type": "code",
   "execution_count": 1,
   "metadata": {
    "collapsed": true
   },
   "outputs": [],
   "source": [
    "import pandas as pd\n",
    "import numpy as np\n",
    "import matplotlib.pyplot as plt\n",
    "import seaborn as sns\n",
    "from pandas.io import gbq\n",
    "%matplotlib inline"
   ]
  },
  {
   "cell_type": "code",
   "execution_count": 2,
   "metadata": {
    "collapsed": true
   },
   "outputs": [],
   "source": [
    "query1 = \"SELECT reviewerID, overall, helpfulVote, totalVote FROM amazon_book_small.rev1 \\\n",
    "WHERE unixReviewTime >= '1996-01-01 00:00:00 UTC' AND unixReviewTime < '2011-01-01 00:00:00 UTC' \\\n",
    "ORDER BY unixReviewTime\""
   ]
  },
  {
   "cell_type": "code",
   "execution_count": 3,
   "metadata": {
    "collapsed": true
   },
   "outputs": [],
   "source": [
    "project_id = 'dotted-chiller-156222'"
   ]
  },
  {
   "cell_type": "code",
   "execution_count": 4,
   "metadata": {
    "collapsed": true
   },
   "outputs": [
    {
     "name": "stdout",
     "output_type": "stream",
     "text": [
      "Requesting query... ok.\n",
      "Query running...\n",
      "  Elapsed 11.96 s. Waiting...\n",
      "  Elapsed 22.61 s. Waiting...\n",
      "Query done.\n",
      "Processed: 405.1 Mb\n",
      "\n",
      "Retrieving results...\n",
      "  Got page: 1; 4.0% done. Elapsed 29.81 s.\n",
      "  Got page: 2; 8.0% done. Elapsed 35.75 s.\n",
      "  Got page: 3; 12.0% done. Elapsed 41.96 s.\n",
      "  Got page: 4; 16.0% done. Elapsed 47.99 s.\n",
      "  Got page: 5; 20.0% done. Elapsed 55.0 s.\n",
      "  Got page: 6; 24.0% done. Elapsed 60.77 s.\n",
      "  Got page: 7; 28.0% done. Elapsed 67.02 s.\n",
      "  Got page: 8; 32.0% done. Elapsed 73.79 s.\n",
      "  Got page: 9; 36.0% done. Elapsed 79.12 s.\n",
      "  Got page: 10; 40.0% done. Elapsed 85.17 s.\n",
      "  Got page: 11; 44.0% done. Elapsed 91.08 s.\n",
      "  Got page: 12; 48.0% done. Elapsed 97.19 s.\n",
      "  Got page: 13; 52.0% done. Elapsed 103.56 s.\n",
      "  Got page: 14; 56.0% done. Elapsed 108.19 s.\n",
      "  Got page: 15; 60.0% done. Elapsed 113.5 s.\n",
      "  Got page: 16; 64.0% done. Elapsed 119.26 s.\n",
      "  Got page: 17; 68.0% done. Elapsed 126.41 s.\n",
      "  Got page: 18; 73.0% done. Elapsed 131.94 s.\n",
      "  Got page: 19; 77.0% done. Elapsed 139.75 s.\n",
      "  Got page: 20; 81.0% done. Elapsed 146.9 s.\n",
      "  Got page: 21; 85.0% done. Elapsed 152.83 s.\n",
      "  Got page: 22; 89.0% done. Elapsed 158.58 s.\n",
      "  Got page: 23; 93.0% done. Elapsed 164.11 s.\n",
      "  Got page: 24; 97.0% done. Elapsed 170.36 s.\n",
      "  Got page: 25; 100.0% done. Elapsed 177.0 s.\n",
      "Got 2172036 rows.\n",
      "\n",
      "Total time taken 205.14 s.\n",
      "Finished at 2017-01-28 09:45:04.\n"
     ]
    }
   ],
   "source": [
    "da = gbq.read_gbq(query1, project_id=project_id)"
   ]
  },
  {
   "cell_type": "code",
   "execution_count": 5,
   "metadata": {
    "collapsed": false
   },
   "outputs": [
    {
     "data": {
      "text/html": [
       "<div>\n",
       "<table border=\"1\" class=\"dataframe\">\n",
       "  <thead>\n",
       "    <tr style=\"text-align: right;\">\n",
       "      <th></th>\n",
       "      <th>reviewerID</th>\n",
       "      <th>overall</th>\n",
       "      <th>helpfulVote</th>\n",
       "      <th>totalVote</th>\n",
       "    </tr>\n",
       "  </thead>\n",
       "  <tbody>\n",
       "    <tr>\n",
       "      <th>0</th>\n",
       "      <td>A320TMDV6KCFU</td>\n",
       "      <td>5</td>\n",
       "      <td>7</td>\n",
       "      <td>7</td>\n",
       "    </tr>\n",
       "  </tbody>\n",
       "</table>\n",
       "</div>"
      ],
      "text/plain": [
       "      reviewerID  overall  helpfulVote  totalVote\n",
       "0  A320TMDV6KCFU        5            7          7"
      ]
     },
     "execution_count": 5,
     "metadata": {},
     "output_type": "execute_result"
    }
   ],
   "source": [
    "da.head(1)"
   ]
  },
  {
   "cell_type": "code",
   "execution_count": 6,
   "metadata": {
    "collapsed": true
   },
   "outputs": [],
   "source": [
    "query2 = \"SELECT reviewerID, overall, helpfulVote, totalVote FROM amazon_book_small.rev1 \\\n",
    "WHERE unixReviewTime >= '2011-01-02 00:00:00 UTC' AND unixReviewTime < '2013-05-01 00:00:00 UTC' \\\n",
    "ORDER BY unixReviewTime\""
   ]
  },
  {
   "cell_type": "code",
   "execution_count": 7,
   "metadata": {
    "collapsed": true
   },
   "outputs": [
    {
     "name": "stdout",
     "output_type": "stream",
     "text": [
      "Requesting query... ok.\n",
      "Query running...\n",
      "  Elapsed 11.25 s. Waiting...\n",
      "  Elapsed 21.44 s. Waiting...\n",
      "  Elapsed 31.67 s. Waiting...\n",
      "  Elapsed 42.33 s. Waiting...\n",
      "  Elapsed 52.57 s. Waiting...\n",
      "  Elapsed 63.21 s. Waiting...\n",
      "  Elapsed 73.87 s. Waiting...\n",
      "  Elapsed 84.52 s. Waiting...\n",
      "Query done.\n",
      "Processed: 405.1 Mb\n",
      "\n",
      "Retrieving results...\n",
      "  Got page: 1; 3.0% done. Elapsed 98.73 s.\n",
      "  Got page: 2; 6.0% done. Elapsed 104.8 s.\n",
      "  Got page: 3; 9.0% done. Elapsed 111.1 s.\n",
      "  Got page: 4; 13.0% done. Elapsed 117.27 s.\n",
      "  Got page: 5; 16.0% done. Elapsed 123.59 s.\n",
      "  Got page: 6; 19.0% done. Elapsed 129.9 s.\n",
      "  Got page: 7; 22.0% done. Elapsed 135.26 s.\n",
      "  Got page: 8; 25.0% done. Elapsed 142.66 s.\n",
      "  Got page: 9; 28.0% done. Elapsed 148.59 s.\n",
      "  Got page: 10; 32.0% done. Elapsed 155.39 s.\n",
      "  Got page: 11; 35.0% done. Elapsed 161.72 s.\n",
      "  Got page: 12; 38.0% done. Elapsed 169.76 s.\n",
      "  Got page: 13; 41.0% done. Elapsed 176.24 s.\n",
      "  Got page: 14; 44.0% done. Elapsed 182.44 s.\n",
      "  Got page: 15; 47.0% done. Elapsed 188.44 s.\n",
      "  Got page: 16; 51.0% done. Elapsed 195.27 s.\n",
      "  Got page: 17; 54.0% done. Elapsed 201.62 s.\n",
      "  Got page: 18; 57.0% done. Elapsed 206.96 s.\n",
      "  Got page: 19; 60.0% done. Elapsed 213.36 s.\n",
      "  Got page: 20; 63.0% done. Elapsed 220.51 s.\n",
      "  Got page: 21; 66.0% done. Elapsed 226.6 s.\n",
      "  Got page: 22; 70.0% done. Elapsed 231.87 s.\n",
      "  Got page: 23; 73.0% done. Elapsed 237.42 s.\n",
      "  Got page: 24; 76.0% done. Elapsed 243.44 s.\n",
      "  Got page: 25; 79.0% done. Elapsed 249.57 s.\n",
      "  Got page: 26; 82.0% done. Elapsed 256.53 s.\n",
      "  Got page: 27; 85.0% done. Elapsed 262.7 s.\n",
      "  Got page: 28; 88.0% done. Elapsed 269.48 s.\n",
      "  Got page: 29; 92.0% done. Elapsed 274.8 s.\n",
      "  Got page: 30; 95.0% done. Elapsed 281.85 s.\n",
      "  Got page: 31; 98.0% done. Elapsed 286.93 s.\n",
      "  Got page: 32; 100.0% done. Elapsed 291.15 s.\n",
      "Got 2769099 rows.\n",
      "\n",
      "Total time taken 331.56 s.\n",
      "Finished at 2017-01-28 09:51:12.\n"
     ]
    }
   ],
   "source": [
    "db = gbq.read_gbq(query2, project_id=project_id)"
   ]
  },
  {
   "cell_type": "code",
   "execution_count": 8,
   "metadata": {
    "collapsed": true
   },
   "outputs": [],
   "source": [
    "query3 = \"SELECT reviewerID, overall, helpfulVote, totalVote FROM amazon_book_small.rev1 \\\n",
    "WHERE unixReviewTime >= '2013-05-02 00:00:00 UTC' AND unixReviewTime < '2015-01-01 00:00:00 UTC' \\\n",
    "ORDER BY unixReviewTime\""
   ]
  },
  {
   "cell_type": "code",
   "execution_count": 9,
   "metadata": {
    "collapsed": true
   },
   "outputs": [
    {
     "name": "stdout",
     "output_type": "stream",
     "text": [
      "Requesting query... ok.\n",
      "Query running...\n",
      "  Elapsed 11.35 s. Waiting...\n",
      "  Elapsed 21.93 s. Waiting...\n",
      "  Elapsed 32.44 s. Waiting...\n",
      "Query done.\n",
      "Processed: 405.1 Mb\n",
      "\n",
      "Retrieving results...\n",
      "  Got page: 1; 2.0% done. Elapsed 41.68 s.\n",
      "  Got page: 2; 4.0% done. Elapsed 47.43 s.\n",
      "  Got page: 3; 7.0% done. Elapsed 52.68 s.\n",
      "  Got page: 4; 9.0% done. Elapsed 58.22 s.\n",
      "  Got page: 5; 11.0% done. Elapsed 65.05 s.\n",
      "  Got page: 6; 13.0% done. Elapsed 70.73 s.\n",
      "  Got page: 7; 16.0% done. Elapsed 78.35 s.\n",
      "  Got page: 8; 18.0% done. Elapsed 84.74 s.\n",
      "  Got page: 9; 20.0% done. Elapsed 90.11 s.\n",
      "  Got page: 10; 22.0% done. Elapsed 97.26 s.\n",
      "  Got page: 11; 24.0% done. Elapsed 104.95 s.\n",
      "  Got page: 12; 27.0% done. Elapsed 111.26 s.\n",
      "  Got page: 13; 29.0% done. Elapsed 116.71 s.\n",
      "  Got page: 14; 31.0% done. Elapsed 123.01 s.\n",
      "  Got page: 15; 33.0% done. Elapsed 128.9 s.\n",
      "  Got page: 16; 35.0% done. Elapsed 135.87 s.\n",
      "  Got page: 17; 38.0% done. Elapsed 141.57 s.\n",
      "  Got page: 18; 40.0% done. Elapsed 146.36 s.\n",
      "  Got page: 19; 42.0% done. Elapsed 151.82 s.\n",
      "  Got page: 20; 44.0% done. Elapsed 159.15 s.\n",
      "  Got page: 21; 47.0% done. Elapsed 165.85 s.\n",
      "  Got page: 22; 49.0% done. Elapsed 172.15 s.\n",
      "  Got page: 23; 51.0% done. Elapsed 178.07 s.\n",
      "  Got page: 24; 53.0% done. Elapsed 184.41 s.\n",
      "  Got page: 25; 55.0% done. Elapsed 189.3 s.\n",
      "  Got page: 26; 58.0% done. Elapsed 196.59 s.\n",
      "  Got page: 27; 60.0% done. Elapsed 202.62 s.\n",
      "  Got page: 28; 62.0% done. Elapsed 208.59 s.\n",
      "  Got page: 29; 64.0% done. Elapsed 214.69 s.\n",
      "  Got page: 30; 67.0% done. Elapsed 220.67 s.\n",
      "  Got page: 31; 69.0% done. Elapsed 226.58 s.\n",
      "  Got page: 32; 71.0% done. Elapsed 234.48 s.\n",
      "  Got page: 33; 73.0% done. Elapsed 240.93 s.\n",
      "  Got page: 34; 75.0% done. Elapsed 250.28 s.\n",
      "  Got page: 35; 78.0% done. Elapsed 260.2 s.\n",
      "  Got page: 36; 80.0% done. Elapsed 267.09 s.\n",
      "  Got page: 37; 82.0% done. Elapsed 274.87 s.\n",
      "  Got page: 38; 84.0% done. Elapsed 281.13 s.\n",
      "  Got page: 39; 86.0% done. Elapsed 286.81 s.\n",
      "  Got page: 40; 89.0% done. Elapsed 295.45 s.\n",
      "  Got page: 41; 91.0% done. Elapsed 301.82 s.\n",
      "  Got page: 42; 93.0% done. Elapsed 308.61 s.\n",
      "  Got page: 43; 95.0% done. Elapsed 316.01 s.\n",
      "  Got page: 44; 98.0% done. Elapsed 323.44 s.\n",
      "  Got page: 45; 100.0% done. Elapsed 329.7 s.\n",
      "  Got page: 46; 100.0% done. Elapsed 331.14 s.\n",
      "Got 3947055 rows.\n",
      "\n",
      "Total time taken 418.65 s.\n",
      "Finished at 2017-01-28 09:58:32.\n"
     ]
    }
   ],
   "source": [
    "dc = gbq.read_gbq(query3, project_id=project_id)"
   ]
  },
  {
   "cell_type": "code",
   "execution_count": 9,
   "metadata": {
    "collapsed": false
   },
   "outputs": [
    {
     "data": {
      "text/html": [
       "<div>\n",
       "<table border=\"1\" class=\"dataframe\">\n",
       "  <thead>\n",
       "    <tr style=\"text-align: right;\">\n",
       "      <th></th>\n",
       "      <th>reviewerID</th>\n",
       "      <th>overall</th>\n",
       "      <th>helpfulVote</th>\n",
       "      <th>totalVote</th>\n",
       "    </tr>\n",
       "  </thead>\n",
       "  <tbody>\n",
       "    <tr>\n",
       "      <th>0</th>\n",
       "      <td>A2H587O1MJCEL9</td>\n",
       "      <td>5</td>\n",
       "      <td>6</td>\n",
       "      <td>6</td>\n",
       "    </tr>\n",
       "  </tbody>\n",
       "</table>\n",
       "</div>"
      ],
      "text/plain": [
       "       reviewerID  overall  helpfulVote  totalVote\n",
       "0  A2H587O1MJCEL9        5            6          6"
      ]
     },
     "execution_count": 9,
     "metadata": {},
     "output_type": "execute_result"
    }
   ],
   "source": [
    "df = pd.concat([da, db, dc])\n",
    "df.head(1)"
   ]
  },
  {
   "cell_type": "markdown",
   "metadata": {},
   "source": [
    "### Helpfulness rating"
   ]
  },
  {
   "cell_type": "code",
   "execution_count": 11,
   "metadata": {
    "collapsed": false
   },
   "outputs": [
    {
     "data": {
      "text/html": [
       "<div>\n",
       "<table border=\"1\" class=\"dataframe\">\n",
       "  <thead>\n",
       "    <tr style=\"text-align: right;\">\n",
       "      <th></th>\n",
       "      <th>reviewerID</th>\n",
       "      <th>overall</th>\n",
       "      <th>helpfulVote</th>\n",
       "      <th>totalVote</th>\n",
       "      <th>percHelpful</th>\n",
       "    </tr>\n",
       "  </thead>\n",
       "  <tbody>\n",
       "    <tr>\n",
       "      <th>0</th>\n",
       "      <td>A2H587O1MJCEL9</td>\n",
       "      <td>5</td>\n",
       "      <td>6</td>\n",
       "      <td>6</td>\n",
       "      <td>1.0</td>\n",
       "    </tr>\n",
       "    <tr>\n",
       "      <th>1</th>\n",
       "      <td>AI7E9E9BLURG1</td>\n",
       "      <td>2</td>\n",
       "      <td>16</td>\n",
       "      <td>16</td>\n",
       "      <td>1.0</td>\n",
       "    </tr>\n",
       "    <tr>\n",
       "      <th>2</th>\n",
       "      <td>A2J39GPS8D4YJI</td>\n",
       "      <td>5</td>\n",
       "      <td>0</td>\n",
       "      <td>0</td>\n",
       "      <td>0.0</td>\n",
       "    </tr>\n",
       "    <tr>\n",
       "      <th>3</th>\n",
       "      <td>AUGABW5AS2OXM</td>\n",
       "      <td>5</td>\n",
       "      <td>0</td>\n",
       "      <td>0</td>\n",
       "      <td>0.0</td>\n",
       "    </tr>\n",
       "    <tr>\n",
       "      <th>4</th>\n",
       "      <td>A1BA7LT0XTBSMQ</td>\n",
       "      <td>5</td>\n",
       "      <td>0</td>\n",
       "      <td>0</td>\n",
       "      <td>0.0</td>\n",
       "    </tr>\n",
       "  </tbody>\n",
       "</table>\n",
       "</div>"
      ],
      "text/plain": [
       "       reviewerID  overall  helpfulVote  totalVote  percHelpful\n",
       "0  A2H587O1MJCEL9        5            6          6          1.0\n",
       "1   AI7E9E9BLURG1        2           16         16          1.0\n",
       "2  A2J39GPS8D4YJI        5            0          0          0.0\n",
       "3   AUGABW5AS2OXM        5            0          0          0.0\n",
       "4  A1BA7LT0XTBSMQ        5            0          0          0.0"
      ]
     },
     "execution_count": 11,
     "metadata": {},
     "output_type": "execute_result"
    }
   ],
   "source": [
    "df['percHelpful'] = df.helpfulVote/df.totalVote\n",
    "df['percHelpful'] = df['percHelpful'].fillna(0)\n",
    "df.head()"
   ]
  },
  {
   "cell_type": "code",
   "execution_count": 127,
   "metadata": {
    "collapsed": false
   },
   "outputs": [
    {
     "data": {
      "text/html": [
       "<div>\n",
       "<table border=\"1\" class=\"dataframe\">\n",
       "  <thead>\n",
       "    <tr style=\"text-align: right;\">\n",
       "      <th></th>\n",
       "      <th>overall</th>\n",
       "      <th>helpfulVote</th>\n",
       "      <th>totalVote</th>\n",
       "      <th>percHelpful</th>\n",
       "    </tr>\n",
       "  </thead>\n",
       "  <tbody>\n",
       "    <tr>\n",
       "      <th>count</th>\n",
       "      <td>8.888190e+06</td>\n",
       "      <td>8.888190e+06</td>\n",
       "      <td>8.888190e+06</td>\n",
       "      <td>8.888190e+06</td>\n",
       "    </tr>\n",
       "    <tr>\n",
       "      <th>mean</th>\n",
       "      <td>4.249907e+00</td>\n",
       "      <td>3.009215e+00</td>\n",
       "      <td>4.052128e+00</td>\n",
       "      <td>3.929341e-01</td>\n",
       "    </tr>\n",
       "    <tr>\n",
       "      <th>std</th>\n",
       "      <td>1.057768e+00</td>\n",
       "      <td>1.968632e+01</td>\n",
       "      <td>2.264771e+01</td>\n",
       "      <td>4.439951e-01</td>\n",
       "    </tr>\n",
       "    <tr>\n",
       "      <th>min</th>\n",
       "      <td>1.000000e+00</td>\n",
       "      <td>0.000000e+00</td>\n",
       "      <td>0.000000e+00</td>\n",
       "      <td>0.000000e+00</td>\n",
       "    </tr>\n",
       "    <tr>\n",
       "      <th>25%</th>\n",
       "      <td>4.000000e+00</td>\n",
       "      <td>0.000000e+00</td>\n",
       "      <td>0.000000e+00</td>\n",
       "      <td>0.000000e+00</td>\n",
       "    </tr>\n",
       "    <tr>\n",
       "      <th>50%</th>\n",
       "      <td>5.000000e+00</td>\n",
       "      <td>0.000000e+00</td>\n",
       "      <td>1.000000e+00</td>\n",
       "      <td>0.000000e+00</td>\n",
       "    </tr>\n",
       "    <tr>\n",
       "      <th>75%</th>\n",
       "      <td>5.000000e+00</td>\n",
       "      <td>2.000000e+00</td>\n",
       "      <td>3.000000e+00</td>\n",
       "      <td>1.000000e+00</td>\n",
       "    </tr>\n",
       "    <tr>\n",
       "      <th>max</th>\n",
       "      <td>5.000000e+00</td>\n",
       "      <td>2.331100e+04</td>\n",
       "      <td>2.421200e+04</td>\n",
       "      <td>1.000000e+00</td>\n",
       "    </tr>\n",
       "  </tbody>\n",
       "</table>\n",
       "</div>"
      ],
      "text/plain": [
       "            overall   helpfulVote     totalVote   percHelpful\n",
       "count  8.888190e+06  8.888190e+06  8.888190e+06  8.888190e+06\n",
       "mean   4.249907e+00  3.009215e+00  4.052128e+00  3.929341e-01\n",
       "std    1.057768e+00  1.968632e+01  2.264771e+01  4.439951e-01\n",
       "min    1.000000e+00  0.000000e+00  0.000000e+00  0.000000e+00\n",
       "25%    4.000000e+00  0.000000e+00  0.000000e+00  0.000000e+00\n",
       "50%    5.000000e+00  0.000000e+00  1.000000e+00  0.000000e+00\n",
       "75%    5.000000e+00  2.000000e+00  3.000000e+00  1.000000e+00\n",
       "max    5.000000e+00  2.331100e+04  2.421200e+04  1.000000e+00"
      ]
     },
     "execution_count": 127,
     "metadata": {},
     "output_type": "execute_result"
    }
   ],
   "source": [
    "df.describe()"
   ]
  },
  {
   "cell_type": "markdown",
   "metadata": {},
   "source": [
    "-Helpfulness has a mean of 0.39 and standard deviation 0.44."
   ]
  },
  {
   "cell_type": "code",
   "execution_count": 186,
   "metadata": {
    "collapsed": false
   },
   "outputs": [
    {
     "data": {
      "text/plain": [
       "<matplotlib.text.Text at 0x20805160>"
      ]
     },
     "execution_count": 186,
     "metadata": {},
     "output_type": "execute_result"
    },
    {
     "data": {
      "image/png": "[encoded data removed]",
      "text/plain": [
       "<matplotlib.figure.Figure at 0x267f6da0>"
      ]
     },
     "metadata": {},
     "output_type": "display_data"
    }
   ],
   "source": [
    "sns.distplot(df.percHelpful, kde = False, bins = 10)\n",
    "plt.xlabel('Helpfulness rating')\n",
    "plt.title('Histogram of helpfulness rating')"
   ]
  },
  {
   "cell_type": "markdown",
   "metadata": {},
   "source": [
    "Helpfulness are mostly 0 and 1. \n",
    "\n",
    "### Most active reviewers and their helpfulness ratings\n",
    "\n",
    "#### Most active users"
   ]
  },
  {
   "cell_type": "code",
   "execution_count": 13,
   "metadata": {
    "collapsed": false
   },
   "outputs": [
    {
     "data": {
      "text/plain": [
       "reviewerID\n",
       "AFVQZQ8PW0L       23218\n",
       "A14OJS0VWMOSWO    16090\n",
       "A2F6N60Z96CAJI     5891\n",
       "A320TMDV6KCFU      4212\n",
       "AHUT55E980RDR      3079\n",
       "A13QTZ8CIMHHG4     2947\n",
       "A1K1JW1C5CUSUZ     2910\n",
       "A328S9RN3U5M68     2794\n",
       "A2TX179XAT5GRP     2529\n",
       "A21NVBFIEQWDSG     2526\n",
       "A2VKWLCNZF4ZVB     2433\n",
       "A1S3C5OFU508P3     2317\n",
       "A1X8VZWTOG8IS6     2299\n",
       "A22RY8N8CNDF3A     2123\n",
       "A1NATT3PN24QWY     2053\n",
       "dtype: int64"
      ]
     },
     "execution_count": 13,
     "metadata": {},
     "output_type": "execute_result"
    }
   ],
   "source": [
    "df.groupby('reviewerID').size().sort_values(ascending=False)[:15]"
   ]
  },
  {
   "cell_type": "markdown",
   "metadata": {},
   "source": [
    "#### Reviewer # 1"
   ]
  },
  {
   "cell_type": "code",
   "execution_count": 15,
   "metadata": {
    "collapsed": false
   },
   "outputs": [],
   "source": [
    "drev1 = df[df.reviewerID == 'AFVQZQ8PW0L']"
   ]
  },
  {
   "cell_type": "code",
   "execution_count": 187,
   "metadata": {
    "collapsed": false
   },
   "outputs": [
    {
     "data": {
      "text/plain": [
       "<matplotlib.text.Text at 0x2027e828>"
      ]
     },
     "execution_count": 187,
     "metadata": {},
     "output_type": "execute_result"
    },
    {
     "data": {
      "image/png": "[encoded data removed]",
      "text/plain": [
       "<matplotlib.figure.Figure at 0x204eab00>"
      ]
     },
     "metadata": {},
     "output_type": "display_data"
    }
   ],
   "source": [
    "sns.distplot(drev1.overall, kde = False, bins = 5)\n",
    "plt.xlabel('Rating')\n",
    "plt.ylabel('Number of Reviews')\n",
    "plt.xlim([0, 5])\n",
    "plt.title('Rating given by the most active reviewer')"
   ]
  },
  {
   "cell_type": "code",
   "execution_count": 188,
   "metadata": {
    "collapsed": false
   },
   "outputs": [
    {
     "data": {
      "text/plain": [
       "<matplotlib.text.Text at 0x1fb8c898>"
      ]
     },
     "execution_count": 188,
     "metadata": {},
     "output_type": "execute_result"
    },
    {
     "data": {
      "image/png": "[encoded data removed]",
      "text/plain": [
       "<matplotlib.figure.Figure at 0x1ffa5358>"
      ]
     },
     "metadata": {},
     "output_type": "display_data"
    }
   ],
   "source": [
    "sns.distplot(drev1.percHelpful, kde = False, bins = 10)\n",
    "plt.xlabel('Helpfulness rating')\n",
    "plt.ylabel('Number of Reviews')\n",
    "plt.title('Helpfulness rating of the most active reviewer')"
   ]
  },
  {
   "cell_type": "markdown",
   "metadata": {},
   "source": [
    "#### Let's look at another reviewer"
   ]
  },
  {
   "cell_type": "code",
   "execution_count": 22,
   "metadata": {
    "collapsed": true
   },
   "outputs": [],
   "source": [
    "drev2 = df[df.reviewerID == 'A14OJS0VWMOSWO']"
   ]
  },
  {
   "cell_type": "code",
   "execution_count": 23,
   "metadata": {
    "collapsed": false
   },
   "outputs": [
    {
     "data": {
      "text/plain": [
       "<matplotlib.text.Text at 0xeb4996d8>"
      ]
     },
     "execution_count": 23,
     "metadata": {},
     "output_type": "execute_result"
    },
    {
     "data": {
      "image/png": "[encoded data removed]",
      "text/plain": [
       "<matplotlib.figure.Figure at 0xe77c75c0>"
      ]
     },
     "metadata": {},
     "output_type": "display_data"
    }
   ],
   "source": [
    "sns.distplot(drev2.percHelpful, kde = False, bins = 10)\n",
    "plt.xlabel('Helpfulness rating')\n",
    "plt.ylabel('Number of Reviews')\n",
    "plt.title('Helpfulness rating of the second most active reviewer')"
   ]
  },
  {
   "cell_type": "code",
   "execution_count": 189,
   "metadata": {
    "collapsed": false
   },
   "outputs": [
    {
     "data": {
      "text/plain": [
       "<matplotlib.text.Text at 0x1f2e1940>"
      ]
     },
     "execution_count": 189,
     "metadata": {},
     "output_type": "execute_result"
    },
    {
     "data": {
      "image/png": "[encoded data removed]",
      "text/plain": [
       "<matplotlib.figure.Figure at 0xeb485b00>"
      ]
     },
     "metadata": {},
     "output_type": "display_data"
    }
   ],
   "source": [
    "drev3 = df[df.reviewerID == 'AHUT55E980RDR']\n",
    "sns.distplot(drev3.percHelpful, kde = False, bins = 10)\n",
    "plt.xlabel('Helpfulness rating')\n",
    "plt.ylabel('Number of Reviews')\n",
    "plt.title('Helpfulness rating of the fifth most active reviewer')"
   ]
  },
  {
   "cell_type": "markdown",
   "metadata": {},
   "source": [
    "#### This reviewer has more 0 ratings than 1.  We will investigate further how ratings are associated with helpfulness with statistical testing.\n",
    "\n",
    "#### Let's take the mean helpfulness ratings of each user "
   ]
  },
  {
   "cell_type": "code",
   "execution_count": 34,
   "metadata": {
    "collapsed": false
   },
   "outputs": [
    {
     "data": {
      "text/html": [
       "<div>\n",
       "<table border=\"1\" class=\"dataframe\">\n",
       "  <thead>\n",
       "    <tr style=\"text-align: right;\">\n",
       "      <th></th>\n",
       "      <th>reviewerID</th>\n",
       "      <th>percHelpful</th>\n",
       "    </tr>\n",
       "  </thead>\n",
       "  <tbody>\n",
       "    <tr>\n",
       "      <th>0</th>\n",
       "      <td>A2H587O1MJCEL9</td>\n",
       "      <td>1.0</td>\n",
       "    </tr>\n",
       "  </tbody>\n",
       "</table>\n",
       "</div>"
      ],
      "text/plain": [
       "       reviewerID  percHelpful\n",
       "0  A2H587O1MJCEL9          1.0"
      ]
     },
     "execution_count": 34,
     "metadata": {},
     "output_type": "execute_result"
    }
   ],
   "source": [
    "df1 = df[['reviewerID', 'percHelpful']]\n",
    "df1.head(1)"
   ]
  },
  {
   "cell_type": "code",
   "execution_count": 35,
   "metadata": {
    "collapsed": false
   },
   "outputs": [
    {
     "data": {
      "text/html": [
       "<div>\n",
       "<table border=\"1\" class=\"dataframe\">\n",
       "  <thead>\n",
       "    <tr style=\"text-align: right;\">\n",
       "      <th></th>\n",
       "      <th>percHelpful</th>\n",
       "    </tr>\n",
       "    <tr>\n",
       "      <th>reviewerID</th>\n",
       "      <th></th>\n",
       "    </tr>\n",
       "  </thead>\n",
       "  <tbody>\n",
       "    <tr>\n",
       "      <th>A000443821AD43TOGKNGZ</th>\n",
       "      <td>0.125</td>\n",
       "    </tr>\n",
       "  </tbody>\n",
       "</table>\n",
       "</div>"
      ],
      "text/plain": [
       "                       percHelpful\n",
       "reviewerID                        \n",
       "A000443821AD43TOGKNGZ        0.125"
      ]
     },
     "execution_count": 35,
     "metadata": {},
     "output_type": "execute_result"
    }
   ],
   "source": [
    "df1 = df1.groupby('reviewerID').mean()\n",
    "df1.head(1)"
   ]
  },
  {
   "cell_type": "markdown",
   "metadata": {},
   "source": [
    "#### Discard who scored below 50% on an average"
   ]
  },
  {
   "cell_type": "code",
   "execution_count": 38,
   "metadata": {
    "collapsed": false
   },
   "outputs": [
    {
     "data": {
      "text/html": [
       "<div>\n",
       "<table border=\"1\" class=\"dataframe\">\n",
       "  <thead>\n",
       "    <tr style=\"text-align: right;\">\n",
       "      <th></th>\n",
       "      <th>percHelpful</th>\n",
       "    </tr>\n",
       "    <tr>\n",
       "      <th>reviewerID</th>\n",
       "      <th></th>\n",
       "    </tr>\n",
       "  </thead>\n",
       "  <tbody>\n",
       "    <tr>\n",
       "      <th>A00085083TSCV82430YT4</th>\n",
       "      <td>0.500000</td>\n",
       "    </tr>\n",
       "    <tr>\n",
       "      <th>A00190263S0ITOM6NWF9F</th>\n",
       "      <td>0.507937</td>\n",
       "    </tr>\n",
       "    <tr>\n",
       "      <th>A00311082372LV4OV6WJC</th>\n",
       "      <td>0.571429</td>\n",
       "    </tr>\n",
       "    <tr>\n",
       "      <th>A00328401T70RFN4P1IT6</th>\n",
       "      <td>0.611111</td>\n",
       "    </tr>\n",
       "    <tr>\n",
       "      <th>A00878773S2MNB00COHKV</th>\n",
       "      <td>0.500000</td>\n",
       "    </tr>\n",
       "  </tbody>\n",
       "</table>\n",
       "</div>"
      ],
      "text/plain": [
       "                       percHelpful\n",
       "reviewerID                        \n",
       "A00085083TSCV82430YT4     0.500000\n",
       "A00190263S0ITOM6NWF9F     0.507937\n",
       "A00311082372LV4OV6WJC     0.571429\n",
       "A00328401T70RFN4P1IT6     0.611111\n",
       "A00878773S2MNB00COHKV     0.500000"
      ]
     },
     "execution_count": 38,
     "metadata": {},
     "output_type": "execute_result"
    }
   ],
   "source": [
    "df2 = df1[df1.percHelpful >=.50]\n",
    "df2.head()"
   ]
  },
  {
   "cell_type": "code",
   "execution_count": 113,
   "metadata": {
    "collapsed": false
   },
   "outputs": [
    {
     "data": {
      "text/plain": [
       "((8888190, 5), (3870341, 2))"
      ]
     },
     "execution_count": 113,
     "metadata": {},
     "output_type": "execute_result"
    }
   ],
   "source": [
    "df.shape, df2.shape # df2 is below 50%"
   ]
  },
  {
   "cell_type": "code",
   "execution_count": 114,
   "metadata": {
    "collapsed": false
   },
   "outputs": [
    {
     "data": {
      "text/plain": [
       "0.435447599567516"
      ]
     },
     "execution_count": 114,
     "metadata": {},
     "output_type": "execute_result"
    }
   ],
   "source": [
    "3870341.0/8888190.0"
   ]
  },
  {
   "cell_type": "code",
   "execution_count": 47,
   "metadata": {
    "collapsed": false
   },
   "outputs": [
    {
     "data": {
      "text/html": [
       "<div>\n",
       "<table border=\"1\" class=\"dataframe\">\n",
       "  <thead>\n",
       "    <tr style=\"text-align: right;\">\n",
       "      <th></th>\n",
       "      <th>percHelpful</th>\n",
       "    </tr>\n",
       "    <tr>\n",
       "      <th>reviewerID</th>\n",
       "      <th></th>\n",
       "    </tr>\n",
       "  </thead>\n",
       "  <tbody>\n",
       "    <tr>\n",
       "      <th>A1ZN5UMPLR408T</th>\n",
       "      <td>1.0</td>\n",
       "    </tr>\n",
       "    <tr>\n",
       "      <th>A30723LVRC8XOA</th>\n",
       "      <td>1.0</td>\n",
       "    </tr>\n",
       "    <tr>\n",
       "      <th>A3J5CAEUT9120H</th>\n",
       "      <td>1.0</td>\n",
       "    </tr>\n",
       "    <tr>\n",
       "      <th>AF4CESG26429M</th>\n",
       "      <td>1.0</td>\n",
       "    </tr>\n",
       "    <tr>\n",
       "      <th>A3J57739JDWAFA</th>\n",
       "      <td>1.0</td>\n",
       "    </tr>\n",
       "    <tr>\n",
       "      <th>A2OT3I0QNP1TZO</th>\n",
       "      <td>1.0</td>\n",
       "    </tr>\n",
       "    <tr>\n",
       "      <th>A1E17CKAGNJSLY</th>\n",
       "      <td>1.0</td>\n",
       "    </tr>\n",
       "    <tr>\n",
       "      <th>A3330TLG8Q1UN7</th>\n",
       "      <td>1.0</td>\n",
       "    </tr>\n",
       "    <tr>\n",
       "      <th>A1Q1Q2YZUE2EPS</th>\n",
       "      <td>1.0</td>\n",
       "    </tr>\n",
       "    <tr>\n",
       "      <th>AIM0ZFXNDLGHY</th>\n",
       "      <td>1.0</td>\n",
       "    </tr>\n",
       "  </tbody>\n",
       "</table>\n",
       "</div>"
      ],
      "text/plain": [
       "                percHelpful\n",
       "reviewerID                 \n",
       "A1ZN5UMPLR408T          1.0\n",
       "A30723LVRC8XOA          1.0\n",
       "A3J5CAEUT9120H          1.0\n",
       "AF4CESG26429M           1.0\n",
       "A3J57739JDWAFA          1.0\n",
       "A2OT3I0QNP1TZO          1.0\n",
       "A1E17CKAGNJSLY          1.0\n",
       "A3330TLG8Q1UN7          1.0\n",
       "A1Q1Q2YZUE2EPS          1.0\n",
       "AIM0ZFXNDLGHY           1.0"
      ]
     },
     "execution_count": 47,
     "metadata": {},
     "output_type": "execute_result"
    }
   ],
   "source": [
    "df2.sort_values(by = 'percHelpful', ascending=False)[:10] "
   ]
  },
  {
   "cell_type": "markdown",
   "metadata": {},
   "source": [
    "####  But many of them probably did only one review each. Therefore let's discard the 50% first and then group them together-"
   ]
  },
  {
   "cell_type": "code",
   "execution_count": 48,
   "metadata": {
    "collapsed": true
   },
   "outputs": [],
   "source": [
    "df2 = df[['reviewerID', 'percHelpful']]"
   ]
  },
  {
   "cell_type": "code",
   "execution_count": 49,
   "metadata": {
    "collapsed": true
   },
   "outputs": [],
   "source": [
    "df2 = df2[df2.percHelpful >=0.5]"
   ]
  },
  {
   "cell_type": "code",
   "execution_count": 50,
   "metadata": {
    "collapsed": false
   },
   "outputs": [
    {
     "data": {
      "text/plain": [
       "reviewerID\n",
       "AFVQZQ8PW0L       17809\n",
       "A14OJS0VWMOSWO    11943\n",
       "A2F6N60Z96CAJI     4557\n",
       "A320TMDV6KCFU      2695\n",
       "A328S9RN3U5M68     2677\n",
       "A1K1JW1C5CUSUZ     2447\n",
       "A21NVBFIEQWDSG     2056\n",
       "A1M8PP7MLHNBQB     1702\n",
       "A2VKWLCNZF4ZVB     1690\n",
       "A13QTZ8CIMHHG4     1659\n",
       "A22RY8N8CNDF3A     1556\n",
       "A2TX179XAT5GRP     1553\n",
       "A1S3C5OFU508P3     1553\n",
       "A1I2O9Y3X3HXLS     1523\n",
       "A3M174IC0VXOS2     1484\n",
       "A1NATT3PN24QWY     1477\n",
       "AHUT55E980RDR      1449\n",
       "A26JGAM6GZMM4V     1442\n",
       "AC1K4OQOZ90RS      1352\n",
       "A1MC6BFHWY6WC3     1326\n",
       "AHD101501WCN1      1324\n",
       "A1D2C0WDCSHUWZ     1295\n",
       "A2MF2QVSCUI27G     1284\n",
       "A3R19YKNL641X3     1262\n",
       "A281NPSIMI1C2R     1232\n",
       "dtype: int64"
      ]
     },
     "execution_count": 50,
     "metadata": {},
     "output_type": "execute_result"
    }
   ],
   "source": [
    "df2.groupby('reviewerID').size().sort_values(ascending=False)[:25]"
   ]
  },
  {
   "cell_type": "markdown",
   "metadata": {},
   "source": [
    "#### Reviewer # 1 when ratings are above 0.5 "
   ]
  },
  {
   "cell_type": "code",
   "execution_count": 190,
   "metadata": {
    "collapsed": false
   },
   "outputs": [
    {
     "data": {
      "text/plain": [
       "<matplotlib.text.Text at 0x1efb2358>"
      ]
     },
     "execution_count": 190,
     "metadata": {},
     "output_type": "execute_result"
    },
    {
     "data": {
      "image/png": "[encoded data removed]",
      "text/plain": [
       "<matplotlib.figure.Figure at 0x10cb2e630>"
      ]
     },
     "metadata": {},
     "output_type": "display_data"
    }
   ],
   "source": [
    "drev1help = df[df.reviewerID == 'AFVQZQ8PW0L']\n",
    "sns.distplot(drev1help.percHelpful, kde = False, bins = 10)\n",
    "plt.xlabel('Helpfulness rating')\n",
    "plt.ylabel('Number of Reviews')\n",
    "plt.title('Helpfulness rating of the most active and helpful reviewer')"
   ]
  },
  {
   "cell_type": "markdown",
   "metadata": {},
   "source": [
    "#### It's better to group the active and helpful reviewers using a range of helpfulness "
   ]
  },
  {
   "cell_type": "code",
   "execution_count": 57,
   "metadata": {
    "collapsed": false
   },
   "outputs": [
    {
     "data": {
      "text/plain": [
       "reviewerID      percHelpful\n",
       "AFVQZQ8PW0L     1.000000       6862\n",
       "A14OJS0VWMOSWO  1.000000       5884\n",
       "                0.000000       3267\n",
       "AFVQZQ8PW0L     0.000000       3045\n",
       "                0.500000       2608\n",
       "A2F6N60Z96CAJI  1.000000       2058\n",
       "A320TMDV6KCFU   1.000000       1839\n",
       "AFVQZQ8PW0L     0.666667       1724\n",
       "A328S9RN3U5M68  1.000000       1701\n",
       "AHUT55E980RDR   0.000000       1538\n",
       "A1X8VZWTOG8IS6  0.000000       1461\n",
       "A320TMDV6KCFU   0.000000       1445\n",
       "A13QTZ8CIMHHG4  1.000000       1315\n",
       "                0.000000       1262\n",
       "AFVQZQ8PW0L     0.750000       1143\n",
       "A2VKWLCNZF4ZVB  1.000000       1140\n",
       "A21NVBFIEQWDSG  1.000000       1074\n",
       "A14OJS0VWMOSWO  0.500000       1070\n",
       "A2F6N60Z96CAJI  0.000000       1052\n",
       "A2TX179XAT5GRP  1.000000        994\n",
       "AHUT55E980RDR   1.000000        962\n",
       "A1MC6BFHWY6WC3  1.000000        957\n",
       "A2TX179XAT5GRP  0.000000        934\n",
       "A37BRR2L8PX3R2  0.000000        931\n",
       "A26J2TRDPZH7RZ  0.000000        888\n",
       "dtype: int64"
      ]
     },
     "execution_count": 57,
     "metadata": {},
     "output_type": "execute_result"
    }
   ],
   "source": [
    "df.groupby(['reviewerID', 'percHelpful']).size().sort_values(ascending = False)[:25]"
   ]
  },
  {
   "cell_type": "code",
   "execution_count": 58,
   "metadata": {
    "collapsed": false
   },
   "outputs": [
    {
     "data": {
      "text/plain": [
       "[-0.09, 0.25, 0.5, 0.75, 1.01]"
      ]
     },
     "execution_count": 58,
     "metadata": {},
     "output_type": "execute_result"
    }
   ],
   "source": [
    "bins = [-.09, .25, 0.5, .75, 1.01 ]\n",
    "bins"
   ]
  },
  {
   "cell_type": "code",
   "execution_count": 59,
   "metadata": {
    "collapsed": true
   },
   "outputs": [],
   "source": [
    "group_names = ['below 25%', '25-50%', '51-75%', '76-100%']"
   ]
  },
  {
   "cell_type": "code",
   "execution_count": 69,
   "metadata": {
    "collapsed": false
   },
   "outputs": [],
   "source": [
    "df3 = df[['reviewerID', 'percHelpful']]"
   ]
  },
  {
   "cell_type": "code",
   "execution_count": 70,
   "metadata": {
    "collapsed": false
   },
   "outputs": [
    {
     "name": "stderr",
     "output_type": "stream",
     "text": [
      "C:\\Users\\Bis\\Anaconda2\\lib\\site-packages\\ipykernel\\__main__.py:1: SettingWithCopyWarning: \n",
      "A value is trying to be set on a copy of a slice from a DataFrame.\n",
      "Try using .loc[row_indexer,col_indexer] = value instead\n",
      "\n",
      "See the caveats in the documentation: http://pandas.pydata.org/pandas-docs/stable/indexing.html#indexing-view-versus-copy\n",
      "  if __name__ == '__main__':\n"
     ]
    },
    {
     "data": {
      "text/html": [
       "<div>\n",
       "<table border=\"1\" class=\"dataframe\">\n",
       "  <thead>\n",
       "    <tr style=\"text-align: right;\">\n",
       "      <th></th>\n",
       "      <th>reviewerID</th>\n",
       "      <th>percHelpful</th>\n",
       "      <th>category</th>\n",
       "    </tr>\n",
       "  </thead>\n",
       "  <tbody>\n",
       "    <tr>\n",
       "      <th>0</th>\n",
       "      <td>A2H587O1MJCEL9</td>\n",
       "      <td>1.0</td>\n",
       "      <td>76-100%</td>\n",
       "    </tr>\n",
       "  </tbody>\n",
       "</table>\n",
       "</div>"
      ],
      "text/plain": [
       "       reviewerID  percHelpful category\n",
       "0  A2H587O1MJCEL9          1.0  76-100%"
      ]
     },
     "execution_count": 70,
     "metadata": {},
     "output_type": "execute_result"
    }
   ],
   "source": [
    "df3['category'] = pd.cut(df3.loc[:, 'percHelpful'], bins, labels=group_names)\n",
    "df3.head(1)"
   ]
  },
  {
   "cell_type": "code",
   "execution_count": 72,
   "metadata": {
    "collapsed": false
   },
   "outputs": [
    {
     "data": {
      "text/plain": [
       "below 25%    4791708\n",
       "76-100%      2848227\n",
       "25-50%        638361\n",
       "51-75%        609894\n",
       "Name: category, dtype: int64"
      ]
     },
     "execution_count": 72,
     "metadata": {},
     "output_type": "execute_result"
    }
   ],
   "source": [
    "pd.value_counts(df3['category'])"
   ]
  },
  {
   "cell_type": "code",
   "execution_count": 191,
   "metadata": {
    "collapsed": false
   },
   "outputs": [
    {
     "data": {
      "text/plain": [
       "<matplotlib.text.Text at 0x201209b0>"
      ]
     },
     "execution_count": 191,
     "metadata": {},
     "output_type": "execute_result"
    },
    {
     "data": {
      "image/png": "[encoded data removed]",
      "text/plain": [
       "<matplotlib.figure.Figure at 0x1ede6fd0>"
      ]
     },
     "metadata": {},
     "output_type": "display_data"
    }
   ],
   "source": [
    "pd.value_counts(df3['category']).plot(kind='bar', alpha = 0.5)\n",
    "plt.xlabel('Helpfulness rating')"
   ]
  },
  {
   "cell_type": "code",
   "execution_count": 82,
   "metadata": {
    "collapsed": false
   },
   "outputs": [
    {
     "data": {
      "text/html": [
       "<div>\n",
       "<table border=\"1\" class=\"dataframe\">\n",
       "  <thead>\n",
       "    <tr style=\"text-align: right;\">\n",
       "      <th>category</th>\n",
       "      <th>below 25%</th>\n",
       "      <th>25-50%</th>\n",
       "      <th>51-75%</th>\n",
       "      <th>76-100%</th>\n",
       "    </tr>\n",
       "    <tr>\n",
       "      <th>reviewerID</th>\n",
       "      <th></th>\n",
       "      <th></th>\n",
       "      <th></th>\n",
       "      <th></th>\n",
       "    </tr>\n",
       "  </thead>\n",
       "  <tbody>\n",
       "    <tr>\n",
       "      <th>A13QTZ8CIMHHG4</th>\n",
       "      <td>1271</td>\n",
       "      <td></td>\n",
       "      <td></td>\n",
       "      <td>1452</td>\n",
       "    </tr>\n",
       "    <tr>\n",
       "      <th>A14OJS0VWMOSWO</th>\n",
       "      <td>3540</td>\n",
       "      <td>1677</td>\n",
       "      <td>2151</td>\n",
       "      <td>8722</td>\n",
       "    </tr>\n",
       "    <tr>\n",
       "      <th>A1K1JW1C5CUSUZ</th>\n",
       "      <td></td>\n",
       "      <td></td>\n",
       "      <td></td>\n",
       "      <td>1881</td>\n",
       "    </tr>\n",
       "    <tr>\n",
       "      <th>A1M8PP7MLHNBQB</th>\n",
       "      <td></td>\n",
       "      <td></td>\n",
       "      <td></td>\n",
       "      <td>1149</td>\n",
       "    </tr>\n",
       "    <tr>\n",
       "      <th>A1MC6BFHWY6WC3</th>\n",
       "      <td></td>\n",
       "      <td></td>\n",
       "      <td></td>\n",
       "      <td>1208</td>\n",
       "    </tr>\n",
       "    <tr>\n",
       "      <th>A1S3C5OFU508P3</th>\n",
       "      <td></td>\n",
       "      <td></td>\n",
       "      <td></td>\n",
       "      <td>1183</td>\n",
       "    </tr>\n",
       "    <tr>\n",
       "      <th>A1X8VZWTOG8IS6</th>\n",
       "      <td>1619</td>\n",
       "      <td></td>\n",
       "      <td></td>\n",
       "      <td></td>\n",
       "    </tr>\n",
       "    <tr>\n",
       "      <th>A21NVBFIEQWDSG</th>\n",
       "      <td></td>\n",
       "      <td></td>\n",
       "      <td></td>\n",
       "      <td>1584</td>\n",
       "    </tr>\n",
       "    <tr>\n",
       "      <th>A26JGAM6GZMM4V</th>\n",
       "      <td></td>\n",
       "      <td></td>\n",
       "      <td></td>\n",
       "      <td>1199</td>\n",
       "    </tr>\n",
       "    <tr>\n",
       "      <th>A2F6N60Z96CAJI</th>\n",
       "      <td>1125</td>\n",
       "      <td></td>\n",
       "      <td></td>\n",
       "      <td>3189</td>\n",
       "    </tr>\n",
       "    <tr>\n",
       "      <th>A2TX179XAT5GRP</th>\n",
       "      <td></td>\n",
       "      <td></td>\n",
       "      <td></td>\n",
       "      <td>1258</td>\n",
       "    </tr>\n",
       "    <tr>\n",
       "      <th>A2VKWLCNZF4ZVB</th>\n",
       "      <td></td>\n",
       "      <td></td>\n",
       "      <td></td>\n",
       "      <td>1412</td>\n",
       "    </tr>\n",
       "    <tr>\n",
       "      <th>A320TMDV6KCFU</th>\n",
       "      <td>1457</td>\n",
       "      <td></td>\n",
       "      <td></td>\n",
       "      <td>2173</td>\n",
       "    </tr>\n",
       "    <tr>\n",
       "      <th>A328S9RN3U5M68</th>\n",
       "      <td></td>\n",
       "      <td></td>\n",
       "      <td></td>\n",
       "      <td>2205</td>\n",
       "    </tr>\n",
       "    <tr>\n",
       "      <th>AFVQZQ8PW0L</th>\n",
       "      <td>3689</td>\n",
       "      <td>4328</td>\n",
       "      <td>4835</td>\n",
       "      <td>10366</td>\n",
       "    </tr>\n",
       "    <tr>\n",
       "      <th>AHUT55E980RDR</th>\n",
       "      <td>1555</td>\n",
       "      <td></td>\n",
       "      <td></td>\n",
       "      <td></td>\n",
       "    </tr>\n",
       "  </tbody>\n",
       "</table>\n",
       "</div>"
      ],
      "text/plain": [
       "category       below 25% 25-50% 51-75% 76-100%\n",
       "reviewerID                                    \n",
       "A13QTZ8CIMHHG4      1271                  1452\n",
       "A14OJS0VWMOSWO      3540   1677   2151    8722\n",
       "A1K1JW1C5CUSUZ                            1881\n",
       "A1M8PP7MLHNBQB                            1149\n",
       "A1MC6BFHWY6WC3                            1208\n",
       "A1S3C5OFU508P3                            1183\n",
       "A1X8VZWTOG8IS6      1619                      \n",
       "A21NVBFIEQWDSG                            1584\n",
       "A26JGAM6GZMM4V                            1199\n",
       "A2F6N60Z96CAJI      1125                  3189\n",
       "A2TX179XAT5GRP                            1258\n",
       "A2VKWLCNZF4ZVB                            1412\n",
       "A320TMDV6KCFU       1457                  2173\n",
       "A328S9RN3U5M68                            2205\n",
       "AFVQZQ8PW0L         3689   4328   4835   10366\n",
       "AHUT55E980RDR       1555                      "
      ]
     },
     "execution_count": 82,
     "metadata": {},
     "output_type": "execute_result"
    }
   ],
   "source": [
    "g = df3.groupby(['reviewerID', 'category']).size().sort_values(ascending = False)[:25]\n",
    "g.unstack().fillna('')"
   ]
  },
  {
   "cell_type": "code",
   "execution_count": 145,
   "metadata": {
    "collapsed": false
   },
   "outputs": [],
   "source": [
    "sns.set_palette('deep')"
   ]
  },
  {
   "cell_type": "code",
   "execution_count": 192,
   "metadata": {
    "collapsed": false
   },
   "outputs": [
    {
     "data": {
      "image/png": "[encoded data removed]",
      "text/plain": [
       "<matplotlib.figure.Figure at 0x1d622e10>"
      ]
     },
     "metadata": {},
     "output_type": "display_data"
    }
   ],
   "source": [
    "with sns.color_palette('colorblind', 10):\n",
    "    g.unstack().plot(kind = 'bar', figsize = [10, 6], stacked = True, alpha = 0.7)\n",
    "    plt.ylim([-10, 10400])"
   ]
  },
  {
   "cell_type": "markdown",
   "metadata": {},
   "source": [
    "1. Reviewers with higher ratings (76-100%) have ~1000-2000 reviews but they barely have any negative rating. Book reviews are generally very opinionated, therefore its hard to believe that some of the top reviewers did not have any low ratings!!!\n",
    "\n",
    "2. Two reviewers have written 10,000+ reviews but many of the review ratings are low.\n",
    "\n",
    "**which reviewers to trust?** It will be interesting to see active years of these reviewers."
   ]
  },
  {
   "cell_type": "code",
   "execution_count": 123,
   "metadata": {
    "collapsed": false
   },
   "outputs": [
    {
     "data": {
      "text/html": [
       "<div>\n",
       "<table border=\"1\" class=\"dataframe\">\n",
       "  <thead>\n",
       "    <tr style=\"text-align: right;\">\n",
       "      <th></th>\n",
       "      <th>reviewerID</th>\n",
       "      <th>percHelpful</th>\n",
       "    </tr>\n",
       "  </thead>\n",
       "  <tbody>\n",
       "    <tr>\n",
       "      <th>0</th>\n",
       "      <td>A2H587O1MJCEL9</td>\n",
       "      <td>1.0</td>\n",
       "    </tr>\n",
       "  </tbody>\n",
       "</table>\n",
       "</div>"
      ],
      "text/plain": [
       "       reviewerID  percHelpful\n",
       "0  A2H587O1MJCEL9          1.0"
      ]
     },
     "execution_count": 123,
     "metadata": {},
     "output_type": "execute_result"
    }
   ],
   "source": [
    "df4 = df[['reviewerID', 'percHelpful']]\n",
    "df4.head(1)"
   ]
  },
  {
   "cell_type": "code",
   "execution_count": 124,
   "metadata": {
    "collapsed": true
   },
   "outputs": [
    {
     "name": "stdout",
     "output_type": "stream",
     "text": [
      "\n",
      "\n",
      "\n",
      "Streaming Insert is 0% Complete\n",
      "Streaming Insert is 0% Complete\n",
      "Streaming Insert is 0% Complete\n",
      "Streaming Insert is 0% Complete\n",
      "Streaming Insert is 0% Complete\n",
      "Streaming Insert is 0% Complete\n",
      "Streaming Insert is 0% Complete\n",
      "Streaming Insert is 0% Complete\n",
      "Streaming Insert is 1% Complete\n",
      "Streaming Insert is 1% Complete\n",
      "Streaming Insert is 1% Complete\n",
      "Streaming Insert is 1% Complete\n",
      "Streaming Insert is 1% Complete\n",
      "Streaming Insert is 1% Complete\n",
      "Streaming Insert is 1% Complete\n",
      "Streaming Insert is 1% Complete\n",
      "Streaming Insert is 1% Complete\n",
      "Streaming Insert is 2% Complete\n",
      "Streaming Insert is 2% Complete\n",
      "Streaming Insert is 2% Complete\n",
      "Streaming Insert is 2% Complete\n",
      "Streaming Insert is 2% Complete\n",
      "Streaming Insert is 2% Complete\n",
      "Streaming Insert is 2% Complete\n",
      "Streaming Insert is 2% Complete\n",
      "Streaming Insert is 2% Complete\n",
      "Streaming Insert is 3% Complete\n",
      "Streaming Insert is 3% Complete\n",
      "Streaming Insert is 3% Complete\n",
      "Streaming Insert is 3% Complete\n",
      "Streaming Insert is 3% Complete\n",
      "Streaming Insert is 3% Complete\n",
      "Streaming Insert is 3% Complete\n",
      "Streaming Insert is 3% Complete\n",
      "Streaming Insert is 3% Complete\n",
      "Streaming Insert is 4% Complete\n",
      "Streaming Insert is 4% Complete\n",
      "Streaming Insert is 4% Complete\n",
      "Streaming Insert is 4% Complete\n",
      "Streaming Insert is 4% Complete\n",
      "Streaming Insert is 4% Complete\n",
      "Streaming Insert is 4% Complete\n",
      "Streaming Insert is 4% Complete\n",
      "Streaming Insert is 4% Complete\n",
      "Streaming Insert is 5% Complete\n",
      "Streaming Insert is 5% Complete\n",
      "Streaming Insert is 5% Complete\n",
      "Streaming Insert is 5% Complete\n",
      "Streaming Insert is 5% Complete\n",
      "Streaming Insert is 5% Complete\n",
      "Streaming Insert is 5% Complete\n",
      "Streaming Insert is 5% Complete\n",
      "Streaming Insert is 5% Complete\n",
      "Streaming Insert is 6% Complete\n",
      "Streaming Insert is 6% Complete\n",
      "Streaming Insert is 6% Complete\n",
      "Streaming Insert is 6% Complete\n",
      "Streaming Insert is 6% Complete\n",
      "Streaming Insert is 6% Complete\n",
      "Streaming Insert is 6% Complete\n",
      "Streaming Insert is 6% Complete\n",
      "Streaming Insert is 6% Complete\n",
      "Streaming Insert is 7% Complete\n",
      "Streaming Insert is 7% Complete\n",
      "Streaming Insert is 7% Complete\n",
      "Streaming Insert is 7% Complete\n",
      "Streaming Insert is 7% Complete\n",
      "Streaming Insert is 7% Complete\n",
      "Streaming Insert is 7% Complete\n",
      "Streaming Insert is 7% Complete\n",
      "Streaming Insert is 7% Complete\n",
      "Streaming Insert is 8% Complete\n",
      "Streaming Insert is 8% Complete\n",
      "Streaming Insert is 8% Complete\n",
      "Streaming Insert is 8% Complete\n",
      "Streaming Insert is 8% Complete\n",
      "Streaming Insert is 8% Complete\n",
      "Streaming Insert is 8% Complete\n",
      "Streaming Insert is 8% Complete\n",
      "Streaming Insert is 9% Complete\n",
      "Streaming Insert is 9% Complete\n",
      "Streaming Insert is 9% Complete\n",
      "Streaming Insert is 9% Complete\n",
      "Streaming Insert is 9% Complete\n",
      "Streaming Insert is 9% Complete\n",
      "Streaming Insert is 9% Complete\n",
      "Streaming Insert is 9% Complete\n",
      "Streaming Insert is 9% Complete\n",
      "Streaming Insert is 10% Complete\n",
      "Streaming Insert is 10% Complete\n",
      "Streaming Insert is 10% Complete\n",
      "Streaming Insert is 10% Complete\n",
      "Streaming Insert is 10% Complete\n",
      "Streaming Insert is 10% Complete\n",
      "Streaming Insert is 10% Complete\n",
      "Streaming Insert is 10% Complete\n",
      "Streaming Insert is 10% Complete\n",
      "Streaming Insert is 11% Complete\n",
      "Streaming Insert is 11% Complete\n",
      "Streaming Insert is 11% Complete\n",
      "Streaming Insert is 11% Complete\n",
      "Streaming Insert is 11% Complete\n",
      "Streaming Insert is 11% Complete\n",
      "Streaming Insert is 11% Complete\n",
      "Streaming Insert is 11% Complete\n",
      "Streaming Insert is 11% Complete\n",
      "Streaming Insert is 12% Complete\n",
      "Streaming Insert is 12% Complete\n",
      "Streaming Insert is 12% Complete\n",
      "Streaming Insert is 12% Complete\n",
      "Streaming Insert is 12% Complete\n",
      "Streaming Insert is 12% Complete\n",
      "Streaming Insert is 12% Complete\n",
      "Streaming Insert is 12% Complete\n",
      "Streaming Insert is 12% Complete\n",
      "Streaming Insert is 13% Complete\n",
      "Streaming Insert is 13% Complete\n",
      "Streaming Insert is 13% Complete\n",
      "Streaming Insert is 13% Complete\n",
      "Streaming Insert is 13% Complete\n",
      "Streaming Insert is 13% Complete\n",
      "Streaming Insert is 13% Complete\n",
      "Streaming Insert is 13% Complete\n",
      "Streaming Insert is 13% Complete\n",
      "Streaming Insert is 14% Complete\n",
      "Streaming Insert is 14% Complete\n",
      "Streaming Insert is 14% Complete\n",
      "Streaming Insert is 14% Complete\n",
      "Streaming Insert is 14% Complete\n",
      "Streaming Insert is 14% Complete\n",
      "Streaming Insert is 14% Complete\n",
      "Streaming Insert is 14% Complete\n",
      "Streaming Insert is 14% Complete\n",
      "Streaming Insert is 15% Complete\n",
      "Streaming Insert is 15% Complete\n",
      "Streaming Insert is 15% Complete\n",
      "Streaming Insert is 15% Complete\n",
      "Streaming Insert is 15% Complete\n",
      "Streaming Insert is 15% Complete\n",
      "Streaming Insert is 15% Complete\n",
      "Streaming Insert is 15% Complete\n",
      "Streaming Insert is 15% Complete\n",
      "Streaming Insert is 16% Complete\n",
      "Streaming Insert is 16% Complete\n",
      "Streaming Insert is 16% Complete\n",
      "Streaming Insert is 16% Complete\n",
      "Streaming Insert is 16% Complete\n",
      "Streaming Insert is 16% Complete\n",
      "Streaming Insert is 16% Complete\n",
      "Streaming Insert is 16% Complete\n",
      "Streaming Insert is 16% Complete\n",
      "Streaming Insert is 17% Complete\n",
      "Streaming Insert is 17% Complete\n",
      "Streaming Insert is 17% Complete\n",
      "Streaming Insert is 17% Complete\n",
      "Streaming Insert is 17% Complete\n",
      "Streaming Insert is 17% Complete\n",
      "Streaming Insert is 17% Complete\n",
      "Streaming Insert is 17% Complete\n",
      "Streaming Insert is 18% Complete\n",
      "Streaming Insert is 18% Complete\n",
      "Streaming Insert is 18% Complete\n",
      "Streaming Insert is 18% Complete\n",
      "Streaming Insert is 18% Complete\n",
      "Streaming Insert is 18% Complete\n",
      "Streaming Insert is 18% Complete\n",
      "Streaming Insert is 18% Complete\n",
      "Streaming Insert is 18% Complete\n",
      "Streaming Insert is 19% Complete\n",
      "Streaming Insert is 19% Complete\n",
      "Streaming Insert is 19% Complete\n",
      "Streaming Insert is 19% Complete\n",
      "Streaming Insert is 19% Complete\n",
      "Streaming Insert is 19% Complete\n",
      "Streaming Insert is 19% Complete\n",
      "Streaming Insert is 19% Complete\n",
      "Streaming Insert is 19% Complete\n",
      "Streaming Insert is 20% Complete\n",
      "Streaming Insert is 20% Complete\n",
      "Streaming Insert is 20% Complete\n",
      "Streaming Insert is 20% Complete\n",
      "Streaming Insert is 20% Complete\n",
      "Streaming Insert is 20% Complete\n",
      "Streaming Insert is 20% Complete\n",
      "Streaming Insert is 20% Complete\n",
      "Streaming Insert is 20% Complete\n",
      "Streaming Insert is 21% Complete\n",
      "Streaming Insert is 21% Complete\n",
      "Streaming Insert is 21% Complete\n",
      "Streaming Insert is 21% Complete\n",
      "Streaming Insert is 21% Complete\n",
      "Streaming Insert is 21% Complete\n",
      "Streaming Insert is 21% Complete\n",
      "Streaming Insert is 21% Complete\n",
      "Streaming Insert is 21% Complete\n",
      "Streaming Insert is 22% Complete\n",
      "Streaming Insert is 22% Complete\n",
      "Streaming Insert is 22% Complete\n",
      "Streaming Insert is 22% Complete\n",
      "Streaming Insert is 22% Complete\n",
      "Streaming Insert is 22% Complete\n",
      "Streaming Insert is 22% Complete\n",
      "Streaming Insert is 22% Complete\n",
      "Streaming Insert is 22% Complete\n",
      "Streaming Insert is 23% Complete\n",
      "Streaming Insert is 23% Complete\n",
      "Streaming Insert is 23% Complete\n",
      "Streaming Insert is 23% Complete\n",
      "Streaming Insert is 23% Complete\n",
      "Streaming Insert is 23% Complete\n",
      "Streaming Insert is 23% Complete\n",
      "Streaming Insert is 23% Complete\n",
      "Streaming Insert is 23% Complete\n",
      "Streaming Insert is 24% Complete\n",
      "Streaming Insert is 24% Complete\n",
      "Streaming Insert is 24% Complete\n",
      "Streaming Insert is 24% Complete\n",
      "Streaming Insert is 24% Complete\n",
      "Streaming Insert is 24% Complete\n",
      "Streaming Insert is 24% Complete\n",
      "Streaming Insert is 24% Complete\n",
      "Streaming Insert is 24% Complete\n",
      "Streaming Insert is 25% Complete\n",
      "Streaming Insert is 25% Complete\n",
      "Streaming Insert is 25% Complete\n",
      "Streaming Insert is 25% Complete\n",
      "Streaming Insert is 25% Complete\n",
      "Streaming Insert is 25% Complete\n",
      "Streaming Insert is 25% Complete\n",
      "Streaming Insert is 25% Complete\n",
      "Streaming Insert is 25% Complete\n",
      "Streaming Insert is 26% Complete\n",
      "Streaming Insert is 26% Complete\n",
      "Streaming Insert is 26% Complete\n",
      "Streaming Insert is 26% Complete\n",
      "Streaming Insert is 26% Complete\n",
      "Streaming Insert is 26% Complete\n",
      "Streaming Insert is 26% Complete\n",
      "Streaming Insert is 26% Complete\n",
      "Streaming Insert is 27% Complete\n",
      "Streaming Insert is 27% Complete\n",
      "Streaming Insert is 27% Complete\n",
      "Streaming Insert is 27% Complete\n",
      "Streaming Insert is 27% Complete\n",
      "Streaming Insert is 27% Complete\n",
      "Streaming Insert is 27% Complete\n",
      "Streaming Insert is 27% Complete\n",
      "Streaming Insert is 27% Complete\n",
      "Streaming Insert is 28% Complete\n",
      "Streaming Insert is 28% Complete\n",
      "Streaming Insert is 28% Complete\n",
      "Streaming Insert is 28% Complete\n",
      "Streaming Insert is 28% Complete\n",
      "Streaming Insert is 28% Complete\n",
      "Streaming Insert is 28% Complete\n",
      "Streaming Insert is 28% Complete\n",
      "Streaming Insert is 28% Complete\n",
      "Streaming Insert is 29% Complete\n",
      "Streaming Insert is 29% Complete\n",
      "Streaming Insert is 29% Complete\n",
      "Streaming Insert is 29% Complete\n",
      "Streaming Insert is 29% Complete\n",
      "Streaming Insert is 29% Complete\n",
      "Streaming Insert is 29% Complete\n",
      "Streaming Insert is 29% Complete\n",
      "Streaming Insert is 29% Complete\n",
      "Streaming Insert is 30% Complete\n",
      "Streaming Insert is 30% Complete\n",
      "Streaming Insert is 30% Complete\n",
      "Streaming Insert is 30% Complete\n",
      "Streaming Insert is 30% Complete\n",
      "Streaming Insert is 30% Complete\n",
      "Streaming Insert is 30% Complete\n",
      "Streaming Insert is 30% Complete\n",
      "Streaming Insert is 30% Complete\n",
      "Streaming Insert is 31% Complete\n",
      "Streaming Insert is 31% Complete\n",
      "Streaming Insert is 31% Complete\n",
      "Streaming Insert is 31% Complete\n",
      "Streaming Insert is 31% Complete\n",
      "Streaming Insert is 31% Complete\n",
      "Streaming Insert is 31% Complete\n",
      "Streaming Insert is 31% Complete\n",
      "Streaming Insert is 31% Complete\n",
      "Streaming Insert is 32% Complete\n",
      "Streaming Insert is 32% Complete\n",
      "Streaming Insert is 32% Complete\n",
      "Streaming Insert is 32% Complete\n",
      "Streaming Insert is 32% Complete\n",
      "Streaming Insert is 32% Complete\n",
      "Streaming Insert is 32% Complete\n",
      "Streaming Insert is 32% Complete\n",
      "Streaming Insert is 32% Complete\n",
      "Streaming Insert is 33% Complete\n",
      "Streaming Insert is 33% Complete\n",
      "Streaming Insert is 33% Complete\n",
      "Streaming Insert is 33% Complete\n",
      "Streaming Insert is 33% Complete\n",
      "Streaming Insert is 33% Complete\n",
      "Streaming Insert is 33% Complete\n",
      "Streaming Insert is 33% Complete\n",
      "Streaming Insert is 33% Complete\n",
      "Streaming Insert is 34% Complete\n",
      "Streaming Insert is 34% Complete\n",
      "Streaming Insert is 34% Complete\n",
      "Streaming Insert is 34% Complete\n",
      "Streaming Insert is 34% Complete\n",
      "Streaming Insert is 34% Complete\n",
      "Streaming Insert is 34% Complete\n",
      "Streaming Insert is 34% Complete\n",
      "Streaming Insert is 34% Complete\n",
      "Streaming Insert is 35% Complete\n",
      "Streaming Insert is 35% Complete\n",
      "Streaming Insert is 35% Complete\n",
      "Streaming Insert is 35% Complete\n",
      "Streaming Insert is 35% Complete\n",
      "Streaming Insert is 35% Complete\n",
      "Streaming Insert is 35% Complete\n",
      "Streaming Insert is 35% Complete\n",
      "Streaming Insert is 36% Complete\n",
      "Streaming Insert is 36% Complete\n",
      "Streaming Insert is 36% Complete\n",
      "Streaming Insert is 36% Complete\n",
      "Streaming Insert is 36% Complete\n",
      "Streaming Insert is 36% Complete\n",
      "Streaming Insert is 36% Complete\n",
      "Streaming Insert is 36% Complete\n",
      "Streaming Insert is 36% Complete\n",
      "Streaming Insert is 37% Complete\n",
      "Streaming Insert is 37% Complete\n",
      "Streaming Insert is 37% Complete\n",
      "Streaming Insert is 37% Complete\n",
      "Streaming Insert is 37% Complete\n",
      "Streaming Insert is 37% Complete\n",
      "Streaming Insert is 37% Complete\n",
      "Streaming Insert is 37% Complete\n",
      "Streaming Insert is 37% Complete\n",
      "Streaming Insert is 38% Complete\n",
      "Streaming Insert is 38% Complete\n",
      "Streaming Insert is 38% Complete\n",
      "Streaming Insert is 38% Complete\n",
      "Streaming Insert is 38% Complete\n",
      "Streaming Insert is 38% Complete\n",
      "Streaming Insert is 38% Complete\n",
      "Streaming Insert is 38% Complete\n",
      "Streaming Insert is 38% Complete\n",
      "Streaming Insert is 39% Complete\n",
      "Streaming Insert is 39% Complete\n",
      "Streaming Insert is 39% Complete\n",
      "Streaming Insert is 39% Complete\n",
      "Streaming Insert is 39% Complete\n",
      "Streaming Insert is 39% Complete\n",
      "Streaming Insert is 39% Complete\n",
      "Streaming Insert is 39% Complete\n",
      "Streaming Insert is 39% Complete\n",
      "Streaming Insert is 40% Complete\n",
      "Streaming Insert is 40% Complete\n",
      "Streaming Insert is 40% Complete\n",
      "Streaming Insert is 40% Complete\n",
      "Streaming Insert is 40% Complete\n",
      "Streaming Insert is 40% Complete\n",
      "Streaming Insert is 40% Complete\n",
      "Streaming Insert is 40% Complete\n",
      "Streaming Insert is 40% Complete\n",
      "Streaming Insert is 41% Complete\n",
      "Streaming Insert is 41% Complete\n",
      "Streaming Insert is 41% Complete\n",
      "Streaming Insert is 41% Complete\n",
      "Streaming Insert is 41% Complete\n",
      "Streaming Insert is 41% Complete\n",
      "Streaming Insert is 41% Complete\n",
      "Streaming Insert is 41% Complete\n",
      "Streaming Insert is 41% Complete\n",
      "Streaming Insert is 42% Complete\n",
      "Streaming Insert is 42% Complete\n",
      "Streaming Insert is 42% Complete\n",
      "Streaming Insert is 42% Complete\n",
      "Streaming Insert is 42% Complete\n",
      "Streaming Insert is 42% Complete\n",
      "Streaming Insert is 42% Complete\n",
      "Streaming Insert is 42% Complete\n",
      "Streaming Insert is 42% Complete\n",
      "Streaming Insert is 43% Complete\n",
      "Streaming Insert is 43% Complete\n",
      "Streaming Insert is 43% Complete\n",
      "Streaming Insert is 43% Complete\n",
      "Streaming Insert is 43% Complete\n",
      "Streaming Insert is 43% Complete\n",
      "Streaming Insert is 43% Complete\n",
      "Streaming Insert is 43% Complete\n",
      "Streaming Insert is 43% Complete\n",
      "Streaming Insert is 44% Complete\n",
      "Streaming Insert is 44% Complete\n",
      "Streaming Insert is 44% Complete\n",
      "Streaming Insert is 44% Complete\n",
      "Streaming Insert is 44% Complete\n",
      "Streaming Insert is 44% Complete\n",
      "Streaming Insert is 44% Complete\n",
      "Streaming Insert is 44% Complete\n",
      "Streaming Insert is 45% Complete\n",
      "Streaming Insert is 45% Complete\n",
      "Streaming Insert is 45% Complete\n",
      "Streaming Insert is 45% Complete\n",
      "Streaming Insert is 45% Complete\n",
      "Streaming Insert is 45% Complete\n",
      "Streaming Insert is 45% Complete\n",
      "Streaming Insert is 45% Complete\n",
      "Streaming Insert is 45% Complete\n",
      "Streaming Insert is 46% Complete\n",
      "Streaming Insert is 46% Complete\n",
      "Streaming Insert is 46% Complete\n",
      "Streaming Insert is 46% Complete\n",
      "Streaming Insert is 46% Complete\n",
      "Streaming Insert is 46% Complete\n",
      "Streaming Insert is 46% Complete\n",
      "Streaming Insert is 46% Complete\n",
      "Streaming Insert is 46% Complete\n",
      "Streaming Insert is 47% Complete\n",
      "Streaming Insert is 47% Complete\n",
      "Streaming Insert is 47% Complete\n",
      "Streaming Insert is 47% Complete\n",
      "Streaming Insert is 47% Complete\n",
      "Streaming Insert is 47% Complete\n",
      "Streaming Insert is 47% Complete\n",
      "Streaming Insert is 47% Complete\n",
      "Streaming Insert is 47% Complete\n",
      "Streaming Insert is 48% Complete\n",
      "Streaming Insert is 48% Complete\n",
      "Streaming Insert is 48% Complete\n",
      "Streaming Insert is 48% Complete\n",
      "Streaming Insert is 48% Complete\n",
      "Streaming Insert is 48% Complete\n",
      "Streaming Insert is 48% Complete\n",
      "Streaming Insert is 48% Complete\n",
      "Streaming Insert is 48% Complete\n",
      "Streaming Insert is 49% Complete\n",
      "Streaming Insert is 49% Complete\n",
      "Streaming Insert is 49% Complete\n",
      "Streaming Insert is 49% Complete\n",
      "Streaming Insert is 49% Complete\n",
      "Streaming Insert is 49% Complete\n",
      "Streaming Insert is 49% Complete\n",
      "Streaming Insert is 49% Complete\n",
      "Streaming Insert is 49% Complete\n",
      "Streaming Insert is 50% Complete\n",
      "Streaming Insert is 50% Complete\n",
      "Streaming Insert is 50% Complete\n",
      "Streaming Insert is 50% Complete\n",
      "Streaming Insert is 50% Complete\n",
      "Streaming Insert is 50% Complete\n",
      "Streaming Insert is 50% Complete\n",
      "Streaming Insert is 50% Complete\n",
      "Streaming Insert is 50% Complete\n",
      "Streaming Insert is 51% Complete\n",
      "Streaming Insert is 51% Complete\n",
      "Streaming Insert is 51% Complete\n",
      "Streaming Insert is 51% Complete\n",
      "Streaming Insert is 51% Complete\n",
      "Streaming Insert is 51% Complete\n",
      "Streaming Insert is 51% Complete\n",
      "Streaming Insert is 51% Complete\n",
      "Streaming Insert is 51% Complete\n",
      "Streaming Insert is 52% Complete\n",
      "Streaming Insert is 52% Complete\n",
      "Streaming Insert is 52% Complete\n",
      "Streaming Insert is 52% Complete\n",
      "Streaming Insert is 52% Complete\n",
      "Streaming Insert is 52% Complete\n",
      "Streaming Insert is 52% Complete\n",
      "Streaming Insert is 52% Complete\n",
      "Streaming Insert is 52% Complete\n",
      "Streaming Insert is 53% Complete\n",
      "Streaming Insert is 53% Complete\n",
      "Streaming Insert is 53% Complete\n",
      "Streaming Insert is 53% Complete\n",
      "Streaming Insert is 53% Complete\n",
      "Streaming Insert is 53% Complete\n",
      "Streaming Insert is 53% Complete\n",
      "Streaming Insert is 53% Complete\n",
      "Streaming Insert is 54% Complete\n",
      "Streaming Insert is 54% Complete\n",
      "Streaming Insert is 54% Complete\n",
      "Streaming Insert is 54% Complete\n",
      "Streaming Insert is 54% Complete\n",
      "Streaming Insert is 54% Complete\n",
      "Streaming Insert is 54% Complete\n",
      "Streaming Insert is 54% Complete\n",
      "Streaming Insert is 54% Complete\n",
      "Streaming Insert is 55% Complete\n",
      "Streaming Insert is 55% Complete\n",
      "Streaming Insert is 55% Complete\n",
      "Streaming Insert is 55% Complete\n",
      "Streaming Insert is 55% Complete\n",
      "Streaming Insert is 55% Complete\n",
      "Streaming Insert is 55% Complete\n",
      "Streaming Insert is 55% Complete\n",
      "Streaming Insert is 55% Complete\n",
      "Streaming Insert is 56% Complete\n",
      "Streaming Insert is 56% Complete\n",
      "Streaming Insert is 56% Complete\n",
      "Streaming Insert is 56% Complete\n",
      "Streaming Insert is 56% Complete\n",
      "Streaming Insert is 56% Complete\n",
      "Streaming Insert is 56% Complete\n",
      "Streaming Insert is 56% Complete\n",
      "Streaming Insert is 56% Complete\n",
      "Streaming Insert is 57% Complete\n",
      "Streaming Insert is 57% Complete\n",
      "Streaming Insert is 57% Complete\n",
      "Streaming Insert is 57% Complete\n",
      "Streaming Insert is 57% Complete\n",
      "Streaming Insert is 57% Complete\n",
      "Streaming Insert is 57% Complete\n",
      "Streaming Insert is 57% Complete\n",
      "Streaming Insert is 57% Complete\n",
      "Streaming Insert is 58% Complete\n",
      "Streaming Insert is 58% Complete\n",
      "Streaming Insert is 58% Complete\n",
      "Streaming Insert is 58% Complete\n",
      "Streaming Insert is 58% Complete\n",
      "Streaming Insert is 58% Complete\n",
      "Streaming Insert is 58% Complete\n",
      "Streaming Insert is 58% Complete\n",
      "Streaming Insert is 58% Complete\n",
      "Streaming Insert is 59% Complete\n",
      "Streaming Insert is 59% Complete\n",
      "Streaming Insert is 59% Complete\n",
      "Streaming Insert is 59% Complete\n",
      "Streaming Insert is 59% Complete\n",
      "Streaming Insert is 59% Complete\n",
      "Streaming Insert is 59% Complete\n",
      "Streaming Insert is 59% Complete\n",
      "Streaming Insert is 59% Complete\n",
      "Streaming Insert is 60% Complete\n",
      "Streaming Insert is 60% Complete\n",
      "Streaming Insert is 60% Complete\n",
      "Streaming Insert is 60% Complete\n",
      "Streaming Insert is 60% Complete\n",
      "Streaming Insert is 60% Complete\n",
      "Streaming Insert is 60% Complete\n",
      "Streaming Insert is 60% Complete\n",
      "Streaming Insert is 60% Complete\n",
      "Streaming Insert is 61% Complete\n",
      "Streaming Insert is 61% Complete\n",
      "Streaming Insert is 61% Complete\n",
      "Streaming Insert is 61% Complete\n",
      "Streaming Insert is 61% Complete\n",
      "Streaming Insert is 61% Complete\n",
      "Streaming Insert is 61% Complete\n",
      "Streaming Insert is 61% Complete\n",
      "Streaming Insert is 61% Complete\n",
      "Streaming Insert is 62% Complete\n",
      "Streaming Insert is 62% Complete\n",
      "Streaming Insert is 62% Complete\n",
      "Streaming Insert is 62% Complete\n",
      "Streaming Insert is 62% Complete\n",
      "Streaming Insert is 62% Complete\n",
      "Streaming Insert is 62% Complete\n",
      "Streaming Insert is 62% Complete\n",
      "Streaming Insert is 63% Complete\n",
      "Streaming Insert is 63% Complete\n",
      "Streaming Insert is 63% Complete\n",
      "Streaming Insert is 63% Complete\n",
      "Streaming Insert is 63% Complete\n",
      "Streaming Insert is 63% Complete\n",
      "Streaming Insert is 63% Complete\n",
      "Streaming Insert is 63% Complete\n",
      "Streaming Insert is 63% Complete\n",
      "Streaming Insert is 64% Complete\n",
      "Streaming Insert is 64% Complete\n",
      "Streaming Insert is 64% Complete\n",
      "Streaming Insert is 64% Complete\n",
      "Streaming Insert is 64% Complete\n",
      "Streaming Insert is 64% Complete\n",
      "Streaming Insert is 64% Complete\n",
      "Streaming Insert is 64% Complete\n",
      "Streaming Insert is 64% Complete\n",
      "Streaming Insert is 65% Complete\n",
      "Streaming Insert is 65% Complete\n",
      "Streaming Insert is 65% Complete\n",
      "Streaming Insert is 65% Complete\n",
      "Streaming Insert is 65% Complete\n",
      "Streaming Insert is 65% Complete\n",
      "Streaming Insert is 65% Complete\n",
      "Streaming Insert is 65% Complete\n",
      "Streaming Insert is 65% Complete\n",
      "Streaming Insert is 66% Complete\n",
      "Streaming Insert is 66% Complete\n",
      "Streaming Insert is 66% Complete\n",
      "Streaming Insert is 66% Complete\n",
      "Streaming Insert is 66% Complete\n",
      "Streaming Insert is 66% Complete\n",
      "Streaming Insert is 66% Complete\n",
      "Streaming Insert is 66% Complete\n",
      "Streaming Insert is 66% Complete\n",
      "Streaming Insert is 67% Complete\n",
      "Streaming Insert is 67% Complete\n",
      "Streaming Insert is 67% Complete\n",
      "Streaming Insert is 67% Complete\n",
      "Streaming Insert is 67% Complete\n",
      "Streaming Insert is 67% Complete\n",
      "Streaming Insert is 67% Complete\n",
      "Streaming Insert is 67% Complete\n",
      "Streaming Insert is 67% Complete\n",
      "Streaming Insert is 68% Complete\n",
      "Streaming Insert is 68% Complete\n",
      "Streaming Insert is 68% Complete\n",
      "Streaming Insert is 68% Complete\n",
      "Streaming Insert is 68% Complete\n",
      "Streaming Insert is 68% Complete\n",
      "Streaming Insert is 68% Complete\n",
      "Streaming Insert is 68% Complete\n",
      "Streaming Insert is 68% Complete\n",
      "Streaming Insert is 69% Complete\n",
      "Streaming Insert is 69% Complete\n",
      "Streaming Insert is 69% Complete\n",
      "Streaming Insert is 69% Complete\n",
      "Streaming Insert is 69% Complete\n",
      "Streaming Insert is 69% Complete\n",
      "Streaming Insert is 69% Complete\n",
      "Streaming Insert is 69% Complete\n",
      "Streaming Insert is 69% Complete\n",
      "Streaming Insert is 70% Complete\n",
      "Streaming Insert is 70% Complete\n",
      "Streaming Insert is 70% Complete\n",
      "Streaming Insert is 70% Complete\n",
      "Streaming Insert is 70% Complete\n",
      "Streaming Insert is 70% Complete\n",
      "Streaming Insert is 70% Complete\n",
      "Streaming Insert is 70% Complete\n",
      "Streaming Insert is 70% Complete\n",
      "Streaming Insert is 71% Complete\n",
      "Streaming Insert is 71% Complete\n",
      "Streaming Insert is 71% Complete\n",
      "Streaming Insert is 71% Complete\n",
      "Streaming Insert is 71% Complete\n",
      "Streaming Insert is 71% Complete\n",
      "Streaming Insert is 71% Complete\n",
      "Streaming Insert is 71% Complete\n",
      "Streaming Insert is 72% Complete\n",
      "Streaming Insert is 72% Complete\n",
      "Streaming Insert is 72% Complete\n",
      "Streaming Insert is 72% Complete\n",
      "Streaming Insert is 72% Complete\n",
      "Streaming Insert is 72% Complete\n",
      "Streaming Insert is 72% Complete\n",
      "Streaming Insert is 72% Complete\n",
      "Streaming Insert is 72% Complete\n",
      "Streaming Insert is 73% Complete\n",
      "Streaming Insert is 73% Complete\n",
      "Streaming Insert is 73% Complete\n",
      "Streaming Insert is 73% Complete\n",
      "Streaming Insert is 73% Complete\n",
      "Streaming Insert is 73% Complete\n",
      "Streaming Insert is 73% Complete\n",
      "Streaming Insert is 73% Complete\n",
      "Streaming Insert is 73% Complete\n",
      "Streaming Insert is 74% Complete\n",
      "Streaming Insert is 74% Complete\n",
      "Streaming Insert is 74% Complete\n",
      "Streaming Insert is 74% Complete\n",
      "Streaming Insert is 74% Complete\n",
      "Streaming Insert is 74% Complete\n",
      "Streaming Insert is 74% Complete\n",
      "Streaming Insert is 74% Complete\n",
      "Streaming Insert is 74% Complete\n",
      "Streaming Insert is 75% Complete\n",
      "Streaming Insert is 75% Complete\n",
      "Streaming Insert is 75% Complete\n",
      "Streaming Insert is 75% Complete\n",
      "Streaming Insert is 75% Complete\n",
      "Streaming Insert is 75% Complete\n",
      "Streaming Insert is 75% Complete\n",
      "Streaming Insert is 75% Complete\n",
      "Streaming Insert is 75% Complete\n",
      "Streaming Insert is 76% Complete\n",
      "Streaming Insert is 76% Complete\n",
      "Streaming Insert is 76% Complete\n",
      "Streaming Insert is 76% Complete\n",
      "Streaming Insert is 76% Complete\n",
      "Streaming Insert is 76% Complete\n",
      "Streaming Insert is 76% Complete\n",
      "Streaming Insert is 76% Complete\n",
      "Streaming Insert is 76% Complete\n",
      "Streaming Insert is 77% Complete\n",
      "Streaming Insert is 77% Complete\n",
      "Streaming Insert is 77% Complete\n",
      "Streaming Insert is 77% Complete\n",
      "Streaming Insert is 77% Complete\n",
      "Streaming Insert is 77% Complete\n",
      "Streaming Insert is 77% Complete\n",
      "Streaming Insert is 77% Complete\n",
      "Streaming Insert is 77% Complete\n",
      "Streaming Insert is 78% Complete\n",
      "Streaming Insert is 78% Complete\n",
      "Streaming Insert is 78% Complete\n",
      "Streaming Insert is 78% Complete\n",
      "Streaming Insert is 78% Complete\n",
      "Streaming Insert is 78% Complete\n",
      "Streaming Insert is 78% Complete\n",
      "Streaming Insert is 78% Complete\n",
      "Streaming Insert is 78% Complete\n",
      "Streaming Insert is 79% Complete\n",
      "Streaming Insert is 79% Complete\n",
      "Streaming Insert is 79% Complete\n",
      "Streaming Insert is 79% Complete\n",
      "Streaming Insert is 79% Complete\n",
      "Streaming Insert is 79% Complete\n",
      "Streaming Insert is 79% Complete\n",
      "Streaming Insert is 79% Complete\n",
      "Streaming Insert is 79% Complete\n",
      "Streaming Insert is 80% Complete\n",
      "Streaming Insert is 80% Complete\n",
      "Streaming Insert is 80% Complete\n",
      "Streaming Insert is 80% Complete\n",
      "Streaming Insert is 80% Complete\n",
      "Streaming Insert is 80% Complete\n",
      "Streaming Insert is 80% Complete\n",
      "Streaming Insert is 80% Complete\n",
      "Streaming Insert is 81% Complete\n",
      "Streaming Insert is 81% Complete\n",
      "Streaming Insert is 81% Complete\n",
      "Streaming Insert is 81% Complete\n",
      "Streaming Insert is 81% Complete\n",
      "Streaming Insert is 81% Complete\n",
      "Streaming Insert is 81% Complete\n",
      "Streaming Insert is 81% Complete\n",
      "Streaming Insert is 81% Complete\n",
      "Streaming Insert is 82% Complete\n",
      "Streaming Insert is 82% Complete\n",
      "Streaming Insert is 82% Complete\n",
      "Streaming Insert is 82% Complete\n",
      "Streaming Insert is 82% Complete\n",
      "Streaming Insert is 82% Complete\n",
      "Streaming Insert is 82% Complete\n",
      "Streaming Insert is 82% Complete\n",
      "Streaming Insert is 82% Complete\n",
      "Streaming Insert is 83% Complete\n",
      "Streaming Insert is 83% Complete\n",
      "Streaming Insert is 83% Complete\n",
      "Streaming Insert is 83% Complete\n",
      "Streaming Insert is 83% Complete\n",
      "Streaming Insert is 83% Complete\n",
      "Streaming Insert is 83% Complete\n",
      "Streaming Insert is 83% Complete\n",
      "Streaming Insert is 83% Complete\n",
      "Streaming Insert is 84% Complete\n",
      "Streaming Insert is 84% Complete\n",
      "Streaming Insert is 84% Complete\n",
      "Streaming Insert is 84% Complete\n",
      "Streaming Insert is 84% Complete\n",
      "Streaming Insert is 84% Complete\n",
      "Streaming Insert is 84% Complete\n",
      "Streaming Insert is 84% Complete\n",
      "Streaming Insert is 84% Complete\n",
      "Streaming Insert is 85% Complete\n",
      "Streaming Insert is 85% Complete\n",
      "Streaming Insert is 85% Complete\n",
      "Streaming Insert is 85% Complete\n",
      "Streaming Insert is 85% Complete\n",
      "Streaming Insert is 85% Complete\n",
      "Streaming Insert is 85% Complete\n",
      "Streaming Insert is 85% Complete\n",
      "Streaming Insert is 85% Complete\n",
      "Streaming Insert is 86% Complete\n",
      "Streaming Insert is 86% Complete\n",
      "Streaming Insert is 86% Complete\n",
      "Streaming Insert is 86% Complete\n",
      "Streaming Insert is 86% Complete\n",
      "Streaming Insert is 86% Complete\n",
      "Streaming Insert is 86% Complete\n",
      "Streaming Insert is 86% Complete\n",
      "Streaming Insert is 86% Complete\n",
      "Streaming Insert is 87% Complete\n",
      "Streaming Insert is 87% Complete\n",
      "Streaming Insert is 87% Complete\n",
      "Streaming Insert is 87% Complete\n",
      "Streaming Insert is 87% Complete\n",
      "Streaming Insert is 87% Complete\n",
      "Streaming Insert is 87% Complete\n",
      "Streaming Insert is 87% Complete\n",
      "Streaming Insert is 87% Complete\n",
      "Streaming Insert is 88% Complete\n",
      "Streaming Insert is 88% Complete\n",
      "Streaming Insert is 88% Complete\n",
      "Streaming Insert is 88% Complete\n",
      "Streaming Insert is 88% Complete\n",
      "Streaming Insert is 88% Complete\n",
      "Streaming Insert is 88% Complete\n",
      "Streaming Insert is 88% Complete\n",
      "Streaming Insert is 88% Complete\n",
      "Streaming Insert is 89% Complete\n",
      "Streaming Insert is 89% Complete\n",
      "Streaming Insert is 89% Complete\n",
      "Streaming Insert is 89% Complete\n",
      "Streaming Insert is 89% Complete\n",
      "Streaming Insert is 89% Complete\n",
      "Streaming Insert is 89% Complete\n",
      "Streaming Insert is 89% Complete\n",
      "Streaming Insert is 90% Complete\n",
      "Streaming Insert is 90% Complete\n",
      "Streaming Insert is 90% Complete\n",
      "Streaming Insert is 90% Complete\n",
      "Streaming Insert is 90% Complete\n",
      "Streaming Insert is 90% Complete\n",
      "Streaming Insert is 90% Complete\n",
      "Streaming Insert is 90% Complete\n",
      "Streaming Insert is 90% Complete\n",
      "Streaming Insert is 91% Complete\n",
      "Streaming Insert is 91% Complete\n",
      "Streaming Insert is 91% Complete\n",
      "Streaming Insert is 91% Complete\n",
      "Streaming Insert is 91% Complete\n",
      "Streaming Insert is 91% Complete\n",
      "Streaming Insert is 91% Complete\n",
      "Streaming Insert is 91% Complete\n",
      "Streaming Insert is 91% Complete\n",
      "Streaming Insert is 92% Complete\n",
      "Streaming Insert is 92% Complete\n",
      "Streaming Insert is 92% Complete\n",
      "Streaming Insert is 92% Complete\n",
      "Streaming Insert is 92% Complete\n",
      "Streaming Insert is 92% Complete\n",
      "Streaming Insert is 92% Complete\n",
      "Streaming Insert is 92% Complete\n",
      "Streaming Insert is 92% Complete\n",
      "Streaming Insert is 93% Complete\n",
      "Streaming Insert is 93% Complete\n",
      "Streaming Insert is 93% Complete\n",
      "Streaming Insert is 93% Complete\n",
      "Streaming Insert is 93% Complete\n",
      "Streaming Insert is 93% Complete\n",
      "Streaming Insert is 93% Complete\n",
      "Streaming Insert is 93% Complete\n",
      "Streaming Insert is 93% Complete\n",
      "Streaming Insert is 94% Complete\n",
      "Streaming Insert is 94% Complete\n",
      "Streaming Insert is 94% Complete\n",
      "Streaming Insert is 94% Complete\n",
      "Streaming Insert is 94% Complete\n",
      "Streaming Insert is 94% Complete\n",
      "Streaming Insert is 94% Complete\n",
      "Streaming Insert is 94% Complete\n",
      "Streaming Insert is 94% Complete\n",
      "Streaming Insert is 95% Complete\n",
      "Streaming Insert is 95% Complete\n",
      "Streaming Insert is 95% Complete\n",
      "Streaming Insert is 95% Complete\n",
      "Streaming Insert is 95% Complete\n",
      "Streaming Insert is 95% Complete\n",
      "Streaming Insert is 95% Complete\n",
      "Streaming Insert is 95% Complete\n",
      "Streaming Insert is 95% Complete\n",
      "Streaming Insert is 96% Complete\n",
      "Streaming Insert is 96% Complete\n",
      "Streaming Insert is 96% Complete\n",
      "Streaming Insert is 96% Complete\n",
      "Streaming Insert is 96% Complete\n",
      "Streaming Insert is 96% Complete\n",
      "Streaming Insert is 96% Complete\n",
      "Streaming Insert is 96% Complete\n",
      "Streaming Insert is 96% Complete\n",
      "Streaming Insert is 97% Complete\n",
      "Streaming Insert is 97% Complete\n",
      "Streaming Insert is 97% Complete\n",
      "Streaming Insert is 97% Complete\n",
      "Streaming Insert is 97% Complete\n",
      "Streaming Insert is 97% Complete\n",
      "Streaming Insert is 97% Complete\n",
      "Streaming Insert is 97% Complete\n",
      "Streaming Insert is 97% Complete\n",
      "Streaming Insert is 98% Complete\n",
      "Streaming Insert is 98% Complete\n",
      "Streaming Insert is 98% Complete\n",
      "Streaming Insert is 98% Complete\n",
      "Streaming Insert is 98% Complete\n",
      "Streaming Insert is 98% Complete\n",
      "Streaming Insert is 98% Complete\n",
      "Streaming Insert is 98% Complete\n",
      "Streaming Insert is 99% Complete\n",
      "Streaming Insert is 99% Complete\n",
      "Streaming Insert is 99% Complete\n",
      "Streaming Insert is 99% Complete\n",
      "Streaming Insert is 99% Complete\n",
      "Streaming Insert is 99% Complete\n",
      "Streaming Insert is 99% Complete\n",
      "Streaming Insert is 99% Complete\n",
      "Streaming Insert is 99% Complete\n",
      "Streaming Insert is 100% Complete\n",
      "\n",
      "\n"
     ]
    }
   ],
   "source": [
    "df4.to_gbq(destination_table='amazon_book_small.rev3', project_id= project_id) # wrote the percentage helpful back to bigquery."
   ]
  },
  {
   "cell_type": "markdown",
   "metadata": {},
   "source": [
    "### Overall rating and its relation to helpfulness"
   ]
  },
  {
   "cell_type": "code",
   "execution_count": 171,
   "metadata": {
    "collapsed": false
   },
   "outputs": [
    {
     "data": {
      "image/png": "[encoded data removed]",
      "text/plain": [
       "<matplotlib.figure.Figure at 0x2cec76a0>"
      ]
     },
     "metadata": {},
     "output_type": "display_data"
    }
   ],
   "source": [
    "with sns.hls_palette(8, l=.3, s=.8):\n",
    "    a = df.groupby(['overall', 'percHelpful']).size()\n",
    "    a = a.unstack('overall').fillna(0)\n",
    "    a.plot(kind = 'line', figsize= [8, 4], linewidth = 2.0)\n",
    "    plt.xlim([-.09, 1.05])\n",
    "    plt.xlabel('Helpfulness rating')\n",
    "    plt.title('Overall rating vs helpfulness')"
   ]
  },
  {
   "cell_type": "code",
   "execution_count": 153,
   "metadata": {
    "collapsed": false
   },
   "outputs": [
    {
     "data": {
      "text/html": [
       "<div>\n",
       "<table border=\"1\" class=\"dataframe\">\n",
       "  <thead>\n",
       "    <tr style=\"text-align: right;\">\n",
       "      <th></th>\n",
       "      <th>reviewerID</th>\n",
       "      <th>overall</th>\n",
       "      <th>helpfulVote</th>\n",
       "      <th>totalVote</th>\n",
       "      <th>percHelpful</th>\n",
       "    </tr>\n",
       "  </thead>\n",
       "  <tbody>\n",
       "    <tr>\n",
       "      <th>0</th>\n",
       "      <td>A2H587O1MJCEL9</td>\n",
       "      <td>5</td>\n",
       "      <td>6</td>\n",
       "      <td>6</td>\n",
       "      <td>1.0</td>\n",
       "    </tr>\n",
       "  </tbody>\n",
       "</table>\n",
       "</div>"
      ],
      "text/plain": [
       "       reviewerID  overall  helpfulVote  totalVote  percHelpful\n",
       "0  A2H587O1MJCEL9        5            6          6          1.0"
      ]
     },
     "execution_count": 153,
     "metadata": {},
     "output_type": "execute_result"
    }
   ],
   "source": [
    "df5 = df[df.percHelpful >= 0.3]\n",
    "df5.head(1)"
   ]
  },
  {
   "cell_type": "markdown",
   "metadata": {},
   "source": [
    "#### A closer look when below 30% are discarded"
   ]
  },
  {
   "cell_type": "code",
   "execution_count": 184,
   "metadata": {
    "collapsed": false
   },
   "outputs": [
    {
     "data": {
      "image/png": "[encoded data removed]",
      "text/plain": [
       "<matplotlib.figure.Figure at 0x21b17e80>"
      ]
     },
     "metadata": {},
     "output_type": "display_data"
    }
   ],
   "source": [
    "with sns.hls_palette(8, l=.3, s=.8):\n",
    "    b = df5.groupby(['overall', 'percHelpful']).size()\n",
    "    b = b.unstack('overall').fillna(0)\n",
    "    b.plot(kind = 'line', figsize= [8, 4], linewidth = 2.0)\n",
    "    plt.xlim([0.3, 1.05])\n",
    "    plt.ylim([0, 400000])\n",
    "    plt.xlabel('Helpfulness rating')\n",
    "    plt.title('Overall rating vs helpfulness >30%')"
   ]
  },
  {
   "cell_type": "markdown",
   "metadata": {},
   "source": [
    "### Helpfulness ratings when the reviews are positive"
   ]
  },
  {
   "cell_type": "code",
   "execution_count": 157,
   "metadata": {
    "collapsed": false
   },
   "outputs": [
    {
     "data": {
      "text/html": [
       "<div>\n",
       "<table border=\"1\" class=\"dataframe\">\n",
       "  <thead>\n",
       "    <tr style=\"text-align: right;\">\n",
       "      <th></th>\n",
       "      <th>reviewerID</th>\n",
       "      <th>overall</th>\n",
       "      <th>percHelpful</th>\n",
       "    </tr>\n",
       "  </thead>\n",
       "  <tbody>\n",
       "    <tr>\n",
       "      <th>0</th>\n",
       "      <td>A2H587O1MJCEL9</td>\n",
       "      <td>5</td>\n",
       "      <td>1.0</td>\n",
       "    </tr>\n",
       "  </tbody>\n",
       "</table>\n",
       "</div>"
      ],
      "text/plain": [
       "       reviewerID  overall  percHelpful\n",
       "0  A2H587O1MJCEL9        5          1.0"
      ]
     },
     "execution_count": 157,
     "metadata": {},
     "output_type": "execute_result"
    }
   ],
   "source": [
    "df6 = df[['reviewerID', 'overall', 'percHelpful']]\n",
    "df6.head(1)"
   ]
  },
  {
   "cell_type": "code",
   "execution_count": 185,
   "metadata": {
    "collapsed": false
   },
   "outputs": [
    {
     "data": {
      "text/plain": [
       "reviewerID      overall  percHelpful\n",
       "A14OJS0VWMOSWO  5        1.000000       5880\n",
       "AFVQZQ8PW0L     5        1.000000       4285\n",
       "A14OJS0VWMOSWO  5        0.000000       3266\n",
       "AFVQZQ8PW0L     4        1.000000       2564\n",
       "                5        0.000000       1706\n",
       "A320TMDV6KCFU   5        1.000000       1614\n",
       "AFVQZQ8PW0L     5        0.500000       1572\n",
       "A2F6N60Z96CAJI  5        1.000000       1355\n",
       "AFVQZQ8PW0L     4        0.000000       1333\n",
       "A328S9RN3U5M68  5        1.000000       1318\n",
       "A320TMDV6KCFU   5        0.000000       1262\n",
       "AFVQZQ8PW0L     5        0.666667       1101\n",
       "A14OJS0VWMOSWO  5        0.500000       1069\n",
       "AFVQZQ8PW0L     4        0.500000       1033\n",
       "A1MC6BFHWY6WC3  5        1.000000        849\n",
       "A2OJW07GQRNJUT  5        0.000000        796\n",
       "AFVQZQ8PW0L     5        0.750000        759\n",
       "A1X8VZWTOG8IS6  4        0.000000        746\n",
       "A1JLU5H1CCENWX  5        0.000000        736\n",
       "AHUT55E980RDR   5        0.000000        729\n",
       "A2TX179XAT5GRP  5        1.000000        712\n",
       "A14OJS0VWMOSWO  5        0.666667        697\n",
       "A2F6N60Z96CAJI  5        0.000000        696\n",
       "A21NVBFIEQWDSG  4        1.000000        695\n",
       "A2F6N60Z96CAJI  4        1.000000        660\n",
       "dtype: int64"
      ]
     },
     "execution_count": 185,
     "metadata": {},
     "output_type": "execute_result"
    }
   ],
   "source": [
    "df6.groupby(['reviewerID', 'overall', 'percHelpful']).size().sort_values(ascending = False)[:25]"
   ]
  },
  {
   "cell_type": "code",
   "execution_count": 183,
   "metadata": {
    "collapsed": false
   },
   "outputs": [
    {
     "data": {
      "image/png": "[encoded data removed]",
      "text/plain": [
       "<matplotlib.figure.Figure at 0x28694b00>"
      ]
     },
     "metadata": {},
     "output_type": "display_data"
    }
   ],
   "source": [
    "with sns.color_palette('colorblind', 8):\n",
    "    c = df6.groupby(['reviewerID', 'overall', 'percHelpful']).size().sort_values(ascending = False)[:25]\n",
    "    c = c.unstack('percHelpful').fillna(0)\n",
    "    c.plot(kind = 'bar', stacked = True, figsize= [8, 4])\n",
    "    plt.xlabel('Reviewer ID, rating')\n",
    "    plt.title('Overall rating and helpfulness percentage when rating is positive')"
   ]
  },
  {
   "cell_type": "markdown",
   "metadata": {},
   "source": [
    "### Helpfulness ratings when the reviews are negative"
   ]
  },
  {
   "cell_type": "code",
   "execution_count": 176,
   "metadata": {
    "collapsed": false
   },
   "outputs": [
    {
     "data": {
      "text/html": [
       "<div>\n",
       "<table border=\"1\" class=\"dataframe\">\n",
       "  <thead>\n",
       "    <tr style=\"text-align: right;\">\n",
       "      <th></th>\n",
       "      <th>reviewerID</th>\n",
       "      <th>overall</th>\n",
       "      <th>percHelpful</th>\n",
       "    </tr>\n",
       "  </thead>\n",
       "  <tbody>\n",
       "    <tr>\n",
       "      <th>1</th>\n",
       "      <td>AI7E9E9BLURG1</td>\n",
       "      <td>2</td>\n",
       "      <td>1.0</td>\n",
       "    </tr>\n",
       "  </tbody>\n",
       "</table>\n",
       "</div>"
      ],
      "text/plain": [
       "      reviewerID  overall  percHelpful\n",
       "1  AI7E9E9BLURG1        2          1.0"
      ]
     },
     "execution_count": 176,
     "metadata": {},
     "output_type": "execute_result"
    }
   ],
   "source": [
    "df7 = df6[df6.overall <= 2]\n",
    "df7.head(1)"
   ]
  },
  {
   "cell_type": "code",
   "execution_count": 181,
   "metadata": {
    "collapsed": false
   },
   "outputs": [
    {
     "data": {
      "text/plain": [
       "reviewerID      overall  percHelpful\n",
       "A3A7FF87LEVCQ1  2        0.0            185\n",
       "A1CNQTCRQ35IMM  2        1.0            101\n",
       "                         0.0             93\n",
       "A3I8FT707XKQAJ  2        0.0             83\n",
       "A3M3W5GV0HIQK4  2        1.0             63\n",
       "A8MTDB180W1XE   2        0.0             61\n",
       "AUUFW7PTUHLT    2        0.0             60\n",
       "AH62BQTCMR3BR   1        0.0             57\n",
       "A1DA6E4FNRSAWN  2        1.0             57\n",
       "A2VXSQHJWZAQGY  2        0.0             56\n",
       "A15NZD5WINDQZM  2        0.0             55\n",
       "A1X87IHRK15RBU  2        0.0             53\n",
       "A3U7ELIED4WP4R  2        0.0             53\n",
       "AHUT55E980RDR   2        0.0             53\n",
       "A2VXSQHJWZAQGY  2        1.0             52\n",
       "A3BFDEBT5IV4UN  2        1.0             52\n",
       "A20R37WRPLUM1D  2        0.0             52\n",
       "A3A7FF87LEVCQ1  2        1.0             50\n",
       "A1X8VZWTOG8IS6  2        0.0             49\n",
       "A1O79BLZSTP53I  2        0.0             48\n",
       "A27R2V3WLS43LP  2        0.0             47\n",
       "A2RPIGO3G4M6GN  2        0.0             47\n",
       "A1DA6E4FNRSAWN  1        1.0             46\n",
       "A3A7FF87LEVCQ1  1        0.0             45\n",
       "A22M4X1AWZMIDK  2        0.0             45\n",
       "dtype: int64"
      ]
     },
     "execution_count": 181,
     "metadata": {},
     "output_type": "execute_result"
    }
   ],
   "source": [
    "df7.groupby(['reviewerID', 'overall', 'percHelpful']).size().sort_values(ascending = False)[:25]"
   ]
  },
  {
   "cell_type": "code",
   "execution_count": 182,
   "metadata": {
    "collapsed": false
   },
   "outputs": [
    {
     "data": {
      "image/png": "[encoded data removed]",
      "text/plain": [
       "<matplotlib.figure.Figure at 0x265c91d0>"
      ]
     },
     "metadata": {},
     "output_type": "display_data"
    }
   ],
   "source": [
    "with sns.color_palette('colorblind', 8):\n",
    "    d = df7.groupby(['reviewerID', 'overall', 'percHelpful']).size().sort_values(ascending = False)[:25]\n",
    "    d = d.unstack('percHelpful').fillna(0)\n",
    "    d.plot(kind = 'bar', stacked = True, figsize= [8, 4])\n",
    "    plt.xlabel('Reviewer ID, rating')\n",
    "    plt.title('Overall rating and helpfulness percentage when rating is negative')"
   ]
  },
  {
   "cell_type": "markdown",
   "metadata": {
    "collapsed": true
   },
   "source": [
    "### Summary\n",
    "\n",
    "1. 57% of the helpfulness rating is below 50%. \n",
    "2. The most active reviewers are identified and ranked according to their helpfulness.\n",
    "3. Overall ratings are compared to helpfulness."
   ]
  },
  {
   "cell_type": "code",
   "execution_count": null,
   "metadata": {
    "collapsed": true
   },
   "outputs": [],
   "source": []
  }
 ],
 "metadata": {
  "anaconda-cloud": {},
  "kernelspec": {
   "display_name": "Python [conda root]",
   "language": "python",
   "name": "conda-root-py"
  },
  "language_info": {
   "codemirror_mode": {
    "name": "ipython",
    "version": 2
   },
   "file_extension": ".py",
   "mimetype": "text/x-python",
   "name": "python",
   "nbconvert_exporter": "python",
   "pygments_lexer": "ipython2",
   "version": "2.7.12"
  }
 },
 "nbformat": 4,
 "nbformat_minor": 1
}
