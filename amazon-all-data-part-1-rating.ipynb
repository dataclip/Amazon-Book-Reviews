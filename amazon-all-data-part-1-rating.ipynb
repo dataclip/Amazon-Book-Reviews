{
 "cells": [
  {
   "cell_type": "markdown",
   "metadata": {},
   "source": [
    "## Amazon Book Reviews Part I: Exploratory Data Analysis and Summary Statistics of Book Ratings\n",
    "\n",
    "#### This is the 5-core dataset which means that each user and item has at least 5 reviews. The dataset has ~9 million reviews: http://jmcauley.ucsd.edu/data/amazon/. \n",
    "\n",
    "### Introduction\n",
    "\n",
    "1. The dataset contains ratings from 1996-2014. \n",
    "2. Ratings (stars) are given in a scale of 1-5. "
   ]
  },
  {
   "cell_type": "code",
   "execution_count": 1,
   "metadata": {
    "collapsed": true
   },
   "outputs": [],
   "source": [
    "import pandas as pd\n",
    "import numpy as np\n",
    "import matplotlib.pyplot as plt\n",
    "import seaborn as sns\n",
    "from pandas.io import gbq\n",
    "%matplotlib inline"
   ]
  },
  {
   "cell_type": "code",
   "execution_count": 31,
   "metadata": {
    "collapsed": true
   },
   "outputs": [],
   "source": [
    "project_id = 'dotted-chiller-156222'"
   ]
  },
  {
   "cell_type": "code",
   "execution_count": 22,
   "metadata": {
    "collapsed": true
   },
   "outputs": [],
   "source": [
    "query1 = \"SELECT overall, count(overall) as total FROM amazon_book_small.rev1 GROUP BY overall ORDER BY overall\""
   ]
  },
  {
   "cell_type": "code",
   "execution_count": 23,
   "metadata": {
    "collapsed": false
   },
   "outputs": [
    {
     "name": "stdout",
     "output_type": "stream",
     "text": [
      "Requesting query... ok.\n",
      "Query running...\n",
      "Query done.\n",
      "Processed: 67.9 Mb\n",
      "\n",
      "Retrieving results...\n",
      "Got 5 rows.\n",
      "\n",
      "Total time taken 1.79 s.\n",
      "Finished at 2017-01-22 15:38:32.\n"
     ]
    }
   ],
   "source": [
    "do = gbq.read_gbq(query1, project_id=project_id)"
   ]
  },
  {
   "cell_type": "markdown",
   "metadata": {},
   "source": [
    "### Total overall rating (1996-2014)"
   ]
  },
  {
   "cell_type": "code",
   "execution_count": 24,
   "metadata": {
    "collapsed": false
   },
   "outputs": [
    {
     "data": {
      "text/html": [
       "<div>\n",
       "<table border=\"1\" class=\"dataframe\">\n",
       "  <thead>\n",
       "    <tr style=\"text-align: right;\">\n",
       "      <th></th>\n",
       "      <th>total</th>\n",
       "    </tr>\n",
       "    <tr>\n",
       "      <th>overall</th>\n",
       "      <th></th>\n",
       "    </tr>\n",
       "  </thead>\n",
       "  <tbody>\n",
       "    <tr>\n",
       "      <th>1</th>\n",
       "      <td>323833</td>\n",
       "    </tr>\n",
       "    <tr>\n",
       "      <th>2</th>\n",
       "      <td>415110</td>\n",
       "    </tr>\n",
       "    <tr>\n",
       "      <th>3</th>\n",
       "      <td>955189</td>\n",
       "    </tr>\n",
       "    <tr>\n",
       "      <th>4</th>\n",
       "      <td>2223094</td>\n",
       "    </tr>\n",
       "    <tr>\n",
       "      <th>5</th>\n",
       "      <td>4980815</td>\n",
       "    </tr>\n",
       "  </tbody>\n",
       "</table>\n",
       "</div>"
      ],
      "text/plain": [
       "           total\n",
       "overall         \n",
       "1         323833\n",
       "2         415110\n",
       "3         955189\n",
       "4        2223094\n",
       "5        4980815"
      ]
     },
     "execution_count": 24,
     "metadata": {},
     "output_type": "execute_result"
    }
   ],
   "source": [
    "do = do.set_index('overall')\n",
    "do"
   ]
  },
  {
   "cell_type": "code",
   "execution_count": 50,
   "metadata": {
    "collapsed": false
   },
   "outputs": [
    {
     "data": {
      "text/plain": [
       "(array([0, 1, 2, 3, 4]), <a list of 5 Text xticklabel objects>)"
      ]
     },
     "execution_count": 50,
     "metadata": {},
     "output_type": "execute_result"
    },
    {
     "data": {
      "image/png": "[encoded data removed]",
      "text/plain": [
       "<matplotlib.figure.Figure at 0x10486780>"
      ]
     },
     "metadata": {},
     "output_type": "display_data"
    }
   ],
   "source": [
    "do.total.plot(kind = 'bar', alpha = 0.7)\n",
    "plt.xlabel('Rating')\n",
    "plt.xticks(rotation = 'horizontal')"
   ]
  },
  {
   "cell_type": "markdown",
   "metadata": {},
   "source": [
    "### 25 most reviewed books"
   ]
  },
  {
   "cell_type": "code",
   "execution_count": 32,
   "metadata": {
    "collapsed": true
   },
   "outputs": [],
   "source": [
    "query2 = \"SELECT asin, count(asin) as count FROM amazon_book_small.rev1 GROUP BY asin ORDER BY count DESC LIMIT 25\""
   ]
  },
  {
   "cell_type": "code",
   "execution_count": 35,
   "metadata": {
    "collapsed": true
   },
   "outputs": [
    {
     "name": "stdout",
     "output_type": "stream",
     "text": [
      "Requesting query... ok.\n",
      "Query running...\n",
      "Query done.\n",
      "Processed: 101.8 Mb\n",
      "\n",
      "Retrieving results...\n",
      "Got 25 rows.\n",
      "\n",
      "Total time taken 3.17 s.\n",
      "Finished at 2017-01-22 16:51:16.\n"
     ]
    }
   ],
   "source": [
    "da = gbq.read_gbq(query2, project_id=project_id)"
   ]
  },
  {
   "cell_type": "code",
   "execution_count": 38,
   "metadata": {
    "collapsed": false
   },
   "outputs": [
    {
     "data": {
      "text/html": [
       "<div>\n",
       "<table border=\"1\" class=\"dataframe\">\n",
       "  <thead>\n",
       "    <tr style=\"text-align: right;\">\n",
       "      <th></th>\n",
       "      <th>count</th>\n",
       "    </tr>\n",
       "    <tr>\n",
       "      <th>asin</th>\n",
       "      <th></th>\n",
       "    </tr>\n",
       "  </thead>\n",
       "  <tbody>\n",
       "    <tr>\n",
       "      <th>030758836X</th>\n",
       "      <td>7440</td>\n",
       "    </tr>\n",
       "  </tbody>\n",
       "</table>\n",
       "</div>"
      ],
      "text/plain": [
       "            count\n",
       "asin             \n",
       "030758836X   7440"
      ]
     },
     "execution_count": 38,
     "metadata": {},
     "output_type": "execute_result"
    }
   ],
   "source": [
    "da = da.set_index('asin')\n",
    "da.head(1)"
   ]
  },
  {
   "cell_type": "code",
   "execution_count": 55,
   "metadata": {
    "collapsed": false
   },
   "outputs": [
    {
     "data": {
      "text/plain": [
       "<matplotlib.text.Text at 0x1156bcf8>"
      ]
     },
     "execution_count": 55,
     "metadata": {},
     "output_type": "execute_result"
    },
    {
     "data": {
      "image/png": "[encoded data removed]",
      "text/plain": [
       "<matplotlib.figure.Figure at 0x11606c50>"
      ]
     },
     "metadata": {},
     "output_type": "display_data"
    }
   ],
   "source": [
    "da.plot(kind = 'bar', figsize=[8, 4], alpha = 0.5)\n",
    "plt.xlabel('Book ID (asin)')"
   ]
  },
  {
   "cell_type": "markdown",
   "metadata": {},
   "source": [
    "### 25 most active reviewers "
   ]
  },
  {
   "cell_type": "code",
   "execution_count": 58,
   "metadata": {
    "collapsed": true
   },
   "outputs": [],
   "source": [
    "query3 = \"SELECT reviewerID, count(reviewerID) as count FROM amazon_book_small.rev1 GROUP BY reviewerID ORDER BY count DESC \\\n",
    "LIMIT 25\""
   ]
  },
  {
   "cell_type": "code",
   "execution_count": 59,
   "metadata": {
    "collapsed": true
   },
   "outputs": [
    {
     "name": "stdout",
     "output_type": "stream",
     "text": [
      "Requesting query... ok.\n",
      "Query running...\n",
      "Query done.\n",
      "Processed: 133.5 Mb\n",
      "\n",
      "Retrieving results...\n",
      "Got 25 rows.\n",
      "\n",
      "Total time taken 3.64 s.\n",
      "Finished at 2017-01-22 17:38:36.\n"
     ]
    }
   ],
   "source": [
    "db = gbq.read_gbq(query3, project_id=project_id)"
   ]
  },
  {
   "cell_type": "code",
   "execution_count": 60,
   "metadata": {
    "collapsed": false
   },
   "outputs": [
    {
     "data": {
      "text/html": [
       "<div>\n",
       "<table border=\"1\" class=\"dataframe\">\n",
       "  <thead>\n",
       "    <tr style=\"text-align: right;\">\n",
       "      <th></th>\n",
       "      <th>count</th>\n",
       "    </tr>\n",
       "    <tr>\n",
       "      <th>reviewerID</th>\n",
       "      <th></th>\n",
       "    </tr>\n",
       "  </thead>\n",
       "  <tbody>\n",
       "    <tr>\n",
       "      <th>AFVQZQ8PW0L</th>\n",
       "      <td>23222</td>\n",
       "    </tr>\n",
       "  </tbody>\n",
       "</table>\n",
       "</div>"
      ],
      "text/plain": [
       "             count\n",
       "reviewerID        \n",
       "AFVQZQ8PW0L  23222"
      ]
     },
     "execution_count": 60,
     "metadata": {},
     "output_type": "execute_result"
    }
   ],
   "source": [
    "db = db.set_index('reviewerID')\n",
    "db.head(1)"
   ]
  },
  {
   "cell_type": "code",
   "execution_count": 61,
   "metadata": {
    "collapsed": false
   },
   "outputs": [
    {
     "data": {
      "text/plain": [
       "<matplotlib.text.Text at 0x11b18390>"
      ]
     },
     "execution_count": 61,
     "metadata": {},
     "output_type": "execute_result"
    },
    {
     "data": {
      "image/png": "[encoded data removed]",
      "text/plain": [
       "<matplotlib.figure.Figure at 0x118e7b70>"
      ]
     },
     "metadata": {},
     "output_type": "display_data"
    }
   ],
   "source": [
    "db.plot(kind = 'bar', figsize=[8, 4], alpha = 0.5)\n",
    "plt.xlabel('Reviewer ID')"
   ]
  },
  {
   "cell_type": "markdown",
   "metadata": {},
   "source": [
    "#### Someone has written ~23000 reviews!!"
   ]
  },
  {
   "cell_type": "code",
   "execution_count": 115,
   "metadata": {
    "collapsed": false
   },
   "outputs": [
    {
     "name": "stdout",
     "output_type": "stream",
     "text": [
      "Requesting query... ok.\n",
      "Query running...\n",
      "Query done.\n",
      "Processed: 133.5 Mb\n",
      "\n",
      "Retrieving results...\n",
      "Got 1 rows.\n",
      "\n",
      "Total time taken 2.58 s.\n",
      "Finished at 2017-01-22 21:07:26.\n"
     ]
    },
    {
     "data": {
      "text/html": [
       "<div>\n",
       "<table border=\"1\" class=\"dataframe\">\n",
       "  <thead>\n",
       "    <tr style=\"text-align: right;\">\n",
       "      <th></th>\n",
       "      <th>f0_</th>\n",
       "    </tr>\n",
       "  </thead>\n",
       "  <tbody>\n",
       "    <tr>\n",
       "      <th>0</th>\n",
       "      <td>569448</td>\n",
       "    </tr>\n",
       "  </tbody>\n",
       "</table>\n",
       "</div>"
      ],
      "text/plain": [
       "      f0_\n",
       "0  569448"
      ]
     },
     "execution_count": 115,
     "metadata": {},
     "output_type": "execute_result"
    }
   ],
   "source": [
    "gbq.read_gbq(\"SELECT COUNT(DISTINCT(reviewerID)) FROM amazon_book_small.rev1\", project_id=project_id)"
   ]
  },
  {
   "cell_type": "code",
   "execution_count": 116,
   "metadata": {
    "collapsed": false
   },
   "outputs": [
    {
     "data": {
      "text/plain": [
       "0.0639970078807234"
      ]
     },
     "execution_count": 116,
     "metadata": {},
     "output_type": "execute_result"
    }
   ],
   "source": [
    "total = 8898041.0\n",
    "avg_reviews = 569448.0/total\n",
    "avg_reviews"
   ]
  },
  {
   "cell_type": "markdown",
   "metadata": {},
   "source": [
    "### Review Trend Over the Years\n",
    "\n",
    "-I have to read the data in parts to fit it into my laptop memory"
   ]
  },
  {
   "cell_type": "code",
   "execution_count": 65,
   "metadata": {
    "collapsed": false
   },
   "outputs": [],
   "source": [
    "query4 = \"SELECT unixReviewTime, overall, FROM amazon_book_small.rev1 \\\n",
    "WHERE unixReviewTime >= '1996-01-01 00:00:00 UTC' AND unixReviewTime < '2007-01-01 00:00:00 UTC' \\\n",
    "ORDER BY unixReviewTime\""
   ]
  },
  {
   "cell_type": "code",
   "execution_count": 66,
   "metadata": {
    "collapsed": true
   },
   "outputs": [
    {
     "name": "stdout",
     "output_type": "stream",
     "text": [
      "Requesting query... ok.\n",
      "Query running...\n",
      "Query done.\n",
      "Processed: 135.8 Mb\n",
      "\n",
      "Retrieving results...\n",
      "  Got page: 1; 11.0% done. Elapsed 11.22 s.\n",
      "  Got page: 2; 22.0% done. Elapsed 14.8 s.\n",
      "  Got page: 3; 33.0% done. Elapsed 18.42 s.\n",
      "  Got page: 4; 45.0% done. Elapsed 22.11 s.\n",
      "  Got page: 5; 56.0% done. Elapsed 25.41 s.\n",
      "  Got page: 6; 67.0% done. Elapsed 29.78 s.\n",
      "  Got page: 7; 78.0% done. Elapsed 32.99 s.\n",
      "  Got page: 8; 89.0% done. Elapsed 37.55 s.\n",
      "  Got page: 9; 100.0% done. Elapsed 41.29 s.\n",
      "Got 897269 rows.\n",
      "\n",
      "Total time taken 51.99 s.\n",
      "Finished at 2017-01-22 18:48:05.\n"
     ]
    }
   ],
   "source": [
    "dc = gbq.read_gbq(query4, project_id=project_id)"
   ]
  },
  {
   "cell_type": "code",
   "execution_count": 89,
   "metadata": {
    "collapsed": false
   },
   "outputs": [
    {
     "data": {
      "text/html": [
       "<div>\n",
       "<table border=\"1\" class=\"dataframe\">\n",
       "  <thead>\n",
       "    <tr style=\"text-align: right;\">\n",
       "      <th></th>\n",
       "      <th>unixReviewTime</th>\n",
       "      <th>overall</th>\n",
       "    </tr>\n",
       "  </thead>\n",
       "  <tbody>\n",
       "    <tr>\n",
       "      <th>0</th>\n",
       "      <td>2006-06-25</td>\n",
       "      <td>5</td>\n",
       "    </tr>\n",
       "  </tbody>\n",
       "</table>\n",
       "</div>"
      ],
      "text/plain": [
       "  unixReviewTime  overall\n",
       "0     2006-06-25        5"
      ]
     },
     "execution_count": 89,
     "metadata": {},
     "output_type": "execute_result"
    }
   ],
   "source": [
    "dc.head(1)"
   ]
  },
  {
   "cell_type": "code",
   "execution_count": 67,
   "metadata": {
    "collapsed": false
   },
   "outputs": [
    {
     "data": {
      "text/html": [
       "<div>\n",
       "<table border=\"1\" class=\"dataframe\">\n",
       "  <thead>\n",
       "    <tr style=\"text-align: right;\">\n",
       "      <th></th>\n",
       "      <th>unixReviewTime</th>\n",
       "      <th>overall</th>\n",
       "    </tr>\n",
       "  </thead>\n",
       "  <tbody>\n",
       "    <tr>\n",
       "      <th>0</th>\n",
       "      <td>2006-06-25</td>\n",
       "      <td>5</td>\n",
       "    </tr>\n",
       "  </tbody>\n",
       "</table>\n",
       "</div>"
      ],
      "text/plain": [
       "  unixReviewTime  overall\n",
       "0     2006-06-25        5"
      ]
     },
     "execution_count": 67,
     "metadata": {},
     "output_type": "execute_result"
    }
   ],
   "source": [
    "dc.head(1)"
   ]
  },
  {
   "cell_type": "code",
   "execution_count": 82,
   "metadata": {
    "collapsed": false
   },
   "outputs": [
    {
     "data": {
      "text/html": [
       "<div>\n",
       "<table border=\"1\" class=\"dataframe\">\n",
       "  <thead>\n",
       "    <tr style=\"text-align: right;\">\n",
       "      <th></th>\n",
       "      <th>unixReviewTime</th>\n",
       "      <th>overall</th>\n",
       "    </tr>\n",
       "  </thead>\n",
       "  <tbody>\n",
       "    <tr>\n",
       "      <th>897268</th>\n",
       "      <td>2000-10-07</td>\n",
       "      <td>4</td>\n",
       "    </tr>\n",
       "  </tbody>\n",
       "</table>\n",
       "</div>"
      ],
      "text/plain": [
       "       unixReviewTime  overall\n",
       "897268     2000-10-07        4"
      ]
     },
     "execution_count": 82,
     "metadata": {},
     "output_type": "execute_result"
    }
   ],
   "source": [
    "dc.tail(1)"
   ]
  },
  {
   "cell_type": "code",
   "execution_count": 74,
   "metadata": {
    "collapsed": true
   },
   "outputs": [
    {
     "data": {
      "text/plain": [
       "unixReviewTime\n",
       "1996        25\n",
       "1997      2041\n",
       "1998      9731\n",
       "1999     19574\n",
       "2000     87855\n",
       "2001     97068\n",
       "2002    101028\n",
       "2003    104329\n",
       "2004    122834\n",
       "2005    163506\n",
       "2006    189278\n",
       "dtype: int64"
      ]
     },
     "execution_count": 74,
     "metadata": {},
     "output_type": "execute_result"
    }
   ],
   "source": [
    "c = dc.groupby(dc.unixReviewTime.dt.year).size()\n",
    "c"
   ]
  },
  {
   "cell_type": "markdown",
   "metadata": {},
   "source": [
    "### Trend up to 2006"
   ]
  },
  {
   "cell_type": "code",
   "execution_count": 76,
   "metadata": {
    "collapsed": false
   },
   "outputs": [
    {
     "data": {
      "text/plain": [
       "<matplotlib.text.Text at 0x11da4ac8>"
      ]
     },
     "execution_count": 76,
     "metadata": {},
     "output_type": "execute_result"
    },
    {
     "data": {
      "image/png": "[encoded data removed]",
      "text/plain": [
       "<matplotlib.figure.Figure at 0x2c2a6048>"
      ]
     },
     "metadata": {},
     "output_type": "display_data"
    }
   ],
   "source": [
    "c.plot(kind = 'line', alpha = 1, linewidth = 3.0) \n",
    "plt.xlabel('Year')"
   ]
  },
  {
   "cell_type": "code",
   "execution_count": 77,
   "metadata": {
    "collapsed": true
   },
   "outputs": [],
   "source": [
    "query5 = \"SELECT unixReviewTime, overall, FROM amazon_book_small.rev1 \\\n",
    "WHERE unixReviewTime >= '2007-01-02 00:00:00 UTC' AND unixReviewTime < '2011-01-01 00:00:00 UTC' \\\n",
    "ORDER BY unixReviewTime\""
   ]
  },
  {
   "cell_type": "code",
   "execution_count": 78,
   "metadata": {
    "collapsed": true
   },
   "outputs": [
    {
     "name": "stdout",
     "output_type": "stream",
     "text": [
      "Requesting query... ok.\n",
      "Query running...\n",
      "Query done.\n",
      "Processed: 135.8 Mb\n",
      "\n",
      "Retrieving results...\n",
      "  Got page: 1; 8.0% done. Elapsed 10.96 s.\n",
      "  Got page: 2; 16.0% done. Elapsed 15.49 s.\n",
      "  Got page: 3; 24.0% done. Elapsed 19.47 s.\n",
      "  Got page: 4; 31.0% done. Elapsed 23.19 s.\n",
      "  Got page: 5; 39.0% done. Elapsed 27.33 s.\n",
      "  Got page: 6; 47.0% done. Elapsed 31.73 s.\n",
      "  Got page: 7; 55.0% done. Elapsed 36.83 s.\n",
      "  Got page: 8; 63.0% done. Elapsed 40.79 s.\n",
      "  Got page: 9; 71.0% done. Elapsed 45.28 s.\n",
      "  Got page: 10; 78.0% done. Elapsed 48.88 s.\n",
      "  Got page: 11; 86.0% done. Elapsed 52.98 s.\n",
      "  Got page: 12; 94.0% done. Elapsed 56.53 s.\n",
      "  Got page: 13; 100.0% done. Elapsed 59.92 s.\n",
      "Got 1274218 rows.\n",
      "\n",
      "Total time taken 74.72 s.\n",
      "Finished at 2017-01-22 19:04:19.\n"
     ]
    }
   ],
   "source": [
    "dd = gbq.read_gbq(query5, project_id=project_id)"
   ]
  },
  {
   "cell_type": "code",
   "execution_count": 79,
   "metadata": {
    "collapsed": false
   },
   "outputs": [
    {
     "data": {
      "text/html": [
       "<div>\n",
       "<table border=\"1\" class=\"dataframe\">\n",
       "  <thead>\n",
       "    <tr style=\"text-align: right;\">\n",
       "      <th></th>\n",
       "      <th>unixReviewTime</th>\n",
       "      <th>overall</th>\n",
       "    </tr>\n",
       "  </thead>\n",
       "  <tbody>\n",
       "    <tr>\n",
       "      <th>0</th>\n",
       "      <td>2010-10-29</td>\n",
       "      <td>5</td>\n",
       "    </tr>\n",
       "  </tbody>\n",
       "</table>\n",
       "</div>"
      ],
      "text/plain": [
       "  unixReviewTime  overall\n",
       "0     2010-10-29        5"
      ]
     },
     "execution_count": 79,
     "metadata": {},
     "output_type": "execute_result"
    }
   ],
   "source": [
    "dd.head(1)"
   ]
  },
  {
   "cell_type": "code",
   "execution_count": 80,
   "metadata": {
    "collapsed": false
   },
   "outputs": [
    {
     "data": {
      "text/html": [
       "<div>\n",
       "<table border=\"1\" class=\"dataframe\">\n",
       "  <thead>\n",
       "    <tr style=\"text-align: right;\">\n",
       "      <th></th>\n",
       "      <th>unixReviewTime</th>\n",
       "      <th>overall</th>\n",
       "    </tr>\n",
       "  </thead>\n",
       "  <tbody>\n",
       "    <tr>\n",
       "      <th>1274217</th>\n",
       "      <td>2007-06-03</td>\n",
       "      <td>4</td>\n",
       "    </tr>\n",
       "  </tbody>\n",
       "</table>\n",
       "</div>"
      ],
      "text/plain": [
       "        unixReviewTime  overall\n",
       "1274217     2007-06-03        4"
      ]
     },
     "execution_count": 80,
     "metadata": {},
     "output_type": "execute_result"
    }
   ],
   "source": [
    "dd.tail(1)"
   ]
  },
  {
   "cell_type": "code",
   "execution_count": 83,
   "metadata": {
    "collapsed": true
   },
   "outputs": [],
   "source": [
    "query6 = \"SELECT unixReviewTime, overall, FROM amazon_book_small.rev1 \\\n",
    "WHERE unixReviewTime >= '2011-01-02 00:00:00 UTC' AND unixReviewTime < '2015-01-01 00:00:00 UTC' \\\n",
    "ORDER BY unixReviewTime\""
   ]
  },
  {
   "cell_type": "code",
   "execution_count": 92,
   "metadata": {
    "collapsed": true
   },
   "outputs": [
    {
     "name": "stdout",
     "output_type": "stream",
     "text": [
      "Requesting query... ok.\n",
      "Query running...\n",
      "  Elapsed 11.28 s. Waiting...\n",
      "  Elapsed 21.72 s. Waiting...\n",
      "  Elapsed 32.17 s. Waiting...\n",
      "Query done.\n",
      "Processed: 135.8 Mb\n",
      "\n",
      "Retrieving results...\n",
      "  Got page: 1; 1.0% done. Elapsed 38.31 s.\n",
      "  Got page: 2; 3.0% done. Elapsed 42.19 s.\n",
      "  Got page: 3; 4.0% done. Elapsed 45.91 s.\n",
      "  Got page: 4; 6.0% done. Elapsed 49.55 s.\n",
      "  Got page: 5; 7.0% done. Elapsed 54.01 s.\n",
      "  Got page: 6; 9.0% done. Elapsed 58.01 s.\n",
      "  Got page: 7; 10.0% done. Elapsed 61.85 s.\n",
      "  Got page: 8; 12.0% done. Elapsed 65.58 s.\n",
      "  Got page: 9; 13.0% done. Elapsed 69.71 s.\n",
      "  Got page: 10; 15.0% done. Elapsed 73.47 s.\n",
      "  Got page: 11; 16.0% done. Elapsed 78.21 s.\n",
      "  Got page: 12; 18.0% done. Elapsed 81.74 s.\n",
      "  Got page: 13; 19.0% done. Elapsed 85.94 s.\n",
      "  Got page: 14; 21.0% done. Elapsed 89.86 s.\n",
      "  Got page: 15; 22.0% done. Elapsed 93.22 s.\n",
      "  Got page: 16; 24.0% done. Elapsed 96.71 s.\n",
      "  Got page: 17; 25.0% done. Elapsed 100.83 s.\n",
      "  Got page: 18; 27.0% done. Elapsed 105.73 s.\n",
      "  Got page: 19; 28.0% done. Elapsed 109.22 s.\n",
      "  Got page: 20; 30.0% done. Elapsed 113.9 s.\n",
      "  Got page: 21; 31.0% done. Elapsed 117.99 s.\n",
      "  Got page: 22; 33.0% done. Elapsed 122.27 s.\n",
      "  Got page: 23; 34.0% done. Elapsed 128.12 s.\n",
      "  Got page: 24; 36.0% done. Elapsed 132.36 s.\n",
      "  Got page: 25; 37.0% done. Elapsed 137.42 s.\n",
      "  Got page: 26; 39.0% done. Elapsed 141.98 s.\n",
      "  Got page: 27; 40.0% done. Elapsed 145.67 s.\n",
      "  Got page: 28; 42.0% done. Elapsed 149.38 s.\n",
      "  Got page: 29; 43.0% done. Elapsed 154.16 s.\n",
      "  Got page: 30; 45.0% done. Elapsed 157.48 s.\n",
      "  Got page: 31; 46.0% done. Elapsed 161.41 s.\n",
      "  Got page: 32; 48.0% done. Elapsed 165.12 s.\n",
      "  Got page: 33; 49.0% done. Elapsed 168.45 s.\n",
      "  Got page: 34; 51.0% done. Elapsed 171.69 s.\n",
      "  Got page: 35; 52.0% done. Elapsed 175.16 s.\n",
      "  Got page: 36; 54.0% done. Elapsed 179.83 s.\n",
      "  Got page: 37; 55.0% done. Elapsed 184.2 s.\n",
      "  Got page: 38; 57.0% done. Elapsed 188.0 s.\n",
      "  Got page: 39; 58.0% done. Elapsed 191.83 s.\n",
      "  Got page: 40; 59.0% done. Elapsed 195.71 s.\n",
      "  Got page: 41; 61.0% done. Elapsed 200.51 s.\n",
      "  Got page: 42; 62.0% done. Elapsed 204.25 s.\n",
      "  Got page: 43; 64.0% done. Elapsed 208.35 s.\n",
      "  Got page: 44; 65.0% done. Elapsed 212.41 s.\n",
      "  Got page: 45; 67.0% done. Elapsed 216.81 s.\n",
      "  Got page: 46; 68.0% done. Elapsed 223.46 s.\n",
      "  Got page: 47; 70.0% done. Elapsed 227.96 s.\n",
      "  Got page: 48; 71.0% done. Elapsed 231.48 s.\n",
      "  Got page: 49; 73.0% done. Elapsed 235.43 s.\n",
      "  Got page: 50; 74.0% done. Elapsed 239.31 s.\n",
      "  Got page: 51; 76.0% done. Elapsed 243.54 s.\n",
      "  Got page: 52; 77.0% done. Elapsed 248.08 s.\n",
      "  Got page: 53; 79.0% done. Elapsed 251.85 s.\n",
      "  Got page: 54; 80.0% done. Elapsed 255.76 s.\n",
      "  Got page: 55; 82.0% done. Elapsed 259.07 s.\n",
      "  Got page: 56; 83.0% done. Elapsed 262.81 s.\n",
      "  Got page: 57; 85.0% done. Elapsed 269.87 s.\n",
      "  Got page: 58; 86.0% done. Elapsed 273.49 s.\n",
      "  Got page: 59; 88.0% done. Elapsed 277.24 s.\n",
      "  Got page: 60; 89.0% done. Elapsed 281.57 s.\n",
      "  Got page: 61; 91.0% done. Elapsed 285.87 s.\n",
      "  Got page: 62; 92.0% done. Elapsed 289.64 s.\n",
      "  Got page: 63; 94.0% done. Elapsed 293.79 s.\n",
      "  Got page: 64; 95.0% done. Elapsed 298.5 s.\n",
      "  Got page: 65; 97.0% done. Elapsed 303.02 s.\n",
      "  Got page: 66; 98.0% done. Elapsed 307.71 s.\n",
      "  Got page: 67; 100.0% done. Elapsed 311.81 s.\n",
      "  Got page: 68; 100.0% done. Elapsed 313.1 s.\n",
      "Got 6724469 rows.\n",
      "\n",
      "Total time taken 430.35 s.\n",
      "Finished at 2017-01-22 19:23:53.\n"
     ]
    }
   ],
   "source": [
    "de = gbq.read_gbq(query6, project_id=project_id)"
   ]
  },
  {
   "cell_type": "code",
   "execution_count": 93,
   "metadata": {
    "collapsed": false
   },
   "outputs": [
    {
     "data": {
      "text/html": [
       "<div>\n",
       "<table border=\"1\" class=\"dataframe\">\n",
       "  <thead>\n",
       "    <tr style=\"text-align: right;\">\n",
       "      <th></th>\n",
       "      <th>unixReviewTime</th>\n",
       "      <th>overall</th>\n",
       "    </tr>\n",
       "  </thead>\n",
       "  <tbody>\n",
       "    <tr>\n",
       "      <th>0</th>\n",
       "      <td>2014-07-15</td>\n",
       "      <td>5</td>\n",
       "    </tr>\n",
       "  </tbody>\n",
       "</table>\n",
       "</div>"
      ],
      "text/plain": [
       "  unixReviewTime  overall\n",
       "0     2014-07-15        5"
      ]
     },
     "execution_count": 93,
     "metadata": {},
     "output_type": "execute_result"
    }
   ],
   "source": [
    "de.head(1)"
   ]
  },
  {
   "cell_type": "code",
   "execution_count": 94,
   "metadata": {
    "collapsed": false
   },
   "outputs": [],
   "source": [
    "df = pd.concat([dc, dd, de])"
   ]
  },
  {
   "cell_type": "code",
   "execution_count": 106,
   "metadata": {
    "collapsed": false
   },
   "outputs": [
    {
     "data": {
      "text/plain": [
       "unixReviewTime\n",
       "1996         25\n",
       "1997       2041\n",
       "1998       9731\n",
       "1999      19574\n",
       "2000      87855\n",
       "2001      97068\n",
       "2002     101028\n",
       "2003     104329\n",
       "2004     122834\n",
       "2005     163506\n",
       "2006     189278\n",
       "2007     237406\n",
       "2008     274605\n",
       "2009     349026\n",
       "2010     413181\n",
       "2011     591963\n",
       "2012    1175910\n",
       "2013    2982481\n",
       "2014    1974115\n",
       "dtype: int64"
      ]
     },
     "execution_count": 106,
     "metadata": {},
     "output_type": "execute_result"
    }
   ],
   "source": [
    "f = df.groupby(df.unixReviewTime.dt.year).size()\n",
    "f"
   ]
  },
  {
   "cell_type": "markdown",
   "metadata": {},
   "source": [
    "### Trend 1996-2014 "
   ]
  },
  {
   "cell_type": "code",
   "execution_count": 98,
   "metadata": {
    "collapsed": false
   },
   "outputs": [
    {
     "data": {
      "text/plain": [
       "<matplotlib.text.Text at 0x11c7feb8>"
      ]
     },
     "execution_count": 98,
     "metadata": {},
     "output_type": "execute_result"
    },
    {
     "data": {
      "image/png": "[encoded data removed]",
      "text/plain": [
       "<matplotlib.figure.Figure at 0x3310acc0>"
      ]
     },
     "metadata": {},
     "output_type": "display_data"
    }
   ],
   "source": [
    "f.plot(kind = 'line', linewidth = 3.0)\n",
    "plt.xlabel('Year')"
   ]
  },
  {
   "cell_type": "markdown",
   "metadata": {},
   "source": [
    "### Trend 1996-2014 (using months as well)"
   ]
  },
  {
   "cell_type": "code",
   "execution_count": 117,
   "metadata": {
    "collapsed": false
   },
   "outputs": [
    {
     "data": {
      "text/plain": [
       "<matplotlib.text.Text at 0x703431d0>"
      ]
     },
     "execution_count": 117,
     "metadata": {},
     "output_type": "execute_result"
    },
    {
     "data": {
      "image/png": "[encoded data removed]",
      "text/plain": [
       "<matplotlib.figure.Figure at 0x119cad30>"
      ]
     },
     "metadata": {},
     "output_type": "display_data"
    }
   ],
   "source": [
    "g = df.groupby([df.unixReviewTime.dt.year, df.unixReviewTime.dt.month]).size()\n",
    "g.index.set_levels([[1996,1997, 1998, 1999, 2000, 2001, 2002, 2003, 2004, 2005, 2006, 2007, 2008, 2009, 2010, 2011, 2012, 2013, 2014],\n",
    "                    ['Jan', 'Feb', 'Mar', 'Apr', 'May', 'Jun', 'Jul', 'Aug', 'Sep', 'Oct', 'Nov', 'Dec']],inplace=True)\n",
    "g.plot(kind = 'line', alpha = 1, linewidth = 2.0, color = 'b') \n",
    "plt.xlabel('Year/month')"
   ]
  },
  {
   "cell_type": "markdown",
   "metadata": {},
   "source": [
    "#### Overall rating over the years"
   ]
  },
  {
   "cell_type": "code",
   "execution_count": 111,
   "metadata": {
    "collapsed": false
   },
   "outputs": [
    {
     "data": {
      "text/html": [
       "<div>\n",
       "<table border=\"1\" class=\"dataframe\">\n",
       "  <thead>\n",
       "    <tr style=\"text-align: right;\">\n",
       "      <th>overall</th>\n",
       "      <th>1</th>\n",
       "      <th>2</th>\n",
       "      <th>3</th>\n",
       "      <th>4</th>\n",
       "      <th>5</th>\n",
       "    </tr>\n",
       "    <tr>\n",
       "      <th>unixReviewTime</th>\n",
       "      <th></th>\n",
       "      <th></th>\n",
       "      <th></th>\n",
       "      <th></th>\n",
       "      <th></th>\n",
       "    </tr>\n",
       "  </thead>\n",
       "  <tbody>\n",
       "    <tr>\n",
       "      <th>1996</th>\n",
       "      <td>1</td>\n",
       "      <td>2</td>\n",
       "      <td>1</td>\n",
       "      <td>6</td>\n",
       "      <td>15</td>\n",
       "    </tr>\n",
       "    <tr>\n",
       "      <th>1997</th>\n",
       "      <td>80</td>\n",
       "      <td>132</td>\n",
       "      <td>174</td>\n",
       "      <td>466</td>\n",
       "      <td>1189</td>\n",
       "    </tr>\n",
       "    <tr>\n",
       "      <th>1998</th>\n",
       "      <td>509</td>\n",
       "      <td>554</td>\n",
       "      <td>858</td>\n",
       "      <td>2171</td>\n",
       "      <td>5639</td>\n",
       "    </tr>\n",
       "    <tr>\n",
       "      <th>1999</th>\n",
       "      <td>1185</td>\n",
       "      <td>1256</td>\n",
       "      <td>2010</td>\n",
       "      <td>3962</td>\n",
       "      <td>11161</td>\n",
       "    </tr>\n",
       "    <tr>\n",
       "      <th>2000</th>\n",
       "      <td>3628</td>\n",
       "      <td>4566</td>\n",
       "      <td>9537</td>\n",
       "      <td>21545</td>\n",
       "      <td>48579</td>\n",
       "    </tr>\n",
       "    <tr>\n",
       "      <th>2001</th>\n",
       "      <td>3879</td>\n",
       "      <td>5027</td>\n",
       "      <td>10999</td>\n",
       "      <td>24994</td>\n",
       "      <td>52169</td>\n",
       "    </tr>\n",
       "    <tr>\n",
       "      <th>2002</th>\n",
       "      <td>4196</td>\n",
       "      <td>5451</td>\n",
       "      <td>11468</td>\n",
       "      <td>26315</td>\n",
       "      <td>53598</td>\n",
       "    </tr>\n",
       "    <tr>\n",
       "      <th>2003</th>\n",
       "      <td>4998</td>\n",
       "      <td>6015</td>\n",
       "      <td>12046</td>\n",
       "      <td>26187</td>\n",
       "      <td>55083</td>\n",
       "    </tr>\n",
       "    <tr>\n",
       "      <th>2004</th>\n",
       "      <td>6930</td>\n",
       "      <td>7423</td>\n",
       "      <td>14025</td>\n",
       "      <td>30916</td>\n",
       "      <td>63540</td>\n",
       "    </tr>\n",
       "    <tr>\n",
       "      <th>2005</th>\n",
       "      <td>10699</td>\n",
       "      <td>10592</td>\n",
       "      <td>19111</td>\n",
       "      <td>39332</td>\n",
       "      <td>83772</td>\n",
       "    </tr>\n",
       "    <tr>\n",
       "      <th>2006</th>\n",
       "      <td>10998</td>\n",
       "      <td>11549</td>\n",
       "      <td>21408</td>\n",
       "      <td>45010</td>\n",
       "      <td>100313</td>\n",
       "    </tr>\n",
       "    <tr>\n",
       "      <th>2007</th>\n",
       "      <td>12076</td>\n",
       "      <td>13780</td>\n",
       "      <td>26480</td>\n",
       "      <td>55339</td>\n",
       "      <td>129731</td>\n",
       "    </tr>\n",
       "    <tr>\n",
       "      <th>2008</th>\n",
       "      <td>14334</td>\n",
       "      <td>17224</td>\n",
       "      <td>32095</td>\n",
       "      <td>66786</td>\n",
       "      <td>144166</td>\n",
       "    </tr>\n",
       "    <tr>\n",
       "      <th>2009</th>\n",
       "      <td>17823</td>\n",
       "      <td>21785</td>\n",
       "      <td>43375</td>\n",
       "      <td>87538</td>\n",
       "      <td>178505</td>\n",
       "    </tr>\n",
       "    <tr>\n",
       "      <th>2010</th>\n",
       "      <td>20098</td>\n",
       "      <td>24766</td>\n",
       "      <td>50824</td>\n",
       "      <td>107593</td>\n",
       "      <td>209900</td>\n",
       "    </tr>\n",
       "    <tr>\n",
       "      <th>2011</th>\n",
       "      <td>28051</td>\n",
       "      <td>34238</td>\n",
       "      <td>71332</td>\n",
       "      <td>155307</td>\n",
       "      <td>303035</td>\n",
       "    </tr>\n",
       "    <tr>\n",
       "      <th>2012</th>\n",
       "      <td>46639</td>\n",
       "      <td>57146</td>\n",
       "      <td>129712</td>\n",
       "      <td>304333</td>\n",
       "      <td>638080</td>\n",
       "    </tr>\n",
       "    <tr>\n",
       "      <th>2013</th>\n",
       "      <td>83770</td>\n",
       "      <td>119583</td>\n",
       "      <td>309121</td>\n",
       "      <td>748621</td>\n",
       "      <td>1721386</td>\n",
       "    </tr>\n",
       "    <tr>\n",
       "      <th>2014</th>\n",
       "      <td>53825</td>\n",
       "      <td>73888</td>\n",
       "      <td>190354</td>\n",
       "      <td>476151</td>\n",
       "      <td>1179897</td>\n",
       "    </tr>\n",
       "  </tbody>\n",
       "</table>\n",
       "</div>"
      ],
      "text/plain": [
       "overall             1       2       3       4        5\n",
       "unixReviewTime                                        \n",
       "1996                1       2       1       6       15\n",
       "1997               80     132     174     466     1189\n",
       "1998              509     554     858    2171     5639\n",
       "1999             1185    1256    2010    3962    11161\n",
       "2000             3628    4566    9537   21545    48579\n",
       "2001             3879    5027   10999   24994    52169\n",
       "2002             4196    5451   11468   26315    53598\n",
       "2003             4998    6015   12046   26187    55083\n",
       "2004             6930    7423   14025   30916    63540\n",
       "2005            10699   10592   19111   39332    83772\n",
       "2006            10998   11549   21408   45010   100313\n",
       "2007            12076   13780   26480   55339   129731\n",
       "2008            14334   17224   32095   66786   144166\n",
       "2009            17823   21785   43375   87538   178505\n",
       "2010            20098   24766   50824  107593   209900\n",
       "2011            28051   34238   71332  155307   303035\n",
       "2012            46639   57146  129712  304333   638080\n",
       "2013            83770  119583  309121  748621  1721386\n",
       "2014            53825   73888  190354  476151  1179897"
      ]
     },
     "execution_count": 111,
     "metadata": {},
     "output_type": "execute_result"
    }
   ],
   "source": [
    "year = df.groupby([df.unixReviewTime.dt.year, df.overall]).size()\n",
    "year = year.unstack().fillna(0)\n",
    "year"
   ]
  },
  {
   "cell_type": "code",
   "execution_count": 119,
   "metadata": {
    "collapsed": false
   },
   "outputs": [
    {
     "data": {
      "text/plain": [
       "<matplotlib.text.Text at 0x75f68710>"
      ]
     },
     "execution_count": 119,
     "metadata": {},
     "output_type": "execute_result"
    },
    {
     "data": {
      "image/png": "[encoded data removed]",
      "text/plain": [
       "<matplotlib.figure.Figure at 0x49e27198>"
      ]
     },
     "metadata": {},
     "output_type": "display_data"
    }
   ],
   "source": [
    "year.plot(linewidth = 2)\n",
    "plt.xlabel('Year')"
   ]
  },
  {
   "cell_type": "markdown",
   "metadata": {
    "collapsed": true
   },
   "source": [
    "### Summary\n",
    "\n",
    "1. Overall ratings are mostly 4 & 5 stars.\n",
    "2. A sharp increase is observed in 2013.\n",
    "3. 25 most popular books (in terms of number of reviews) are listed.\n",
    "4. 25 reviewers with most numbers of reviews are identified; someone has written 23000 reviews!! We will see their helpfulness ratings in the next notebook(s).\n",
    "5. While 1996 had only 25 book reviews, a 3 million reviews were written in 2013, which is also ~2 million more than the previous year. What happened in 2013?\n",
    "6. Overall rating follows 5>4>3>2>1 trend over the years, 5 being the most given rating."
   ]
  },
  {
   "cell_type": "code",
   "execution_count": null,
   "metadata": {
    "collapsed": true
   },
   "outputs": [],
   "source": []
  }
 ],
 "metadata": {
  "anaconda-cloud": {},
  "kernelspec": {
   "display_name": "Python [conda root]",
   "language": "python",
   "name": "conda-root-py"
  },
  "language_info": {
   "codemirror_mode": {
    "name": "ipython",
    "version": 2
   },
   "file_extension": ".py",
   "mimetype": "text/x-python",
   "name": "python",
   "nbconvert_exporter": "python",
   "pygments_lexer": "ipython2",
   "version": "2.7.12"
  }
 },
 "nbformat": 4,
 "nbformat_minor": 1
}
