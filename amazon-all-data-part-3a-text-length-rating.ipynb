{
 "cells": [
  {
   "cell_type": "code",
   "execution_count": 2,
   "metadata": {
    "collapsed": true
   },
   "outputs": [],
   "source": [
    "import pandas as pd\n",
    "import numpy as np\n",
    "import matplotlib.pyplot as plt\n",
    "import seaborn as sns\n",
    "from pandas.io import gbq\n",
    "%matplotlib inline"
   ]
  },
  {
   "cell_type": "code",
   "execution_count": 3,
   "metadata": {
    "collapsed": true
   },
   "outputs": [],
   "source": [
    "query1 = \"SELECT overall, wordLength FROM amazon_book_small.help_length \\\n",
    "WHERE unixReviewTime >= '1996-01-01 00:00:00 UTC' AND unixReviewTime < '2012-01-01 00:00:00 UTC'\""
   ]
  },
  {
   "cell_type": "code",
   "execution_count": 4,
   "metadata": {
    "collapsed": true
   },
   "outputs": [],
   "source": [
    "project_id = 'dotted-chiller-156222'"
   ]
  },
  {
   "cell_type": "code",
   "execution_count": 5,
   "metadata": {
    "collapsed": true
   },
   "outputs": [
    {
     "name": "stdout",
     "output_type": "stream",
     "text": [
      "Requesting query... ok.\n",
      "Query running...\n",
      "  Elapsed 13.93 s. Waiting...\n",
      "Query done.\n",
      "Processed: 203.7 Mb\n",
      "\n",
      "Retrieving results...\n",
      "  Got page: 1; 4.0% done. Elapsed 28.08 s.\n",
      "  Got page: 2; 7.0% done. Elapsed 31.34 s.\n",
      "  Got page: 3; 11.0% done. Elapsed 35.52 s.\n",
      "  Got page: 4; 14.0% done. Elapsed 40.95 s.\n",
      "  Got page: 5; 18.0% done. Elapsed 44.6 s.\n",
      "  Got page: 6; 22.0% done. Elapsed 48.74 s.\n",
      "  Got page: 7; 25.0% done. Elapsed 52.94 s.\n",
      "  Got page: 8; 29.0% done. Elapsed 57.51 s.\n",
      "  Got page: 9; 33.0% done. Elapsed 61.23 s.\n",
      "  Got page: 10; 36.0% done. Elapsed 65.17 s.\n",
      "  Got page: 11; 40.0% done. Elapsed 69.03 s.\n",
      "  Got page: 12; 43.0% done. Elapsed 72.7 s.\n",
      "  Got page: 13; 47.0% done. Elapsed 76.75 s.\n",
      "  Got page: 14; 51.0% done. Elapsed 80.09 s.\n",
      "  Got page: 15; 54.0% done. Elapsed 84.8 s.\n",
      "  Got page: 16; 58.0% done. Elapsed 89.19 s.\n",
      "  Got page: 17; 61.0% done. Elapsed 92.57 s.\n",
      "  Got page: 18; 65.0% done. Elapsed 96.04 s.\n",
      "  Got page: 19; 69.0% done. Elapsed 100.35 s.\n",
      "  Got page: 20; 72.0% done. Elapsed 104.7 s.\n",
      "  Got page: 21; 76.0% done. Elapsed 108.94 s.\n",
      "  Got page: 22; 80.0% done. Elapsed 113.18 s.\n",
      "  Got page: 23; 83.0% done. Elapsed 116.41 s.\n",
      "  Got page: 24; 87.0% done. Elapsed 119.81 s.\n",
      "  Got page: 25; 90.0% done. Elapsed 124.72 s.\n",
      "  Got page: 26; 94.0% done. Elapsed 129.7 s.\n",
      "  Got page: 27; 98.0% done. Elapsed 133.93 s.\n",
      "  Got page: 28; 100.0% done. Elapsed 136.47 s.\n",
      "Got 2765535 rows.\n",
      "\n",
      "Total time taken 155.73 s.\n",
      "Finished at 2017-01-28 10:25:14.\n"
     ]
    }
   ],
   "source": [
    "da = gbq.read_gbq(query1, project_id=project_id)"
   ]
  },
  {
   "cell_type": "code",
   "execution_count": 6,
   "metadata": {
    "collapsed": false
   },
   "outputs": [
    {
     "data": {
      "text/html": [
       "<div>\n",
       "<table border=\"1\" class=\"dataframe\">\n",
       "  <thead>\n",
       "    <tr style=\"text-align: right;\">\n",
       "      <th></th>\n",
       "      <th>overall</th>\n",
       "      <th>wordLength</th>\n",
       "    </tr>\n",
       "  </thead>\n",
       "  <tbody>\n",
       "    <tr>\n",
       "      <th>0</th>\n",
       "      <td>5</td>\n",
       "      <td>663</td>\n",
       "    </tr>\n",
       "  </tbody>\n",
       "</table>\n",
       "</div>"
      ],
      "text/plain": [
       "   overall  wordLength\n",
       "0        5         663"
      ]
     },
     "execution_count": 6,
     "metadata": {},
     "output_type": "execute_result"
    }
   ],
   "source": [
    "da.head(1)"
   ]
  },
  {
   "cell_type": "code",
   "execution_count": 7,
   "metadata": {
    "collapsed": true
   },
   "outputs": [],
   "source": [
    "query2 = \"SELECT overall, wordLength FROM amazon_book_small.help_length \\\n",
    "WHERE unixReviewTime >= '2012-01-02 00:00:00 UTC' AND unixReviewTime < '2015-01-01 00:00:00 UTC'\""
   ]
  },
  {
   "cell_type": "code",
   "execution_count": 8,
   "metadata": {
    "collapsed": true
   },
   "outputs": [
    {
     "name": "stdout",
     "output_type": "stream",
     "text": [
      "Requesting query... ok.\n",
      "Query running...\n",
      "  Elapsed 11.76 s. Waiting...\n",
      "Query done.\n",
      "Processed: 203.7 Mb\n",
      "\n",
      "Retrieving results...\n",
      "  Got page: 1; 2.0% done. Elapsed 20.18 s.\n",
      "  Got page: 2; 3.0% done. Elapsed 24.48 s.\n",
      "  Got page: 3; 5.0% done. Elapsed 28.69 s.\n",
      "  Got page: 4; 7.0% done. Elapsed 33.33 s.\n",
      "  Got page: 5; 8.0% done. Elapsed 37.66 s.\n",
      "  Got page: 6; 10.0% done. Elapsed 42.38 s.\n",
      "  Got page: 7; 11.0% done. Elapsed 46.09 s.\n",
      "  Got page: 8; 13.0% done. Elapsed 49.88 s.\n",
      "  Got page: 9; 15.0% done. Elapsed 54.38 s.\n",
      "  Got page: 10; 16.0% done. Elapsed 58.89 s.\n",
      "  Got page: 11; 18.0% done. Elapsed 63.07 s.\n",
      "  Got page: 12; 20.0% done. Elapsed 66.91 s.\n",
      "  Got page: 13; 21.0% done. Elapsed 71.2 s.\n",
      "  Got page: 14; 23.0% done. Elapsed 74.88 s.\n",
      "  Got page: 15; 24.0% done. Elapsed 78.6 s.\n",
      "  Got page: 16; 26.0% done. Elapsed 83.51 s.\n",
      "  Got page: 17; 28.0% done. Elapsed 87.71 s.\n",
      "  Got page: 18; 29.0% done. Elapsed 91.45 s.\n",
      "  Got page: 19; 31.0% done. Elapsed 95.57 s.\n",
      "  Got page: 20; 33.0% done. Elapsed 98.76 s.\n",
      "  Got page: 21; 34.0% done. Elapsed 103.55 s.\n",
      "  Got page: 22; 36.0% done. Elapsed 106.83 s.\n",
      "  Got page: 23; 38.0% done. Elapsed 110.46 s.\n",
      "  Got page: 24; 39.0% done. Elapsed 114.4 s.\n",
      "  Got page: 25; 41.0% done. Elapsed 118.29 s.\n",
      "  Got page: 26; 42.0% done. Elapsed 123.32 s.\n",
      "  Got page: 27; 44.0% done. Elapsed 127.3 s.\n",
      "  Got page: 28; 46.0% done. Elapsed 131.6 s.\n",
      "  Got page: 29; 47.0% done. Elapsed 135.51 s.\n",
      "  Got page: 30; 49.0% done. Elapsed 138.77 s.\n",
      "  Got page: 31; 51.0% done. Elapsed 142.67 s.\n",
      "  Got page: 32; 52.0% done. Elapsed 146.11 s.\n",
      "  Got page: 33; 54.0% done. Elapsed 152.27 s.\n",
      "  Got page: 34; 55.0% done. Elapsed 156.19 s.\n",
      "  Got page: 35; 57.0% done. Elapsed 160.48 s.\n",
      "  Got page: 36; 59.0% done. Elapsed 164.37 s.\n",
      "  Got page: 37; 60.0% done. Elapsed 168.05 s.\n",
      "  Got page: 38; 62.0% done. Elapsed 172.36 s.\n",
      "  Got page: 39; 64.0% done. Elapsed 176.71 s.\n",
      "  Got page: 40; 65.0% done. Elapsed 180.75 s.\n",
      "  Got page: 41; 67.0% done. Elapsed 186.82 s.\n",
      "  Got page: 42; 69.0% done. Elapsed 191.83 s.\n",
      "  Got page: 43; 70.0% done. Elapsed 195.15 s.\n",
      "  Got page: 44; 72.0% done. Elapsed 198.81 s.\n",
      "  Got page: 45; 73.0% done. Elapsed 202.9 s.\n",
      "  Got page: 46; 75.0% done. Elapsed 207.2 s.\n",
      "  Got page: 47; 77.0% done. Elapsed 211.68 s.\n",
      "  Got page: 48; 78.0% done. Elapsed 215.37 s.\n",
      "  Got page: 49; 80.0% done. Elapsed 218.67 s.\n",
      "  Got page: 50; 82.0% done. Elapsed 223.01 s.\n",
      "  Got page: 51; 83.0% done. Elapsed 229.7 s.\n",
      "  Got page: 52; 85.0% done. Elapsed 234.03 s.\n",
      "  Got page: 53; 86.0% done. Elapsed 238.94 s.\n",
      "  Got page: 54; 88.0% done. Elapsed 245.81 s.\n",
      "  Got page: 55; 90.0% done. Elapsed 251.0 s.\n",
      "  Got page: 56; 91.0% done. Elapsed 255.28 s.\n",
      "  Got page: 57; 93.0% done. Elapsed 258.94 s.\n",
      "  Got page: 58; 95.0% done. Elapsed 263.91 s.\n",
      "  Got page: 59; 96.0% done. Elapsed 268.07 s.\n",
      "  Got page: 60; 98.0% done. Elapsed 271.71 s.\n",
      "  Got page: 61; 100.0% done. Elapsed 275.69 s.\n",
      "  Got page: 62; 100.0% done. Elapsed 277.2 s.\n",
      "Got 6130337 rows.\n",
      "\n",
      "Total time taken 326.26 s.\n",
      "Finished at 2017-01-28 10:34:08.\n"
     ]
    }
   ],
   "source": [
    "db = gbq.read_gbq(query2, project_id=project_id)"
   ]
  },
  {
   "cell_type": "code",
   "execution_count": 9,
   "metadata": {
    "collapsed": false
   },
   "outputs": [
    {
     "data": {
      "text/html": [
       "<div>\n",
       "<table border=\"1\" class=\"dataframe\">\n",
       "  <thead>\n",
       "    <tr style=\"text-align: right;\">\n",
       "      <th></th>\n",
       "      <th>overall</th>\n",
       "      <th>wordLength</th>\n",
       "    </tr>\n",
       "  </thead>\n",
       "  <tbody>\n",
       "    <tr>\n",
       "      <th>0</th>\n",
       "      <td>5</td>\n",
       "      <td>64</td>\n",
       "    </tr>\n",
       "  </tbody>\n",
       "</table>\n",
       "</div>"
      ],
      "text/plain": [
       "   overall  wordLength\n",
       "0        5          64"
      ]
     },
     "execution_count": 9,
     "metadata": {},
     "output_type": "execute_result"
    }
   ],
   "source": [
    "db.head(1)"
   ]
  },
  {
   "cell_type": "code",
   "execution_count": 10,
   "metadata": {
    "collapsed": false
   },
   "outputs": [
    {
     "data": {
      "text/plain": [
       "(8895872, 2)"
      ]
     },
     "execution_count": 10,
     "metadata": {},
     "output_type": "execute_result"
    }
   ],
   "source": [
    "df = pd.concat([da, db])\n",
    "df.shape"
   ]
  },
  {
   "cell_type": "code",
   "execution_count": 11,
   "metadata": {
    "collapsed": false
   },
   "outputs": [
    {
     "data": {
      "text/plain": [
       "<matplotlib.axes._subplots.AxesSubplot at 0x278f3c8>"
      ]
     },
     "execution_count": 11,
     "metadata": {},
     "output_type": "execute_result"
    },
    {
     "data": {
      "image/png": "[encoded data removed]",
      "text/plain": [
       "<matplotlib.figure.Figure at 0x278f710>"
      ]
     },
     "metadata": {},
     "output_type": "display_data"
    }
   ],
   "source": [
    "sns.regplot(df.overall, df.wordLength, fit_reg=False)"
   ]
  },
  {
   "cell_type": "code",
   "execution_count": 13,
   "metadata": {
    "collapsed": false
   },
   "outputs": [
    {
     "data": {
      "text/plain": [
       "(-200, 7000)"
      ]
     },
     "execution_count": 13,
     "metadata": {},
     "output_type": "execute_result"
    },
    {
     "data": {
      "image/png": "[encoded data removed]",
      "text/plain": [
       "<matplotlib.figure.Figure at 0xd2f56c18>"
      ]
     },
     "metadata": {},
     "output_type": "display_data"
    }
   ],
   "source": [
    "plt.scatter(df.overall, df.wordLength, alpha = 0.5)\n",
    "plt.xlabel('Rating (star)')\n",
    "plt.ylabel('Review Text Length (words)')\n",
    "plt.xlim([0.8, 5.2])\n",
    "plt.ylim([-200, 7000])"
   ]
  },
  {
   "cell_type": "code",
   "execution_count": 14,
   "metadata": {
    "collapsed": false
   },
   "outputs": [
    {
     "data": {
      "text/html": [
       "<div>\n",
       "<table border=\"1\" class=\"dataframe\">\n",
       "  <thead>\n",
       "    <tr style=\"text-align: right;\">\n",
       "      <th></th>\n",
       "      <th>overall</th>\n",
       "      <th>wordLength</th>\n",
       "    </tr>\n",
       "  </thead>\n",
       "  <tbody>\n",
       "    <tr>\n",
       "      <th>count</th>\n",
       "      <td>8.895872e+06</td>\n",
       "      <td>8.895872e+06</td>\n",
       "    </tr>\n",
       "    <tr>\n",
       "      <th>mean</th>\n",
       "      <td>4.249978e+00</td>\n",
       "      <td>1.467505e+02</td>\n",
       "    </tr>\n",
       "    <tr>\n",
       "      <th>std</th>\n",
       "      <td>1.057696e+00</td>\n",
       "      <td>1.798206e+02</td>\n",
       "    </tr>\n",
       "    <tr>\n",
       "      <th>min</th>\n",
       "      <td>1.000000e+00</td>\n",
       "      <td>1.000000e+00</td>\n",
       "    </tr>\n",
       "    <tr>\n",
       "      <th>25%</th>\n",
       "      <td>4.000000e+00</td>\n",
       "      <td>3.600000e+01</td>\n",
       "    </tr>\n",
       "    <tr>\n",
       "      <th>50%</th>\n",
       "      <td>5.000000e+00</td>\n",
       "      <td>8.000000e+01</td>\n",
       "    </tr>\n",
       "    <tr>\n",
       "      <th>75%</th>\n",
       "      <td>5.000000e+00</td>\n",
       "      <td>1.890000e+02</td>\n",
       "    </tr>\n",
       "    <tr>\n",
       "      <th>max</th>\n",
       "      <td>5.000000e+00</td>\n",
       "      <td>6.203000e+03</td>\n",
       "    </tr>\n",
       "  </tbody>\n",
       "</table>\n",
       "</div>"
      ],
      "text/plain": [
       "            overall    wordLength\n",
       "count  8.895872e+06  8.895872e+06\n",
       "mean   4.249978e+00  1.467505e+02\n",
       "std    1.057696e+00  1.798206e+02\n",
       "min    1.000000e+00  1.000000e+00\n",
       "25%    4.000000e+00  3.600000e+01\n",
       "50%    5.000000e+00  8.000000e+01\n",
       "75%    5.000000e+00  1.890000e+02\n",
       "max    5.000000e+00  6.203000e+03"
      ]
     },
     "execution_count": 14,
     "metadata": {},
     "output_type": "execute_result"
    }
   ],
   "source": [
    "df.describe()"
   ]
  },
  {
   "cell_type": "code",
   "execution_count": 15,
   "metadata": {
    "collapsed": false
   },
   "outputs": [
    {
     "data": {
      "text/html": [
       "<div>\n",
       "<table border=\"1\" class=\"dataframe\">\n",
       "  <thead>\n",
       "    <tr style=\"text-align: right;\">\n",
       "      <th></th>\n",
       "      <th></th>\n",
       "      <th>wordLength</th>\n",
       "    </tr>\n",
       "    <tr>\n",
       "      <th>overall</th>\n",
       "      <th></th>\n",
       "      <th></th>\n",
       "    </tr>\n",
       "  </thead>\n",
       "  <tbody>\n",
       "    <tr>\n",
       "      <th rowspan=\"8\" valign=\"top\">1</th>\n",
       "      <th>count</th>\n",
       "      <td>3.237090e+05</td>\n",
       "    </tr>\n",
       "    <tr>\n",
       "      <th>mean</th>\n",
       "      <td>1.545658e+02</td>\n",
       "    </tr>\n",
       "    <tr>\n",
       "      <th>std</th>\n",
       "      <td>2.188239e+02</td>\n",
       "    </tr>\n",
       "    <tr>\n",
       "      <th>min</th>\n",
       "      <td>1.000000e+00</td>\n",
       "    </tr>\n",
       "    <tr>\n",
       "      <th>25%</th>\n",
       "      <td>4.300000e+01</td>\n",
       "    </tr>\n",
       "    <tr>\n",
       "      <th>50%</th>\n",
       "      <td>8.900000e+01</td>\n",
       "    </tr>\n",
       "    <tr>\n",
       "      <th>75%</th>\n",
       "      <td>1.790000e+02</td>\n",
       "    </tr>\n",
       "    <tr>\n",
       "      <th>max</th>\n",
       "      <td>6.140000e+03</td>\n",
       "    </tr>\n",
       "    <tr>\n",
       "      <th rowspan=\"8\" valign=\"top\">2</th>\n",
       "      <th>count</th>\n",
       "      <td>4.149600e+05</td>\n",
       "    </tr>\n",
       "    <tr>\n",
       "      <th>mean</th>\n",
       "      <td>1.696557e+02</td>\n",
       "    </tr>\n",
       "    <tr>\n",
       "      <th>std</th>\n",
       "      <td>2.012392e+02</td>\n",
       "    </tr>\n",
       "    <tr>\n",
       "      <th>min</th>\n",
       "      <td>1.000000e+00</td>\n",
       "    </tr>\n",
       "    <tr>\n",
       "      <th>25%</th>\n",
       "      <td>4.800000e+01</td>\n",
       "    </tr>\n",
       "    <tr>\n",
       "      <th>50%</th>\n",
       "      <td>1.040000e+02</td>\n",
       "    </tr>\n",
       "    <tr>\n",
       "      <th>75%</th>\n",
       "      <td>2.140000e+02</td>\n",
       "    </tr>\n",
       "    <tr>\n",
       "      <th>max</th>\n",
       "      <td>6.071000e+03</td>\n",
       "    </tr>\n",
       "    <tr>\n",
       "      <th rowspan=\"8\" valign=\"top\">3</th>\n",
       "      <th>count</th>\n",
       "      <td>9.549210e+05</td>\n",
       "    </tr>\n",
       "    <tr>\n",
       "      <th>mean</th>\n",
       "      <td>1.703526e+02</td>\n",
       "    </tr>\n",
       "    <tr>\n",
       "      <th>std</th>\n",
       "      <td>1.929657e+02</td>\n",
       "    </tr>\n",
       "    <tr>\n",
       "      <th>min</th>\n",
       "      <td>1.000000e+00</td>\n",
       "    </tr>\n",
       "    <tr>\n",
       "      <th>25%</th>\n",
       "      <td>4.200000e+01</td>\n",
       "    </tr>\n",
       "    <tr>\n",
       "      <th>50%</th>\n",
       "      <td>1.030000e+02</td>\n",
       "    </tr>\n",
       "    <tr>\n",
       "      <th>75%</th>\n",
       "      <td>2.300000e+02</td>\n",
       "    </tr>\n",
       "    <tr>\n",
       "      <th>max</th>\n",
       "      <td>5.993000e+03</td>\n",
       "    </tr>\n",
       "    <tr>\n",
       "      <th rowspan=\"8\" valign=\"top\">4</th>\n",
       "      <th>count</th>\n",
       "      <td>2.222542e+06</td>\n",
       "    </tr>\n",
       "    <tr>\n",
       "      <th>mean</th>\n",
       "      <td>1.651373e+02</td>\n",
       "    </tr>\n",
       "    <tr>\n",
       "      <th>std</th>\n",
       "      <td>1.859895e+02</td>\n",
       "    </tr>\n",
       "    <tr>\n",
       "      <th>min</th>\n",
       "      <td>1.000000e+00</td>\n",
       "    </tr>\n",
       "    <tr>\n",
       "      <th>25%</th>\n",
       "      <td>3.900000e+01</td>\n",
       "    </tr>\n",
       "    <tr>\n",
       "      <th>50%</th>\n",
       "      <td>9.600000e+01</td>\n",
       "    </tr>\n",
       "    <tr>\n",
       "      <th>75%</th>\n",
       "      <td>2.290000e+02</td>\n",
       "    </tr>\n",
       "    <tr>\n",
       "      <th>max</th>\n",
       "      <td>6.203000e+03</td>\n",
       "    </tr>\n",
       "    <tr>\n",
       "      <th rowspan=\"8\" valign=\"top\">5</th>\n",
       "      <th>count</th>\n",
       "      <td>4.979740e+06</td>\n",
       "    </tr>\n",
       "    <tr>\n",
       "      <th>mean</th>\n",
       "      <td>1.316014e+02</td>\n",
       "    </tr>\n",
       "    <tr>\n",
       "      <th>std</th>\n",
       "      <td>1.678180e+02</td>\n",
       "    </tr>\n",
       "    <tr>\n",
       "      <th>min</th>\n",
       "      <td>1.000000e+00</td>\n",
       "    </tr>\n",
       "    <tr>\n",
       "      <th>25%</th>\n",
       "      <td>3.400000e+01</td>\n",
       "    </tr>\n",
       "    <tr>\n",
       "      <th>50%</th>\n",
       "      <td>6.900000e+01</td>\n",
       "    </tr>\n",
       "    <tr>\n",
       "      <th>75%</th>\n",
       "      <td>1.600000e+02</td>\n",
       "    </tr>\n",
       "    <tr>\n",
       "      <th>max</th>\n",
       "      <td>5.664000e+03</td>\n",
       "    </tr>\n",
       "  </tbody>\n",
       "</table>\n",
       "</div>"
      ],
      "text/plain": [
       "                 wordLength\n",
       "overall                    \n",
       "1       count  3.237090e+05\n",
       "        mean   1.545658e+02\n",
       "        std    2.188239e+02\n",
       "        min    1.000000e+00\n",
       "        25%    4.300000e+01\n",
       "        50%    8.900000e+01\n",
       "        75%    1.790000e+02\n",
       "        max    6.140000e+03\n",
       "2       count  4.149600e+05\n",
       "        mean   1.696557e+02\n",
       "        std    2.012392e+02\n",
       "        min    1.000000e+00\n",
       "        25%    4.800000e+01\n",
       "        50%    1.040000e+02\n",
       "        75%    2.140000e+02\n",
       "        max    6.071000e+03\n",
       "3       count  9.549210e+05\n",
       "        mean   1.703526e+02\n",
       "        std    1.929657e+02\n",
       "        min    1.000000e+00\n",
       "        25%    4.200000e+01\n",
       "        50%    1.030000e+02\n",
       "        75%    2.300000e+02\n",
       "        max    5.993000e+03\n",
       "4       count  2.222542e+06\n",
       "        mean   1.651373e+02\n",
       "        std    1.859895e+02\n",
       "        min    1.000000e+00\n",
       "        25%    3.900000e+01\n",
       "        50%    9.600000e+01\n",
       "        75%    2.290000e+02\n",
       "        max    6.203000e+03\n",
       "5       count  4.979740e+06\n",
       "        mean   1.316014e+02\n",
       "        std    1.678180e+02\n",
       "        min    1.000000e+00\n",
       "        25%    3.400000e+01\n",
       "        50%    6.900000e+01\n",
       "        75%    1.600000e+02\n",
       "        max    5.664000e+03"
      ]
     },
     "execution_count": 15,
     "metadata": {},
     "output_type": "execute_result"
    }
   ],
   "source": [
    "a = df.groupby('overall')\n",
    "a.describe()"
   ]
  },
  {
   "cell_type": "code",
   "execution_count": 17,
   "metadata": {
    "collapsed": false
   },
   "outputs": [
    {
     "data": {
      "text/plain": [
       "<matplotlib.text.Text at 0x15443d240>"
      ]
     },
     "execution_count": 17,
     "metadata": {},
     "output_type": "execute_result"
    },
    {
     "data": {
      "image/png": "[encoded data removed]",
      "text/plain": [
       "<matplotlib.figure.Figure at 0x1b33032e8>"
      ]
     },
     "metadata": {},
     "output_type": "display_data"
    }
   ],
   "source": [
    "plt.figure(figsize=(8, 6)) \n",
    "sns.boxplot(y=\"wordLength\", x=\"overall\", data=df, linewidth= 1)\n",
    "sns.despine(left=True)\n",
    "plt.ylim([-100, 7000])\n",
    "plt.xlabel('Rating (star)')\n",
    "plt.ylabel('Review Text Length (words)')\n",
    "plt.title('Review text length vs. star rating')"
   ]
  },
  {
   "cell_type": "code",
   "execution_count": 20,
   "metadata": {
    "collapsed": false
   },
   "outputs": [
    {
     "data": {
      "text/plain": [
       "<matplotlib.text.Text at 0x1ecfdcf8>"
      ]
     },
     "execution_count": 20,
     "metadata": {},
     "output_type": "execute_result"
    },
    {
     "data": {
      "image/png": "[encoded data removed]",
      "text/plain": [
       "<matplotlib.figure.Figure at 0x1b32f8e48>"
      ]
     },
     "metadata": {},
     "output_type": "display_data"
    }
   ],
   "source": [
    "#plt.figure(figsize=(8, 6)) \n",
    "sns.boxplot(y=\"wordLength\", x=\"overall\", data=df, showfliers=False, width = 0.6)\n",
    "sns.despine(left=True)\n",
    "plt.xlabel('Rating (star)')\n",
    "plt.ylim([-20, 600])\n",
    "plt.ylabel('Review Text Length (words)')\n",
    "plt.title('Review text length vs. star rating')"
   ]
  },
  {
   "cell_type": "code",
   "execution_count": null,
   "metadata": {
    "collapsed": true
   },
   "outputs": [],
   "source": []
  }
 ],
 "metadata": {
  "anaconda-cloud": {},
  "kernelspec": {
   "display_name": "Python [conda root]",
   "language": "python",
   "name": "conda-root-py"
  },
  "language_info": {
   "codemirror_mode": {
    "name": "ipython",
    "version": 2
   },
   "file_extension": ".py",
   "mimetype": "text/x-python",
   "name": "python",
   "nbconvert_exporter": "python",
   "pygments_lexer": "ipython2",
   "version": "2.7.12"
  }
 },
 "nbformat": 4,
 "nbformat_minor": 1
}
