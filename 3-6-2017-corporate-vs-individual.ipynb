{
 "cells": [
  {
   "cell_type": "markdown",
   "metadata": {},
   "source": [
    "### Amazon Book Reviews: Review of the top 50 reviewers: Clustering and feature selection from review text\n",
    "\n",
    "The original dataset has ~9 million reviews: http://jmcauley.ucsd.edu/data/amazon/.  I have created a subset which contains data of reviewers who have done maximum number of reviews. I did an EDA on the dataset in part I of this notebook. I noticed that some reviewers sound like a corporate name, e.g., Midwest Book Reviews whereas others are individual personnel, e.g., Harriet Klausner. Here we will see if we can differentiate between corporate and individual accounts by reviewing their review texts."
   ]
  },
  {
   "cell_type": "code",
   "execution_count": 1,
   "metadata": {
    "collapsed": true
   },
   "outputs": [],
   "source": [
    "import pandas as pd\n",
    "import numpy as np\n",
    "import matplotlib.pyplot as plt\n",
    "import seaborn as sns\n",
    "%matplotlib inline"
   ]
  },
  {
   "cell_type": "code",
   "execution_count": 2,
   "metadata": {
    "collapsed": true
   },
   "outputs": [],
   "source": [
    "df = pd.read_csv('top50reviews.csv')"
   ]
  },
  {
   "cell_type": "code",
   "execution_count": 3,
   "metadata": {
    "collapsed": false
   },
   "outputs": [
    {
     "data": {
      "text/html": [
       "<div>\n",
       "<table border=\"1\" class=\"dataframe\">\n",
       "  <thead>\n",
       "    <tr style=\"text-align: right;\">\n",
       "      <th></th>\n",
       "      <th>reviewerID</th>\n",
       "      <th>reviewerName</th>\n",
       "      <th>asin</th>\n",
       "      <th>helpfulVote</th>\n",
       "      <th>totalVote</th>\n",
       "      <th>unixReviewTime</th>\n",
       "      <th>reviewText</th>\n",
       "      <th>wordLength</th>\n",
       "      <th>overall</th>\n",
       "      <th>summary</th>\n",
       "    </tr>\n",
       "  </thead>\n",
       "  <tbody>\n",
       "    <tr>\n",
       "      <th>128756</th>\n",
       "      <td>AMX0PJKV4PPNJ</td>\n",
       "      <td>E. R. Bird \"Ramseelbird\"</td>\n",
       "      <td>0439895294</td>\n",
       "      <td>241</td>\n",
       "      <td>252</td>\n",
       "      <td>2007-09-30 00:00:00 UTC</td>\n",
       "      <td>There are some books that come across my plate...</td>\n",
       "      <td>1622</td>\n",
       "      <td>5</td>\n",
       "      <td>Beautiful doesn't even cover it</td>\n",
       "    </tr>\n",
       "    <tr>\n",
       "      <th>128757</th>\n",
       "      <td>A22RY8N8CNDF3A</td>\n",
       "      <td>Loyd E. Eskildson \"Pragmatist\"</td>\n",
       "      <td>0061429252</td>\n",
       "      <td>464</td>\n",
       "      <td>510</td>\n",
       "      <td>2011-09-20 00:00:00 UTC</td>\n",
       "      <td>Suskind's \"Confidence Men\" is based on 746 hou...</td>\n",
       "      <td>1078</td>\n",
       "      <td>5</td>\n",
       "      <td>Objective Look at Presidential Leadership</td>\n",
       "    </tr>\n",
       "  </tbody>\n",
       "</table>\n",
       "</div>"
      ],
      "text/plain": [
       "            reviewerID                    reviewerName        asin  \\\n",
       "128756   AMX0PJKV4PPNJ        E. R. Bird \"Ramseelbird\"  0439895294   \n",
       "128757  A22RY8N8CNDF3A  Loyd E. Eskildson \"Pragmatist\"  0061429252   \n",
       "\n",
       "        helpfulVote  totalVote           unixReviewTime  \\\n",
       "128756          241        252  2007-09-30 00:00:00 UTC   \n",
       "128757          464        510  2011-09-20 00:00:00 UTC   \n",
       "\n",
       "                                               reviewText  wordLength  \\\n",
       "128756  There are some books that come across my plate...        1622   \n",
       "128757  Suskind's \"Confidence Men\" is based on 746 hou...        1078   \n",
       "\n",
       "        overall                                    summary  \n",
       "128756        5            Beautiful doesn't even cover it  \n",
       "128757        5  Objective Look at Presidential Leadership  "
      ]
     },
     "execution_count": 3,
     "metadata": {},
     "output_type": "execute_result"
    }
   ],
   "source": [
    "df.tail(2)"
   ]
  },
  {
   "cell_type": "markdown",
   "metadata": {},
   "source": [
    "#### I made two more tables for book titles and their ranks from the review metadata. Here I am going to merge them with the top 50 reviewer data. "
   ]
  },
  {
   "cell_type": "code",
   "execution_count": 4,
   "metadata": {
    "collapsed": false
   },
   "outputs": [
    {
     "data": {
      "text/html": [
       "<div>\n",
       "<table border=\"1\" class=\"dataframe\">\n",
       "  <thead>\n",
       "    <tr style=\"text-align: right;\">\n",
       "      <th></th>\n",
       "      <th>asin</th>\n",
       "      <th>title</th>\n",
       "    </tr>\n",
       "  </thead>\n",
       "  <tbody>\n",
       "    <tr>\n",
       "      <th>0</th>\n",
       "      <td>0001048791</td>\n",
       "      <td>The Crucible: Performed by Stuart Pankin, Jero...</td>\n",
       "    </tr>\n",
       "  </tbody>\n",
       "</table>\n",
       "</div>"
      ],
      "text/plain": [
       "         asin                                              title\n",
       "0  0001048791  The Crucible: Performed by Stuart Pankin, Jero..."
      ]
     },
     "execution_count": 4,
     "metadata": {},
     "output_type": "execute_result"
    }
   ],
   "source": [
    "df1 = pd.read_csv(\"book_titles_new.csv\")\n",
    "df1.head(1)"
   ]
  },
  {
   "cell_type": "code",
   "execution_count": 5,
   "metadata": {
    "collapsed": false
   },
   "outputs": [
    {
     "data": {
      "text/html": [
       "<div>\n",
       "<table border=\"1\" class=\"dataframe\">\n",
       "  <thead>\n",
       "    <tr style=\"text-align: right;\">\n",
       "      <th></th>\n",
       "      <th>reviewerID</th>\n",
       "      <th>reviewerName</th>\n",
       "      <th>asin</th>\n",
       "      <th>helpfulVote</th>\n",
       "      <th>totalVote</th>\n",
       "      <th>unixReviewTime</th>\n",
       "      <th>reviewText</th>\n",
       "      <th>wordLength</th>\n",
       "      <th>overall</th>\n",
       "      <th>summary</th>\n",
       "      <th>title</th>\n",
       "    </tr>\n",
       "  </thead>\n",
       "  <tbody>\n",
       "    <tr>\n",
       "      <th>128756</th>\n",
       "      <td>A281NPSIMI1C2R</td>\n",
       "      <td>Rebecca of Amazon \"The Rebecca Review\"</td>\n",
       "      <td>0307338312</td>\n",
       "      <td>220</td>\n",
       "      <td>248</td>\n",
       "      <td>2008-02-24 00:00:00 UTC</td>\n",
       "      <td>Deepak Chopra's new book is not quite as contr...</td>\n",
       "      <td>312</td>\n",
       "      <td>3</td>\n",
       "      <td>Is Jesus just an Enlightened Master?</td>\n",
       "      <td>The Third Jesus: The Christ We Cannot Ignore</td>\n",
       "    </tr>\n",
       "    <tr>\n",
       "      <th>128757</th>\n",
       "      <td>A14OJS0VWMOSWO</td>\n",
       "      <td>Midwest Book Review</td>\n",
       "      <td>0895949903</td>\n",
       "      <td>248</td>\n",
       "      <td>251</td>\n",
       "      <td>2001-03-12 00:00:00 UTC</td>\n",
       "      <td>The Herbal Medicine-Makers Handbook blends the...</td>\n",
       "      <td>58</td>\n",
       "      <td>5</td>\n",
       "      <td>Far more in-depth than your usual herbal recip...</td>\n",
       "      <td>The Herbal Medicine-Maker's Handbook: A Home M...</td>\n",
       "    </tr>\n",
       "  </tbody>\n",
       "</table>\n",
       "</div>"
      ],
      "text/plain": [
       "            reviewerID                            reviewerName        asin  \\\n",
       "128756  A281NPSIMI1C2R  Rebecca of Amazon \"The Rebecca Review\"  0307338312   \n",
       "128757  A14OJS0VWMOSWO                     Midwest Book Review  0895949903   \n",
       "\n",
       "        helpfulVote  totalVote           unixReviewTime  \\\n",
       "128756          220        248  2008-02-24 00:00:00 UTC   \n",
       "128757          248        251  2001-03-12 00:00:00 UTC   \n",
       "\n",
       "                                               reviewText  wordLength  \\\n",
       "128756  Deepak Chopra's new book is not quite as contr...         312   \n",
       "128757  The Herbal Medicine-Makers Handbook blends the...          58   \n",
       "\n",
       "        overall                                            summary  \\\n",
       "128756        3               Is Jesus just an Enlightened Master?   \n",
       "128757        5  Far more in-depth than your usual herbal recip...   \n",
       "\n",
       "                                                    title  \n",
       "128756       The Third Jesus: The Christ We Cannot Ignore  \n",
       "128757  The Herbal Medicine-Maker's Handbook: A Home M...  "
      ]
     },
     "execution_count": 5,
     "metadata": {},
     "output_type": "execute_result"
    }
   ],
   "source": [
    "df = df.merge(df1, on ='asin')\n",
    "df.tail(2)"
   ]
  },
  {
   "cell_type": "code",
   "execution_count": 6,
   "metadata": {
    "collapsed": false
   },
   "outputs": [
    {
     "data": {
      "text/html": [
       "<div>\n",
       "<table border=\"1\" class=\"dataframe\">\n",
       "  <thead>\n",
       "    <tr style=\"text-align: right;\">\n",
       "      <th></th>\n",
       "      <th>Unnamed: 0</th>\n",
       "      <th>asin</th>\n",
       "      <th>rank</th>\n",
       "    </tr>\n",
       "  </thead>\n",
       "  <tbody>\n",
       "    <tr>\n",
       "      <th>0</th>\n",
       "      <td>0</td>\n",
       "      <td>0001048791</td>\n",
       "      <td>6334800.0</td>\n",
       "    </tr>\n",
       "  </tbody>\n",
       "</table>\n",
       "</div>"
      ],
      "text/plain": [
       "   Unnamed: 0        asin       rank\n",
       "0           0  0001048791  6334800.0"
      ]
     },
     "execution_count": 6,
     "metadata": {},
     "output_type": "execute_result"
    }
   ],
   "source": [
    "df2 = pd.read_csv(\"books_rank_cleaned.csv\")\n",
    "df2.head(1)"
   ]
  },
  {
   "cell_type": "code",
   "execution_count": 7,
   "metadata": {
    "collapsed": true
   },
   "outputs": [],
   "source": [
    "df2 = df2.drop(\"Unnamed: 0\", axis =1)"
   ]
  },
  {
   "cell_type": "code",
   "execution_count": 8,
   "metadata": {
    "collapsed": false
   },
   "outputs": [
    {
     "data": {
      "text/html": [
       "<div>\n",
       "<table border=\"1\" class=\"dataframe\">\n",
       "  <thead>\n",
       "    <tr style=\"text-align: right;\">\n",
       "      <th></th>\n",
       "      <th>asin</th>\n",
       "      <th>rank</th>\n",
       "    </tr>\n",
       "  </thead>\n",
       "  <tbody>\n",
       "    <tr>\n",
       "      <th>0</th>\n",
       "      <td>0001048791</td>\n",
       "      <td>6334800.0</td>\n",
       "    </tr>\n",
       "  </tbody>\n",
       "</table>\n",
       "</div>"
      ],
      "text/plain": [
       "         asin       rank\n",
       "0  0001048791  6334800.0"
      ]
     },
     "execution_count": 8,
     "metadata": {},
     "output_type": "execute_result"
    }
   ],
   "source": [
    "df2.head(1)"
   ]
  },
  {
   "cell_type": "code",
   "execution_count": 9,
   "metadata": {
    "collapsed": false
   },
   "outputs": [
    {
     "data": {
      "text/html": [
       "<div>\n",
       "<table border=\"1\" class=\"dataframe\">\n",
       "  <thead>\n",
       "    <tr style=\"text-align: right;\">\n",
       "      <th></th>\n",
       "      <th>reviewerID</th>\n",
       "      <th>reviewerName</th>\n",
       "      <th>asin</th>\n",
       "      <th>helpfulVote</th>\n",
       "      <th>totalVote</th>\n",
       "      <th>unixReviewTime</th>\n",
       "      <th>reviewText</th>\n",
       "      <th>wordLength</th>\n",
       "      <th>overall</th>\n",
       "      <th>summary</th>\n",
       "      <th>title</th>\n",
       "      <th>rank</th>\n",
       "    </tr>\n",
       "  </thead>\n",
       "  <tbody>\n",
       "    <tr>\n",
       "      <th>128756</th>\n",
       "      <td>A281NPSIMI1C2R</td>\n",
       "      <td>Rebecca of Amazon \"The Rebecca Review\"</td>\n",
       "      <td>0307338312</td>\n",
       "      <td>220</td>\n",
       "      <td>248</td>\n",
       "      <td>2008-02-24 00:00:00 UTC</td>\n",
       "      <td>Deepak Chopra's new book is not quite as contr...</td>\n",
       "      <td>312</td>\n",
       "      <td>3</td>\n",
       "      <td>Is Jesus just an Enlightened Master?</td>\n",
       "      <td>The Third Jesus: The Christ We Cannot Ignore</td>\n",
       "      <td>461913.0</td>\n",
       "    </tr>\n",
       "    <tr>\n",
       "      <th>128757</th>\n",
       "      <td>A14OJS0VWMOSWO</td>\n",
       "      <td>Midwest Book Review</td>\n",
       "      <td>0895949903</td>\n",
       "      <td>248</td>\n",
       "      <td>251</td>\n",
       "      <td>2001-03-12 00:00:00 UTC</td>\n",
       "      <td>The Herbal Medicine-Makers Handbook blends the...</td>\n",
       "      <td>58</td>\n",
       "      <td>5</td>\n",
       "      <td>Far more in-depth than your usual herbal recip...</td>\n",
       "      <td>The Herbal Medicine-Maker's Handbook: A Home M...</td>\n",
       "      <td>8306.0</td>\n",
       "    </tr>\n",
       "  </tbody>\n",
       "</table>\n",
       "</div>"
      ],
      "text/plain": [
       "            reviewerID                            reviewerName        asin  \\\n",
       "128756  A281NPSIMI1C2R  Rebecca of Amazon \"The Rebecca Review\"  0307338312   \n",
       "128757  A14OJS0VWMOSWO                     Midwest Book Review  0895949903   \n",
       "\n",
       "        helpfulVote  totalVote           unixReviewTime  \\\n",
       "128756          220        248  2008-02-24 00:00:00 UTC   \n",
       "128757          248        251  2001-03-12 00:00:00 UTC   \n",
       "\n",
       "                                               reviewText  wordLength  \\\n",
       "128756  Deepak Chopra's new book is not quite as contr...         312   \n",
       "128757  The Herbal Medicine-Makers Handbook blends the...          58   \n",
       "\n",
       "        overall                                            summary  \\\n",
       "128756        3               Is Jesus just an Enlightened Master?   \n",
       "128757        5  Far more in-depth than your usual herbal recip...   \n",
       "\n",
       "                                                    title      rank  \n",
       "128756       The Third Jesus: The Christ We Cannot Ignore  461913.0  \n",
       "128757  The Herbal Medicine-Maker's Handbook: A Home M...    8306.0  "
      ]
     },
     "execution_count": 9,
     "metadata": {},
     "output_type": "execute_result"
    }
   ],
   "source": [
    "df = df.merge(df2, on ='asin')\n",
    "df.tail(2)"
   ]
  },
  {
   "cell_type": "markdown",
   "metadata": {},
   "source": [
    "#### Let's take the reviews with at least 2 votes and then sample a subset of 10000. "
   ]
  },
  {
   "cell_type": "code",
   "execution_count": 10,
   "metadata": {
    "collapsed": false
   },
   "outputs": [
    {
     "data": {
      "text/plain": [
       "81639"
      ]
     },
     "execution_count": 10,
     "metadata": {},
     "output_type": "execute_result"
    }
   ],
   "source": [
    "dr = df[df.totalVote > 1]\n",
    "len(dr)"
   ]
  },
  {
   "cell_type": "code",
   "execution_count": 11,
   "metadata": {
    "collapsed": false
   },
   "outputs": [
    {
     "data": {
      "text/html": [
       "<div>\n",
       "<table border=\"1\" class=\"dataframe\">\n",
       "  <thead>\n",
       "    <tr style=\"text-align: right;\">\n",
       "      <th></th>\n",
       "      <th>reviewerID</th>\n",
       "      <th>reviewerName</th>\n",
       "      <th>asin</th>\n",
       "      <th>helpfulVote</th>\n",
       "      <th>totalVote</th>\n",
       "      <th>unixReviewTime</th>\n",
       "      <th>reviewText</th>\n",
       "      <th>wordLength</th>\n",
       "      <th>overall</th>\n",
       "      <th>summary</th>\n",
       "      <th>title</th>\n",
       "      <th>rank</th>\n",
       "    </tr>\n",
       "  </thead>\n",
       "  <tbody>\n",
       "    <tr>\n",
       "      <th>75132</th>\n",
       "      <td>A14OJS0VWMOSWO</td>\n",
       "      <td>Midwest Book Review</td>\n",
       "      <td>0972661808</td>\n",
       "      <td>1</td>\n",
       "      <td>2</td>\n",
       "      <td>2005-07-05 00:00:00 UTC</td>\n",
       "      <td>There is a new and growing sub-genre appearing...</td>\n",
       "      <td>177</td>\n",
       "      <td>5</td>\n",
       "      <td>An engaging story filled with memorable charac...</td>\n",
       "      <td>The Teaching of Little Crow</td>\n",
       "      <td>620984.0</td>\n",
       "    </tr>\n",
       "  </tbody>\n",
       "</table>\n",
       "</div>"
      ],
      "text/plain": [
       "           reviewerID         reviewerName        asin  helpfulVote  \\\n",
       "75132  A14OJS0VWMOSWO  Midwest Book Review  0972661808            1   \n",
       "\n",
       "       totalVote           unixReviewTime  \\\n",
       "75132          2  2005-07-05 00:00:00 UTC   \n",
       "\n",
       "                                              reviewText  wordLength  overall  \\\n",
       "75132  There is a new and growing sub-genre appearing...         177        5   \n",
       "\n",
       "                                                 summary  \\\n",
       "75132  An engaging story filled with memorable charac...   \n",
       "\n",
       "                             title      rank  \n",
       "75132  The Teaching of Little Crow  620984.0  "
      ]
     },
     "execution_count": 11,
     "metadata": {},
     "output_type": "execute_result"
    }
   ],
   "source": [
    "dr1 = dr.sample(n = 10000)\n",
    "dr1.head(1)"
   ]
  },
  {
   "cell_type": "code",
   "execution_count": 12,
   "metadata": {
    "collapsed": false
   },
   "outputs": [
    {
     "data": {
      "text/plain": [
       "10000"
      ]
     },
     "execution_count": 12,
     "metadata": {},
     "output_type": "execute_result"
    }
   ],
   "source": [
    "len(dr1)"
   ]
  },
  {
   "cell_type": "markdown",
   "metadata": {},
   "source": [
    "#### Now let's separate corporate accounts from individuals. I am not sure of a better way of doing it programmatically. I did it manually just by looking at names."
   ]
  },
  {
   "cell_type": "markdown",
   "metadata": {},
   "source": [
    "** Corporate accounts** \n",
    "A14OJS0VWMOSWO, Midwest Book Review, A2F6N60Z96CAJI, Bookreporter, A320TMDV6KCFU, MNix, \n",
    "A13QTZ8CIMHHG4, LAS Reviewer \"The Long and the Short Of It Re..., A2TX179XAT5GRP, TeensReadToo \"Eat. Drink. Read. Be Merrier.\"\n",
    "A21NVBFIEQWDSG, Armchair Interviews, A2VKWLCNZF4ZVB, The RAWSISTAZ Reviewers, A1JKGTL51HHTU1, Under The Covers Book Blog, \n",
    "A26J2TRDPZH7RZ, Romancing the Book, A2CR57GAJKNWVV, booksforabuck \"BooksForABuck\", A3U7ELIED4WP4R, Dark Faerie Tales\n",
    "\n",
    "** There are 11 corporate reviewers out of 50 **"
   ]
  },
  {
   "cell_type": "code",
   "execution_count": 14,
   "metadata": {
    "collapsed": true
   },
   "outputs": [],
   "source": [
    "corporate_list = [\"A14OJS0VWMOSWO\", \"A2F6N60Z96CAJI\", \"A320TMDV6KCFU\", \"A13QTZ8CIMHHG4\", \"A2TX179XAT5GRP\",\n",
    "                 \"A21NVBFIEQWDSG\", \"A2VKWLCNZF4ZVB\", \"A1JKGTL51HHTU1\", \"A26J2TRDPZH7RZ\", \"A2CR57GAJKNWVV\", \"A3U7ELIED4WP4R\"]"
   ]
  },
  {
   "cell_type": "code",
   "execution_count": 270,
   "metadata": {
    "collapsed": false
   },
   "outputs": [],
   "source": [
    "dr2 = dr1.replace([corporate_list], 'corporate')"
   ]
  },
  {
   "cell_type": "code",
   "execution_count": 271,
   "metadata": {
    "collapsed": false
   },
   "outputs": [
    {
     "data": {
      "text/plain": [
       "3060"
      ]
     },
     "execution_count": 271,
     "metadata": {},
     "output_type": "execute_result"
    }
   ],
   "source": [
    "dr2_corporate = dr2[dr2.reviewerID == \"corporate\"]\n",
    "len(dr2_corporate)"
   ]
  },
  {
   "cell_type": "code",
   "execution_count": 17,
   "metadata": {
    "collapsed": false
   },
   "outputs": [
    {
     "data": {
      "text/plain": [
       "6940"
      ]
     },
     "execution_count": 17,
     "metadata": {},
     "output_type": "execute_result"
    }
   ],
   "source": [
    "dr2_individual = dr2[dr2.reviewerID != \"corporate\"]\n",
    "len(dr2_individual)"
   ]
  },
  {
   "cell_type": "code",
   "execution_count": 18,
   "metadata": {
    "collapsed": true
   },
   "outputs": [],
   "source": [
    "individual_list = dr2_individual.reviewerID"
   ]
  },
  {
   "cell_type": "code",
   "execution_count": 19,
   "metadata": {
    "collapsed": false
   },
   "outputs": [
    {
     "data": {
      "text/html": [
       "<div>\n",
       "<table border=\"1\" class=\"dataframe\">\n",
       "  <thead>\n",
       "    <tr style=\"text-align: right;\">\n",
       "      <th></th>\n",
       "      <th>reviewerID</th>\n",
       "      <th>reviewerName</th>\n",
       "      <th>asin</th>\n",
       "      <th>helpfulVote</th>\n",
       "      <th>totalVote</th>\n",
       "      <th>unixReviewTime</th>\n",
       "      <th>reviewText</th>\n",
       "      <th>wordLength</th>\n",
       "      <th>overall</th>\n",
       "      <th>summary</th>\n",
       "      <th>title</th>\n",
       "      <th>rank</th>\n",
       "    </tr>\n",
       "  </thead>\n",
       "  <tbody>\n",
       "    <tr>\n",
       "      <th>91392</th>\n",
       "      <td>individual</td>\n",
       "      <td>Loyd E. Eskildson \"Pragmatist\"</td>\n",
       "      <td>030795255X</td>\n",
       "      <td>29</td>\n",
       "      <td>79</td>\n",
       "      <td>2012-05-22 00:00:00 UTC</td>\n",
       "      <td>Many books have already been written on our re...</td>\n",
       "      <td>441</td>\n",
       "      <td>3</td>\n",
       "      <td>Old News -</td>\n",
       "      <td>Predator Nation: Corporate Criminals, Politica...</td>\n",
       "      <td>101969.0</td>\n",
       "    </tr>\n",
       "    <tr>\n",
       "      <th>112167</th>\n",
       "      <td>individual</td>\n",
       "      <td>Donald Mitchell \"Jesus Loves You!\"</td>\n",
       "      <td>1891105051</td>\n",
       "      <td>8</td>\n",
       "      <td>8</td>\n",
       "      <td>2007-01-19 00:00:00 UTC</td>\n",
       "      <td>I come from the school of thaw it, zap it, and...</td>\n",
       "      <td>516</td>\n",
       "      <td>5</td>\n",
       "      <td>Zesty Warmth for Winter and Days When You Need...</td>\n",
       "      <td>Comfort Foods: Rachael Ray 30-Minute Meals</td>\n",
       "      <td>948848.0</td>\n",
       "    </tr>\n",
       "  </tbody>\n",
       "</table>\n",
       "</div>"
      ],
      "text/plain": [
       "        reviewerID                        reviewerName        asin  \\\n",
       "91392   individual      Loyd E. Eskildson \"Pragmatist\"  030795255X   \n",
       "112167  individual  Donald Mitchell \"Jesus Loves You!\"  1891105051   \n",
       "\n",
       "        helpfulVote  totalVote           unixReviewTime  \\\n",
       "91392            29         79  2012-05-22 00:00:00 UTC   \n",
       "112167            8          8  2007-01-19 00:00:00 UTC   \n",
       "\n",
       "                                               reviewText  wordLength  \\\n",
       "91392   Many books have already been written on our re...         441   \n",
       "112167  I come from the school of thaw it, zap it, and...         516   \n",
       "\n",
       "        overall                                            summary  \\\n",
       "91392         3                                         Old News -   \n",
       "112167        5  Zesty Warmth for Winter and Days When You Need...   \n",
       "\n",
       "                                                    title      rank  \n",
       "91392   Predator Nation: Corporate Criminals, Politica...  101969.0  \n",
       "112167         Comfort Foods: Rachael Ray 30-Minute Meals  948848.0  "
      ]
     },
     "execution_count": 19,
     "metadata": {},
     "output_type": "execute_result"
    }
   ],
   "source": [
    "dr3_individual = dr2_individual.replace([individual_list], \"individual\")\n",
    "dr3_individual.head(2)"
   ]
  },
  {
   "cell_type": "code",
   "execution_count": 267,
   "metadata": {
    "collapsed": false
   },
   "outputs": [
    {
     "data": {
      "text/plain": [
       "3060"
      ]
     },
     "execution_count": 267,
     "metadata": {},
     "output_type": "execute_result"
    }
   ],
   "source": [
    "dr4_individual = dr3_individual.sample(n = 3060) # Taking 3128 samples because the corporate list also contains the same.\n",
    "len(dr4_individual)"
   ]
  },
  {
   "cell_type": "code",
   "execution_count": 268,
   "metadata": {
    "collapsed": false
   },
   "outputs": [],
   "source": [
    "dr4 = pd.concat([dr2_corporate, dr4_individual]) # The list where reviewerIds are categorzed as corporate and individual"
   ]
  },
  {
   "cell_type": "code",
   "execution_count": 269,
   "metadata": {
    "collapsed": false
   },
   "outputs": [
    {
     "data": {
      "text/plain": [
       "6120"
      ]
     },
     "execution_count": 269,
     "metadata": {},
     "output_type": "execute_result"
    }
   ],
   "source": [
    "len(dr4)"
   ]
  },
  {
   "cell_type": "markdown",
   "metadata": {},
   "source": [
    "Now we will create some functions for text analysis. Some of these codes are from http://brandonrose.org/clustering"
   ]
  },
  {
   "cell_type": "code",
   "execution_count": 23,
   "metadata": {
    "collapsed": true
   },
   "outputs": [],
   "source": [
    "def tokenize_and_stem(text):\n",
    "    # first tokenize by sentence, then by word to ensure that punctuation is caught as it's own token\n",
    "    tokens = [word for sent in nltk.sent_tokenize(text) for word in nltk.word_tokenize(sent)]\n",
    "    filtered_tokens = []\n",
    "    # filter out any tokens not containing letters (e.g., numeric tokens, raw punctuation)\n",
    "    for token in tokens:\n",
    "        if re.search('[a-zA-Z]', token):\n",
    "            filtered_tokens.append(token)\n",
    "    stems = [stemmer.stem(t) for t in filtered_tokens]\n",
    "    return stems\n",
    "\n",
    "\n",
    "def tokenize_only(text):\n",
    "    # first tokenize by sentence, then by word to ensure that punctuation is caught as it's own token\n",
    "    tokens = [word.lower() for sent in nltk.sent_tokenize(text) for word in nltk.word_tokenize(sent)]\n",
    "    filtered_tokens = []\n",
    "    # filter out any tokens not containing letters (e.g., numeric tokens, raw punctuation)\n",
    "    for token in tokens:\n",
    "        if re.search('[a-zA-Z]', token):\n",
    "            filtered_tokens.append(token)\n",
    "    return filtered_tokens"
   ]
  },
  {
   "cell_type": "code",
   "execution_count": 24,
   "metadata": {
    "collapsed": true
   },
   "outputs": [],
   "source": [
    "import nltk\n",
    "import re\n",
    "import os\n",
    "import codecs\n",
    "from sklearn import feature_extraction\n",
    "from sklearn.feature_extraction import text\n",
    "from nltk.stem.snowball import SnowballStemmer\n",
    "from sklearn.feature_extraction.text import TfidfVectorizer\n",
    "from sklearn.metrics.pairwise import cosine_similarity\n",
    "from sklearn.decomposition import PCA, KernelPCA"
   ]
  },
  {
   "cell_type": "code",
   "execution_count": 25,
   "metadata": {
    "collapsed": true
   },
   "outputs": [],
   "source": [
    "add_text = [\"book\"]\n",
    "my_stop_words = text.ENGLISH_STOP_WORDS.union(add_text)\n",
    "stemmer = SnowballStemmer(\"english\")"
   ]
  },
  {
   "cell_type": "code",
   "execution_count": 26,
   "metadata": {
    "collapsed": true
   },
   "outputs": [],
   "source": [
    "my_stop_words = text.ENGLISH_STOP_WORDS.union(add_text)"
   ]
  },
  {
   "cell_type": "code",
   "execution_count": 27,
   "metadata": {
    "collapsed": true
   },
   "outputs": [],
   "source": [
    "stemmer = SnowballStemmer(\"english\")"
   ]
  },
  {
   "cell_type": "markdown",
   "metadata": {},
   "source": [
    "Now we will create a vocabulary dictionary from the review summary. Here I am taking summary but also can do that fromreview txt itself. Remember there are two columns for texts and summary. "
   ]
  },
  {
   "cell_type": "code",
   "execution_count": 28,
   "metadata": {
    "collapsed": false
   },
   "outputs": [
    {
     "data": {
      "text/html": [
       "<div>\n",
       "<table border=\"1\" class=\"dataframe\">\n",
       "  <thead>\n",
       "    <tr style=\"text-align: right;\">\n",
       "      <th></th>\n",
       "      <th>words</th>\n",
       "    </tr>\n",
       "  </thead>\n",
       "  <tbody>\n",
       "    <tr>\n",
       "      <th>an</th>\n",
       "      <td>an</td>\n",
       "    </tr>\n",
       "    <tr>\n",
       "      <th>engag</th>\n",
       "      <td>engaging</td>\n",
       "    </tr>\n",
       "    <tr>\n",
       "      <th>stori</th>\n",
       "      <td>story</td>\n",
       "    </tr>\n",
       "    <tr>\n",
       "      <th>fill</th>\n",
       "      <td>filled</td>\n",
       "    </tr>\n",
       "    <tr>\n",
       "      <th>with</th>\n",
       "      <td>with</td>\n",
       "    </tr>\n",
       "  </tbody>\n",
       "</table>\n",
       "</div>"
      ],
      "text/plain": [
       "          words\n",
       "an           an\n",
       "engag  engaging\n",
       "stori     story\n",
       "fill     filled\n",
       "with       with"
      ]
     },
     "execution_count": 28,
     "metadata": {},
     "output_type": "execute_result"
    }
   ],
   "source": [
    "totalvocab_stemmed = []\n",
    "totalvocab_tokenized = []\n",
    "for i in dr4.summary:\n",
    "    allwords_stemmed = tokenize_and_stem(i) \n",
    "    totalvocab_stemmed.extend(allwords_stemmed) \n",
    "\n",
    "    allwords_tokenized = tokenize_only(i)\n",
    "    totalvocab_tokenized.extend(allwords_tokenized)\n",
    "\n",
    "vocab_frame = pd.DataFrame({'words': totalvocab_tokenized}, index = totalvocab_stemmed)\n",
    "vocab_frame = vocab_frame.drop(add_text)\n",
    "vocab_frame.head()"
   ]
  },
  {
   "cell_type": "code",
   "execution_count": 29,
   "metadata": {
    "collapsed": false
   },
   "outputs": [
    {
     "data": {
      "text/plain": [
       "(42089, 1)"
      ]
     },
     "execution_count": 29,
     "metadata": {},
     "output_type": "execute_result"
    }
   ],
   "source": [
    "vocab_frame.shape"
   ]
  },
  {
   "cell_type": "markdown",
   "metadata": {},
   "source": [
    "Now let's use Term frequency inverse document frequency (Tfidf) vectorizer to get features from the summary."
   ]
  },
  {
   "cell_type": "code",
   "execution_count": 272,
   "metadata": {
    "collapsed": false
   },
   "outputs": [],
   "source": [
    "tfidf_vectorizer = TfidfVectorizer(max_df=1.0, max_features=5000,\n",
    "                                     min_df=0.0, stop_words=set(my_stop_words),\n",
    "                                     use_idf=True, tokenizer=tokenize_and_stem, ngram_range=(1,1)) # we will tune the parameters"
   ]
  },
  {
   "cell_type": "code",
   "execution_count": 273,
   "metadata": {
    "collapsed": false
   },
   "outputs": [
    {
     "name": "stdout",
     "output_type": "stream",
     "text": [
      "Wall time: 2.73 s\n"
     ]
    }
   ],
   "source": [
    "%time tfidf_matrix = tfidf_vectorizer.fit_transform(dr4.summary) "
   ]
  },
  {
   "cell_type": "code",
   "execution_count": 32,
   "metadata": {
    "collapsed": false
   },
   "outputs": [
    {
     "data": {
      "text/plain": [
       "[u\"'d\",\n",
       " u\"'m\",\n",
       " u\"'s\",\n",
       " u'*not*',\n",
       " u\"*shouldn't*\",\n",
       " u'*who*',\n",
       " u'-kind',\n",
       " u'-the',\n",
       " u'..but',\n",
       " u'..sort']"
      ]
     },
     "execution_count": 32,
     "metadata": {},
     "output_type": "execute_result"
    }
   ],
   "source": [
    "terms = tfidf_vectorizer.get_feature_names()\n",
    "terms[:10]"
   ]
  },
  {
   "cell_type": "code",
   "execution_count": 33,
   "metadata": {
    "collapsed": false
   },
   "outputs": [
    {
     "data": {
      "text/html": [
       "<div>\n",
       "<table border=\"1\" class=\"dataframe\">\n",
       "  <thead>\n",
       "    <tr style=\"text-align: right;\">\n",
       "      <th></th>\n",
       "      <th>term</th>\n",
       "      <th>#</th>\n",
       "    </tr>\n",
       "  </thead>\n",
       "  <tbody>\n",
       "    <tr>\n",
       "      <th>0</th>\n",
       "      <td>yellow</td>\n",
       "      <td>4976</td>\n",
       "    </tr>\n",
       "    <tr>\n",
       "      <th>1</th>\n",
       "      <td>asian</td>\n",
       "      <td>321</td>\n",
       "    </tr>\n",
       "    <tr>\n",
       "      <th>2</th>\n",
       "      <td>brystion</td>\n",
       "      <td>610</td>\n",
       "    </tr>\n",
       "    <tr>\n",
       "      <th>3</th>\n",
       "      <td>captain</td>\n",
       "      <td>680</td>\n",
       "    </tr>\n",
       "    <tr>\n",
       "      <th>4</th>\n",
       "      <td>authorit</td>\n",
       "      <td>365</td>\n",
       "    </tr>\n",
       "    <tr>\n",
       "      <th>5</th>\n",
       "      <td>accur</td>\n",
       "      <td>85</td>\n",
       "    </tr>\n",
       "    <tr>\n",
       "      <th>6</th>\n",
       "      <td>sorri</td>\n",
       "      <td>4046</td>\n",
       "    </tr>\n",
       "    <tr>\n",
       "      <th>7</th>\n",
       "      <td>swan</td>\n",
       "      <td>4287</td>\n",
       "    </tr>\n",
       "    <tr>\n",
       "      <th>8</th>\n",
       "      <td>common-</td>\n",
       "      <td>897</td>\n",
       "    </tr>\n",
       "    <tr>\n",
       "      <th>9</th>\n",
       "      <td>swap</td>\n",
       "      <td>4288</td>\n",
       "    </tr>\n",
       "  </tbody>\n",
       "</table>\n",
       "</div>"
      ],
      "text/plain": [
       "       term     #\n",
       "0    yellow  4976\n",
       "1     asian   321\n",
       "2  brystion   610\n",
       "3   captain   680\n",
       "4  authorit   365\n",
       "5     accur    85\n",
       "6     sorri  4046\n",
       "7      swan  4287\n",
       "8   common-   897\n",
       "9      swap  4288"
      ]
     },
     "execution_count": 33,
     "metadata": {},
     "output_type": "execute_result"
    }
   ],
   "source": [
    "tfidf_vocab = tfidf_vectorizer.vocabulary_\n",
    "tfidf_vocab = pd.DataFrame(tfidf_vocab.items(), columns = ['term', '#'])\n",
    "tfidf_vocab[:10]"
   ]
  },
  {
   "cell_type": "code",
   "execution_count": 34,
   "metadata": {
    "collapsed": false
   },
   "outputs": [
    {
     "data": {
      "text/plain": [
       "(5000, 2)"
      ]
     },
     "execution_count": 34,
     "metadata": {},
     "output_type": "execute_result"
    }
   ],
   "source": [
    "tfidf_vocab.shape # since we have taken 5000 max features"
   ]
  },
  {
   "cell_type": "code",
   "execution_count": 35,
   "metadata": {
    "collapsed": false
   },
   "outputs": [
    {
     "data": {
      "text/plain": [
       "matrix([[ 0.        ,  0.        ,  0.        , ...,  0.        ,\n",
       "          0.        ,  0.        ],\n",
       "        [ 0.        ,  0.        ,  0.        , ...,  0.        ,\n",
       "          0.        ,  0.        ],\n",
       "        [ 0.        ,  0.        ,  0.22944696, ...,  0.        ,\n",
       "          0.        ,  0.        ],\n",
       "        ..., \n",
       "        [ 0.        ,  0.        ,  0.        , ...,  0.        ,\n",
       "          0.        ,  0.        ],\n",
       "        [ 0.        ,  0.        ,  0.        , ...,  0.        ,\n",
       "          0.        ,  0.        ],\n",
       "        [ 0.        ,  0.        ,  0.        , ...,  0.        ,\n",
       "          0.        ,  0.        ]])"
      ]
     },
     "execution_count": 35,
     "metadata": {},
     "output_type": "execute_result"
    }
   ],
   "source": [
    "dense = tfidf_matrix.todense()\n",
    "dense"
   ]
  },
  {
   "cell_type": "code",
   "execution_count": 36,
   "metadata": {
    "collapsed": false
   },
   "outputs": [
    {
     "data": {
      "text/plain": [
       "5000"
      ]
     },
     "execution_count": 36,
     "metadata": {},
     "output_type": "execute_result"
    }
   ],
   "source": [
    "dense = tfidf_matrix.todense()\n",
    "len(dense[0].tolist()[0])\n",
    "review_dense = dense[0].tolist()[0]\n",
    "phrase_scores = [pair for pair in zip(range(0, len(review_dense)), review_dense)]\n",
    "len(phrase_scores)"
   ]
  },
  {
   "cell_type": "code",
   "execution_count": 37,
   "metadata": {
    "collapsed": false
   },
   "outputs": [
    {
     "data": {
      "text/html": [
       "<div>\n",
       "<table border=\"1\" class=\"dataframe\">\n",
       "  <thead>\n",
       "    <tr style=\"text-align: right;\">\n",
       "      <th></th>\n",
       "      <th>Feature_Name</th>\n",
       "      <th>Score</th>\n",
       "    </tr>\n",
       "  </thead>\n",
       "  <tbody>\n",
       "    <tr>\n",
       "      <th>0</th>\n",
       "      <td>affirm</td>\n",
       "      <td>0.439854</td>\n",
       "    </tr>\n",
       "    <tr>\n",
       "      <th>1</th>\n",
       "      <td>memor</td>\n",
       "      <td>0.403316</td>\n",
       "    </tr>\n",
       "    <tr>\n",
       "      <th>2</th>\n",
       "      <td>metaphys</td>\n",
       "      <td>0.403316</td>\n",
       "    </tr>\n",
       "    <tr>\n",
       "      <th>3</th>\n",
       "      <td>spiritu</td>\n",
       "      <td>0.347648</td>\n",
       "    </tr>\n",
       "    <tr>\n",
       "      <th>4</th>\n",
       "      <td>insight</td>\n",
       "      <td>0.288978</td>\n",
       "    </tr>\n",
       "    <tr>\n",
       "      <th>5</th>\n",
       "      <td>charact</td>\n",
       "      <td>0.276915</td>\n",
       "    </tr>\n",
       "    <tr>\n",
       "      <th>6</th>\n",
       "      <td>engag</td>\n",
       "      <td>0.276915</td>\n",
       "    </tr>\n",
       "    <tr>\n",
       "      <th>7</th>\n",
       "      <td>life</td>\n",
       "      <td>0.270706</td>\n",
       "    </tr>\n",
       "    <tr>\n",
       "      <th>8</th>\n",
       "      <td>stori</td>\n",
       "      <td>0.224027</td>\n",
       "    </tr>\n",
       "    <tr>\n",
       "      <th>9</th>\n",
       "      <td>'d</td>\n",
       "      <td>0.000000</td>\n",
       "    </tr>\n",
       "  </tbody>\n",
       "</table>\n",
       "</div>"
      ],
      "text/plain": [
       "  Feature_Name     Score\n",
       "0       affirm  0.439854\n",
       "1        memor  0.403316\n",
       "2     metaphys  0.403316\n",
       "3      spiritu  0.347648\n",
       "4      insight  0.288978\n",
       "5      charact  0.276915\n",
       "6        engag  0.276915\n",
       "7         life  0.270706\n",
       "8        stori  0.224027\n",
       "9           'd  0.000000"
      ]
     },
     "execution_count": 37,
     "metadata": {},
     "output_type": "execute_result"
    }
   ],
   "source": [
    "top_numbers = 100\n",
    "sorted_phrase_scores = sorted(phrase_scores, key=lambda t: t[1] * -1)\n",
    "top_words = []\n",
    "top_score = []\n",
    "top =[]\n",
    "for phrase, score in [(terms[word_id], score) \n",
    "    for (word_id, score) in sorted_phrase_scores][:top_numbers]:\n",
    "        #print('{0: <20} {1}'.format(phrase, round(score,5)))\n",
    "        top.append({'Feature_Name':phrase, 'Score':score})\n",
    "        top_words.append(phrase)\n",
    "        top_score.append(int(score*100))\n",
    "\n",
    "pd.DataFrame(top)[:10]"
   ]
  },
  {
   "cell_type": "markdown",
   "metadata": {},
   "source": [
    "#### We can do PCA on the dense matrix to visualize the clusters"
   ]
  },
  {
   "cell_type": "code",
   "execution_count": 38,
   "metadata": {
    "collapsed": false
   },
   "outputs": [
    {
     "name": "stdout",
     "output_type": "stream",
     "text": [
      "Wall time: 3.25 s\n"
     ]
    }
   ],
   "source": [
    "%time pca = PCA(n_components=2).fit(dense)\n",
    "data2D = pca.transform(dense)"
   ]
  },
  {
   "cell_type": "code",
   "execution_count": 39,
   "metadata": {
    "collapsed": false
   },
   "outputs": [
    {
     "data": {
      "text/html": [
       "<div>\n",
       "<table border=\"1\" class=\"dataframe\">\n",
       "  <thead>\n",
       "    <tr style=\"text-align: right;\">\n",
       "      <th></th>\n",
       "      <th>reviewer</th>\n",
       "      <th>x</th>\n",
       "      <th>y</th>\n",
       "    </tr>\n",
       "  </thead>\n",
       "  <tbody>\n",
       "    <tr>\n",
       "      <th>75132</th>\n",
       "      <td>corporate</td>\n",
       "      <td>-0.044464</td>\n",
       "      <td>-0.010906</td>\n",
       "    </tr>\n",
       "    <tr>\n",
       "      <th>51106</th>\n",
       "      <td>corporate</td>\n",
       "      <td>-0.034831</td>\n",
       "      <td>-0.015811</td>\n",
       "    </tr>\n",
       "    <tr>\n",
       "      <th>105269</th>\n",
       "      <td>corporate</td>\n",
       "      <td>-0.043647</td>\n",
       "      <td>-0.020468</td>\n",
       "    </tr>\n",
       "  </tbody>\n",
       "</table>\n",
       "</div>"
      ],
      "text/plain": [
       "         reviewer         x         y\n",
       "75132   corporate -0.044464 -0.010906\n",
       "51106   corporate -0.034831 -0.015811\n",
       "105269  corporate -0.043647 -0.020468"
      ]
     },
     "execution_count": 39,
     "metadata": {},
     "output_type": "execute_result"
    }
   ],
   "source": [
    "dataframe1 = pd.DataFrame(dict(x=data2D[:,0], y=data2D[:,1], reviewer=dr4.reviewerID))\n",
    "dataframe1.head(3)"
   ]
  },
  {
   "cell_type": "code",
   "execution_count": 43,
   "metadata": {
    "collapsed": false
   },
   "outputs": [
    {
     "data": {
      "image/png": "[encoded data removed]",
      "text/plain": [
       "<matplotlib.figure.Figure at 0x40a84ac8>"
      ]
     },
     "metadata": {},
     "output_type": "display_data"
    }
   ],
   "source": [
    "sns.set_style(\"darkgrid\")\n",
    "import matplotlib as mpl\n",
    "pts = np.linspace(0, np.pi * 2, 24)\n",
    "circ = np.c_[np.sin(pts) / 2, -np.cos(pts) / 2]\n",
    "vert = np.r_[circ, circ[::-1] * .7]\n",
    "open_circle = mpl.path.Path(vert)\n",
    "#sns.lmplot(x = 'x', y = 'y', hue = \"reviewer\", data=dataframe1, fit_reg= False, scatter_kws={\"s\": 50}, \n",
    "                #markers=open_circle, palette=dict(corporate=\"m\", individual=\"b\")) #scatter_kws={\"s\": 50}\n",
    "\n",
    "sns.lmplot(x = 'x', y = 'y', hue = \"reviewer\", data=dataframe1, palette=dict(corporate=\"m\", individual=\"b\"),\n",
    "           fit_reg= False, scatter_kws={\"s\": 100}) \n",
    "               \n",
    "plt.ylim([-0.2, 0.8])\n",
    "plt.title (\"summary PCA- all words\")\n",
    "plt.show()"
   ]
  },
  {
   "cell_type": "markdown",
   "metadata": {},
   "source": [
    "#### We can define a function which would take a dataframe and returns top words per clusters"
   ]
  },
  {
   "cell_type": "code",
   "execution_count": 284,
   "metadata": {
    "collapsed": false
   },
   "outputs": [],
   "source": [
    "from __future__ import print_function\n",
    "from sklearn.feature_extraction import text\n",
    "from sklearn.cluster import KMeans\n",
    "from sklearn.externals import joblib\n",
    "import numpy as np\n",
    "\n",
    "#add_text = np.array ([\"book\", \"'s\", \"read\", \"good\", \"tale\", \"love\", \"excellent\", \"great\", \"any\", \"recommended\", \"highly\",\n",
    "                     #\"joyfully\", \"n't\", \"wonderfully\", \"wonder\", \"wonderful\", \"best\", \"anything\", \"anyone\", \"beautiful\",\n",
    "            #\"enthusiastically\", \"very\", \"sf\", \"free\", \"super\", \"exciting\", \"excellent\", \"terrific\", \"enjoyed\", \"fantastic\",\n",
    "            #\"important\", \"story\", \"recommended\", \"readers\", \"novel\", \"any\", \"excellent\", \"excellence\", \"recommend\", \n",
    "            #\"recommendation\", \"read\", \"reader\", \"readers\", \"beauty\"])\n",
    "add_text = [\"book\"]\n",
    "my_stop_words = text.ENGLISH_STOP_WORDS.union(add_text)\n",
    "stemmer = SnowballStemmer(\"english\")\n",
    "\n",
    "def reviewer_cluster_summary (dataframe, num_clusters, n_words):\n",
    "     \n",
    "    totalvocab_stemmed = []\n",
    "    totalvocab_tokenized = []\n",
    "    \n",
    "    for i in dataframe.summary:\n",
    "        allwords_stemmed = tokenize_and_stem(i) \n",
    "        totalvocab_stemmed.extend(allwords_stemmed) \n",
    "\n",
    "        allwords_tokenized = tokenize_only(i)\n",
    "        totalvocab_tokenized.extend(allwords_tokenized)\n",
    "\n",
    "    vocab_frame = pd.DataFrame({'words': totalvocab_tokenized}, index = totalvocab_stemmed)\n",
    "    vocab_frame = vocab_frame.drop(my_stop_words)\n",
    "    \n",
    "    tfidf_vectorizer_cluster = TfidfVectorizer(analyzer=u'word', max_df=0.8, \n",
    "        max_features=10000, \n",
    "        min_df=30, \n",
    "        stop_words=my_stop_words,\n",
    "                                         use_idf=True, \n",
    "        tokenizer=tokenize_and_stem, \n",
    "                                               ngram_range=(1,1)) # See the min_df, max_df and ngram_ranges\n",
    "\n",
    "    tfidf_matrix_cluster = tfidf_vectorizer_cluster.fit_transform(dataframe.summary) \n",
    "    \n",
    "    terms = tfidf_vectorizer_cluster.get_feature_names()\n",
    "    \n",
    "    print (\"Tfidf Features:\")\n",
    "    print ()\n",
    "    print (terms)\n",
    "   \n",
    "    tfidf_matrix_cluster_dense = tfidf_matrix_cluster.todense()\n",
    "    \n",
    "    pca = PCA(n_components=2).fit(tfidf_matrix_cluster_dense)\n",
    "    data2D = pca.transform(tfidf_matrix_cluster_dense)\n",
    "    \n",
    "    dataframe1 = pd.DataFrame(dict(x=data2D[:,0], y=data2D[:,1], asin = dataframe.asin, title=dataframe.title, \n",
    "                                   reviewer=dataframe.reviewerID))\n",
    "    \n",
    "    km = KMeans(n_clusters=num_clusters, random_state= 123, n_init=20)\n",
    "   \n",
    "    \n",
    "    dataframe1 ['clusterID'] = km.fit_predict(data2D)\n",
    "    \n",
    "    centroids = km.cluster_centers_\n",
    "    sns.lmplot(x = 'x', y = 'y', hue = \"reviewer\", data=dataframe1, fit_reg= False, scatter_kws={\"s\": 100},\n",
    "              palette=dict(corporate=\"m\", individual=\"b\")) \n",
    "    plt.scatter(centroids[:, 0], centroids[:, 1], marker = \"x\", color = 'k', s=80, linewidths=3)\n",
    "    plt.title (\"2D PCA\")\n",
    "    plt.xlabel(\"PC1\")\n",
    "    plt.ylabel(\"PC2\")\n",
    "    plt.show()\n",
    "    \n",
    "    km.fit(tfidf_matrix_cluster)\n",
    "    clusters = km.labels_.tolist()\n",
    "\n",
    "    joblib.dump(km,  'doc_cluster22.pkl')\n",
    "    km = joblib.load('doc_cluster22.pkl')\n",
    "    clusters = km.labels_.tolist()\n",
    "    dataframe['clusterName'] = clusters\n",
    "    print()\n",
    "    print (\"Number of reviewers in each cluster:\")\n",
    "    print (dataframe.clusterName.value_counts())\n",
    "    dataframe = dataframe.set_index('clusterName')\n",
    "    print()\n",
    "    print(\"Top terms per cluster:\")\n",
    "    print()\n",
    "\n",
    "    #sort cluster centers by proximity to centroid\n",
    "    order_centroids = km.cluster_centers_.argsort()[:, ::-1] \n",
    "\n",
    "    for i in range(num_clusters):\n",
    "        print(\"Cluster %d top words:\" % i, end='')\n",
    "\n",
    "        for ind in order_centroids[i, :n_words]: \n",
    "            print(' %s' % vocab_frame.ix[terms[ind].split(' ')].values.tolist()[0][0].encode('utf-8', 'ignore'), end=',')\n",
    "        print() #add whitespace\n",
    "        print() #add whitespace\n",
    "        \n",
    "        corporate = []\n",
    "        individual = []\n",
    "        for reviewer in dataframe.ix[i]['reviewerID'].values.tolist():\n",
    "            if reviewer == 'corporate':\n",
    "                corporate.append(reviewer)\n",
    "            else:\n",
    "                individual.append(reviewer)\n",
    "        print (\"Numbers of corporate reviewers: \", len (corporate))  \n",
    "        print (\"Numbers of individual reviewers:\", len(individual))\n",
    "        print() #add whitespace\n",
    "        print()\n",
    "        print(\"Cluster %d reviewers:\" % i, end='')\n",
    "        \n",
    "        for reviewer in dataframe.ix[i]['reviewerName'].unique():\n",
    "            print(' %s,' % reviewer, end='')\n",
    "        print() #add whitespace\n",
    "        print() #add whitespace\n",
    "    \n",
    "    print() #add whitespace\n",
    "    print() #add whitespace"
   ]
  },
  {
   "cell_type": "code",
   "execution_count": 285,
   "metadata": {
    "collapsed": false,
    "scrolled": false
   },
   "outputs": [
    {
     "name": "stdout",
     "output_type": "stream",
     "text": [
      "Tfidf Features:\n",
      "\n",
      "[u\"'s\", u'action', u'addit', u'adventur', u'age', u'american', u'amus', u'ani', u'anoth', u'anyon', u'author', u'beauti', u'best', u'better', u'busi', u'charact', u'children', u'collect', u'come', u'contemporari', u'courtesi', u'cover', u'dark', u'delight', u'drama', u'end', u'engag', u'enjoy', u'entertain', u'excel', u'excit', u'famili', u'fan', u'fantasi', u'fantast', u'fascin', u'fast-pac', u'fiction', u'fine', u'free', u'fun', u'funni', u'general', u'good', u'great', u'guid', u'high', u'histor', u'histori', u'hot', u'human', u'humor', u'import', u'inform', u'insight', u'inspir', u'intrigu', u'investig', u'joy', u'just', u'librari', u'life', u'like', u'live', u'look', u'love', u'make', u'mani', u'militari', u'miss', u'mysteri', u\"n't\", u'need', u'new', u'novel', u'outstand', u'pack', u'paranorm', u'perfect', u'person', u'pick', u'plot', u'polic', u'polit', u'power', u'present', u'procedur', u'quot', u'read', u'reader', u'real', u'recip', u'recommend', u'refer', u'regenc', u'rich', u'romanc', u'romant', u'scienc', u'seri', u'set', u'sf', u'solid', u'star', u'stori', u'strong', u'studi', u'super', u'superb', u'survey', u'suspens', u'tale', u'teen', u'terrif', u'think', u'thought', u'thriller', u'time', u'titl', u'true', u'turn', u'twist', u'uniqu', u'urban', u'use', u'veri', u'want', u'war', u'way', u'wonder', u'work', u'world', u'write', u'written', u'young']\n"
     ]
    },
    {
     "data": {
      "image/png": "[encoded data removed]",
      "text/plain": [
       "<matplotlib.figure.Figure at 0x794bba90>"
      ]
     },
     "metadata": {},
     "output_type": "display_data"
    },
    {
     "name": "stdout",
     "output_type": "stream",
     "text": [
      "\n",
      "Number of reviewers in each cluster:\n",
      "9    4210\n",
      "2     443\n",
      "1     243\n",
      "0     223\n",
      "3     220\n",
      "5     213\n",
      "7     179\n",
      "6     136\n",
      "4     136\n",
      "8     117\n",
      "Name: clusterName, dtype: int64\n",
      "\n",
      "Top terms per cluster:\n",
      "\n",
      "Cluster 0 top words: thriller, exciting, suspense, terrific, great, strong, fast-paced, investigative, historical, fiction,\n",
      "\n",
      "Numbers of corporate reviewers:  31\n",
      "Numbers of individual reviewers: 192\n",
      "\n",
      "\n",
      "Cluster 0 reviewers: Bookreporter, Midwest Book Review, Armchair Interviews, Dark Faerie Tales, Harriet Klausner, Donald Mitchell \"Jesus Loves You!\", E. Bukowsky \"booklover10\", Gail Cooke, Loyd E. Eskildson \"Pragmatist\", A. Ross, Jerry Saperstein, Nash Black \"Troubadour\",\n",
      "\n",
      "Cluster 1 top words: 's, life, world, guide, any, best, history, novel, children, read,\n",
      "\n",
      "Numbers of corporate reviewers:  161\n",
      "Numbers of individual reviewers: 82\n",
      "\n",
      "\n",
      "Cluster 1 reviewers: Midwest Book Review, Bookreporter, The RAWSISTAZ Reviewers, MNix, Armchair Interviews, Under The Covers Book Blog, booksforabuck \"BooksForABuck\", Dark Faerie Tales, LAS Reviewer \"The Long and the Short Of It Re..., TeensReadToo \"Eat. Drink. Read. Be Merrier.\", Gail Cooke, M. Heiss, Lollipops \"lollipops5\", John Matlock \"Gunny\", Cheryl Koch, Grady Harp, Harriet Klausner, Thomas Duff \"Duffbert\", Loyd E. Eskildson \"Pragmatist\", Charles Ashbacher, Luan Gaines \"luansos\", Rolf Dobelli \"getAbstract\", Jerry Saperstein, Jane, Steven H. Propp, E. A Solinas \"ea_solinas\", E. R. Bird \"Ramseelbird\", Robert Beveridge \"xterminal\", Robert Morris, cb, Arthur W. Jordin, Donald Mitchell \"Jesus Loves You!\", Shalom Freedman \"Shalom Freedman\", E. Bukowsky \"booklover10\", A. Ross, K. Eckert \"Devourer of all books fantasy\", S. Schwartz \"romonko\", Neal C. Reynolds,\n",
      "\n",
      "Cluster 2 top words: read, courtesy, teens, good, fantastic, great, fun, hot, enjoyed, wonderfully,\n",
      "\n",
      "Numbers of corporate reviewers:  360\n",
      "Numbers of individual reviewers: 83\n",
      "\n",
      "\n",
      "Cluster 2 reviewers: LAS Reviewer \"The Long and the Short Of It Re..., Bookreporter, TeensReadToo \"Eat. Drink. Read. Be Merrier.\", Under The Covers Book Blog, Midwest Book Review, Armchair Interviews, Dark Faerie Tales, booksforabuck \"BooksForABuck\", MNix, The RAWSISTAZ Reviewers, nan, Romancing the Book, Harriet Klausner, Dii, cb, John Matlock \"Gunny\", D. Blankenship, Thomas Duff \"Duffbert\", Sandy Milan, Gail Cooke, Robert Beveridge \"xterminal\", Cheryl Koch, Loyd E. Eskildson \"Pragmatist\", Rolf Dobelli \"getAbstract\", Jerry Saperstein, Rebecca of Amazon \"The Rebecca Review\", Donald Mitchell \"Jesus Loves You!\", Neal C. Reynolds, Shalom Freedman \"Shalom Freedman\", M. Heiss, Jane, Nash Black \"Troubadour\", K. Eckert \"Devourer of all books fantasy\", Lynn Ellingwood \"The ESOL Teacher\", S. Schwartz \"romonko\", Grady Harp, Charles Ashbacher, Yolanda S. Bean,\n",
      "\n",
      "Cluster 3 top words: recommended, highly, joyfully, title, read, any, collection, pick, very, addition,\n",
      "\n",
      "Numbers of corporate reviewers:  204\n",
      "Numbers of individual reviewers: 16\n",
      "\n",
      "\n",
      "Cluster 3 reviewers: Bookreporter, Midwest Book Review, MNix, LAS Reviewer \"The Long and the Short Of It Re..., Armchair Interviews, booksforabuck \"BooksForABuck\", Rolf Dobelli \"getAbstract\", John Matlock \"Gunny\", Jane, D. Blankenship, Charles Ashbacher,\n",
      "\n",
      "Cluster 4 top words: love, story, series, 's, n't, life, mystery, true, many, good,\n",
      "\n",
      "Numbers of corporate reviewers:  83\n",
      "Numbers of individual reviewers: 53\n",
      "\n",
      "\n",
      "Cluster 4 reviewers: The RAWSISTAZ Reviewers, MNix, Armchair Interviews, Bookreporter, Midwest Book Review, Romancing the Book, booksforabuck \"BooksForABuck\", Under The Covers Book Blog, Dark Faerie Tales, LAS Reviewer \"The Long and the Short Of It Re..., cb, Rebecca of Amazon \"The Rebecca Review\", D. Blankenship, E. R. Bird \"Ramseelbird\", Rolf Dobelli \"getAbstract\", Sandy Milan, Harriet Klausner, Luan Gaines \"luansos\", Donald Mitchell \"Jesus Loves You!\", Dii, Jane, Grady Harp, Robert Beveridge \"xterminal\", Loyd E. Eskildson \"Pragmatist\", K. Eckert \"Devourer of all books fantasy\", Gail Cooke, Shalom Freedman \"Shalom Freedman\", John Matlock \"Gunny\", E. Bukowsky \"booklover10\", Lollipops \"lollipops5\", M. Heiss,\n",
      "\n",
      "Cluster 5 top words: story, characters, read, true, good, life, star, great, beautiful, fine,\n",
      "\n",
      "Numbers of corporate reviewers:  141\n",
      "Numbers of individual reviewers: 72\n",
      "\n",
      "\n",
      "Cluster 5 reviewers: Midwest Book Review, Bookreporter, Armchair Interviews, booksforabuck \"BooksForABuck\", LAS Reviewer \"The Long and the Short Of It Re..., Under The Covers Book Blog, Dark Faerie Tales, MNix, The RAWSISTAZ Reviewers, Neal C. Reynolds, Lynn Ellingwood \"The ESOL Teacher\", John Matlock \"Gunny\", Grady Harp, Charles Ashbacher, Michael K. Smith, Harriet Klausner, D. Blankenship, Shalom Freedman \"Shalom Freedman\", Rebecca of Amazon \"The Rebecca Review\", Sandy Milan, Robert Beveridge \"xterminal\", Gail Cooke, Thomas Duff \"Duffbert\", Loyd E. Eskildson \"Pragmatist\", Luan Gaines \"luansos\", Lollipops \"lollipops5\", Cheryl Koch, E. Bukowsky \"booklover10\", Jane, E. A Solinas \"ea_solinas\", Robert Morris, K. Eckert \"Devourer of all books fantasy\", Donald Mitchell \"Jesus Loves You!\", S. Schwartz \"romonko\", Arthur W. Jordin, A. Ross,\n",
      "\n",
      "Cluster 6 top words: fantasy, urban, romantic, super, exciting, fun, excellent, engaging, terrific, enjoyed,\n",
      "\n",
      "Numbers of corporate reviewers:  20\n",
      "Numbers of individual reviewers: 116\n",
      "\n",
      "\n",
      "Cluster 6 reviewers: Bookreporter, Midwest Book Review, booksforabuck \"BooksForABuck\", Dark Faerie Tales, Under The Covers Book Blog, MNix, LAS Reviewer \"The Long and the Short Of It Re..., Harriet Klausner, S. Schwartz \"romonko\", E. A Solinas \"ea_solinas\", Grady Harp, Dii, K. Eckert \"Devourer of all books fantasy\", Charles Ashbacher,\n",
      "\n",
      "Cluster 7 top words: romance, historical, regency, entertaining, contemporary, amusements, terrific, paranormal, engaging, great,\n",
      "\n",
      "Numbers of corporate reviewers:  25\n",
      "Numbers of individual reviewers: 154\n",
      "\n",
      "\n",
      "Cluster 7 reviewers: Bookreporter, MNix, Under The Covers Book Blog, booksforabuck \"BooksForABuck\", Midwest Book Review, The RAWSISTAZ Reviewers, Armchair Interviews, Dark Faerie Tales, Romancing the Book, Harriet Klausner, Jane, Gail Cooke, Neal C. Reynolds, cb, Cheryl Koch, Dii, K. Eckert \"Devourer of all books fantasy\",\n",
      "\n",
      "Cluster 8 top words: work, just, 's, n't, best, unique, think, business, make, american,\n",
      "\n",
      "Numbers of corporate reviewers:  56\n",
      "Numbers of individual reviewers: 61\n",
      "\n",
      "\n",
      "Cluster 8 reviewers: Bookreporter, Midwest Book Review, MNix, booksforabuck \"BooksForABuck\", Armchair Interviews, Under The Covers Book Blog, Harriet Klausner, Jerry Saperstein, D. Blankenship, Shalom Freedman \"Shalom Freedman\", Dii, Cheryl Koch, Michael K. Smith, Yolanda S. Bean, E. R. Bird \"Ramseelbird\", Neal C. Reynolds, Grady Harp, Donald Mitchell \"Jesus Loves You!\", E. Bukowsky \"booklover10\", Charles Ashbacher, John Matlock \"Gunny\", Loyd E. Eskildson \"Pragmatist\", Robert Morris, Robert Beveridge \"xterminal\", E. A Solinas \"ea_solinas\", Arthur W. Jordin, cb, Steven H. Propp, A. Ross, Jane, Thomas Duff \"Duffbert\",\n",
      "\n",
      "Cluster 9 top words: good, tale, novel, mystery, excellent, any, readers, great, history, life,\n",
      "\n",
      "Numbers of corporate reviewers:  1979\n",
      "Numbers of individual reviewers: 2231\n",
      "\n",
      "\n",
      "Cluster 9 reviewers: Armchair Interviews, Midwest Book Review, LAS Reviewer \"The Long and the Short Of It Re..., MNix, Bookreporter, Under The Covers Book Blog, The RAWSISTAZ Reviewers, Romancing the Book, Dark Faerie Tales, booksforabuck \"BooksForABuck\", TeensReadToo \"Eat. Drink. Read. Be Merrier.\", nan, Yolanda S. Bean, E. A Solinas \"ea_solinas\", Thomas Duff \"Duffbert\", Harriet Klausner, E. R. Bird \"Ramseelbird\", Steven H. Propp, S. Schwartz \"romonko\", Blue Tyson \"- Research Finished\", Nash Black \"Troubadour\", D. Blankenship, Shalom Freedman \"Shalom Freedman\", Rebecca of Amazon \"The Rebecca Review\", Loyd E. Eskildson \"Pragmatist\", Charles Ashbacher, Robert Beveridge \"xterminal\", Donald Mitchell \"Jesus Loves You!\", A. Ross, Gail Cooke, John Matlock \"Gunny\", Rolf Dobelli \"getAbstract\", Michael K. Smith, Grady Harp, E. Bukowsky \"booklover10\", Neal C. Reynolds, Jerry Saperstein, Lynn Ellingwood \"The ESOL Teacher\", M. Heiss, Jane, cb, andrewsheath, Cheryl Koch, Arthur W. Jordin, Luan Gaines \"luansos\", Robert Morris, Jbarr5 (julie Barrett), Sandy Milan, K. Eckert \"Devourer of all books fantasy\", Dii, Lollipops \"lollipops5\",\n",
      "\n",
      "\n",
      "\n"
     ]
    }
   ],
   "source": [
    "reviewer_cluster_summary(dr4, 10, 10)"
   ]
  },
  {
   "cell_type": "markdown",
   "metadata": {},
   "source": [
    "I am going to discuss a couple of points about the above analysis. \n",
    "\n",
    "<p> 1. I played with max_df and min_df in the above function and looked at the terms (as shown below). max_df is a cut off point after which it ignore terms that have a higher document frequency. I set it for 0.8 meaning that if some terms occur 80% of the time in a corpus I am going to discard it. min_df is the terms that should be in certain number of documents before it's going to be added in the vocabulary. I set min_df=30, meaning that out of 6000 documents I am analyzing, the terms should be in at least 30 of them (0.05%). \n",
    "\n",
    "2. n_gram range is taken as (1, 1). so the term \"science fiction\" will be represented as \"science\" and \"fiction\" - these two different terms in the bag of words. I have also played with (1, 2) and (1,3) n_gram ranges. (1, 2) would have taken \"science\", \"fiction\" and \"science fiction\" these three terms. \n",
    "\n",
    "3. The PCA plot shows the clusters and cluster centers. I have taken 10 clusters and 10 words closest to the cluster centers. The number of clusters were chosen just by looking at the PCA plot so that we can have words from each segments. \n",
    "\n",
    "4. In the Tfidf features, there are terms like 'action'or 'adventur' which are representative of genre of the book and also adjectives like 'enjoy' and 'entertainment'. \n",
    "\n",
    "5. One cluster is particularly dense with about 4210 features. We are going to further divide this cluster but before that let's look at other clusters.\n",
    "\n",
    "<p> Cluster 0 top words: thriller, exciting, suspense, terrific, great, strong, fast-paced, investigative, historical, fiction,\n",
    "\n",
    "Numbers of corporate reviewers:  31\n",
    "<p> Numbers of individual reviewers: 192\n",
    "\n",
    "along with adjectives like exciting, terrific and great this cluster also have terms like \"thriller\", \"suspense\", \"investigative\" and \"historical\". This cluster contains more individual reviewers. The words in cluster 7:\n",
    "\n",
    "Cluster 7 top words: romance, historical, regency, entertaining, contemporary, amusements, terrific, paranormal, engaging, great,\n",
    "\n",
    "Numbers of corporate reviewers:  25\n",
    "<p> Numbers of individual reviewers: 154\n",
    "\n",
    "On the contrary, see cluster # 3\n",
    "\n",
    "Cluster 3 top words: recommended, highly, joyfully, title, read, any, collection, pick, very, addition,\n",
    "\n",
    "Numbers of corporate reviewers:  204\n",
    "<p>Numbers of individual reviewers: 16\n",
    "\n",
    "The top terms are recommended or highly but there is no genre words like romance, thriller or suspense - and # of corporate reviewers are way more. Remember we have taken 3000 each reviews from both corporate and individual reviewers. \n",
    "\n",
    "Here is how I found min_df\n"
   ]
  },
  {
   "cell_type": "code",
   "execution_count": 286,
   "metadata": {
    "collapsed": true
   },
   "outputs": [],
   "source": [
    "#add_text = np.array ([\"book\", \"'s\", \"read\", \"good\", \"tale\", \"love\", \"excellent\", \"great\", \"any\", \"recommended\", \"highly\",\n",
    "                     #\"joyfully\", \"n't\", \"wonderfully\", \"wonder\", \"wonderful\", \"best\", \"anything\", \"anyone\", \"beautiful\",\n",
    "            #\"enthusiastically\", \"very\", \"sf\", \"free\", \"super\", \"exciting\", \"excellent\", \"terrific\", \"enjoyed\", \"fantastic\",\n",
    "            #\"important\", \"story\", \"recommended\", \"readers\", \"novel\", \"any\", \"excellent\", \"excellence\", \"recommend\", \n",
    "            #\"recommendation\", \"read\", \"reader\", \"readers\", \"beauty\"])\n",
    "add_text = [\"book\"]\n",
    "my_stop_words = text.ENGLISH_STOP_WORDS.union(add_text)\n",
    "stemmer = SnowballStemmer(\"english\")\n",
    "\n",
    "def print_terms (dataframe):\n",
    "     \n",
    "    totalvocab_stemmed = []\n",
    "    totalvocab_tokenized = []\n",
    "    \n",
    "    for i in dataframe.summary:\n",
    "        allwords_stemmed = tokenize_and_stem(i) \n",
    "        totalvocab_stemmed.extend(allwords_stemmed) \n",
    "\n",
    "        allwords_tokenized = tokenize_only(i)\n",
    "        totalvocab_tokenized.extend(allwords_tokenized)\n",
    "\n",
    "    vocab_frame = pd.DataFrame({'words': totalvocab_tokenized}, index = totalvocab_stemmed)\n",
    "    vocab_frame = vocab_frame.drop(my_stop_words)\n",
    "    \n",
    "    min_df = [10, 20, 30, 40, 50, 60, 70, 80, 90, 100]\n",
    "    \n",
    "    for i in min_df:\n",
    "        tfidf_vectorizer_cluster = TfidfVectorizer(analyzer=u'word', max_df=0.8, \n",
    "            max_features=10000, \n",
    "            min_df=i, \n",
    "            stop_words=my_stop_words,\n",
    "                                             use_idf=True, \n",
    "            tokenizer=tokenize_and_stem, \n",
    "                                                   ngram_range=(1,1))\n",
    "\n",
    "        tfidf_matrix_cluster = tfidf_vectorizer_cluster.fit_transform(dataframe.summary) \n",
    "\n",
    "        terms = tfidf_vectorizer_cluster.get_feature_names()\n",
    "        print(\"min_df %d top terms:\" % i, end='')\n",
    "        print ()\n",
    "        print (terms)\n",
    "        print ()"
   ]
  },
  {
   "cell_type": "code",
   "execution_count": 287,
   "metadata": {
    "collapsed": false,
    "scrolled": false
   },
   "outputs": [
    {
     "name": "stdout",
     "output_type": "stream",
     "text": [
      "min_df 10 top terms:\n",
      "[u\"'s\", u'absolut', u'absorb', u'account', u'achiev', u'action', u'action-pack', u'addit', u'adult', u'adventur', u'advic', u'age', u'altern', u'alway', u'amateur', u'amaz', u'america', u'american', u'amp', u'amus', u'analysi', u'ani', u'anoth', u'antholog', u'anyon', u'appeal', u'applic', u'approach', u'art', u'artist', u'audienc', u'author', u'bad', u'base', u'basic', u'battl', u'beach', u'beauti', u'begin', u'believ', u'best', u'better', u'big', u'biograph', u'biographi', u'bit', u'blend', u'bodi', u'brilliant', u'build', u'busi', u'ca', u'captiv', u'care', u'celebr', u'centuri', u'certain', u'challeng', u'chanc', u'chang', u'charact', u'charm', u'chick', u'child', u'children', u'choic', u'christian', u'christma', u'civil', u'classic', u'clear', u'collect', u'college-level', u'color', u'combin', u'come', u'compel', u'complet', u'complex', u'comprehens', u'concept', u'connect', u'consid', u'contemporari', u'continu', u'contribut', u'cook', u'cookbook', u'courtesi', u'cover', u'cozi', u'craft', u'creat', u'crime', u'culinari', u'cultur', u'danger', u'dark', u'date', u'day', u'dead', u'deal', u'death', u'debut', u'deep', u'definit', u'delight', u'descript', u'deserv', u'design', u'develop', u'did', u'differ', u'difficult', u'disappoint', u'discuss', u'dish', u'doe', u'drama', u'draw', u'dream', u'earli', u'easi', u'edit', u'educ', u'effect', u'emot', u'enchant', u'end', u'engag', u'engross', u'enjoy', u'entertain', u'enthusiast', u'entri', u'epic', u'erot', u'especi', u'essenti', u'event', u'everi', u'everyth', u'examin', u'exampl', u'excel', u'excit', u'exhilar', u'expect', u'experi', u'explor', u'extrem', u'eye', u'fabul', u'fact', u'fairi', u'famili', u'fan', u'fantasi', u'fantast', u'far', u'fascin', u'fast-pac', u'favorit', u'feel', u'fiction', u'final', u'fine', u'focus', u'follow', u'food', u'free', u'fresh', u'friend', u'fun', u'funni', u'futur', u'futurist', u'game', u'general', u'general-interest', u'genr', u'gift', u'girl', u'god', u'good', u'graphic', u'great', u'grip', u'guid', u'happen', u'happi', u'hard', u'health', u'healthi', u'heart', u'heat', u'help', u'hero', u'heroin', u'high', u'hilari', u'histor', u'histori', u'hold', u'holiday', u'home', u'hope', u'horror', u'hot', u'human', u'humor', u'hundr', u'idea', u'illustr', u'imagin', u'import', u'imposs', u'impress', u'in-depth', u'includ', u'inform', u'innov', u'insid', u'insight', u'inspir', u'instal', u'instruct', u'intellig', u'intens', u'intrigu', u'introduct', u'invalu', u'investig', u'issu', u'journey', u'joy', u'just', u'key', u'kid', u'kind', u'know', u'knowledg', u'latest', u'laugh', u'lead', u'learn', u'leav', u'legal', u'lend', u'lesson', u'level', u'librari', u'life', u'light', u'lightheart', u'like', u'line', u'list', u'lit', u'literari', u'literatur', u'littl', u'live', u'll', u'long', u'look', u'lost', u'lot', u'love', u'lover', u'magic', u'make', u'man', u'manag', u'mani', u'master', u'matter', u'mean', u'medic', u'mediev', u'memoir', u'men', u'messag', u'middl', u'militari', u'mind', u'miss', u'mix', u'modern', u'money', u'moral', u'mother', u'murder', u'music', u'must-hav', u'mysteri', u\"n't\", u'narrat', u'natur', u'need', u'new', u'nice', u'night', u'noth', u'novel', u'observ', u'offer', u'old', u'onli', u'origin', u'outstand', u'pack', u'page', u'page-turn', u'paranorm', u'parent', u'passion', u'past', u'peopl', u'perfect', u'person', u'perspect', u'philosophi', u'photo', u'physic', u'pick', u'place', u'pleas', u'plenti', u'plot', u'poetri', u'point', u'polic', u'polit', u'popular', u'portrait', u'posit', u'potenti', u'power', u'practic', u'present', u'problem', u'procedur', u'process', u'profession', u'profound', u'program', u'project', u'promis', u'prose', u'provid', u'psycholog', u'public', u'question', u'quick', u'quit', u'quot', u'rate', u'raw', u'read', u'reader', u'real', u'realist', u'realiti', u'realli', u'reason', u'recip', u'recommend', u'refer', u'refresh', u'regenc', u'relationship', u'relish', u'remark', u'research', u'resourc', u'return', u'reveal', u'review', u'rich', u'right', u'rivet', u'romanc', u'romant', u'romp', u'saga', u'satir', u'satisfi', u'say', u'scene', u'scholar', u'school', u'scienc', u'search', u'season', u'second', u'secret', u'seek', u'seri', u'set', u'sex', u'sexi', u'sf', u'short', u'simpli', u'skill', u'sleuth', u'small', u'social', u'solid', u'space', u'specif', u'spiritu', u'star', u'start', u'step-by-step', u'stori', u'storytel', u'strang', u'strong', u'struggl', u'student', u'studi', u'stun', u'style', u'success', u'summari', u'super', u'superb', u'superbl', u'supernatur', u'sure', u'surpris', u'survey', u'suspens', u'sweet', u'tale', u'teach', u'techniqu', u'teen', u'tell', u'terrif', u'thing', u'think', u'thorough', u'thought', u'thought-provok', u'thrill', u'thriller', u'time', u'tip', u'titl', u'today', u'told', u'tool', u'touch', u'travel', u'treasur', u'tri', u'true', u'truli', u'truth', u'turn', u'twist', u'understand', u'uniqu', u'unusu', u'urban', u'use', u'user', u'valu', u'valuabl', u'vampir', u've', u'veri', u'victorian', u'view', u'vivid', u'volum', u'want', u'war', u'warm', u'way', u'wealth', u'welcom', u'well-written', u'western', u'whi', u'whimsic', u'whodunit', u'wild', u'win', u'winner', u'wisdom', u'wish', u'witti', u'wo', u'woman', u'women', u'wonder', u'work', u'world', u'worth', u'worthi', u'write', u'writer', u'written', u'wrong', u'wwii', u'year', u'young']\n",
      "\n",
      "min_df 20 top terms:\n",
      "[u\"'s\", u'absolut', u'account', u'action', u'addit', u'adult', u'adventur', u'advic', u'age', u'amateur', u'america', u'american', u'amp', u'amus', u'ani', u'anoth', u'anyon', u'art', u'author', u'basic', u'beauti', u'best', u'better', u'blend', u'brilliant', u'busi', u'ca', u'centuri', u'chang', u'charact', u'charm', u'children', u'choic', u'classic', u'collect', u'color', u'come', u'compel', u'complex', u'contemporari', u'courtesi', u'cover', u'cultur', u'dark', u'day', u'dead', u'debut', u'deep', u'definit', u'delight', u'design', u'develop', u'did', u'differ', u'doe', u'drama', u'easi', u'effect', u'emot', u'end', u'engag', u'enjoy', u'entertain', u'erot', u'especi', u'everi', u'excel', u'excit', u'exhilar', u'experi', u'fabul', u'famili', u'fan', u'fantasi', u'fantast', u'fascin', u'fast-pac', u'fiction', u'fine', u'free', u'friend', u'fun', u'funni', u'futur', u'general', u'good', u'great', u'guid', u'hard', u'heart', u'help', u'high', u'histor', u'histori', u'horror', u'hot', u'human', u'humor', u'idea', u'illustr', u'import', u'inform', u'insight', u'inspir', u'intrigu', u'introduct', u'investig', u'joy', u'just', u'know', u'learn', u'lend', u'librari', u'life', u'light', u'like', u'littl', u'live', u'long', u'look', u'lot', u'love', u'magic', u'make', u'man', u'manag', u'mani', u'militari', u'miss', u'modern', u'mysteri', u\"n't\", u'need', u'new', u'nice', u'novel', u'offer', u'old', u'onli', u'outstand', u'pack', u'paranorm', u'peopl', u'perfect', u'person', u'pick', u'plot', u'polic', u'polit', u'power', u'practic', u'present', u'procedur', u'provid', u'quit', u'quot', u'rate', u'raw', u'read', u'reader', u'real', u'realli', u'recip', u'recommend', u'refer', u'regenc', u'relationship', u'resourc', u'review', u'rich', u'rivet', u'romanc', u'romant', u'saga', u'scienc', u'second', u'secret', u'seri', u'set', u'sf', u'short', u'sleuth', u'social', u'solid', u'spiritu', u'star', u'start', u'stori', u'strong', u'studi', u'super', u'superb', u'surpris', u'survey', u'suspens', u'sweet', u'tale', u'teen', u'tell', u'terrif', u'think', u'thorough', u'thought', u'thriller', u'time', u'tip', u'titl', u'travel', u'true', u'turn', u'twist', u'understand', u'uniqu', u'urban', u'use', u'vampir', u'veri', u'victorian', u'view', u'want', u'war', u'way', u'wonder', u'work', u'world', u'worth', u'write', u'written', u'year', u'young']\n",
      "\n",
      "min_df 30 top terms:\n",
      "[u\"'s\", u'action', u'addit', u'adventur', u'age', u'american', u'amus', u'ani', u'anoth', u'anyon', u'author', u'beauti', u'best', u'better', u'busi', u'charact', u'children', u'collect', u'come', u'contemporari', u'courtesi', u'cover', u'dark', u'delight', u'drama', u'end', u'engag', u'enjoy', u'entertain', u'excel', u'excit', u'famili', u'fan', u'fantasi', u'fantast', u'fascin', u'fast-pac', u'fiction', u'fine', u'free', u'fun', u'funni', u'general', u'good', u'great', u'guid', u'high', u'histor', u'histori', u'hot', u'human', u'humor', u'import', u'inform', u'insight', u'inspir', u'intrigu', u'investig', u'joy', u'just', u'librari', u'life', u'like', u'live', u'look', u'love', u'make', u'mani', u'militari', u'miss', u'mysteri', u\"n't\", u'need', u'new', u'novel', u'outstand', u'pack', u'paranorm', u'perfect', u'person', u'pick', u'plot', u'polic', u'polit', u'power', u'present', u'procedur', u'quot', u'read', u'reader', u'real', u'recip', u'recommend', u'refer', u'regenc', u'rich', u'romanc', u'romant', u'scienc', u'seri', u'set', u'sf', u'solid', u'star', u'stori', u'strong', u'studi', u'super', u'superb', u'survey', u'suspens', u'tale', u'teen', u'terrif', u'think', u'thought', u'thriller', u'time', u'titl', u'true', u'turn', u'twist', u'uniqu', u'urban', u'use', u'veri', u'want', u'war', u'way', u'wonder', u'work', u'world', u'write', u'written', u'young']\n",
      "\n",
      "min_df 40 top terms:\n",
      "[u\"'s\", u'action', u'age', u'american', u'ani', u'author', u'beauti', u'best', u'better', u'charact', u'collect', u'come', u'courtesi', u'dark', u'delight', u'drama', u'engag', u'enjoy', u'entertain', u'excel', u'excit', u'famili', u'fan', u'fantasi', u'fantast', u'fascin', u'fiction', u'fine', u'free', u'fun', u'good', u'great', u'guid', u'high', u'histor', u'histori', u'inform', u'insight', u'intrigu', u'joy', u'just', u'librari', u'life', u'like', u'live', u'look', u'love', u'make', u'mani', u'mysteri', u\"n't\", u'need', u'new', u'novel', u'perfect', u'pick', u'polic', u'power', u'procedur', u'read', u'reader', u'recommend', u'romanc', u'romant', u'scienc', u'seri', u'sf', u'stori', u'strong', u'studi', u'super', u'superb', u'survey', u'suspens', u'tale', u'teen', u'terrif', u'thought', u'thriller', u'time', u'titl', u'urban', u'veri', u'want', u'war', u'way', u'wonder', u'work', u'world', u'written', u'young']\n",
      "\n",
      "min_df 50 top terms:\n",
      "[u\"'s\", u'ani', u'best', u'charact', u'collect', u'courtesi', u'delight', u'engag', u'enjoy', u'entertain', u'excel', u'excit', u'famili', u'fan', u'fantasi', u'fascin', u'fiction', u'fine', u'free', u'fun', u'good', u'great', u'guid', u'high', u'histor', u'histori', u'inform', u'insight', u'intrigu', u'joy', u'librari', u'life', u'like', u'live', u'look', u'love', u'make', u'mysteri', u\"n't\", u'new', u'novel', u'perfect', u'pick', u'power', u'read', u'reader', u'recommend', u'romanc', u'romant', u'scienc', u'seri', u'sf', u'stori', u'strong', u'super', u'suspens', u'tale', u'teen', u'terrif', u'thriller', u'time', u'titl', u'urban', u'veri', u'want', u'wonder', u'work', u'world', u'written']\n",
      "\n",
      "min_df 60 top terms:\n",
      "[u\"'s\", u'ani', u'best', u'charact', u'collect', u'courtesi', u'engag', u'enjoy', u'entertain', u'excel', u'excit', u'fan', u'fantasi', u'fascin', u'fiction', u'fine', u'fun', u'good', u'great', u'guid', u'high', u'histor', u'histori', u'inform', u'insight', u'joy', u'librari', u'life', u'live', u'look', u'love', u'mysteri', u\"n't\", u'new', u'novel', u'perfect', u'pick', u'read', u'reader', u'recommend', u'romanc', u'romant', u'scienc', u'seri', u'stori', u'strong', u'suspens', u'tale', u'teen', u'terrif', u'thriller', u'time', u'titl', u'veri', u'wonder', u'work', u'world', u'written']\n",
      "\n",
      "min_df 70 top terms:\n",
      "[u\"'s\", u'ani', u'best', u'charact', u'collect', u'courtesi', u'engag', u'enjoy', u'entertain', u'excel', u'excit', u'fan', u'fantasi', u'fascin', u'fiction', u'fine', u'fun', u'good', u'great', u'guid', u'high', u'histor', u'histori', u'insight', u'librari', u'life', u'look', u'love', u'mysteri', u\"n't\", u'new', u'novel', u'read', u'reader', u'recommend', u'romanc', u'romant', u'stori', u'strong', u'suspens', u'tale', u'teen', u'terrif', u'thriller', u'time', u'veri', u'wonder', u'work', u'world']\n",
      "\n",
      "min_df 80 top terms:\n",
      "[u\"'s\", u'ani', u'best', u'collect', u'courtesi', u'engag', u'enjoy', u'entertain', u'excel', u'excit', u'fantasi', u'fascin', u'fiction', u'fine', u'fun', u'good', u'great', u'guid', u'high', u'histor', u'histori', u'librari', u'life', u'love', u'mysteri', u\"n't\", u'new', u'novel', u'read', u'reader', u'recommend', u'romanc', u'romant', u'stori', u'strong', u'suspens', u'tale', u'teen', u'thriller', u'veri']\n",
      "\n",
      "min_df 90 top terms:\n",
      "[u\"'s\", u'ani', u'collect', u'courtesi', u'entertain', u'excel', u'excit', u'fantasi', u'fascin', u'fiction', u'fine', u'fun', u'good', u'great', u'high', u'histor', u'histori', u'librari', u'life', u'love', u'mysteri', u\"n't\", u'novel', u'read', u'reader', u'recommend', u'romanc', u'romant', u'stori', u'strong', u'suspens', u'tale', u'teen', u'thriller']\n",
      "\n",
      "min_df 100 top terms:\n",
      "[u\"'s\", u'ani', u'collect', u'courtesi', u'excel', u'fantasi', u'fun', u'good', u'great', u'high', u'histor', u'histori', u'love', u'mysteri', u\"n't\", u'novel', u'read', u'reader', u'recommend', u'romanc', u'romant', u'stori', u'tale', u'teen', u'thriller']\n",
      "\n"
     ]
    }
   ],
   "source": [
    "print_terms(dr4)"
   ]
  },
  {
   "cell_type": "code",
   "execution_count": 350,
   "metadata": {
    "collapsed": true
   },
   "outputs": [],
   "source": [
    "#add_text = np.array ([\"book\", \"'s\", \"read\", \"good\", \"tale\", \"love\", \"excellent\", \"great\", \"any\", \"recommended\", \"highly\",\n",
    "                    # \"joyfully\", \"n't\", \"wonderfully\", \"wonder\", \"wonderful\", \"best\", \"anything\", \"anyone\", \"beautiful\",\n",
    "            #\"enthusiastically\", \"very\", \"sf\", \"free\", \"super\", \"exciting\", \"excellent\", \"terrific\", \"enjoyed\", \"fantastic\",\n",
    "            #\"important\", \"story\", \"recommended\", \"readers\", \"novel\", \"any\", \"excellent\", \"excellence\", \"recommend\", \n",
    "            #\"recommendation\", \"read\", \"reader\", \"readers\", \"beauty\"])\n",
    "add_text = [\"book\"]\n",
    "my_stop_words = text.ENGLISH_STOP_WORDS.union(add_text)\n",
    "stemmer = SnowballStemmer(\"english\")\n",
    "\n",
    "def print_terms_maxdf (dataframe):\n",
    "     \n",
    "    totalvocab_stemmed = []\n",
    "    totalvocab_tokenized = []\n",
    "    \n",
    "    for i in dataframe.summary:\n",
    "        allwords_stemmed = tokenize_and_stem(i) \n",
    "        totalvocab_stemmed.extend(allwords_stemmed) \n",
    "\n",
    "        allwords_tokenized = tokenize_only(i)\n",
    "        totalvocab_tokenized.extend(allwords_tokenized)\n",
    "\n",
    "    vocab_frame = pd.DataFrame({'words': totalvocab_tokenized}, index = totalvocab_stemmed)\n",
    "    vocab_frame = vocab_frame.drop(my_stop_words)\n",
    "    \n",
    "    max_df = [0.1, 0.50, 1.00]\n",
    "    \n",
    "    for i in max_df:\n",
    "        tfidf_vectorizer_cluster = TfidfVectorizer(analyzer=u'word', max_df=i, \n",
    "            max_features=10000, \n",
    "            min_df=20, \n",
    "            stop_words=my_stop_words,\n",
    "                                             use_idf=True, \n",
    "            tokenizer=tokenize_and_stem, \n",
    "                                                   ngram_range=(1,1))\n",
    "\n",
    "        tfidf_matrix_cluster = tfidf_vectorizer_cluster.fit_transform(dataframe.summary) \n",
    "\n",
    "        terms = tfidf_vectorizer_cluster.get_feature_names()\n",
    "        print(\"max_df %d top terms:\" % float(i), end='')\n",
    "        print ()\n",
    "        print (terms)\n",
    "        print ()"
   ]
  },
  {
   "cell_type": "code",
   "execution_count": 351,
   "metadata": {
    "collapsed": false,
    "scrolled": false
   },
   "outputs": [
    {
     "name": "stdout",
     "output_type": "stream",
     "text": [
      "max_df 0 top terms:\n",
      "[u\"'s\", u'absolut', u'account', u'action', u'addit', u'adult', u'adventur', u'advic', u'age', u'amateur', u'america', u'american', u'amp', u'amus', u'ani', u'anoth', u'anyon', u'art', u'author', u'basic', u'beauti', u'best', u'better', u'blend', u'brilliant', u'busi', u'ca', u'centuri', u'chang', u'charact', u'charm', u'children', u'choic', u'classic', u'collect', u'color', u'come', u'compel', u'complex', u'contemporari', u'courtesi', u'cover', u'cultur', u'dark', u'day', u'dead', u'debut', u'deep', u'definit', u'delight', u'design', u'develop', u'did', u'differ', u'doe', u'drama', u'easi', u'effect', u'emot', u'end', u'engag', u'enjoy', u'entertain', u'erot', u'especi', u'everi', u'excel', u'excit', u'exhilar', u'experi', u'fabul', u'famili', u'fan', u'fantasi', u'fantast', u'fascin', u'fast-pac', u'fiction', u'fine', u'free', u'friend', u'fun', u'funni', u'futur', u'general', u'good', u'great', u'guid', u'hard', u'heart', u'help', u'high', u'histor', u'histori', u'horror', u'hot', u'human', u'humor', u'idea', u'illustr', u'import', u'inform', u'insight', u'inspir', u'intrigu', u'introduct', u'investig', u'joy', u'just', u'know', u'learn', u'lend', u'librari', u'life', u'light', u'like', u'littl', u'live', u'long', u'look', u'lot', u'love', u'magic', u'make', u'man', u'manag', u'mani', u'militari', u'miss', u'modern', u'mysteri', u\"n't\", u'need', u'new', u'nice', u'novel', u'offer', u'old', u'onli', u'outstand', u'pack', u'paranorm', u'peopl', u'perfect', u'person', u'pick', u'plot', u'polic', u'polit', u'power', u'practic', u'present', u'procedur', u'provid', u'quit', u'quot', u'rate', u'raw', u'read', u'reader', u'real', u'realli', u'recip', u'recommend', u'refer', u'regenc', u'relationship', u'resourc', u'review', u'rich', u'rivet', u'romanc', u'romant', u'saga', u'scienc', u'second', u'secret', u'seri', u'set', u'sf', u'short', u'sleuth', u'social', u'solid', u'spiritu', u'star', u'start', u'stori', u'strong', u'studi', u'super', u'superb', u'surpris', u'survey', u'suspens', u'sweet', u'tale', u'teen', u'tell', u'terrif', u'think', u'thorough', u'thought', u'thriller', u'time', u'tip', u'titl', u'travel', u'true', u'turn', u'twist', u'understand', u'uniqu', u'urban', u'use', u'vampir', u'veri', u'victorian', u'view', u'want', u'war', u'way', u'wonder', u'work', u'world', u'worth', u'write', u'written', u'year', u'young']\n",
      "\n",
      "max_df 0 top terms:\n",
      "[u\"'s\", u'absolut', u'account', u'action', u'addit', u'adult', u'adventur', u'advic', u'age', u'amateur', u'america', u'american', u'amp', u'amus', u'ani', u'anoth', u'anyon', u'art', u'author', u'basic', u'beauti', u'best', u'better', u'blend', u'brilliant', u'busi', u'ca', u'centuri', u'chang', u'charact', u'charm', u'children', u'choic', u'classic', u'collect', u'color', u'come', u'compel', u'complex', u'contemporari', u'courtesi', u'cover', u'cultur', u'dark', u'day', u'dead', u'debut', u'deep', u'definit', u'delight', u'design', u'develop', u'did', u'differ', u'doe', u'drama', u'easi', u'effect', u'emot', u'end', u'engag', u'enjoy', u'entertain', u'erot', u'especi', u'everi', u'excel', u'excit', u'exhilar', u'experi', u'fabul', u'famili', u'fan', u'fantasi', u'fantast', u'fascin', u'fast-pac', u'fiction', u'fine', u'free', u'friend', u'fun', u'funni', u'futur', u'general', u'good', u'great', u'guid', u'hard', u'heart', u'help', u'high', u'histor', u'histori', u'horror', u'hot', u'human', u'humor', u'idea', u'illustr', u'import', u'inform', u'insight', u'inspir', u'intrigu', u'introduct', u'investig', u'joy', u'just', u'know', u'learn', u'lend', u'librari', u'life', u'light', u'like', u'littl', u'live', u'long', u'look', u'lot', u'love', u'magic', u'make', u'man', u'manag', u'mani', u'militari', u'miss', u'modern', u'mysteri', u\"n't\", u'need', u'new', u'nice', u'novel', u'offer', u'old', u'onli', u'outstand', u'pack', u'paranorm', u'peopl', u'perfect', u'person', u'pick', u'plot', u'polic', u'polit', u'power', u'practic', u'present', u'procedur', u'provid', u'quit', u'quot', u'rate', u'raw', u'read', u'reader', u'real', u'realli', u'recip', u'recommend', u'refer', u'regenc', u'relationship', u'resourc', u'review', u'rich', u'rivet', u'romanc', u'romant', u'saga', u'scienc', u'second', u'secret', u'seri', u'set', u'sf', u'short', u'sleuth', u'social', u'solid', u'spiritu', u'star', u'start', u'stori', u'strong', u'studi', u'super', u'superb', u'surpris', u'survey', u'suspens', u'sweet', u'tale', u'teen', u'tell', u'terrif', u'think', u'thorough', u'thought', u'thriller', u'time', u'tip', u'titl', u'travel', u'true', u'turn', u'twist', u'understand', u'uniqu', u'urban', u'use', u'vampir', u'veri', u'victorian', u'view', u'want', u'war', u'way', u'wonder', u'work', u'world', u'worth', u'write', u'written', u'year', u'young']\n",
      "\n",
      "max_df 1 top terms:\n",
      "[u\"'s\", u'absolut', u'account', u'action', u'addit', u'adult', u'adventur', u'advic', u'age', u'amateur', u'america', u'american', u'amp', u'amus', u'ani', u'anoth', u'anyon', u'art', u'author', u'basic', u'beauti', u'best', u'better', u'blend', u'brilliant', u'busi', u'ca', u'centuri', u'chang', u'charact', u'charm', u'children', u'choic', u'classic', u'collect', u'color', u'come', u'compel', u'complex', u'contemporari', u'courtesi', u'cover', u'cultur', u'dark', u'day', u'dead', u'debut', u'deep', u'definit', u'delight', u'design', u'develop', u'did', u'differ', u'doe', u'drama', u'easi', u'effect', u'emot', u'end', u'engag', u'enjoy', u'entertain', u'erot', u'especi', u'everi', u'excel', u'excit', u'exhilar', u'experi', u'fabul', u'famili', u'fan', u'fantasi', u'fantast', u'fascin', u'fast-pac', u'fiction', u'fine', u'free', u'friend', u'fun', u'funni', u'futur', u'general', u'good', u'great', u'guid', u'hard', u'heart', u'help', u'high', u'histor', u'histori', u'horror', u'hot', u'human', u'humor', u'idea', u'illustr', u'import', u'inform', u'insight', u'inspir', u'intrigu', u'introduct', u'investig', u'joy', u'just', u'know', u'learn', u'lend', u'librari', u'life', u'light', u'like', u'littl', u'live', u'long', u'look', u'lot', u'love', u'magic', u'make', u'man', u'manag', u'mani', u'militari', u'miss', u'modern', u'mysteri', u\"n't\", u'need', u'new', u'nice', u'novel', u'offer', u'old', u'onli', u'outstand', u'pack', u'paranorm', u'peopl', u'perfect', u'person', u'pick', u'plot', u'polic', u'polit', u'power', u'practic', u'present', u'procedur', u'provid', u'quit', u'quot', u'rate', u'raw', u'read', u'reader', u'real', u'realli', u'recip', u'recommend', u'refer', u'regenc', u'relationship', u'resourc', u'review', u'rich', u'rivet', u'romanc', u'romant', u'saga', u'scienc', u'second', u'secret', u'seri', u'set', u'sf', u'short', u'sleuth', u'social', u'solid', u'spiritu', u'star', u'start', u'stori', u'strong', u'studi', u'super', u'superb', u'surpris', u'survey', u'suspens', u'sweet', u'tale', u'teen', u'tell', u'terrif', u'think', u'thorough', u'thought', u'thriller', u'time', u'tip', u'titl', u'travel', u'true', u'turn', u'twist', u'understand', u'uniqu', u'urban', u'use', u'vampir', u'veri', u'victorian', u'view', u'want', u'war', u'way', u'wonder', u'work', u'world', u'worth', u'write', u'written', u'year', u'young']\n",
      "\n"
     ]
    }
   ],
   "source": [
    "print_terms_maxdf(dr4)"
   ]
  },
  {
   "cell_type": "markdown",
   "metadata": {},
   "source": [
    "### Cluster # 9 has 4210 elements. We can further split this cluster"
   ]
  },
  {
   "cell_type": "code",
   "execution_count": 290,
   "metadata": {
    "collapsed": false
   },
   "outputs": [
    {
     "data": {
      "text/plain": [
       "4210"
      ]
     },
     "execution_count": 290,
     "metadata": {},
     "output_type": "execute_result"
    }
   ],
   "source": [
    "len(dr4[dr4.clusterName == 9])"
   ]
  },
  {
   "cell_type": "code",
   "execution_count": 291,
   "metadata": {
    "collapsed": true
   },
   "outputs": [],
   "source": [
    "dr5 = dr4[dr4.clusterName == 9]"
   ]
  },
  {
   "cell_type": "code",
   "execution_count": 293,
   "metadata": {
    "collapsed": false,
    "scrolled": false
   },
   "outputs": [
    {
     "name": "stdout",
     "output_type": "stream",
     "text": [
      "Tfidf Features:\n",
      "\n",
      "[u'action', u'age', u'american', u'ani', u'anoth', u'beauti', u'best', u'better', u'busi', u'charact', u'collect', u'come', u'dark', u'delight', u'drama', u'engag', u'enjoy', u'entertain', u'excel', u'excit', u'famili', u'fan', u'fascin', u'fiction', u'fine', u'free', u'fun', u'good', u'great', u'guid', u'histor', u'histori', u'human', u'inform', u'insight', u'intrigu', u'librari', u'life', u'like', u'live', u'look', u'make', u'mysteri', u\"n't\", u'need', u'new', u'novel', u'perfect', u'person', u'pick', u'polic', u'power', u'procedur', u'quot', u'read', u'reader', u'recip', u'romant', u'scienc', u'seri', u'sf', u'strong', u'studi', u'survey', u'suspens', u'tale', u'terrif', u'thought', u'time', u'use', u'veri', u'want', u'war', u'way', u'wonder', u'world', u'written']\n"
     ]
    },
    {
     "data": {
      "image/png": "[encoded data removed]",
      "text/plain": [
       "<matplotlib.figure.Figure at 0x47531908>"
      ]
     },
     "metadata": {},
     "output_type": "display_data"
    },
    {
     "name": "stdout",
     "output_type": "stream",
     "text": [
      "\n",
      "Number of reviewers in each cluster:\n",
      "0    3663\n",
      "1     120\n",
      "2     109\n",
      "5     105\n",
      "6      98\n",
      "3      59\n",
      "4      56\n",
      "Name: clusterName, dtype: int64\n",
      "\n",
      "Top terms per cluster:\n",
      "\n",
      "Cluster 0 top words: novel, any, excellent, great, history, collection, life, n't, guide, new,\n",
      "\n",
      "Numbers of corporate reviewers:  1782\n",
      "Numbers of individual reviewers: 1881\n",
      "\n",
      "\n",
      "Cluster 0 reviewers: Armchair Interviews, Midwest Book Review, LAS Reviewer \"The Long and the Short Of It Re..., MNix, Bookreporter, Under The Covers Book Blog, The RAWSISTAZ Reviewers, Romancing the Book, Dark Faerie Tales, booksforabuck \"BooksForABuck\", TeensReadToo \"Eat. Drink. Read. Be Merrier.\", nan, Yolanda S. Bean, Thomas Duff \"Duffbert\", Harriet Klausner, E. R. Bird \"Ramseelbird\", Steven H. Propp, S. Schwartz \"romonko\", Nash Black \"Troubadour\", D. Blankenship, Shalom Freedman \"Shalom Freedman\", Rebecca of Amazon \"The Rebecca Review\", Loyd E. Eskildson \"Pragmatist\", Charles Ashbacher, Robert Beveridge \"xterminal\", Donald Mitchell \"Jesus Loves You!\", A. Ross, John Matlock \"Gunny\", Rolf Dobelli \"getAbstract\", Michael K. Smith, Grady Harp, E. Bukowsky \"booklover10\", Neal C. Reynolds, Jerry Saperstein, Lynn Ellingwood \"The ESOL Teacher\", M. Heiss, Gail Cooke, Jane, cb, andrewsheath, Cheryl Koch, E. A Solinas \"ea_solinas\", Arthur W. Jordin, Luan Gaines \"luansos\", Robert Morris, Jbarr5 (julie Barrett), Sandy Milan, K. Eckert \"Devourer of all books fantasy\", Blue Tyson \"- Research Finished\", Dii, Lollipops \"lollipops5\",\n",
      "\n",
      "Cluster 1 top words: tale, fun, terrific, fine, exciting, entertaining, engaging, powerful, written, enjoyed,\n",
      "\n",
      "Numbers of corporate reviewers:  33\n",
      "Numbers of individual reviewers: 87\n",
      "\n",
      "\n",
      "Cluster 1 reviewers: Midwest Book Review, booksforabuck \"BooksForABuck\", Bookreporter, Armchair Interviews, MNix, E. A Solinas \"ea_solinas\", Harriet Klausner, Grady Harp, Donald Mitchell \"Jesus Loves You!\", S. Schwartz \"romonko\", Luan Gaines \"luansos\", Arthur W. Jordin, E. R. Bird \"Ramseelbird\", D. Blankenship, Shalom Freedman \"Shalom Freedman\", Gail Cooke, John Matlock \"Gunny\", Nash Black \"Troubadour\", Loyd E. Eskildson \"Pragmatist\",\n",
      "\n",
      "Cluster 2 top words: readers, sf, free, any, make, pick, age, informed, written, want,\n",
      "\n",
      "Numbers of corporate reviewers:  43\n",
      "Numbers of individual reviewers: 66\n",
      "\n",
      "\n",
      "Cluster 2 reviewers: Bookreporter, Midwest Book Review, Armchair Interviews, booksforabuck \"BooksForABuck\", MNix, Blue Tyson \"- Research Finished\", Nash Black \"Troubadour\", Harriet Klausner, A. Ross, Donald Mitchell \"Jesus Loves You!\", Charles Ashbacher, Shalom Freedman \"Shalom Freedman\",\n",
      "\n",
      "Cluster 3 top words: insights, excellent, good, history, life, powerful, business, look, perfect, informed,\n",
      "\n",
      "Numbers of corporate reviewers:  27\n",
      "Numbers of individual reviewers: 32\n",
      "\n",
      "\n",
      "Cluster 3 reviewers: Midwest Book Review, Bookreporter, booksforabuck \"BooksForABuck\", Gail Cooke, Rolf Dobelli \"getAbstract\", Harriet Klausner, Donald Mitchell \"Jesus Loves You!\", Loyd E. Eskildson \"Pragmatist\", Neal C. Reynolds, Shalom Freedman \"Shalom Freedman\", Charles Ashbacher, Grady Harp, Thomas Duff \"Duffbert\",\n",
      "\n",
      "Cluster 4 top words: very, good, novel, guide, read, n't, time, written, human, best,\n",
      "\n",
      "Numbers of corporate reviewers:  19\n",
      "Numbers of individual reviewers: 37\n",
      "\n",
      "\n",
      "Cluster 4 reviewers: Midwest Book Review, Bookreporter, Armchair Interviews, Dark Faerie Tales, Under The Covers Book Blog, booksforabuck \"BooksForABuck\", E. R. Bird \"Ramseelbird\", Rebecca of Amazon \"The Rebecca Review\", John Matlock \"Gunny\", Jerry Saperstein, Grady Harp, Neal C. Reynolds, S. Schwartz \"romonko\", Michael K. Smith, Robert Beveridge \"xterminal\", Harriet Klausner, Shalom Freedman \"Shalom Freedman\", K. Eckert \"Devourer of all books fantasy\", Charles Ashbacher, Thomas Duff \"Duffbert\", cb, Yolanda S. Bean, D. Blankenship, E. A Solinas \"ea_solinas\", Steven H. Propp,\n",
      "\n",
      "Cluster 5 top words: good, great, like, n't, novel, make, character, tale, ways, readers,\n",
      "\n",
      "Numbers of corporate reviewers:  39\n",
      "Numbers of individual reviewers: 66\n",
      "\n",
      "\n",
      "Cluster 5 reviewers: Bookreporter, Armchair Interviews, Midwest Book Review, The RAWSISTAZ Reviewers, booksforabuck \"BooksForABuck\", MNix, Gail Cooke, Michael K. Smith, Thomas Duff \"Duffbert\", A. Ross, Loyd E. Eskildson \"Pragmatist\", Charles Ashbacher, Rebecca of Amazon \"The Rebecca Review\", Jane, Robert Beveridge \"xterminal\", cb, Donald Mitchell \"Jesus Loves You!\", Jerry Saperstein, D. Blankenship, Harriet Klausner, Neal C. Reynolds, John Matlock \"Gunny\", S. Schwartz \"romonko\", E. A Solinas \"ea_solinas\", M. Heiss, Cheryl Koch, Shalom Freedman \"Shalom Freedman\", Sandy Milan, Robert Morris, E. R. Bird \"Ramseelbird\",\n",
      "\n",
      "Cluster 6 top words: mystery, historical, good, excellent, terrific, fans, fine, enjoyed, entertaining, romantic,\n",
      "\n",
      "Numbers of corporate reviewers:  36\n",
      "Numbers of individual reviewers: 62\n",
      "\n",
      "\n",
      "Cluster 6 reviewers: Bookreporter, Armchair Interviews, booksforabuck \"BooksForABuck\", Midwest Book Review, LAS Reviewer \"The Long and the Short Of It Re..., Jerry Saperstein, Harriet Klausner, E. Bukowsky \"booklover10\", cb, Rebecca of Amazon \"The Rebecca Review\", Jane, Michael K. Smith, Donald Mitchell \"Jesus Loves You!\", A. Ross, Gail Cooke, Dii,\n",
      "\n",
      "\n",
      "\n"
     ]
    },
    {
     "name": "stderr",
     "output_type": "stream",
     "text": [
      "C:\\Users\\Bis\\Anaconda2\\lib\\site-packages\\ipykernel\\__main__.py:75: SettingWithCopyWarning: \n",
      "A value is trying to be set on a copy of a slice from a DataFrame.\n",
      "Try using .loc[row_indexer,col_indexer] = value instead\n",
      "\n",
      "See the caveats in the documentation: http://pandas.pydata.org/pandas-docs/stable/indexing.html#indexing-view-versus-copy\n"
     ]
    }
   ],
   "source": [
    "reviewer_cluster_summary(dr5, 7, 10)"
   ]
  },
  {
   "cell_type": "markdown",
   "metadata": {},
   "source": [
    "Subclustering did not find any more insight but even when it talks more about genre words individual reviewers are more again. Cluster 6 top words: mystery, historical, good, excellent, terrific, fans, fine, enjoyed, entertaining, romantic,\n",
    "\n",
    "Numbers of corporate reviewers:  36\n",
    "Numbers of individual reviewers: 62\n",
    "\n",
    "One can imagine of writing the same function to analyze the review text. "
   ]
  },
  {
   "cell_type": "code",
   "execution_count": 321,
   "metadata": {
    "collapsed": true
   },
   "outputs": [],
   "source": [
    "from __future__ import print_function\n",
    "\n",
    "add_text = [ \"'s\", \"book\", \"n't\", \"klausner\" ] \n",
    "\n",
    "def reviewer_cluster_text (dataframe, num_clusters, n_words):\n",
    "    \n",
    "    from sklearn.cluster import KMeans\n",
    "    from sklearn.externals import joblib\n",
    "    \n",
    "    \n",
    "    totalvocab_stemmed = []\n",
    "    totalvocab_tokenized = []\n",
    "    for i in dataframe.reviewText:\n",
    "        allwords_stemmed = tokenize_and_stem(i) \n",
    "        totalvocab_stemmed.extend(allwords_stemmed) \n",
    "\n",
    "        allwords_tokenized = tokenize_only(i)\n",
    "        totalvocab_tokenized.extend(allwords_tokenized)\n",
    "\n",
    "    vocab_frame = pd.DataFrame({'words': totalvocab_tokenized}, index = totalvocab_stemmed)\n",
    "    \n",
    "    tfidf_vectorizer_cluster = TfidfVectorizer(max_df=0.6, max_features=10000,\n",
    "                                         min_df=80, \n",
    "                                            stop_words=set(my_stop_words),\n",
    "                                         use_idf=True, \n",
    "                                tokenizer=tokenize_and_stem, ngram_range=(1, 1))\n",
    "\n",
    "    tfidf_matrix_cluster = tfidf_vectorizer_cluster.fit_transform(dataframe.reviewText) \n",
    "    \n",
    "    terms = tfidf_vectorizer_cluster.get_feature_names()\n",
    "    \n",
    "    print (\"Tfidf Features:\")\n",
    "    print ()\n",
    "    print (terms)\n",
    "   \n",
    "    tfidf_matrix_cluster_dense = tfidf_matrix_cluster.todense()\n",
    "    \n",
    "    pca = PCA(n_components=2).fit(tfidf_matrix_cluster_dense)\n",
    "    data2D = pca.transform(tfidf_matrix_cluster_dense)\n",
    "    \n",
    "    dataframe1 = pd.DataFrame(dict(x=data2D[:,0], y=data2D[:,1], asin = dataframe.asin, title=dataframe.title, \n",
    "                                   reviewer=dataframe.reviewerID))\n",
    "    \n",
    "    km = KMeans(n_clusters=num_clusters, random_state= 123, n_init=20)\n",
    "   \n",
    "    \n",
    "    dataframe1 ['clusterID'] = km.fit_predict(data2D)\n",
    "    \n",
    "    centroids = km.cluster_centers_\n",
    "    sns.lmplot(x = 'x', y = 'y', hue = \"reviewer\", data=dataframe1, fit_reg= False, scatter_kws={\"s\": 100},\n",
    "              palette=dict(corporate=\"m\", individual=\"b\")) \n",
    "    plt.scatter(centroids[:, 0], centroids[:, 1], marker = \"x\", color = 'k', s=80, linewidths=2)\n",
    "    plt.title (\"2D PCA\")\n",
    "    plt.xlabel(\"PC1\")\n",
    "    plt.ylabel(\"PC2\")\n",
    "    plt.show()\n",
    "    \n",
    "    km.fit(tfidf_matrix_cluster)\n",
    "    clusters = km.labels_.tolist()\n",
    "\n",
    "    joblib.dump(km,  'doc_cluster.pkl')\n",
    "    km = joblib.load('doc_cluster.pkl')\n",
    "    clusters = km.labels_.tolist()\n",
    "    dataframe['clusterName'] = clusters\n",
    "    print()\n",
    "    print (\"Number of reviewers in each cluster:\")\n",
    "    print (dataframe.clusterName.value_counts())\n",
    "    dataframe = dataframe.set_index('clusterName')\n",
    "    print()\n",
    "    print(\"Top terms per cluster:\")\n",
    "    print()\n",
    "\n",
    "    #sort cluster centers by proximity to centroid\n",
    "    order_centroids = km.cluster_centers_.argsort()[:, ::-1] \n",
    "\n",
    "    for i in range(num_clusters):\n",
    "        print(\"Cluster %d top words:\" % i, end='')\n",
    "\n",
    "        for ind in order_centroids[i, :n_words]: \n",
    "            print(' %s' % vocab_frame.ix[terms[ind].split(' ')].values.tolist()[0][0].encode('utf-8', 'ignore'), end=',')\n",
    "        print() #add whitespace\n",
    "        print() #add whitespace\n",
    "        \n",
    "        corporate = []\n",
    "        individual = []\n",
    "        for reviewer in dataframe.ix[i]['reviewerID'].values.tolist():\n",
    "            if reviewer == 'corporate':\n",
    "                corporate.append(reviewer)\n",
    "            else:\n",
    "                individual.append(reviewer)\n",
    "        print (\"Numbers of corporate reviewers: \", len (corporate))  \n",
    "        print (\"Numbers of individual reviewers:\", len(individual))\n",
    "        print() #add whitespace\n",
    "        print()\n",
    "        print(\"Cluster %d reviewers:\" % i, end='')\n",
    "        \n",
    "        for reviewer in dataframe.ix[i]['reviewerName'].unique():\n",
    "            print(' %s,' % reviewer, end='')\n",
    "        print() #add whitespace\n",
    "        print() #add whitespace\n",
    "    \n",
    "    print() #add whitespace\n",
    "    print() #add whitespace\n"
   ]
  },
  {
   "cell_type": "code",
   "execution_count": 310,
   "metadata": {
    "collapsed": true
   },
   "outputs": [],
   "source": [
    "dr6 = dr4.sample(n = 1000) # a smaller sample size for analyzing texts"
   ]
  },
  {
   "cell_type": "code",
   "execution_count": 322,
   "metadata": {
    "collapsed": false,
    "scrolled": false
   },
   "outputs": [
    {
     "name": "stdout",
     "output_type": "stream",
     "text": [
      "Tfidf Features:\n",
      "\n",
      "[u'accept', u'action', u'actual', u'alway', u'american', u'ani', u'anoth', u'anyon', u'anyth', u'appear', u'ask', u'attract', u'author', u'away', u'bad', u'beauti', u'becaus', u'becom', u'befor', u'begin', u'believ', u'best', u'better', u'bit', u'bring', u'busi', u'ca', u'care', u'case', u'certain', u'chang', u'chapter', u'charact', u'children', u'citi', u'clear', u'collect', u'come', u'complet', u'continu', u'cours', u'cover', u'creat', u'danger', u'daughter', u'day', u'dead', u'deal', u'death', u'decid', u'develop', u'did', u'die', u'differ', u'discov', u'doe', u'dure', u'emot', u'end', u'engag', u'enjoy', u'entertain', u'especi', u'event', u'everi', u'everyon', u'everyth', u'expect', u'experi', u'fact', u'fall', u'famili', u'fan', u'far', u'father', u'feel', u'fiction', u'final', u'follow', u'forc', u'friend', u'fun', u'futur', u'girl', u'goe', u'good', u'great', u'grow', u'hand', u'happen', u'hard', u'head', u'heart', u'help', u'high', u'histor', u'histori', u'home', u'hope', u'hous', u'howev', u'human', u'husband', u'idea', u'import', u'includ', u'inform', u'investig', u'involv', u'issu', u'job', u'just', u'kill', u'kind', u'klausner', u'know', u'later', u'lead', u'learn', u'leav', u'left', u'let', u'life', u'like', u'line', u'littl', u'live', u'll', u'long', u'look', u'lot', u'love', u'make', u'man', u'mani', u'marri', u'mean', u'meet', u'men', u'mind', u'miss', u'mother', u'murder', u'mysteri', u\"n't\", u'near', u'need', u'new', u'noth', u'novel', u'offer', u'old', u'onc', u'onli', u'open', u'page', u'parent', u'past', u'peopl', u'perfect', u'person', u'place', u'plan', u'play', u'plot', u'point', u'power', u'present', u'problem', u'provid', u'question', u'quit', u'read', u'reader', u'real', u'realiz', u'realli', u'reason', u'recommend', u'relat', u'relationship', u'remain', u'result', u'return', u'review', u'right', u'romanc', u'run', u'say', u'scene', u'school', u'second', u'secret', u'seri', u'set', u'sever', u'short', u'sinc', u'sister', u'small', u'someon', u'someth', u'son', u'soon', u'star', u'start', u'state', u'stori', u'strong', u'style', u'sure', u'surpris', u'tale', u'tell', u'thing', u'think', u'thought', u'time', u'togeth', u'tri', u'true', u'turn', u'understand', u'use', u've', u'veri', u'want', u'war', u'way', u'whi', u'wife', u'woman', u'women', u'wonder', u'word', u'work', u'world', u'write', u'written', u'year', u'young']\n"
     ]
    },
    {
     "data": {
      "image/png": "[encoded data removed]",
      "text/plain": [
       "<matplotlib.figure.Figure at 0x78566f60>"
      ]
     },
     "metadata": {},
     "output_type": "display_data"
    },
    {
     "name": "stdout",
     "output_type": "stream",
     "text": [
      "\n",
      "Number of reviewers in each cluster:\n",
      "3    244\n",
      "5    207\n",
      "2    202\n",
      "0    183\n",
      "4    112\n",
      "1     52\n",
      "Name: clusterName, dtype: int64\n",
      "\n",
      "Top terms per cluster:\n",
      "\n",
      "Cluster 0 top words: klausner, murder, tales, lead, fans, investigates, years, love, killing, however,\n",
      "\n",
      "Numbers of corporate reviewers:  29\n",
      "Numbers of individual reviewers: 154\n",
      "\n",
      "\n",
      "Cluster 0 reviewers: Harriet Klausner, MNix, Luan Gaines \"luansos\", Bookreporter, Gail Cooke, Jane, Midwest Book Review, Armchair Interviews, Blue Tyson \"- Research Finished\", Arthur W. Jordin, E. Bukowsky \"booklover10\", cb, The RAWSISTAZ Reviewers,\n",
      "\n",
      "Cluster 1 top words: war, world, american, history, eventful, novel, historic, force, time, states,\n",
      "\n",
      "Numbers of corporate reviewers:  27\n",
      "Numbers of individual reviewers: 25\n",
      "\n",
      "\n",
      "Cluster 1 reviewers: Harriet Klausner, Blue Tyson \"- Research Finished\", Shalom Freedman \"Shalom Freedman\", Bookreporter, LAS Reviewer \"The Long and the Short Of It Re..., Neal C. Reynolds, A. Ross, Jerry Saperstein, Armchair Interviews, Loyd E. Eskildson \"Pragmatist\", Midwest Book Review, Luan Gaines \"luansos\", Arthur W. Jordin, E. Bukowsky \"booklover10\", Rolf Dobelli \"getAbstract\", Grady Harp, MNix, booksforabuck \"BooksForABuck\",\n",
      "\n",
      "Cluster 2 top words: use, world, many, covers, read, author, developing, included, any, changes,\n",
      "\n",
      "Numbers of corporate reviewers:  87\n",
      "Numbers of individual reviewers: 115\n",
      "\n",
      "\n",
      "Cluster 2 reviewers: Midwest Book Review, Rolf Dobelli \"getAbstract\", John Matlock \"Gunny\", Rebecca of Amazon \"The Rebecca Review\", Loyd E. Eskildson \"Pragmatist\", Bookreporter, Armchair Interviews, E. Bukowsky \"booklover10\", Steven H. Propp, Neal C. Reynolds, Jbarr5 (julie Barrett), Lynn Ellingwood \"The ESOL Teacher\", Dii, E. A Solinas \"ea_solinas\", Jerry Saperstein, Thomas Duff \"Duffbert\", Donald Mitchell \"Jesus Loves You!\", TeensReadToo \"Eat. Drink. Read. Be Merrier.\", Blue Tyson \"- Research Finished\", Grady Harp, Charles Ashbacher, D. Blankenship, Harriet Klausner, M. Heiss, Under The Covers Book Blog, Shalom Freedman \"Shalom Freedman\", Robert Morris, Lollipops \"lollipops5\", Gail Cooke, MNix, E. R. Bird \"Ramseelbird\", Yolanda S. Bean, The RAWSISTAZ Reviewers,\n",
      "\n",
      "Cluster 3 top words: n't, story, love, liking, read, just, wants, character, does, did,\n",
      "\n",
      "Numbers of corporate reviewers:  138\n",
      "Numbers of individual reviewers: 106\n",
      "\n",
      "\n",
      "Cluster 3 reviewers: MNix, Jane, Under The Covers Book Blog, Romancing the Book, E. A Solinas \"ea_solinas\", andrewsheath, TeensReadToo \"Eat. Drink. Read. Be Merrier.\", Bookreporter, Lollipops \"lollipops5\", Armchair Interviews, Robert Beveridge \"xterminal\", A. Ross, booksforabuck \"BooksForABuck\", K. Eckert \"Devourer of all books fantasy\", Thomas Duff \"Duffbert\", Midwest Book Review, LAS Reviewer \"The Long and the Short Of It Re..., E. R. Bird \"Ramseelbird\", D. Blankenship, Sandy Milan, Gail Cooke, Loyd E. Eskildson \"Pragmatist\", Harriet Klausner, The RAWSISTAZ Reviewers, Arthur W. Jordin, Donald Mitchell \"Jesus Loves You!\", Dii, Rebecca of Amazon \"The Rebecca Review\", Nash Black \"Troubadour\", Jerry Saperstein, John Matlock \"Gunny\", Robert Morris, Grady Harp, Steven H. Propp, Yolanda S. Bean, Cheryl Koch, Rolf Dobelli \"getAbstract\", S. Schwartz \"romonko\", Shalom Freedman \"Shalom Freedman\", Dark Faerie Tales, Michael K. Smith, Lynn Ellingwood \"The ESOL Teacher\",\n",
      "\n",
      "Cluster 4 top words: collection, american, offerings, history, recommends, any, highly, presenting, read, written,\n",
      "\n",
      "Numbers of corporate reviewers:  100\n",
      "Numbers of individual reviewers: 12\n",
      "\n",
      "\n",
      "Cluster 4 reviewers: Midwest Book Review, Arthur W. Jordin, Blue Tyson \"- Research Finished\", Rolf Dobelli \"getAbstract\", Grady Harp, Yolanda S. Bean, Harriet Klausner, Shalom Freedman \"Shalom Freedman\", Rebecca of Amazon \"The Rebecca Review\", Charles Ashbacher,\n",
      "\n",
      "Cluster 5 top words: life, story, novel, lives, love, character, time, family, man, works,\n",
      "\n",
      "Numbers of corporate reviewers:  125\n",
      "Numbers of individual reviewers: 82\n",
      "\n",
      "\n",
      "Cluster 5 reviewers: Bookreporter, Gail Cooke, The RAWSISTAZ Reviewers, Midwest Book Review, D. Blankenship, Armchair Interviews, Neal C. Reynolds, Grady Harp, Arthur W. Jordin, Romancing the Book, Dii, MNix, Luan Gaines \"luansos\", cb, TeensReadToo \"Eat. Drink. Read. Be Merrier.\", Donald Mitchell \"Jesus Loves You!\", Harriet Klausner, A. Ross, Yolanda S. Bean, Nash Black \"Troubadour\", E. Bukowsky \"booklover10\", Shalom Freedman \"Shalom Freedman\", Jbarr5 (julie Barrett), Blue Tyson \"- Research Finished\", Thomas Duff \"Duffbert\", Robert Morris, Jerry Saperstein, E. A Solinas \"ea_solinas\", LAS Reviewer \"The Long and the Short Of It Re..., E. R. Bird \"Ramseelbird\", M. Heiss, S. Schwartz \"romonko\", John Matlock \"Gunny\", Rebecca of Amazon \"The Rebecca Review\", Sandy Milan, Steven H. Propp,\n",
      "\n",
      "\n",
      "\n"
     ]
    }
   ],
   "source": [
    "reviewer_cluster_text(dr6, 6, 10)"
   ]
  },
  {
   "cell_type": "markdown",
   "metadata": {},
   "source": [
    "### What if we supply book genre?"
   ]
  },
  {
   "cell_type": "code",
   "execution_count": 328,
   "metadata": {
    "collapsed": true
   },
   "outputs": [],
   "source": [
    "vocab = [\"romance\", \"mystery\", \"drama\", \"fiction\", \"teen\", \"teens\", \"biography\", \"story\", \"tale\", \"animal\", \"family\", \"fun\", \n",
    "         \"horror\", \"comedy\", \"action\", \"classic\", \"crime\", \"fantasy\", \"humor\", \"children\", \"kid\", \"families\",\"conceptual\",\n",
    "        \"innovation\", \"traumas\", \"style\", \"fashion\", \"social\", \"issues\", \"collection\", \"science\", \"period\", \"photographs\",\n",
    "        \"historical\", \"murder\", \"suspenseful\", \"suspence\", \"inspirational\", \"graphic\", \"instructions\", \"thriller\", \"adventure\",\n",
    "        \"western\", \"textbook\", \"legal\", \"action-packed\", \"career\", \"information\", \"contemporary\",\n",
    "        \"mature\", \"adult\", \"military\", \"marine\", \"cops\", \"agriculture\", \"history\", \"photography\",\"academic\", \"academy\",\n",
    "        \"geography\", \"myth\", \"mythology\", \"paranormal\", \"essay\", \"self-help\", \"memoir\", \"autobiography\", \n",
    "         \"romantic\", \"fairy tale\", \"science fiction\", \"religion\", \"jesus\"]\n",
    "from __future__ import print_function\n",
    "\n",
    "def reviewer_cluster_summary_genre (dataframe, num_clusters, n_words):\n",
    "    \n",
    "    from sklearn.cluster import KMeans\n",
    "    from sklearn.externals import joblib\n",
    "    \n",
    "    \n",
    "    totalvocab_stemmed = []\n",
    "    totalvocab_tokenized = []\n",
    "    for i in dataframe.summary:\n",
    "        allwords_stemmed = tokenize_and_stem(i) \n",
    "        totalvocab_stemmed.extend(allwords_stemmed) \n",
    "\n",
    "        allwords_tokenized = tokenize_only(i)\n",
    "        totalvocab_tokenized.extend(allwords_tokenized)\n",
    "\n",
    "    vocab_frame = pd.DataFrame({'words': totalvocab_tokenized}, index = totalvocab_stemmed)\n",
    "    \n",
    "    tfidf_vectorizer_cluster = TfidfVectorizer(#max_df=1.0, max_features=10000,\n",
    "                                         #min_df=0.0, \n",
    "                                            stop_words=set(my_stop_words),\n",
    "                                         use_idf=True, \n",
    "                                tokenizer=tokenize_and_stem, ngram_range=(1, 1), vocabulary = vocab)\n",
    "\n",
    "    tfidf_matrix_cluster = tfidf_vectorizer_cluster.fit_transform(dataframe.summary) \n",
    "    \n",
    "    terms = tfidf_vectorizer_cluster.get_feature_names()\n",
    "\n",
    "   \n",
    "    tfidf_matrix_cluster_dense = tfidf_matrix_cluster.todense()\n",
    "    \n",
    "    pca = PCA(n_components=2).fit(tfidf_matrix_cluster_dense)\n",
    "    data2D = pca.transform(tfidf_matrix_cluster_dense)\n",
    "    \n",
    "    dataframe1 = pd.DataFrame(dict(x=data2D[:,0], y=data2D[:,1], asin = dataframe.asin, title=dataframe.title, \n",
    "                                   reviewer=dataframe.reviewerID))\n",
    "    \n",
    "    km = KMeans(n_clusters=num_clusters, random_state= 123, n_init=20)\n",
    "   \n",
    "    \n",
    "    dataframe1 ['clusterID'] = km.fit_predict(data2D)\n",
    "    \n",
    "    centroids = km.cluster_centers_\n",
    "    sns.lmplot(x = 'x', y = 'y', hue = \"reviewer\", data=dataframe1, fit_reg= False, scatter_kws={\"s\": 100},\n",
    "              palette=dict(corporate=\"m\", individual=\"b\")) \n",
    "    plt.scatter(centroids[:, 0], centroids[:, 1], marker = \"x\", color = 'k', s=80, linewidths=3)\n",
    "    plt.title (\"2D PCA\")\n",
    "    plt.xlabel(\"PC1\")\n",
    "    plt.ylabel(\"PC2\")\n",
    "    plt.show()\n",
    "    \n",
    "    km.fit(tfidf_matrix_cluster)\n",
    "    clusters = km.labels_.tolist()\n",
    "\n",
    "    joblib.dump(km,  'doc_cluster.pkl')\n",
    "    km = joblib.load('doc_cluster.pkl')\n",
    "    clusters = km.labels_.tolist()\n",
    "    dataframe['clusterName'] = clusters\n",
    "    print()\n",
    "    print (\"Number of reviewers in each cluster:\")\n",
    "    print (dataframe.clusterName.value_counts())\n",
    "    dataframe = dataframe.set_index('clusterName')\n",
    "    print()\n",
    "    print(\"Top terms per cluster:\")\n",
    "    print()\n",
    "\n",
    "    #sort cluster centers by proximity to centroid\n",
    "    order_centroids = km.cluster_centers_.argsort()[:, ::-1] \n",
    "\n",
    "    for i in range(num_clusters):\n",
    "        print(\"Cluster %d top words:\" % i, end='')\n",
    "\n",
    "        for ind in order_centroids[i, :n_words]: \n",
    "            print(' %s' % vocab_frame.ix[terms[ind].split(' ')].values.tolist()[0][0].encode('utf-8', 'ignore'), end=',')\n",
    "        print() #add whitespace\n",
    "        print() #add whitespace\n",
    "        \n",
    "        corporate = []\n",
    "        individual = []\n",
    "        for reviewer in dataframe.ix[i]['reviewerID'].values.tolist():\n",
    "            if reviewer == 'corporate':\n",
    "                corporate.append(reviewer)\n",
    "            else:\n",
    "                individual.append(reviewer)\n",
    "        print (\"Numbers of corporate reviewers: \", len (corporate))  \n",
    "        print (\"Numbers of individual reviewers:\", len(individual))\n",
    "        print() #add whitespace\n",
    "        print()\n",
    "        print(\"Cluster %d reviewers:\" % i, end='')\n",
    "        \n",
    "        for reviewer in dataframe.ix[i]['reviewerName'].unique():\n",
    "            print(' %s,' % reviewer, end='')\n",
    "        print() #add whitespace\n",
    "        print() #add whitespace\n",
    "    \n",
    "    print() #add whitespace\n",
    "    print() #add whitespace\n"
   ]
  },
  {
   "cell_type": "code",
   "execution_count": 331,
   "metadata": {
    "collapsed": false
   },
   "outputs": [
    {
     "data": {
      "image/png": "[encoded data removed]",
      "text/plain": [
       "<matplotlib.figure.Figure at 0x40b92160>"
      ]
     },
     "metadata": {},
     "output_type": "display_data"
    },
    {
     "name": "stdout",
     "output_type": "stream",
     "text": [
      "\n",
      "Number of reviewers in each cluster:\n",
      "0    5435\n",
      "3     213\n",
      "1     142\n",
      "2     129\n",
      "5     111\n",
      "4      90\n",
      "Name: clusterName, dtype: int64\n",
      "\n",
      "Top terms per cluster:\n",
      "\n",
      "Cluster 0 top words: drama, action, humor,\n",
      "\n",
      "Numbers of corporate reviewers:  2764\n",
      "Numbers of individual reviewers: 2671\n",
      "\n",
      "\n",
      "Cluster 0 reviewers: Midwest Book Review, Armchair Interviews, LAS Reviewer \"The Long and the Short Of It Re..., Bookreporter, MNix, Under The Covers Book Blog, The RAWSISTAZ Reviewers, Romancing the Book, Dark Faerie Tales, booksforabuck \"BooksForABuck\", nan, TeensReadToo \"Eat. Drink. Read. Be Merrier.\", Yolanda S. Bean, Thomas Duff \"Duffbert\", Neal C. Reynolds, Harriet Klausner, E. R. Bird \"Ramseelbird\", Steven H. Propp, S. Schwartz \"romonko\", Blue Tyson \"- Research Finished\", Nash Black \"Troubadour\", D. Blankenship, Shalom Freedman \"Shalom Freedman\", Rebecca of Amazon \"The Rebecca Review\", Loyd E. Eskildson \"Pragmatist\", Charles Ashbacher, Robert Beveridge \"xterminal\", Donald Mitchell \"Jesus Loves You!\", A. Ross, Gail Cooke, John Matlock \"Gunny\", Rolf Dobelli \"getAbstract\", Grady Harp, E. Bukowsky \"booklover10\", Jerry Saperstein, M. Heiss, Lynn Ellingwood \"The ESOL Teacher\", Michael K. Smith, Lollipops \"lollipops5\", Jane, Cheryl Koch, Dii, cb, andrewsheath, E. A Solinas \"ea_solinas\", Arthur W. Jordin, Luan Gaines \"luansos\", Robert Morris, Jbarr5 (julie Barrett), Sandy Milan, K. Eckert \"Devourer of all books fantasy\",\n",
      "\n",
      "Cluster 1 top words: teens, kid, children,\n",
      "\n",
      "Numbers of corporate reviewers:  135\n",
      "Numbers of individual reviewers: 7\n",
      "\n",
      "\n",
      "Cluster 1 reviewers: TeensReadToo \"Eat. Drink. Read. Be Merrier.\", Midwest Book Review, Donald Mitchell \"Jesus Loves You!\", Harriet Klausner, K. Eckert \"Devourer of all books fantasy\",\n",
      "\n",
      "Cluster 2 top words: tale, horror, classic,\n",
      "\n",
      "Numbers of corporate reviewers:  42\n",
      "Numbers of individual reviewers: 87\n",
      "\n",
      "\n",
      "Cluster 2 reviewers: Midwest Book Review, Bookreporter, booksforabuck \"BooksForABuck\", Armchair Interviews, Dark Faerie Tales, MNix, E. A Solinas \"ea_solinas\", Grady Harp, Harriet Klausner, Donald Mitchell \"Jesus Loves You!\", S. Schwartz \"romonko\", Luan Gaines \"luansos\", Arthur W. Jordin, E. R. Bird \"Ramseelbird\", D. Blankenship, Gail Cooke, Shalom Freedman \"Shalom Freedman\", John Matlock \"Gunny\", Nash Black \"Troubadour\", Loyd E. Eskildson \"Pragmatist\",\n",
      "\n",
      "Cluster 3 top words: thriller, legal, horror,\n",
      "\n",
      "Numbers of corporate reviewers:  35\n",
      "Numbers of individual reviewers: 178\n",
      "\n",
      "\n",
      "Cluster 3 reviewers: Midwest Book Review, Bookreporter, Armchair Interviews, Dark Faerie Tales, Harriet Klausner, Donald Mitchell \"Jesus Loves You!\", E. Bukowsky \"booklover10\", Gail Cooke, Loyd E. Eskildson \"Pragmatist\", A. Ross, Jerry Saperstein, Nash Black \"Troubadour\", Jane,\n",
      "\n",
      "Cluster 4 top words: fiction, thriller, tale,\n",
      "\n",
      "Numbers of corporate reviewers:  37\n",
      "Numbers of individual reviewers: 53\n",
      "\n",
      "\n",
      "Cluster 4 reviewers: Bookreporter, Midwest Book Review, The RAWSISTAZ Reviewers, booksforabuck \"BooksForABuck\", Armchair Interviews, Harriet Klausner, S. Schwartz \"romonko\", Jerry Saperstein, A. Ross, Robert Beveridge \"xterminal\", Arthur W. Jordin, Grady Harp, Dii, Luan Gaines \"luansos\",\n",
      "\n",
      "Cluster 5 top words: fun, tale, thriller,\n",
      "\n",
      "Numbers of corporate reviewers:  47\n",
      "Numbers of individual reviewers: 64\n",
      "\n",
      "\n",
      "Cluster 5 reviewers: Bookreporter, Midwest Book Review, Armchair Interviews, LAS Reviewer \"The Long and the Short Of It Re..., booksforabuck \"BooksForABuck\", The RAWSISTAZ Reviewers, Harriet Klausner, Michael K. Smith, John Matlock \"Gunny\", D. Blankenship, Gail Cooke, A. Ross, K. Eckert \"Devourer of all books fantasy\", Rebecca of Amazon \"The Rebecca Review\", Dii, Donald Mitchell \"Jesus Loves You!\", Yolanda S. Bean, Lynn Ellingwood \"The ESOL Teacher\", Jane, S. Schwartz \"romonko\",\n",
      "\n",
      "\n",
      "\n"
     ]
    }
   ],
   "source": [
    "reviewer_cluster_summary_genre(dr4, 6, 3)"
   ]
  },
  {
   "cell_type": "markdown",
   "metadata": {},
   "source": [
    "### Feature extraction from review texts when genre is given"
   ]
  },
  {
   "cell_type": "code",
   "execution_count": 343,
   "metadata": {
    "collapsed": false
   },
   "outputs": [],
   "source": [
    "def reviewer_cluster_text_genre (dataframe, num_clusters, n_words):\n",
    "    \n",
    "    from sklearn.cluster import KMeans\n",
    "    from sklearn.externals import joblib\n",
    "    \n",
    "    \n",
    "    totalvocab_stemmed = []\n",
    "    totalvocab_tokenized = []\n",
    "    for i in dataframe.reviewText:\n",
    "        allwords_stemmed = tokenize_and_stem(i) \n",
    "        totalvocab_stemmed.extend(allwords_stemmed) \n",
    "\n",
    "        allwords_tokenized = tokenize_only(i)\n",
    "        totalvocab_tokenized.extend(allwords_tokenized)\n",
    "\n",
    "    vocab_frame = pd.DataFrame({'words': totalvocab_tokenized}, index = totalvocab_stemmed)\n",
    "    \n",
    "    tfidf_vectorizer_cluster = TfidfVectorizer(#max_df=1.0, max_features=10000,\n",
    "                                         #min_df=0.0, \n",
    "                                            stop_words=set(my_stop_words),\n",
    "                                         use_idf=True, \n",
    "                                tokenizer=tokenize_and_stem, ngram_range=(1, 1), vocabulary = vocab)\n",
    "\n",
    "    tfidf_matrix_cluster = tfidf_vectorizer_cluster.fit_transform(dataframe.reviewText) \n",
    "    \n",
    "    terms = tfidf_vectorizer_cluster.get_feature_names()\n",
    "\n",
    "   \n",
    "    tfidf_matrix_cluster_dense = tfidf_matrix_cluster.todense()\n",
    "    \n",
    "    pca = PCA(n_components=2).fit(tfidf_matrix_cluster_dense)\n",
    "    data2D = pca.transform(tfidf_matrix_cluster_dense)\n",
    "    \n",
    "    dataframe1 = pd.DataFrame(dict(x=data2D[:,0], y=data2D[:,1], asin = dataframe.asin, title=dataframe.title, \n",
    "                                   reviewer=dataframe.reviewerID))\n",
    "    \n",
    "    km = KMeans(n_clusters=num_clusters, random_state= 123, n_init=20)\n",
    "   \n",
    "    \n",
    "    dataframe1 ['clusterID'] = km.fit_predict(data2D)\n",
    "    \n",
    "    centroids = km.cluster_centers_\n",
    "    sns.lmplot(x = 'x', y = 'y', hue = \"reviewer\", data=dataframe1, fit_reg= False, scatter_kws={\"s\": 100},\n",
    "              palette=dict(corporate=\"m\", individual=\"b\")) \n",
    "    plt.scatter(centroids[:, 0], centroids[:, 1], marker = \"x\", color = 'k', s=80, linewidths=3)\n",
    "    plt.title (\"2D PCA\")\n",
    "    plt.xlabel(\"PC1\")\n",
    "    plt.ylabel(\"PC2\")\n",
    "    plt.show()\n",
    "    \n",
    "    km.fit(tfidf_matrix_cluster)\n",
    "    clusters = km.labels_.tolist()\n",
    "\n",
    "    joblib.dump(km,  'doc_cluster.pkl')\n",
    "    km = joblib.load('doc_cluster.pkl')\n",
    "    clusters = km.labels_.tolist()\n",
    "    dataframe['clusterName'] = clusters\n",
    "    print()\n",
    "    print (\"Number of reviewers in each cluster:\")\n",
    "    print (dataframe.clusterName.value_counts())\n",
    "    dataframe = dataframe.set_index('clusterName')\n",
    "    print()\n",
    "    print(\"Top terms per cluster:\")\n",
    "    print()\n",
    "\n",
    "    #sort cluster centers by proximity to centroid\n",
    "    order_centroids = km.cluster_centers_.argsort()[:, ::-1] \n",
    "\n",
    "    for i in range(num_clusters):\n",
    "        print(\"Cluster %d top words:\" % i, end='')\n",
    "\n",
    "        for ind in order_centroids[i, :n_words]: \n",
    "            print(' %s' % vocab_frame.ix[terms[ind].split(' ')].values.tolist()[0][0].encode('utf-8', 'ignore'), end=',')\n",
    "        print() #add whitespace\n",
    "        print() #add whitespace\n",
    "        \n",
    "        corporate = []\n",
    "        individual = []\n",
    "        for reviewer in dataframe.ix[i]['reviewerID'].values.tolist():\n",
    "            if reviewer == 'corporate':\n",
    "                corporate.append(reviewer)\n",
    "            else:\n",
    "                individual.append(reviewer)\n",
    "        print (\"Numbers of corporate reviewers: \", len (corporate))  \n",
    "        print (\"Numbers of individual reviewers:\", len(individual))\n",
    "        print() #add whitespace\n",
    "        print()\n",
    "        print(\"Cluster %d reviewers:\" % i, end='')\n",
    "        \n",
    "        for reviewer in dataframe.ix[i]['reviewerName'].unique():\n",
    "            print(' %s,' % reviewer, end='')\n",
    "        print() #add whitespace\n",
    "        print() #add whitespace\n",
    "    \n",
    "    print() #add whitespace\n",
    "    print() #add whitespace\n"
   ]
  },
  {
   "cell_type": "code",
   "execution_count": 345,
   "metadata": {
    "collapsed": false,
    "scrolled": false
   },
   "outputs": [
    {
     "data": {
      "image/png": "[encoded data removed]",
      "text/plain": [
       "<matplotlib.figure.Figure at 0x75f6a518>"
      ]
     },
     "metadata": {},
     "output_type": "display_data"
    },
    {
     "name": "stdout",
     "output_type": "stream",
     "text": [
      "\n",
      "Number of reviewers in each cluster:\n",
      "1    3397\n",
      "0     489\n",
      "2     482\n",
      "6     436\n",
      "5     420\n",
      "3     316\n",
      "4     312\n",
      "7     268\n",
      "Name: clusterName, dtype: int64\n",
      "\n",
      "Top terms per cluster:\n",
      "\n",
      "Cluster 0 top words: murder, thriller, crime, tale, fiction,\n",
      "\n",
      "Numbers of corporate reviewers:  231\n",
      "Numbers of individual reviewers: 258\n",
      "\n",
      "\n",
      "Cluster 0 reviewers: Bookreporter, Armchair Interviews, Midwest Book Review, TeensReadToo \"Eat. Drink. Read. Be Merrier.\", The RAWSISTAZ Reviewers, MNix, LAS Reviewer \"The Long and the Short Of It Re..., booksforabuck \"BooksForABuck\", Dark Faerie Tales, Under The Covers Book Blog, Jerry Saperstein, Harriet Klausner, Michael K. Smith, E. Bukowsky \"booklover10\", E. A Solinas \"ea_solinas\", S. Schwartz \"romonko\", cb, Grady Harp, Loyd E. Eskildson \"Pragmatist\", Sandy Milan, Arthur W. Jordin, John Matlock \"Gunny\", Luan Gaines \"luansos\", Robert Beveridge \"xterminal\", Donald Mitchell \"Jesus Loves You!\", Shalom Freedman \"Shalom Freedman\", Gail Cooke, Charles Ashbacher, D. Blankenship, Lollipops \"lollipops5\", A. Ross, Jbarr5 (julie Barrett), Nash Black \"Troubadour\", Dii, Cheryl Koch, Jane, Robert Morris,\n",
      "\n",
      "Cluster 1 top words: fiction, social, thriller, career, crime,\n",
      "\n",
      "Numbers of corporate reviewers:  1886\n",
      "Numbers of individual reviewers: 1511\n",
      "\n",
      "\n",
      "Cluster 1 reviewers: Midwest Book Review, LAS Reviewer \"The Long and the Short Of It Re..., MNix, Under The Covers Book Blog, Bookreporter, Armchair Interviews, The RAWSISTAZ Reviewers, Romancing the Book, Dark Faerie Tales, TeensReadToo \"Eat. Drink. Read. Be Merrier.\", booksforabuck \"BooksForABuck\", nan, Yolanda S. Bean, Thomas Duff \"Duffbert\", E. R. Bird \"Ramseelbird\", Steven H. Propp, S. Schwartz \"romonko\", Blue Tyson \"- Research Finished\", Nash Black \"Troubadour\", Rebecca of Amazon \"The Rebecca Review\", Loyd E. Eskildson \"Pragmatist\", Charles Ashbacher, Robert Beveridge \"xterminal\", A. Ross, Harriet Klausner, John Matlock \"Gunny\", Rolf Dobelli \"getAbstract\", Michael K. Smith, Grady Harp, Neal C. Reynolds, M. Heiss, D. Blankenship, Donald Mitchell \"Jesus Loves You!\", Cheryl Koch, cb, andrewsheath, Jerry Saperstein, Gail Cooke, Shalom Freedman \"Shalom Freedman\", Jane, Lynn Ellingwood \"The ESOL Teacher\", E. Bukowsky \"booklover10\", Robert Morris, Luan Gaines \"luansos\", Jbarr5 (julie Barrett), Sandy Milan, E. A Solinas \"ea_solinas\", Dii, Lollipops \"lollipops5\", Arthur W. Jordin, K. Eckert \"Devourer of all books fantasy\",\n",
      "\n",
      "Cluster 2 top words: tale, thriller, fiction, adult, actions,\n",
      "\n",
      "Numbers of corporate reviewers:  148\n",
      "Numbers of individual reviewers: 334\n",
      "\n",
      "\n",
      "Cluster 2 reviewers: Bookreporter, The RAWSISTAZ Reviewers, Midwest Book Review, TeensReadToo \"Eat. Drink. Read. Be Merrier.\", MNix, Dark Faerie Tales, Romancing the Book, LAS Reviewer \"The Long and the Short Of It Re..., booksforabuck \"BooksForABuck\", Armchair Interviews, Under The Covers Book Blog, Harriet Klausner, Grady Harp, Rolf Dobelli \"getAbstract\", Dii, Donald Mitchell \"Jesus Loves You!\", E. R. Bird \"Ramseelbird\", Luan Gaines \"luansos\", Arthur W. Jordin, Gail Cooke, Robert Beveridge \"xterminal\", D. Blankenship, E. A Solinas \"ea_solinas\", Blue Tyson \"- Research Finished\", E. Bukowsky \"booklover10\", Charles Ashbacher, Cheryl Koch, S. Schwartz \"romonko\", A. Ross, Jerry Saperstein, Shalom Freedman \"Shalom Freedman\", Michael K. Smith, K. Eckert \"Devourer of all books fantasy\", John Matlock \"Gunny\", Thomas Duff \"Duffbert\", Rebecca of Amazon \"The Rebecca Review\", Jbarr5 (julie Barrett), Yolanda S. Bean,\n",
      "\n",
      "Cluster 3 top words: fun, tale, kid, murder, children,\n",
      "\n",
      "Numbers of corporate reviewers:  141\n",
      "Numbers of individual reviewers: 175\n",
      "\n",
      "\n",
      "Cluster 3 reviewers: Armchair Interviews, Bookreporter, LAS Reviewer \"The Long and the Short Of It Re..., MNix, Midwest Book Review, TeensReadToo \"Eat. Drink. Read. Be Merrier.\", booksforabuck \"BooksForABuck\", Romancing the Book, The RAWSISTAZ Reviewers, Under The Covers Book Blog, Harriet Klausner, Lynn Ellingwood \"The ESOL Teacher\", Gail Cooke, Nash Black \"Troubadour\", Cheryl Koch, Grady Harp, M. Heiss, Thomas Duff \"Duffbert\", E. Bukowsky \"booklover10\", Donald Mitchell \"Jesus Loves You!\", K. Eckert \"Devourer of all books fantasy\", Rolf Dobelli \"getAbstract\", Loyd E. Eskildson \"Pragmatist\", Blue Tyson \"- Research Finished\", E. A Solinas \"ea_solinas\", andrewsheath, Jane, Neal C. Reynolds, S. Schwartz \"romonko\", Rebecca of Amazon \"The Rebecca Review\", E. R. Bird \"Ramseelbird\", cb, Yolanda S. Bean, D. Blankenship, Jerry Saperstein, Robert Morris, Shalom Freedman \"Shalom Freedman\", Robert Beveridge \"xterminal\", A. Ross, Sandy Milan, Charles Ashbacher, Arthur W. Jordin,\n",
      "\n",
      "Cluster 4 top words: humorous, fun, tale, style, children,\n",
      "\n",
      "Numbers of corporate reviewers:  159\n",
      "Numbers of individual reviewers: 153\n",
      "\n",
      "\n",
      "Cluster 4 reviewers: LAS Reviewer \"The Long and the Short Of It Re..., Under The Covers Book Blog, Bookreporter, Armchair Interviews, TeensReadToo \"Eat. Drink. Read. Be Merrier.\", The RAWSISTAZ Reviewers, Midwest Book Review, MNix, booksforabuck \"BooksForABuck\", Dark Faerie Tales, Romancing the Book, Shalom Freedman \"Shalom Freedman\", Harriet Klausner, Thomas Duff \"Duffbert\", Gail Cooke, Robert Beveridge \"xterminal\", Grady Harp, Donald Mitchell \"Jesus Loves You!\", Cheryl Koch, John Matlock \"Gunny\", cb, Michael K. Smith, E. Bukowsky \"booklover10\", Neal C. Reynolds, A. Ross, Jane, Rebecca of Amazon \"The Rebecca Review\", Dii, E. A Solinas \"ea_solinas\", Jerry Saperstein, D. Blankenship, E. R. Bird \"Ramseelbird\", andrewsheath, M. Heiss, Charles Ashbacher, Luan Gaines \"luansos\", K. Eckert \"Devourer of all books fantasy\", Loyd E. Eskildson \"Pragmatist\",\n",
      "\n",
      "Cluster 5 top words: children, kid, adult, tale, fiction,\n",
      "\n",
      "Numbers of corporate reviewers:  184\n",
      "Numbers of individual reviewers: 236\n",
      "\n",
      "\n",
      "Cluster 5 reviewers: The RAWSISTAZ Reviewers, Armchair Interviews, TeensReadToo \"Eat. Drink. Read. Be Merrier.\", Midwest Book Review, Bookreporter, MNix, booksforabuck \"BooksForABuck\", Dark Faerie Tales, LAS Reviewer \"The Long and the Short Of It Re..., Neal C. Reynolds, Harriet Klausner, D. Blankenship, E. R. Bird \"Ramseelbird\", Donald Mitchell \"Jesus Loves You!\", Gail Cooke, Lollipops \"lollipops5\", Steven H. Propp, Jerry Saperstein, Arthur W. Jordin, nan, E. A Solinas \"ea_solinas\", M. Heiss, Rebecca of Amazon \"The Rebecca Review\", Loyd E. Eskildson \"Pragmatist\", Charles Ashbacher, Luan Gaines \"luansos\", K. Eckert \"Devourer of all books fantasy\", Shalom Freedman \"Shalom Freedman\", Robert Morris, Grady Harp, Blue Tyson \"- Research Finished\", E. Bukowsky \"booklover10\", Rolf Dobelli \"getAbstract\", Sandy Milan, Cheryl Koch, Jane, cb, Lynn Ellingwood \"The ESOL Teacher\", A. Ross, Robert Beveridge \"xterminal\", John Matlock \"Gunny\",\n",
      "\n",
      "Cluster 6 top words: actions, thriller, tale, fiction, murder,\n",
      "\n",
      "Numbers of corporate reviewers:  193\n",
      "Numbers of individual reviewers: 243\n",
      "\n",
      "\n",
      "Cluster 6 reviewers: Bookreporter, TeensReadToo \"Eat. Drink. Read. Be Merrier.\", Armchair Interviews, MNix, booksforabuck \"BooksForABuck\", Midwest Book Review, Under The Covers Book Blog, LAS Reviewer \"The Long and the Short Of It Re..., Dark Faerie Tales, The RAWSISTAZ Reviewers, Romancing the Book, Harriet Klausner, Gail Cooke, E. Bukowsky \"booklover10\", Jane, Donald Mitchell \"Jesus Loves You!\", andrewsheath, Shalom Freedman \"Shalom Freedman\", Rebecca of Amazon \"The Rebecca Review\", E. A Solinas \"ea_solinas\", Jerry Saperstein, K. Eckert \"Devourer of all books fantasy\", Arthur W. Jordin, Grady Harp, Charles Ashbacher, Thomas Duff \"Duffbert\", Robert Beveridge \"xterminal\", Michael K. Smith, Neal C. Reynolds, Loyd E. Eskildson \"Pragmatist\", Robert Morris, Rolf Dobelli \"getAbstract\", Luan Gaines \"luansos\", Dii, John Matlock \"Gunny\", Cheryl Koch, A. Ross, S. Schwartz \"romonko\", Lollipops \"lollipops5\",\n",
      "\n",
      "Cluster 7 top words: style, tale, actions, fiction, children,\n",
      "\n",
      "Numbers of corporate reviewers:  118\n",
      "Numbers of individual reviewers: 150\n",
      "\n",
      "\n",
      "Cluster 7 reviewers: Midwest Book Review, Bookreporter, Armchair Interviews, booksforabuck \"BooksForABuck\", MNix, LAS Reviewer \"The Long and the Short Of It Re..., TeensReadToo \"Eat. Drink. Read. Be Merrier.\", Under The Covers Book Blog, Dark Faerie Tales, The RAWSISTAZ Reviewers, E. A Solinas \"ea_solinas\", E. Bukowsky \"booklover10\", John Matlock \"Gunny\", Robert Beveridge \"xterminal\", Jerry Saperstein, Charles Ashbacher, Thomas Duff \"Duffbert\", Neal C. Reynolds, Blue Tyson \"- Research Finished\", Donald Mitchell \"Jesus Loves You!\", Rolf Dobelli \"getAbstract\", Robert Morris, Dii, Sandy Milan, Harriet Klausner, A. Ross, Lollipops \"lollipops5\", D. Blankenship, Grady Harp, Jane, Michael K. Smith, Cheryl Koch, Nash Black \"Troubadour\", Rebecca of Amazon \"The Rebecca Review\", E. R. Bird \"Ramseelbird\", K. Eckert \"Devourer of all books fantasy\", M. Heiss, Arthur W. Jordin, Yolanda S. Bean, Loyd E. Eskildson \"Pragmatist\", Gail Cooke, Shalom Freedman \"Shalom Freedman\", Jbarr5 (julie Barrett),\n",
      "\n",
      "\n",
      "\n"
     ]
    }
   ],
   "source": [
    "reviewer_cluster_text_genre(dr4, 8, 5)"
   ]
  },
  {
   "cell_type": "code",
   "execution_count": 346,
   "metadata": {
    "collapsed": false
   },
   "outputs": [
    {
     "data": {
      "text/plain": [
       "3397"
      ]
     },
     "execution_count": 346,
     "metadata": {},
     "output_type": "execute_result"
    }
   ],
   "source": [
    "len(dr4[dr4.clusterName == 1])"
   ]
  },
  {
   "cell_type": "code",
   "execution_count": 347,
   "metadata": {
    "collapsed": true
   },
   "outputs": [],
   "source": [
    "dr7 = dr4[dr4.clusterName == 1]"
   ]
  },
  {
   "cell_type": "code",
   "execution_count": 348,
   "metadata": {
    "collapsed": false,
    "scrolled": false
   },
   "outputs": [
    {
     "data": {
      "image/png": "[encoded data removed]",
      "text/plain": [
       "<matplotlib.figure.Figure at 0x7c12fef0>"
      ]
     },
     "metadata": {},
     "output_type": "display_data"
    },
    {
     "name": "stderr",
     "output_type": "stream",
     "text": [
      "C:\\Users\\Bis\\Anaconda2\\lib\\site-packages\\ipykernel\\__main__.py:57: SettingWithCopyWarning: \n",
      "A value is trying to be set on a copy of a slice from a DataFrame.\n",
      "Try using .loc[row_indexer,col_indexer] = value instead\n",
      "\n",
      "See the caveats in the documentation: http://pandas.pydata.org/pandas-docs/stable/indexing.html#indexing-view-versus-copy\n"
     ]
    },
    {
     "name": "stdout",
     "output_type": "stream",
     "text": [
      "\n",
      "Number of reviewers in each cluster:\n",
      "0    2571\n",
      "1     181\n",
      "3     142\n",
      "2     137\n",
      "4     117\n",
      "5     101\n",
      "6      97\n",
      "7      51\n",
      "Name: clusterName, dtype: int64\n",
      "\n",
      "Top terms per cluster:\n",
      "\n",
      "Cluster 0 top words: crime, period, teens, adult, drama,\n",
      "\n",
      "Numbers of corporate reviewers:  1489\n",
      "Numbers of individual reviewers: 1082\n",
      "\n",
      "\n",
      "Cluster 0 reviewers: Midwest Book Review, LAS Reviewer \"The Long and the Short Of It Re..., MNix, Under The Covers Book Blog, Armchair Interviews, Bookreporter, The RAWSISTAZ Reviewers, Romancing the Book, Dark Faerie Tales, TeensReadToo \"Eat. Drink. Read. Be Merrier.\", booksforabuck \"BooksForABuck\", nan, Yolanda S. Bean, Steven H. Propp, S. Schwartz \"romonko\", Blue Tyson \"- Research Finished\", Nash Black \"Troubadour\", Charles Ashbacher, Robert Beveridge \"xterminal\", A. Ross, Loyd E. Eskildson \"Pragmatist\", John Matlock \"Gunny\", Rolf Dobelli \"getAbstract\", Michael K. Smith, Grady Harp, Harriet Klausner, Thomas Duff \"Duffbert\", M. Heiss, Rebecca of Amazon \"The Rebecca Review\", D. Blankenship, Donald Mitchell \"Jesus Loves You!\", cb, andrewsheath, Neal C. Reynolds, Cheryl Koch, Jerry Saperstein, Gail Cooke, Shalom Freedman \"Shalom Freedman\", Jane, Lynn Ellingwood \"The ESOL Teacher\", Jbarr5 (julie Barrett), Sandy Milan, Luan Gaines \"luansos\", Robert Morris, E. A Solinas \"ea_solinas\", Dii, Lollipops \"lollipops5\", E. R. Bird \"Ramseelbird\", E. Bukowsky \"booklover10\", Arthur W. Jordin, K. Eckert \"Devourer of all books fantasy\",\n",
      "\n",
      "Cluster 1 top words: fiction, crime, memoirs, adult, period,\n",
      "\n",
      "Numbers of corporate reviewers:  109\n",
      "Numbers of individual reviewers: 72\n",
      "\n",
      "\n",
      "Cluster 1 reviewers: Midwest Book Review, Bookreporter, TeensReadToo \"Eat. Drink. Read. Be Merrier.\", Armchair Interviews, booksforabuck \"BooksForABuck\", Romancing the Book, The RAWSISTAZ Reviewers, LAS Reviewer \"The Long and the Short Of It Re..., MNix, E. R. Bird \"Ramseelbird\", Neal C. Reynolds, A. Ross, S. Schwartz \"romonko\", Harriet Klausner, D. Blankenship, Blue Tyson \"- Research Finished\", Charles Ashbacher, Donald Mitchell \"Jesus Loves You!\", Grady Harp, Michael K. Smith, Jane, Lollipops \"lollipops5\", Arthur W. Jordin, E. A Solinas \"ea_solinas\", Gail Cooke, Robert Beveridge \"xterminal\", Lynn Ellingwood \"The ESOL Teacher\", E. Bukowsky \"booklover10\", Nash Black \"Troubadour\", John Matlock \"Gunny\", Yolanda S. Bean, Luan Gaines \"luansos\",\n",
      "\n",
      "Cluster 2 top words: thriller, crime, fiction, tale, legal,\n",
      "\n",
      "Numbers of corporate reviewers:  32\n",
      "Numbers of individual reviewers: 105\n",
      "\n",
      "\n",
      "Cluster 2 reviewers: Midwest Book Review, Bookreporter, Armchair Interviews, MNix, TeensReadToo \"Eat. Drink. Read. Be Merrier.\", Harriet Klausner, John Matlock \"Gunny\", E. Bukowsky \"booklover10\", Nash Black \"Troubadour\", Loyd E. Eskildson \"Pragmatist\", Gail Cooke, S. Schwartz \"romonko\", A. Ross, Jerry Saperstein, Neal C. Reynolds, Grady Harp, Luan Gaines \"luansos\", Jane,\n",
      "\n",
      "Cluster 3 top words: social, fiction, adult, religion, crime,\n",
      "\n",
      "Numbers of corporate reviewers:  70\n",
      "Numbers of individual reviewers: 72\n",
      "\n",
      "\n",
      "Cluster 3 reviewers: Midwest Book Review, Bookreporter, TeensReadToo \"Eat. Drink. Read. Be Merrier.\", booksforabuck \"BooksForABuck\", LAS Reviewer \"The Long and the Short Of It Re..., Armchair Interviews, The RAWSISTAZ Reviewers, MNix, Rebecca of Amazon \"The Rebecca Review\", Loyd E. Eskildson \"Pragmatist\", Harriet Klausner, E. Bukowsky \"booklover10\", Robert Morris, Luan Gaines \"luansos\", Shalom Freedman \"Shalom Freedman\", Grady Harp, Neal C. Reynolds, Donald Mitchell \"Jesus Loves You!\", D. Blankenship, S. Schwartz \"romonko\", Rolf Dobelli \"getAbstract\", Robert Beveridge \"xterminal\", Michael K. Smith, John Matlock \"Gunny\", K. Eckert \"Devourer of all books fantasy\", Arthur W. Jordin, Jerry Saperstein, Charles Ashbacher, Thomas Duff \"Duffbert\", Gail Cooke, Steven H. Propp,\n",
      "\n",
      "Cluster 4 top words: career, crime, period, social, tale,\n",
      "\n",
      "Numbers of corporate reviewers:  64\n",
      "Numbers of individual reviewers: 53\n",
      "\n",
      "\n",
      "Cluster 4 reviewers: Bookreporter, Midwest Book Review, booksforabuck \"BooksForABuck\", The RAWSISTAZ Reviewers, Armchair Interviews, MNix, TeensReadToo \"Eat. Drink. Read. Be Merrier.\", LAS Reviewer \"The Long and the Short Of It Re..., Charles Ashbacher, Donald Mitchell \"Jesus Loves You!\", Robert Morris, Grady Harp, Thomas Duff \"Duffbert\", Harriet Klausner, Loyd E. Eskildson \"Pragmatist\", E. A Solinas \"ea_solinas\", Luan Gaines \"luansos\", Michael K. Smith, Jerry Saperstein, John Matlock \"Gunny\", Rolf Dobelli \"getAbstract\", E. Bukowsky \"booklover10\", Nash Black \"Troubadour\",\n",
      "\n",
      "Cluster 5 top words: kid, fiction, adult, teens, tale,\n",
      "\n",
      "Numbers of corporate reviewers:  42\n",
      "Numbers of individual reviewers: 59\n",
      "\n",
      "\n",
      "Cluster 5 reviewers: Midwest Book Review, Bookreporter, TeensReadToo \"Eat. Drink. Read. Be Merrier.\", The RAWSISTAZ Reviewers, Armchair Interviews, MNix, LAS Reviewer \"The Long and the Short Of It Re..., Under The Covers Book Blog, M. Heiss, A. Ross, E. R. Bird \"Ramseelbird\", Jane, Neal C. Reynolds, John Matlock \"Gunny\", Robert Beveridge \"xterminal\", Harriet Klausner, E. A Solinas \"ea_solinas\", Jerry Saperstein, Lynn Ellingwood \"The ESOL Teacher\", D. Blankenship, Dii, Blue Tyson \"- Research Finished\", K. Eckert \"Devourer of all books fantasy\", Rebecca of Amazon \"The Rebecca Review\", Loyd E. Eskildson \"Pragmatist\", Sandy Milan, Jbarr5 (julie Barrett),\n",
      "\n",
      "Cluster 6 top words: classic, tale, horror, fiction, memoirs,\n",
      "\n",
      "Numbers of corporate reviewers:  53\n",
      "Numbers of individual reviewers: 44\n",
      "\n",
      "\n",
      "Cluster 6 reviewers: Bookreporter, Midwest Book Review, The RAWSISTAZ Reviewers, TeensReadToo \"Eat. Drink. Read. Be Merrier.\", MNix, LAS Reviewer \"The Long and the Short Of It Re..., Dark Faerie Tales, Robert Beveridge \"xterminal\", Cheryl Koch, Harriet Klausner, S. Schwartz \"romonko\", Rolf Dobelli \"getAbstract\", John Matlock \"Gunny\", Donald Mitchell \"Jesus Loves You!\", Jerry Saperstein, A. Ross, Thomas Duff \"Duffbert\", Robert Morris, Michael K. Smith, E. A Solinas \"ea_solinas\", Rebecca of Amazon \"The Rebecca Review\", Grady Harp, Gail Cooke, Luan Gaines \"luansos\", Shalom Freedman \"Shalom Freedman\", Neal C. Reynolds, Charles Ashbacher,\n",
      "\n",
      "Cluster 7 top words: jesus, religion, tale, fiction, style,\n",
      "\n",
      "Numbers of corporate reviewers:  27\n",
      "Numbers of individual reviewers: 24\n",
      "\n",
      "\n",
      "Cluster 7 reviewers: Midwest Book Review, Armchair Interviews, Bookreporter, The RAWSISTAZ Reviewers, Thomas Duff \"Duffbert\", Steven H. Propp, Loyd E. Eskildson \"Pragmatist\", Gail Cooke, Rebecca of Amazon \"The Rebecca Review\", Harriet Klausner, John Matlock \"Gunny\", Donald Mitchell \"Jesus Loves You!\",\n",
      "\n",
      "\n",
      "\n"
     ]
    }
   ],
   "source": [
    "reviewer_cluster_text_genre(dr7, 8, 5)"
   ]
  },
  {
   "cell_type": "code",
   "execution_count": null,
   "metadata": {
    "collapsed": true
   },
   "outputs": [],
   "source": []
  }
 ],
 "metadata": {
  "anaconda-cloud": {},
  "kernelspec": {
   "display_name": "Python [conda root]",
   "language": "python",
   "name": "conda-root-py"
  },
  "language_info": {
   "codemirror_mode": {
    "name": "ipython",
    "version": 2
   },
   "file_extension": ".py",
   "mimetype": "text/x-python",
   "name": "python",
   "nbconvert_exporter": "python",
   "pygments_lexer": "ipython2",
   "version": "2.7.12"
  }
 },
 "nbformat": 4,
 "nbformat_minor": 1
}
