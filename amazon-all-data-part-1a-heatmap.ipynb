{
 "cells": [
  {
   "cell_type": "markdown",
   "metadata": {},
   "source": [
    "## Amazon Book Reviews Part Ia: Heatmaps of Reviews\n",
    "\n",
    "#### This is the 5-core dataset which means that each user and item has at least 5 reviews. The dataset has ~9 million reviews: http://jmcauley.ucsd.edu/data/amazon/. \n",
    "\n",
    "### Introduction\n",
    "\n",
    "Heatmaps are constructed from reviews and ratings given by the users."
   ]
  },
  {
   "cell_type": "code",
   "execution_count": 1,
   "metadata": {
    "collapsed": true
   },
   "outputs": [],
   "source": [
    "import pandas as pd\n",
    "import numpy as np\n",
    "import matplotlib.pyplot as plt\n",
    "import seaborn as sns\n",
    "from pandas.io import gbq\n",
    "%matplotlib inline"
   ]
  },
  {
   "cell_type": "code",
   "execution_count": 2,
   "metadata": {
    "collapsed": true
   },
   "outputs": [],
   "source": [
    "project_id = 'dotted-chiller-156222'"
   ]
  },
  {
   "cell_type": "code",
   "execution_count": 3,
   "metadata": {
    "collapsed": true
   },
   "outputs": [],
   "source": [
    "query1 = \"SELECT reviewerID, unixReviewTime FROM amazon_book_small.rev1 \\\n",
    "WHERE unixReviewTime >= '1996-01-01 00:00:00 UTC' AND unixReviewTime < '2013-01-01 00:00:00 UTC'\""
   ]
  },
  {
   "cell_type": "code",
   "execution_count": 4,
   "metadata": {
    "collapsed": true
   },
   "outputs": [
    {
     "name": "stdout",
     "output_type": "stream",
     "text": [
      "Requesting query... ok.\n",
      "Query running...\n",
      "  Elapsed 11.49 s. Waiting...\n",
      "  Elapsed 22.14 s. Waiting...\n",
      "  Elapsed 32.79 s. Waiting...\n",
      "Query done.\n",
      "Processed: 201.4 Mb\n",
      "\n",
      "Retrieving results...\n",
      "  Got page: 1; 3.0% done. Elapsed 41.24 s.\n",
      "  Got page: 2; 5.0% done. Elapsed 44.88 s.\n",
      "  Got page: 3; 8.0% done. Elapsed 49.26 s.\n",
      "  Got page: 4; 10.0% done. Elapsed 53.88 s.\n",
      "  Got page: 5; 13.0% done. Elapsed 58.31 s.\n",
      "  Got page: 6; 15.0% done. Elapsed 63.19 s.\n",
      "  Got page: 7; 18.0% done. Elapsed 67.44 s.\n",
      "  Got page: 8; 20.0% done. Elapsed 72.61 s.\n",
      "  Got page: 9; 23.0% done. Elapsed 77.14 s.\n",
      "  Got page: 10; 25.0% done. Elapsed 81.12 s.\n",
      "  Got page: 11; 28.0% done. Elapsed 86.01 s.\n",
      "  Got page: 12; 30.0% done. Elapsed 89.97 s.\n",
      "  Got page: 13; 33.0% done. Elapsed 94.91 s.\n",
      "  Got page: 14; 36.0% done. Elapsed 99.09 s.\n",
      "  Got page: 15; 38.0% done. Elapsed 103.49 s.\n",
      "  Got page: 16; 41.0% done. Elapsed 108.97 s.\n",
      "  Got page: 17; 43.0% done. Elapsed 113.52 s.\n",
      "  Got page: 18; 46.0% done. Elapsed 117.49 s.\n",
      "  Got page: 19; 48.0% done. Elapsed 121.82 s.\n",
      "  Got page: 20; 51.0% done. Elapsed 126.56 s.\n",
      "  Got page: 21; 53.0% done. Elapsed 131.12 s.\n",
      "  Got page: 22; 56.0% done. Elapsed 135.52 s.\n",
      "  Got page: 23; 58.0% done. Elapsed 140.13 s.\n",
      "  Got page: 24; 61.0% done. Elapsed 144.35 s.\n",
      "  Got page: 25; 63.0% done. Elapsed 149.34 s.\n",
      "  Got page: 26; 66.0% done. Elapsed 155.74 s.\n",
      "  Got page: 27; 69.0% done. Elapsed 160.15 s.\n",
      "  Got page: 28; 71.0% done. Elapsed 164.28 s.\n",
      "  Got page: 29; 74.0% done. Elapsed 168.76 s.\n",
      "  Got page: 30; 76.0% done. Elapsed 173.05 s.\n",
      "  Got page: 31; 79.0% done. Elapsed 178.25 s.\n",
      "  Got page: 32; 81.0% done. Elapsed 184.0 s.\n",
      "  Got page: 33; 84.0% done. Elapsed 188.56 s.\n",
      "  Got page: 34; 86.0% done. Elapsed 192.86 s.\n",
      "  Got page: 35; 89.0% done. Elapsed 196.6 s.\n",
      "  Got page: 36; 91.0% done. Elapsed 200.74 s.\n",
      "  Got page: 37; 94.0% done. Elapsed 205.36 s.\n",
      "  Got page: 38; 96.0% done. Elapsed 209.63 s.\n",
      "  Got page: 39; 99.0% done. Elapsed 213.87 s.\n",
      "  Got page: 40; 100.0% done. Elapsed 216.13 s.\n",
      "Got 3941445 rows.\n",
      "\n",
      "Total time taken 260.01 s.\n",
      "Finished at 2017-01-25 15:35:29.\n"
     ]
    }
   ],
   "source": [
    "da = gbq.read_gbq(query1, project_id=project_id)"
   ]
  },
  {
   "cell_type": "code",
   "execution_count": 5,
   "metadata": {
    "collapsed": true
   },
   "outputs": [
    {
     "data": {
      "text/html": [
       "<div>\n",
       "<table border=\"1\" class=\"dataframe\">\n",
       "  <thead>\n",
       "    <tr style=\"text-align: right;\">\n",
       "      <th></th>\n",
       "      <th>reviewerID</th>\n",
       "      <th>unixReviewTime</th>\n",
       "    </tr>\n",
       "  </thead>\n",
       "  <tbody>\n",
       "    <tr>\n",
       "      <th>0</th>\n",
       "      <td>ANH2CGBREFYO3</td>\n",
       "      <td>2012-02-28</td>\n",
       "    </tr>\n",
       "  </tbody>\n",
       "</table>\n",
       "</div>"
      ],
      "text/plain": [
       "      reviewerID unixReviewTime\n",
       "0  ANH2CGBREFYO3     2012-02-28"
      ]
     },
     "execution_count": 5,
     "metadata": {},
     "output_type": "execute_result"
    }
   ],
   "source": [
    "da.head(1)"
   ]
  },
  {
   "cell_type": "code",
   "execution_count": 6,
   "metadata": {
    "collapsed": true
   },
   "outputs": [],
   "source": [
    "query2 = \"SELECT reviewerID, unixReviewTime FROM amazon_book_small.rev1 \\\n",
    "WHERE unixReviewTime >= '2013-01-02 00:00:00 UTC' AND unixReviewTime < '2015-01-01 00:00:00 UTC'\""
   ]
  },
  {
   "cell_type": "code",
   "execution_count": 7,
   "metadata": {
    "collapsed": true
   },
   "outputs": [
    {
     "name": "stdout",
     "output_type": "stream",
     "text": [
      "Requesting query... ok.\n",
      "Query running...\n",
      "  Elapsed 11.31 s. Waiting...\n",
      "  Elapsed 21.96 s. Waiting...\n",
      "Query done.\n",
      "Processed: 201.4 Mb\n",
      "\n",
      "Retrieving results...\n",
      "  Got page: 1; 2.0% done. Elapsed 36.0 s.\n",
      "  Got page: 2; 4.0% done. Elapsed 40.85 s.\n",
      "  Got page: 3; 6.0% done. Elapsed 44.99 s.\n",
      "  Got page: 4; 8.0% done. Elapsed 49.37 s.\n",
      "  Got page: 5; 10.0% done. Elapsed 53.42 s.\n",
      "  Got page: 6; 12.0% done. Elapsed 57.34 s.\n",
      "  Got page: 7; 14.0% done. Elapsed 62.05 s.\n",
      "  Got page: 8; 16.0% done. Elapsed 66.34 s.\n",
      "  Got page: 9; 18.0% done. Elapsed 70.01 s.\n",
      "  Got page: 10; 20.0% done. Elapsed 74.2 s.\n",
      "  Got page: 11; 22.0% done. Elapsed 78.21 s.\n",
      "  Got page: 12; 24.0% done. Elapsed 81.85 s.\n",
      "  Got page: 13; 26.0% done. Elapsed 86.56 s.\n",
      "  Got page: 14; 28.0% done. Elapsed 91.09 s.\n",
      "  Got page: 15; 30.0% done. Elapsed 95.42 s.\n",
      "  Got page: 16; 32.0% done. Elapsed 100.16 s.\n",
      "  Got page: 17; 34.0% done. Elapsed 104.22 s.\n",
      "  Got page: 18; 36.0% done. Elapsed 107.9 s.\n",
      "  Got page: 19; 38.0% done. Elapsed 111.94 s.\n",
      "  Got page: 20; 40.0% done. Elapsed 117.62 s.\n",
      "  Got page: 21; 42.0% done. Elapsed 121.32 s.\n",
      "  Got page: 22; 44.0% done. Elapsed 125.2 s.\n",
      "  Got page: 23; 46.0% done. Elapsed 129.04 s.\n",
      "  Got page: 24; 49.0% done. Elapsed 132.87 s.\n",
      "  Got page: 25; 51.0% done. Elapsed 137.43 s.\n",
      "  Got page: 26; 53.0% done. Elapsed 141.59 s.\n",
      "  Got page: 27; 55.0% done. Elapsed 146.13 s.\n",
      "  Got page: 28; 57.0% done. Elapsed 150.38 s.\n",
      "  Got page: 29; 59.0% done. Elapsed 155.72 s.\n",
      "  Got page: 30; 61.0% done. Elapsed 160.16 s.\n",
      "  Got page: 31; 63.0% done. Elapsed 165.93 s.\n",
      "  Got page: 32; 65.0% done. Elapsed 170.15 s.\n",
      "  Got page: 33; 67.0% done. Elapsed 175.19 s.\n",
      "  Got page: 34; 69.0% done. Elapsed 179.52 s.\n",
      "  Got page: 35; 71.0% done. Elapsed 183.66 s.\n",
      "  Got page: 36; 73.0% done. Elapsed 187.83 s.\n",
      "  Got page: 37; 75.0% done. Elapsed 191.71 s.\n",
      "  Got page: 38; 77.0% done. Elapsed 196.4 s.\n",
      "  Got page: 39; 79.0% done. Elapsed 202.74 s.\n",
      "  Got page: 40; 81.0% done. Elapsed 207.56 s.\n",
      "  Got page: 41; 83.0% done. Elapsed 212.16 s.\n",
      "  Got page: 42; 85.0% done. Elapsed 216.17 s.\n",
      "  Got page: 43; 87.0% done. Elapsed 220.82 s.\n",
      "  Got page: 44; 89.0% done. Elapsed 224.7 s.\n",
      "  Got page: 45; 91.0% done. Elapsed 228.92 s.\n",
      "  Got page: 46; 93.0% done. Elapsed 233.68 s.\n",
      "  Got page: 47; 95.0% done. Elapsed 237.97 s.\n",
      "  Got page: 48; 97.0% done. Elapsed 242.53 s.\n",
      "  Got page: 49; 99.0% done. Elapsed 249.68 s.\n",
      "  Got page: 50; 100.0% done. Elapsed 252.11 s.\n",
      "Got 4948098 rows.\n",
      "\n",
      "Total time taken 310.15 s.\n",
      "Finished at 2017-01-25 15:42:55.\n"
     ]
    }
   ],
   "source": [
    "db = gbq.read_gbq(query2, project_id=project_id)"
   ]
  },
  {
   "cell_type": "code",
   "execution_count": 8,
   "metadata": {
    "collapsed": true
   },
   "outputs": [],
   "source": [
    "df = pd.concat([da, db])"
   ]
  },
  {
   "cell_type": "code",
   "execution_count": 85,
   "metadata": {
    "collapsed": false
   },
   "outputs": [
    {
     "data": {
      "text/html": [
       "<div>\n",
       "<table border=\"1\" class=\"dataframe\">\n",
       "  <thead>\n",
       "    <tr style=\"text-align: right;\">\n",
       "      <th></th>\n",
       "      <th>reviewerID</th>\n",
       "      <th>unixReviewTime</th>\n",
       "    </tr>\n",
       "  </thead>\n",
       "  <tbody>\n",
       "    <tr>\n",
       "      <th>0</th>\n",
       "      <td>ANH2CGBREFYO3</td>\n",
       "      <td>2012-02-28</td>\n",
       "    </tr>\n",
       "  </tbody>\n",
       "</table>\n",
       "</div>"
      ],
      "text/plain": [
       "      reviewerID unixReviewTime\n",
       "0  ANH2CGBREFYO3     2012-02-28"
      ]
     },
     "execution_count": 85,
     "metadata": {},
     "output_type": "execute_result"
    }
   ],
   "source": [
    "df.head(1)"
   ]
  },
  {
   "cell_type": "code",
   "execution_count": 9,
   "metadata": {
    "collapsed": false
   },
   "outputs": [
    {
     "data": {
      "text/plain": [
       "(8889543, 2)"
      ]
     },
     "execution_count": 9,
     "metadata": {},
     "output_type": "execute_result"
    }
   ],
   "source": [
    "df.shape"
   ]
  },
  {
   "cell_type": "code",
   "execution_count": 25,
   "metadata": {
    "collapsed": false
   },
   "outputs": [
    {
     "data": {
      "text/html": [
       "<div>\n",
       "<table border=\"1\" class=\"dataframe\">\n",
       "  <thead>\n",
       "    <tr style=\"text-align: right;\">\n",
       "      <th>unixReviewTime</th>\n",
       "      <th>1996</th>\n",
       "      <th>1997</th>\n",
       "      <th>1998</th>\n",
       "      <th>1999</th>\n",
       "      <th>2000</th>\n",
       "      <th>2001</th>\n",
       "      <th>2002</th>\n",
       "      <th>2003</th>\n",
       "      <th>2004</th>\n",
       "      <th>2005</th>\n",
       "      <th>2006</th>\n",
       "      <th>2007</th>\n",
       "      <th>2008</th>\n",
       "      <th>2009</th>\n",
       "      <th>2010</th>\n",
       "      <th>2011</th>\n",
       "      <th>2012</th>\n",
       "      <th>2013</th>\n",
       "      <th>2014</th>\n",
       "    </tr>\n",
       "    <tr>\n",
       "      <th>unixReviewTime</th>\n",
       "      <th></th>\n",
       "      <th></th>\n",
       "      <th></th>\n",
       "      <th></th>\n",
       "      <th></th>\n",
       "      <th></th>\n",
       "      <th></th>\n",
       "      <th></th>\n",
       "      <th></th>\n",
       "      <th></th>\n",
       "      <th></th>\n",
       "      <th></th>\n",
       "      <th></th>\n",
       "      <th></th>\n",
       "      <th></th>\n",
       "      <th></th>\n",
       "      <th></th>\n",
       "      <th></th>\n",
       "      <th></th>\n",
       "    </tr>\n",
       "  </thead>\n",
       "  <tbody>\n",
       "    <tr>\n",
       "      <th>Jan</th>\n",
       "      <td>0.0</td>\n",
       "      <td>5.0</td>\n",
       "      <td>599.0</td>\n",
       "      <td>1044.0</td>\n",
       "      <td>5714.0</td>\n",
       "      <td>8134.0</td>\n",
       "      <td>9115.0</td>\n",
       "      <td>9325.0</td>\n",
       "      <td>10019.0</td>\n",
       "      <td>12986.0</td>\n",
       "      <td>16790.0</td>\n",
       "      <td>24313.0</td>\n",
       "      <td>22729.0</td>\n",
       "      <td>28999.0</td>\n",
       "      <td>33773.0</td>\n",
       "      <td>45504.0</td>\n",
       "      <td>69108.0</td>\n",
       "      <td>255818.0</td>\n",
       "      <td>324566.0</td>\n",
       "    </tr>\n",
       "    <tr>\n",
       "      <th>Feb</th>\n",
       "      <td>0.0</td>\n",
       "      <td>2.0</td>\n",
       "      <td>564.0</td>\n",
       "      <td>943.0</td>\n",
       "      <td>4894.0</td>\n",
       "      <td>7133.0</td>\n",
       "      <td>7570.0</td>\n",
       "      <td>7910.0</td>\n",
       "      <td>8946.0</td>\n",
       "      <td>10915.0</td>\n",
       "      <td>15338.0</td>\n",
       "      <td>16908.0</td>\n",
       "      <td>20566.0</td>\n",
       "      <td>24764.0</td>\n",
       "      <td>32158.0</td>\n",
       "      <td>39445.0</td>\n",
       "      <td>63211.0</td>\n",
       "      <td>231363.0</td>\n",
       "      <td>275613.0</td>\n",
       "    </tr>\n",
       "    <tr>\n",
       "      <th>Mar</th>\n",
       "      <td>0.0</td>\n",
       "      <td>4.0</td>\n",
       "      <td>718.0</td>\n",
       "      <td>1018.0</td>\n",
       "      <td>5766.0</td>\n",
       "      <td>7463.0</td>\n",
       "      <td>8841.0</td>\n",
       "      <td>8576.0</td>\n",
       "      <td>9758.0</td>\n",
       "      <td>12936.0</td>\n",
       "      <td>17682.0</td>\n",
       "      <td>20017.0</td>\n",
       "      <td>20742.0</td>\n",
       "      <td>27178.0</td>\n",
       "      <td>34468.0</td>\n",
       "      <td>44534.0</td>\n",
       "      <td>74492.0</td>\n",
       "      <td>257610.0</td>\n",
       "      <td>313520.0</td>\n",
       "    </tr>\n",
       "    <tr>\n",
       "      <th>Apr</th>\n",
       "      <td>0.0</td>\n",
       "      <td>9.0</td>\n",
       "      <td>817.0</td>\n",
       "      <td>1124.0</td>\n",
       "      <td>6541.0</td>\n",
       "      <td>7147.0</td>\n",
       "      <td>8782.0</td>\n",
       "      <td>8350.0</td>\n",
       "      <td>9369.0</td>\n",
       "      <td>12617.0</td>\n",
       "      <td>14228.0</td>\n",
       "      <td>16903.0</td>\n",
       "      <td>21102.0</td>\n",
       "      <td>26737.0</td>\n",
       "      <td>32336.0</td>\n",
       "      <td>45795.0</td>\n",
       "      <td>71650.0</td>\n",
       "      <td>247937.0</td>\n",
       "      <td>303157.0</td>\n",
       "    </tr>\n",
       "    <tr>\n",
       "      <th>May</th>\n",
       "      <td>1.0</td>\n",
       "      <td>13.0</td>\n",
       "      <td>837.0</td>\n",
       "      <td>1162.0</td>\n",
       "      <td>9212.0</td>\n",
       "      <td>8010.0</td>\n",
       "      <td>8416.0</td>\n",
       "      <td>8746.0</td>\n",
       "      <td>9096.0</td>\n",
       "      <td>12706.0</td>\n",
       "      <td>15142.0</td>\n",
       "      <td>20953.0</td>\n",
       "      <td>22096.0</td>\n",
       "      <td>29590.0</td>\n",
       "      <td>34495.0</td>\n",
       "      <td>46748.0</td>\n",
       "      <td>75958.0</td>\n",
       "      <td>246395.0</td>\n",
       "      <td>303092.0</td>\n",
       "    </tr>\n",
       "    <tr>\n",
       "      <th>Jun</th>\n",
       "      <td>1.0</td>\n",
       "      <td>22.0</td>\n",
       "      <td>929.0</td>\n",
       "      <td>1412.0</td>\n",
       "      <td>9320.0</td>\n",
       "      <td>8607.0</td>\n",
       "      <td>8334.0</td>\n",
       "      <td>9263.0</td>\n",
       "      <td>10209.0</td>\n",
       "      <td>12957.0</td>\n",
       "      <td>16274.0</td>\n",
       "      <td>19123.0</td>\n",
       "      <td>22733.0</td>\n",
       "      <td>29423.0</td>\n",
       "      <td>33066.0</td>\n",
       "      <td>48712.0</td>\n",
       "      <td>76018.0</td>\n",
       "      <td>240645.0</td>\n",
       "      <td>292696.0</td>\n",
       "    </tr>\n",
       "    <tr>\n",
       "      <th>Jul</th>\n",
       "      <td>0.0</td>\n",
       "      <td>22.0</td>\n",
       "      <td>1039.0</td>\n",
       "      <td>1231.0</td>\n",
       "      <td>9687.0</td>\n",
       "      <td>9729.0</td>\n",
       "      <td>9468.0</td>\n",
       "      <td>10017.0</td>\n",
       "      <td>10877.0</td>\n",
       "      <td>14857.0</td>\n",
       "      <td>17776.0</td>\n",
       "      <td>20540.0</td>\n",
       "      <td>24079.0</td>\n",
       "      <td>29501.0</td>\n",
       "      <td>35381.0</td>\n",
       "      <td>50878.0</td>\n",
       "      <td>82041.0</td>\n",
       "      <td>254603.0</td>\n",
       "      <td>161471.0</td>\n",
       "    </tr>\n",
       "    <tr>\n",
       "      <th>Aug</th>\n",
       "      <td>1.0</td>\n",
       "      <td>294.0</td>\n",
       "      <td>836.0</td>\n",
       "      <td>1278.0</td>\n",
       "      <td>8962.0</td>\n",
       "      <td>9846.0</td>\n",
       "      <td>8730.0</td>\n",
       "      <td>8355.0</td>\n",
       "      <td>11498.0</td>\n",
       "      <td>16512.0</td>\n",
       "      <td>17578.0</td>\n",
       "      <td>21138.0</td>\n",
       "      <td>24921.0</td>\n",
       "      <td>29982.0</td>\n",
       "      <td>34683.0</td>\n",
       "      <td>53283.0</td>\n",
       "      <td>87068.0</td>\n",
       "      <td>255532.0</td>\n",
       "      <td>0.0</td>\n",
       "    </tr>\n",
       "    <tr>\n",
       "      <th>Sep</th>\n",
       "      <td>1.0</td>\n",
       "      <td>266.0</td>\n",
       "      <td>778.0</td>\n",
       "      <td>1223.0</td>\n",
       "      <td>6808.0</td>\n",
       "      <td>7379.0</td>\n",
       "      <td>7905.0</td>\n",
       "      <td>8509.0</td>\n",
       "      <td>10881.0</td>\n",
       "      <td>14763.0</td>\n",
       "      <td>13840.0</td>\n",
       "      <td>20430.0</td>\n",
       "      <td>23401.0</td>\n",
       "      <td>31394.0</td>\n",
       "      <td>35151.0</td>\n",
       "      <td>53528.0</td>\n",
       "      <td>111207.0</td>\n",
       "      <td>238994.0</td>\n",
       "      <td>0.0</td>\n",
       "    </tr>\n",
       "    <tr>\n",
       "      <th>Oct</th>\n",
       "      <td>0.0</td>\n",
       "      <td>501.0</td>\n",
       "      <td>930.0</td>\n",
       "      <td>2050.0</td>\n",
       "      <td>7337.0</td>\n",
       "      <td>7485.0</td>\n",
       "      <td>8239.0</td>\n",
       "      <td>8709.0</td>\n",
       "      <td>11297.0</td>\n",
       "      <td>14760.0</td>\n",
       "      <td>13867.0</td>\n",
       "      <td>19501.0</td>\n",
       "      <td>23861.0</td>\n",
       "      <td>31529.0</td>\n",
       "      <td>35591.0</td>\n",
       "      <td>55002.0</td>\n",
       "      <td>117751.0</td>\n",
       "      <td>243561.0</td>\n",
       "      <td>0.0</td>\n",
       "    </tr>\n",
       "    <tr>\n",
       "      <th>Nov</th>\n",
       "      <td>6.0</td>\n",
       "      <td>423.0</td>\n",
       "      <td>836.0</td>\n",
       "      <td>2457.0</td>\n",
       "      <td>6681.0</td>\n",
       "      <td>8186.0</td>\n",
       "      <td>7514.0</td>\n",
       "      <td>8262.0</td>\n",
       "      <td>10429.0</td>\n",
       "      <td>13416.0</td>\n",
       "      <td>16167.0</td>\n",
       "      <td>18926.0</td>\n",
       "      <td>23775.0</td>\n",
       "      <td>29677.0</td>\n",
       "      <td>35241.0</td>\n",
       "      <td>52844.0</td>\n",
       "      <td>139607.0</td>\n",
       "      <td>239918.0</td>\n",
       "      <td>0.0</td>\n",
       "    </tr>\n",
       "    <tr>\n",
       "      <th>Dec</th>\n",
       "      <td>15.0</td>\n",
       "      <td>480.0</td>\n",
       "      <td>848.0</td>\n",
       "      <td>4632.0</td>\n",
       "      <td>6933.0</td>\n",
       "      <td>7949.0</td>\n",
       "      <td>8114.0</td>\n",
       "      <td>8307.0</td>\n",
       "      <td>10455.0</td>\n",
       "      <td>14081.0</td>\n",
       "      <td>14596.0</td>\n",
       "      <td>19203.0</td>\n",
       "      <td>24600.0</td>\n",
       "      <td>30252.0</td>\n",
       "      <td>36838.0</td>\n",
       "      <td>57226.0</td>\n",
       "      <td>207799.0</td>\n",
       "      <td>261607.0</td>\n",
       "      <td>0.0</td>\n",
       "    </tr>\n",
       "  </tbody>\n",
       "</table>\n",
       "</div>"
      ],
      "text/plain": [
       "unixReviewTime  1996   1997    1998    1999    2000    2001    2002     2003  \\\n",
       "unixReviewTime                                                                 \n",
       "Jan              0.0    5.0   599.0  1044.0  5714.0  8134.0  9115.0   9325.0   \n",
       "Feb              0.0    2.0   564.0   943.0  4894.0  7133.0  7570.0   7910.0   \n",
       "Mar              0.0    4.0   718.0  1018.0  5766.0  7463.0  8841.0   8576.0   \n",
       "Apr              0.0    9.0   817.0  1124.0  6541.0  7147.0  8782.0   8350.0   \n",
       "May              1.0   13.0   837.0  1162.0  9212.0  8010.0  8416.0   8746.0   \n",
       "Jun              1.0   22.0   929.0  1412.0  9320.0  8607.0  8334.0   9263.0   \n",
       "Jul              0.0   22.0  1039.0  1231.0  9687.0  9729.0  9468.0  10017.0   \n",
       "Aug              1.0  294.0   836.0  1278.0  8962.0  9846.0  8730.0   8355.0   \n",
       "Sep              1.0  266.0   778.0  1223.0  6808.0  7379.0  7905.0   8509.0   \n",
       "Oct              0.0  501.0   930.0  2050.0  7337.0  7485.0  8239.0   8709.0   \n",
       "Nov              6.0  423.0   836.0  2457.0  6681.0  8186.0  7514.0   8262.0   \n",
       "Dec             15.0  480.0   848.0  4632.0  6933.0  7949.0  8114.0   8307.0   \n",
       "\n",
       "unixReviewTime     2004     2005     2006     2007     2008     2009     2010  \\\n",
       "unixReviewTime                                                                  \n",
       "Jan             10019.0  12986.0  16790.0  24313.0  22729.0  28999.0  33773.0   \n",
       "Feb              8946.0  10915.0  15338.0  16908.0  20566.0  24764.0  32158.0   \n",
       "Mar              9758.0  12936.0  17682.0  20017.0  20742.0  27178.0  34468.0   \n",
       "Apr              9369.0  12617.0  14228.0  16903.0  21102.0  26737.0  32336.0   \n",
       "May              9096.0  12706.0  15142.0  20953.0  22096.0  29590.0  34495.0   \n",
       "Jun             10209.0  12957.0  16274.0  19123.0  22733.0  29423.0  33066.0   \n",
       "Jul             10877.0  14857.0  17776.0  20540.0  24079.0  29501.0  35381.0   \n",
       "Aug             11498.0  16512.0  17578.0  21138.0  24921.0  29982.0  34683.0   \n",
       "Sep             10881.0  14763.0  13840.0  20430.0  23401.0  31394.0  35151.0   \n",
       "Oct             11297.0  14760.0  13867.0  19501.0  23861.0  31529.0  35591.0   \n",
       "Nov             10429.0  13416.0  16167.0  18926.0  23775.0  29677.0  35241.0   \n",
       "Dec             10455.0  14081.0  14596.0  19203.0  24600.0  30252.0  36838.0   \n",
       "\n",
       "unixReviewTime     2011      2012      2013      2014  \n",
       "unixReviewTime                                         \n",
       "Jan             45504.0   69108.0  255818.0  324566.0  \n",
       "Feb             39445.0   63211.0  231363.0  275613.0  \n",
       "Mar             44534.0   74492.0  257610.0  313520.0  \n",
       "Apr             45795.0   71650.0  247937.0  303157.0  \n",
       "May             46748.0   75958.0  246395.0  303092.0  \n",
       "Jun             48712.0   76018.0  240645.0  292696.0  \n",
       "Jul             50878.0   82041.0  254603.0  161471.0  \n",
       "Aug             53283.0   87068.0  255532.0       0.0  \n",
       "Sep             53528.0  111207.0  238994.0       0.0  \n",
       "Oct             55002.0  117751.0  243561.0       0.0  \n",
       "Nov             52844.0  139607.0  239918.0       0.0  \n",
       "Dec             57226.0  207799.0  261607.0       0.0  "
      ]
     },
     "execution_count": 25,
     "metadata": {},
     "output_type": "execute_result"
    }
   ],
   "source": [
    "a = df.groupby([df.unixReviewTime.dt.month, df.unixReviewTime.dt.year]).size()\n",
    "a.index.set_levels([['Jan', 'Feb', 'Mar', 'Apr', 'May', 'Jun', 'Jul', 'Aug', 'Sep', 'Oct', 'Nov', 'Dec'],\n",
    "                   [1996, 1997, 1998, 1999, 2000, 2001, 2002, 2003, 2004, 2005, 2006, 2007, 2008, 2009, \n",
    "                    2010, 2011, 2012, 2013, 2014]],inplace=True)\n",
    "a = a.unstack().fillna(0)\n",
    "a"
   ]
  },
  {
   "cell_type": "code",
   "execution_count": 43,
   "metadata": {
    "collapsed": false
   },
   "outputs": [
    {
     "data": {
      "text/plain": [
       "(array([  0.5,   1.5,   2.5,   3.5,   4.5,   5.5,   6.5,   7.5,   8.5,\n",
       "          9.5,  10.5,  11.5]), <a list of 12 Text yticklabel objects>)"
      ]
     },
     "execution_count": 43,
     "metadata": {},
     "output_type": "execute_result"
    },
    {
     "data": {
      "image/png": "[encoded data removed]",
      "text/plain": [
       "<matplotlib.figure.Figure at 0xb3b8fda0>"
      ]
     },
     "metadata": {},
     "output_type": "display_data"
    }
   ],
   "source": [
    "plt.figure(figsize= [6, 4])\n",
    "sns.heatmap(a)\n",
    "plt.ylabel('Month')\n",
    "plt.xlabel('year')\n",
    "plt.xticks(rotation = 'vertical')\n",
    "plt.yticks(rotation = 'horizontal')"
   ]
  },
  {
   "cell_type": "markdown",
   "metadata": {},
   "source": [
    "This heatmap is not very useful because the number of reviews in 2013. I am going to make three plots in the year range:a) 1998-2007, b) 2007-2011 and c) 2011-2014."
   ]
  },
  {
   "cell_type": "code",
   "execution_count": 61,
   "metadata": {
    "collapsed": false
   },
   "outputs": [],
   "source": [
    "mask = (df['unixReviewTime'] > '1998-01-01') & (df['unixReviewTime'] <= '2006-12-31')"
   ]
  },
  {
   "cell_type": "code",
   "execution_count": 62,
   "metadata": {
    "collapsed": false
   },
   "outputs": [],
   "source": [
    "d_98_2006 = df.loc[mask]"
   ]
  },
  {
   "cell_type": "code",
   "execution_count": 69,
   "metadata": {
    "collapsed": false
   },
   "outputs": [
    {
     "data": {
      "text/html": [
       "<div>\n",
       "<table border=\"1\" class=\"dataframe\">\n",
       "  <thead>\n",
       "    <tr style=\"text-align: right;\">\n",
       "      <th>unixReviewTime</th>\n",
       "      <th>1998</th>\n",
       "      <th>1999</th>\n",
       "      <th>2000</th>\n",
       "      <th>2001</th>\n",
       "      <th>2002</th>\n",
       "      <th>2003</th>\n",
       "      <th>2004</th>\n",
       "      <th>2005</th>\n",
       "      <th>2006</th>\n",
       "    </tr>\n",
       "    <tr>\n",
       "      <th>unixReviewTime</th>\n",
       "      <th></th>\n",
       "      <th></th>\n",
       "      <th></th>\n",
       "      <th></th>\n",
       "      <th></th>\n",
       "      <th></th>\n",
       "      <th></th>\n",
       "      <th></th>\n",
       "      <th></th>\n",
       "    </tr>\n",
       "  </thead>\n",
       "  <tbody>\n",
       "    <tr>\n",
       "      <th>Jan</th>\n",
       "      <td>588</td>\n",
       "      <td>1044</td>\n",
       "      <td>5714</td>\n",
       "      <td>8134</td>\n",
       "      <td>9115</td>\n",
       "      <td>9325</td>\n",
       "      <td>10019</td>\n",
       "      <td>12986</td>\n",
       "      <td>16790</td>\n",
       "    </tr>\n",
       "    <tr>\n",
       "      <th>Feb</th>\n",
       "      <td>564</td>\n",
       "      <td>943</td>\n",
       "      <td>4894</td>\n",
       "      <td>7133</td>\n",
       "      <td>7570</td>\n",
       "      <td>7910</td>\n",
       "      <td>8946</td>\n",
       "      <td>10915</td>\n",
       "      <td>15338</td>\n",
       "    </tr>\n",
       "    <tr>\n",
       "      <th>Mar</th>\n",
       "      <td>718</td>\n",
       "      <td>1018</td>\n",
       "      <td>5766</td>\n",
       "      <td>7463</td>\n",
       "      <td>8841</td>\n",
       "      <td>8576</td>\n",
       "      <td>9758</td>\n",
       "      <td>12936</td>\n",
       "      <td>17682</td>\n",
       "    </tr>\n",
       "    <tr>\n",
       "      <th>Apr</th>\n",
       "      <td>817</td>\n",
       "      <td>1124</td>\n",
       "      <td>6541</td>\n",
       "      <td>7147</td>\n",
       "      <td>8782</td>\n",
       "      <td>8350</td>\n",
       "      <td>9369</td>\n",
       "      <td>12617</td>\n",
       "      <td>14228</td>\n",
       "    </tr>\n",
       "    <tr>\n",
       "      <th>May</th>\n",
       "      <td>837</td>\n",
       "      <td>1162</td>\n",
       "      <td>9212</td>\n",
       "      <td>8010</td>\n",
       "      <td>8416</td>\n",
       "      <td>8746</td>\n",
       "      <td>9096</td>\n",
       "      <td>12706</td>\n",
       "      <td>15142</td>\n",
       "    </tr>\n",
       "    <tr>\n",
       "      <th>Jun</th>\n",
       "      <td>929</td>\n",
       "      <td>1412</td>\n",
       "      <td>9320</td>\n",
       "      <td>8607</td>\n",
       "      <td>8334</td>\n",
       "      <td>9263</td>\n",
       "      <td>10209</td>\n",
       "      <td>12957</td>\n",
       "      <td>16274</td>\n",
       "    </tr>\n",
       "    <tr>\n",
       "      <th>Jul</th>\n",
       "      <td>1039</td>\n",
       "      <td>1231</td>\n",
       "      <td>9687</td>\n",
       "      <td>9729</td>\n",
       "      <td>9468</td>\n",
       "      <td>10017</td>\n",
       "      <td>10877</td>\n",
       "      <td>14857</td>\n",
       "      <td>17776</td>\n",
       "    </tr>\n",
       "    <tr>\n",
       "      <th>Aug</th>\n",
       "      <td>836</td>\n",
       "      <td>1278</td>\n",
       "      <td>8962</td>\n",
       "      <td>9846</td>\n",
       "      <td>8730</td>\n",
       "      <td>8355</td>\n",
       "      <td>11498</td>\n",
       "      <td>16512</td>\n",
       "      <td>17578</td>\n",
       "    </tr>\n",
       "    <tr>\n",
       "      <th>Sep</th>\n",
       "      <td>778</td>\n",
       "      <td>1223</td>\n",
       "      <td>6808</td>\n",
       "      <td>7379</td>\n",
       "      <td>7905</td>\n",
       "      <td>8509</td>\n",
       "      <td>10881</td>\n",
       "      <td>14763</td>\n",
       "      <td>13840</td>\n",
       "    </tr>\n",
       "    <tr>\n",
       "      <th>Oct</th>\n",
       "      <td>930</td>\n",
       "      <td>2050</td>\n",
       "      <td>7337</td>\n",
       "      <td>7485</td>\n",
       "      <td>8239</td>\n",
       "      <td>8709</td>\n",
       "      <td>11297</td>\n",
       "      <td>14760</td>\n",
       "      <td>13867</td>\n",
       "    </tr>\n",
       "    <tr>\n",
       "      <th>Nov</th>\n",
       "      <td>836</td>\n",
       "      <td>2457</td>\n",
       "      <td>6681</td>\n",
       "      <td>8186</td>\n",
       "      <td>7514</td>\n",
       "      <td>8262</td>\n",
       "      <td>10429</td>\n",
       "      <td>13416</td>\n",
       "      <td>16167</td>\n",
       "    </tr>\n",
       "    <tr>\n",
       "      <th>Dec</th>\n",
       "      <td>848</td>\n",
       "      <td>4632</td>\n",
       "      <td>6933</td>\n",
       "      <td>7949</td>\n",
       "      <td>8114</td>\n",
       "      <td>8307</td>\n",
       "      <td>10455</td>\n",
       "      <td>14081</td>\n",
       "      <td>14596</td>\n",
       "    </tr>\n",
       "  </tbody>\n",
       "</table>\n",
       "</div>"
      ],
      "text/plain": [
       "unixReviewTime  1998  1999  2000  2001  2002   2003   2004   2005   2006\n",
       "unixReviewTime                                                          \n",
       "Jan              588  1044  5714  8134  9115   9325  10019  12986  16790\n",
       "Feb              564   943  4894  7133  7570   7910   8946  10915  15338\n",
       "Mar              718  1018  5766  7463  8841   8576   9758  12936  17682\n",
       "Apr              817  1124  6541  7147  8782   8350   9369  12617  14228\n",
       "May              837  1162  9212  8010  8416   8746   9096  12706  15142\n",
       "Jun              929  1412  9320  8607  8334   9263  10209  12957  16274\n",
       "Jul             1039  1231  9687  9729  9468  10017  10877  14857  17776\n",
       "Aug              836  1278  8962  9846  8730   8355  11498  16512  17578\n",
       "Sep              778  1223  6808  7379  7905   8509  10881  14763  13840\n",
       "Oct              930  2050  7337  7485  8239   8709  11297  14760  13867\n",
       "Nov              836  2457  6681  8186  7514   8262  10429  13416  16167\n",
       "Dec              848  4632  6933  7949  8114   8307  10455  14081  14596"
      ]
     },
     "execution_count": 69,
     "metadata": {},
     "output_type": "execute_result"
    }
   ],
   "source": [
    "a = d_98_2006.groupby([d_98_2006.unixReviewTime.dt.month, d_98_2006.unixReviewTime.dt.year]).size()\n",
    "a.index.set_levels([['Jan', 'Feb', 'Mar', 'Apr', 'May', 'Jun', 'Jul', 'Aug', 'Sep', 'Oct', 'Nov', 'Dec'],\n",
    "                   [1998, 1999, 2000, 2001, 2002, 2003, 2004, 2005, 2006]],inplace=True)\n",
    "a = a.unstack().fillna(0)\n",
    "a"
   ]
  },
  {
   "cell_type": "code",
   "execution_count": 70,
   "metadata": {
    "collapsed": false
   },
   "outputs": [
    {
     "data": {
      "text/plain": [
       "(array([  0.5,   1.5,   2.5,   3.5,   4.5,   5.5,   6.5,   7.5,   8.5,\n",
       "          9.5,  10.5,  11.5]), <a list of 12 Text yticklabel objects>)"
      ]
     },
     "execution_count": 70,
     "metadata": {},
     "output_type": "execute_result"
    },
    {
     "data": {
      "image/png": "[encoded data removed]",
      "text/plain": [
       "<matplotlib.figure.Figure at 0x8f9e7278>"
      ]
     },
     "metadata": {},
     "output_type": "display_data"
    }
   ],
   "source": [
    "sns.heatmap(a)\n",
    "plt.ylabel('Month')\n",
    "plt.xlabel('year')\n",
    "plt.xticks(rotation = 'vertical')\n",
    "plt.yticks(rotation = 'horizontal')"
   ]
  },
  {
   "cell_type": "markdown",
   "metadata": {},
   "source": [
    "July and August are popular months for writing reviews : summer readings? Writing reviews gained popularity in 2005. "
   ]
  },
  {
   "cell_type": "code",
   "execution_count": 71,
   "metadata": {
    "collapsed": true
   },
   "outputs": [],
   "source": [
    "mask1 = (df['unixReviewTime'] > '2007-01-01') & (df['unixReviewTime'] <= '2011-12-31')"
   ]
  },
  {
   "cell_type": "code",
   "execution_count": 76,
   "metadata": {
    "collapsed": true
   },
   "outputs": [],
   "source": [
    "d_2007_2011 = df.loc[mask1]"
   ]
  },
  {
   "cell_type": "code",
   "execution_count": 78,
   "metadata": {
    "collapsed": false
   },
   "outputs": [
    {
     "data": {
      "text/html": [
       "<div>\n",
       "<table border=\"1\" class=\"dataframe\">\n",
       "  <thead>\n",
       "    <tr style=\"text-align: right;\">\n",
       "      <th>unixReviewTime</th>\n",
       "      <th>2007</th>\n",
       "      <th>2008</th>\n",
       "      <th>2009</th>\n",
       "      <th>2010</th>\n",
       "      <th>2011</th>\n",
       "    </tr>\n",
       "    <tr>\n",
       "      <th>unixReviewTime</th>\n",
       "      <th></th>\n",
       "      <th></th>\n",
       "      <th></th>\n",
       "      <th></th>\n",
       "      <th></th>\n",
       "    </tr>\n",
       "  </thead>\n",
       "  <tbody>\n",
       "    <tr>\n",
       "      <th>Jan</th>\n",
       "      <td>23764</td>\n",
       "      <td>22729</td>\n",
       "      <td>28999</td>\n",
       "      <td>33773</td>\n",
       "      <td>45504</td>\n",
       "    </tr>\n",
       "    <tr>\n",
       "      <th>Feb</th>\n",
       "      <td>16908</td>\n",
       "      <td>20566</td>\n",
       "      <td>24764</td>\n",
       "      <td>32158</td>\n",
       "      <td>39445</td>\n",
       "    </tr>\n",
       "    <tr>\n",
       "      <th>Mar</th>\n",
       "      <td>20017</td>\n",
       "      <td>20742</td>\n",
       "      <td>27178</td>\n",
       "      <td>34468</td>\n",
       "      <td>44534</td>\n",
       "    </tr>\n",
       "    <tr>\n",
       "      <th>Apr</th>\n",
       "      <td>16903</td>\n",
       "      <td>21102</td>\n",
       "      <td>26737</td>\n",
       "      <td>32336</td>\n",
       "      <td>45795</td>\n",
       "    </tr>\n",
       "    <tr>\n",
       "      <th>May</th>\n",
       "      <td>20953</td>\n",
       "      <td>22096</td>\n",
       "      <td>29590</td>\n",
       "      <td>34495</td>\n",
       "      <td>46748</td>\n",
       "    </tr>\n",
       "    <tr>\n",
       "      <th>Jun</th>\n",
       "      <td>19123</td>\n",
       "      <td>22733</td>\n",
       "      <td>29423</td>\n",
       "      <td>33066</td>\n",
       "      <td>48712</td>\n",
       "    </tr>\n",
       "    <tr>\n",
       "      <th>Jul</th>\n",
       "      <td>20540</td>\n",
       "      <td>24079</td>\n",
       "      <td>29501</td>\n",
       "      <td>35381</td>\n",
       "      <td>50878</td>\n",
       "    </tr>\n",
       "    <tr>\n",
       "      <th>Aug</th>\n",
       "      <td>21138</td>\n",
       "      <td>24921</td>\n",
       "      <td>29982</td>\n",
       "      <td>34683</td>\n",
       "      <td>53283</td>\n",
       "    </tr>\n",
       "    <tr>\n",
       "      <th>Sep</th>\n",
       "      <td>20430</td>\n",
       "      <td>23401</td>\n",
       "      <td>31394</td>\n",
       "      <td>35151</td>\n",
       "      <td>53528</td>\n",
       "    </tr>\n",
       "    <tr>\n",
       "      <th>Oct</th>\n",
       "      <td>19501</td>\n",
       "      <td>23861</td>\n",
       "      <td>31529</td>\n",
       "      <td>35591</td>\n",
       "      <td>55002</td>\n",
       "    </tr>\n",
       "    <tr>\n",
       "      <th>Nov</th>\n",
       "      <td>18926</td>\n",
       "      <td>23775</td>\n",
       "      <td>29677</td>\n",
       "      <td>35241</td>\n",
       "      <td>52844</td>\n",
       "    </tr>\n",
       "    <tr>\n",
       "      <th>Dec</th>\n",
       "      <td>19203</td>\n",
       "      <td>24600</td>\n",
       "      <td>30252</td>\n",
       "      <td>36838</td>\n",
       "      <td>57226</td>\n",
       "    </tr>\n",
       "  </tbody>\n",
       "</table>\n",
       "</div>"
      ],
      "text/plain": [
       "unixReviewTime   2007   2008   2009   2010   2011\n",
       "unixReviewTime                                   \n",
       "Jan             23764  22729  28999  33773  45504\n",
       "Feb             16908  20566  24764  32158  39445\n",
       "Mar             20017  20742  27178  34468  44534\n",
       "Apr             16903  21102  26737  32336  45795\n",
       "May             20953  22096  29590  34495  46748\n",
       "Jun             19123  22733  29423  33066  48712\n",
       "Jul             20540  24079  29501  35381  50878\n",
       "Aug             21138  24921  29982  34683  53283\n",
       "Sep             20430  23401  31394  35151  53528\n",
       "Oct             19501  23861  31529  35591  55002\n",
       "Nov             18926  23775  29677  35241  52844\n",
       "Dec             19203  24600  30252  36838  57226"
      ]
     },
     "execution_count": 78,
     "metadata": {},
     "output_type": "execute_result"
    }
   ],
   "source": [
    "s = d_2007_2011.groupby([d_2007_2011.unixReviewTime.dt.month, d_2007_2011.unixReviewTime.dt.year]).size()\n",
    "s.index.set_levels([['Jan', 'Feb', 'Mar', 'Apr', 'May', 'Jun', 'Jul', 'Aug', 'Sep', 'Oct', 'Nov', 'Dec'],\n",
    "                   [2007, 2008, 2009, 2010, 2011]],inplace=True)\n",
    "s = s.unstack().fillna(0)\n",
    "s"
   ]
  },
  {
   "cell_type": "code",
   "execution_count": 80,
   "metadata": {
    "collapsed": false
   },
   "outputs": [
    {
     "data": {
      "text/plain": [
       "(array([  0.5,   1.5,   2.5,   3.5,   4.5,   5.5,   6.5,   7.5,   8.5,\n",
       "          9.5,  10.5,  11.5]), <a list of 12 Text yticklabel objects>)"
      ]
     },
     "execution_count": 80,
     "metadata": {},
     "output_type": "execute_result"
    },
    {
     "data": {
      "image/png": "[encoded data removed]",
      "text/plain": [
       "<matplotlib.figure.Figure at 0x928b0278>"
      ]
     },
     "metadata": {},
     "output_type": "display_data"
    }
   ],
   "source": [
    "sns.heatmap(s)\n",
    "plt.ylabel('Month')\n",
    "plt.xlabel('year')\n",
    "plt.xticks(rotation = 'vertical')\n",
    "plt.yticks(rotation = 'horizontal')"
   ]
  },
  {
   "cell_type": "markdown",
   "metadata": {},
   "source": [
    "2007-2010 are quiet years - US economic slowdown!"
   ]
  },
  {
   "cell_type": "code",
   "execution_count": 81,
   "metadata": {
    "collapsed": true
   },
   "outputs": [],
   "source": [
    "mask2 = (df['unixReviewTime'] > '2012-01-01') & (df['unixReviewTime'] <= '2014-12-31')"
   ]
  },
  {
   "cell_type": "code",
   "execution_count": 82,
   "metadata": {
    "collapsed": true
   },
   "outputs": [],
   "source": [
    "d_2011_2014 = df.loc[mask2]"
   ]
  },
  {
   "cell_type": "code",
   "execution_count": 83,
   "metadata": {
    "collapsed": false
   },
   "outputs": [
    {
     "data": {
      "text/html": [
       "<div>\n",
       "<table border=\"1\" class=\"dataframe\">\n",
       "  <thead>\n",
       "    <tr style=\"text-align: right;\">\n",
       "      <th>unixReviewTime</th>\n",
       "      <th>2012</th>\n",
       "      <th>2013</th>\n",
       "      <th>2014</th>\n",
       "    </tr>\n",
       "    <tr>\n",
       "      <th>unixReviewTime</th>\n",
       "      <th></th>\n",
       "      <th></th>\n",
       "      <th></th>\n",
       "    </tr>\n",
       "  </thead>\n",
       "  <tbody>\n",
       "    <tr>\n",
       "      <th>Jan</th>\n",
       "      <td>66939.0</td>\n",
       "      <td>255818.0</td>\n",
       "      <td>324566.0</td>\n",
       "    </tr>\n",
       "    <tr>\n",
       "      <th>Feb</th>\n",
       "      <td>63211.0</td>\n",
       "      <td>231363.0</td>\n",
       "      <td>275613.0</td>\n",
       "    </tr>\n",
       "    <tr>\n",
       "      <th>Mar</th>\n",
       "      <td>74492.0</td>\n",
       "      <td>257610.0</td>\n",
       "      <td>313520.0</td>\n",
       "    </tr>\n",
       "    <tr>\n",
       "      <th>Apr</th>\n",
       "      <td>71650.0</td>\n",
       "      <td>247937.0</td>\n",
       "      <td>303157.0</td>\n",
       "    </tr>\n",
       "    <tr>\n",
       "      <th>May</th>\n",
       "      <td>75958.0</td>\n",
       "      <td>246395.0</td>\n",
       "      <td>303092.0</td>\n",
       "    </tr>\n",
       "    <tr>\n",
       "      <th>Jun</th>\n",
       "      <td>76018.0</td>\n",
       "      <td>240645.0</td>\n",
       "      <td>292696.0</td>\n",
       "    </tr>\n",
       "    <tr>\n",
       "      <th>Jul</th>\n",
       "      <td>82041.0</td>\n",
       "      <td>254603.0</td>\n",
       "      <td>161471.0</td>\n",
       "    </tr>\n",
       "    <tr>\n",
       "      <th>Aug</th>\n",
       "      <td>87068.0</td>\n",
       "      <td>255532.0</td>\n",
       "      <td>0.0</td>\n",
       "    </tr>\n",
       "    <tr>\n",
       "      <th>Sep</th>\n",
       "      <td>111207.0</td>\n",
       "      <td>238994.0</td>\n",
       "      <td>0.0</td>\n",
       "    </tr>\n",
       "    <tr>\n",
       "      <th>Oct</th>\n",
       "      <td>117751.0</td>\n",
       "      <td>243561.0</td>\n",
       "      <td>0.0</td>\n",
       "    </tr>\n",
       "    <tr>\n",
       "      <th>Nov</th>\n",
       "      <td>139607.0</td>\n",
       "      <td>239918.0</td>\n",
       "      <td>0.0</td>\n",
       "    </tr>\n",
       "    <tr>\n",
       "      <th>Dec</th>\n",
       "      <td>207799.0</td>\n",
       "      <td>261607.0</td>\n",
       "      <td>0.0</td>\n",
       "    </tr>\n",
       "  </tbody>\n",
       "</table>\n",
       "</div>"
      ],
      "text/plain": [
       "unixReviewTime      2012      2013      2014\n",
       "unixReviewTime                              \n",
       "Jan              66939.0  255818.0  324566.0\n",
       "Feb              63211.0  231363.0  275613.0\n",
       "Mar              74492.0  257610.0  313520.0\n",
       "Apr              71650.0  247937.0  303157.0\n",
       "May              75958.0  246395.0  303092.0\n",
       "Jun              76018.0  240645.0  292696.0\n",
       "Jul              82041.0  254603.0  161471.0\n",
       "Aug              87068.0  255532.0       0.0\n",
       "Sep             111207.0  238994.0       0.0\n",
       "Oct             117751.0  243561.0       0.0\n",
       "Nov             139607.0  239918.0       0.0\n",
       "Dec             207799.0  261607.0       0.0"
      ]
     },
     "execution_count": 83,
     "metadata": {},
     "output_type": "execute_result"
    }
   ],
   "source": [
    "t = d_2011_2014.groupby([d_2011_2014.unixReviewTime.dt.month, d_2011_2014.unixReviewTime.dt.year]).size()\n",
    "t.index.set_levels([['Jan', 'Feb', 'Mar', 'Apr', 'May', 'Jun', 'Jul', 'Aug', 'Sep', 'Oct', 'Nov', 'Dec'],\n",
    "                   [2012, 2013, 2014]],inplace=True)\n",
    "t = t.unstack().fillna(0)\n",
    "t"
   ]
  },
  {
   "cell_type": "code",
   "execution_count": 84,
   "metadata": {
    "collapsed": false
   },
   "outputs": [
    {
     "data": {
      "text/plain": [
       "(array([  0.5,   1.5,   2.5,   3.5,   4.5,   5.5,   6.5,   7.5,   8.5,\n",
       "          9.5,  10.5,  11.5]), <a list of 12 Text yticklabel objects>)"
      ]
     },
     "execution_count": 84,
     "metadata": {},
     "output_type": "execute_result"
    },
    {
     "data": {
      "image/png": "[encoded data removed]",
      "text/plain": [
       "<matplotlib.figure.Figure at 0x91fe49e8>"
      ]
     },
     "metadata": {},
     "output_type": "display_data"
    }
   ],
   "source": [
    "sns.heatmap(t)\n",
    "plt.ylabel('Month')\n",
    "plt.xlabel('year')\n",
    "plt.xticks(rotation = 'vertical')\n",
    "plt.yticks(rotation = 'horizontal')"
   ]
  },
  {
   "cell_type": "markdown",
   "metadata": {},
   "source": [
    "We have data upto July - 2014. Again, 2013 was very busy year."
   ]
  },
  {
   "cell_type": "code",
   "execution_count": null,
   "metadata": {
    "collapsed": true
   },
   "outputs": [],
   "source": []
  }
 ],
 "metadata": {
  "anaconda-cloud": {},
  "kernelspec": {
   "display_name": "Python [conda root]",
   "language": "python",
   "name": "conda-root-py"
  },
  "language_info": {
   "codemirror_mode": {
    "name": "ipython",
    "version": 2
   },
   "file_extension": ".py",
   "mimetype": "text/x-python",
   "name": "python",
   "nbconvert_exporter": "python",
   "pygments_lexer": "ipython2",
   "version": "2.7.12"
  }
 },
 "nbformat": 4,
 "nbformat_minor": 1
}
